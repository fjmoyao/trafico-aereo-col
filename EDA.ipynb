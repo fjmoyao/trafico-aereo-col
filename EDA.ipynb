{
 "cells": [
  {
   "attachments": {},
   "cell_type": "markdown",
   "metadata": {},
   "source": [
    "### **Análisis Exploratorio de Datos**"
   ]
  },
  {
   "cell_type": "code",
   "execution_count": 1,
   "metadata": {},
   "outputs": [],
   "source": [
    "#Se importan las librerias correspondientes\n",
    "import os\n",
    "import pyspark\n",
    "from pyspark.ml.feature import BucketedRandomProjectionLSH\n",
    "from pyspark.sql import *\n",
    "from pyspark.sql.functions import *\n",
    "from pyspark import SparkContext, SparkConf\n",
    "from pyspark.sql.functions import year\n",
    "from pyspark.sql.types import StructType, StructField\n",
    "from pyspark.sql.types import  IntegerType, StringType, DateType\n",
    "import matplotlib\n",
    "import matplotlib.pyplot as plt\n",
    "matplotlib.style.use('ggplot')\n",
    "import pandas as pd\n"
   ]
  },
  {
   "cell_type": "code",
   "execution_count": 2,
   "metadata": {},
   "outputs": [
    {
     "name": "stdout",
     "output_type": "stream",
     "text": [
      "Se creo el folder raw\n",
      "Descargando archivos: \n"
     ]
    },
    {
     "name": "stderr",
     "output_type": "stream",
     "text": [
      "100%|██████████| 75/75 [00:47<00:00,  1.58it/s]\n"
     ]
    },
    {
     "name": "stdout",
     "output_type": "stream",
     "text": [
      "Elementos eliminados ['\\\\Enero 2023.xlsx']\n",
      "Espere un momento...\n",
      "Leyendo archivos: \n"
     ]
    },
    {
     "name": "stderr",
     "output_type": "stream",
     "text": [
      "100%|██████████| 74/74 [08:10<00:00,  6.63s/it]\n"
     ]
    },
    {
     "name": "stdout",
     "output_type": "stream",
     "text": [
      "Se creo el folder trusted\n",
      "Se creó el archivo 'trafico_aereo_1992_2022.csv' \n"
     ]
    }
   ],
   "source": [
    "#Se confirma que los datos se encuentren en el espacio de trabajo \n",
    "if  not (os.path.isdir(\"raw\") and os.path.isfile(os.path.join(\"trusted\", 'trafico_aereo_1992_2022.csv'))):\n",
    "    import preprocess\n",
    "    preprocess"
   ]
  },
  {
   "cell_type": "code",
   "execution_count": 3,
   "metadata": {},
   "outputs": [
    {
     "data": {
      "text/html": [
       "\n",
       "            <div>\n",
       "                <p><b>SparkSession - in-memory</b></p>\n",
       "                \n",
       "        <div>\n",
       "            <p><b>SparkContext</b></p>\n",
       "\n",
       "            <p><a href=\"http://host.docker.internal:4040\">Spark UI</a></p>\n",
       "\n",
       "            <dl>\n",
       "              <dt>Version</dt>\n",
       "                <dd><code>v3.3.2</code></dd>\n",
       "              <dt>Master</dt>\n",
       "                <dd><code>local[*]</code></dd>\n",
       "              <dt>AppName</dt>\n",
       "                <dd><code>pyspark-shell</code></dd>\n",
       "            </dl>\n",
       "        </div>\n",
       "        \n",
       "            </div>\n",
       "        "
      ],
      "text/plain": [
       "<pyspark.sql.session.SparkSession at 0x20f2d5ac160>"
      ]
     },
     "execution_count": 3,
     "metadata": {},
     "output_type": "execute_result"
    }
   ],
   "source": [
    "# creamos el contexto y la sesión\n",
    "sc = pyspark.SparkContext()\n",
    "spark = SparkSession.builder.getOrCreate()\n",
    "spark"
   ]
  },
  {
   "cell_type": "code",
   "execution_count": 4,
   "metadata": {},
   "outputs": [],
   "source": [
    "\n",
    "#Se define el esquema de la tabla\n",
    "schema = StructType([\n",
    "    StructField('Fecha', DateType()),\n",
    "    StructField('Sigla Empresa', StringType()),\n",
    "    StructField('Origen', StringType()),\n",
    "    StructField('Destino', StringType()),\n",
    "    StructField('Pasajeros', IntegerType()),\n",
    "    StructField('Trafico', StringType()),\n",
    "    StructField('TipoVuelo', StringType()),\n",
    "    StructField('Ciudad Origen', StringType()),\n",
    "    StructField('Ciudad Destino', StringType()),\n",
    "    StructField('Pais Origen', StringType()),\n",
    "    StructField('Pais Destino', StringType()),\n",
    "    StructField('Nombre Empresa', StringType()),\n",
    "    StructField('Apto_Origen', StringType()),\n",
    "    StructField('Apto_Destino', StringType()),\n",
    "])"
   ]
  },
  {
   "cell_type": "code",
   "execution_count": 5,
   "metadata": {},
   "outputs": [
    {
     "name": "stdout",
     "output_type": "stream",
     "text": [
      "+----------+-------------+------+-------+---------+-------+---------+-------------+--------------+--------------+------------+--------------+--------------------+--------------------+\n",
      "|     Fecha|Sigla Empresa|Origen|Destino|Pasajeros|Trafico|TipoVuelo|Ciudad Origen|Ciudad Destino|   Pais Origen|Pais Destino|Nombre Empresa|         Apto_Origen|        Apto_Destino|\n",
      "+----------+-------------+------+-------+---------+-------+---------+-------------+--------------+--------------+------------+--------------+--------------------+--------------------+\n",
      "|2019-04-01|          AAL|   ABQ|    BOG|       37|      I|        R| NUEVO MEXICO|        BOGOTA|ESTADOS UNIDOS|    COLOMBIA|      AMERICAN|ALBUQUERQUE INTL ...|   BOGOTA - ELDORADO|\n",
      "|2019-04-01|          AAL|   ABZ|    CLO|        1|      I|        R|     ABENDEEN|          CALI|    INGLATERRA|    COLOMBIA|      AMERICAN|                CYDE|CALI - ALFONSO BO...|\n",
      "|2019-04-01|          AAL|   AMS|    CTG|        2|      I|        R|    AMSTERDAM|     CARTAGENA|       HOLANDA|    COLOMBIA|      AMERICAN|            SCHIPHOL|CARTAGENA - RAFAE...|\n",
      "+----------+-------------+------+-------+---------+-------+---------+-------------+--------------+--------------+------------+--------------+--------------------+--------------------+\n",
      "only showing top 3 rows\n",
      "\n"
     ]
    }
   ],
   "source": [
    "#Se lee el archivo de trusted\n",
    "filepath = os.path.join(\"trusted\", 'trafico_aereo_1992_2022.csv')\n",
    "df = spark.read.csv(filepath, header=True, schema=schema)\n",
    "df.show(n=3)"
   ]
  },
  {
   "cell_type": "code",
   "execution_count": 6,
   "metadata": {},
   "outputs": [
    {
     "name": "stdout",
     "output_type": "stream",
     "text": [
      "(1820258, 14)\n"
     ]
    }
   ],
   "source": [
    "print((df.count(), len(df.columns)))"
   ]
  },
  {
   "cell_type": "code",
   "execution_count": null,
   "metadata": {},
   "outputs": [],
   "source": []
  },
  {
   "cell_type": "code",
   "execution_count": 7,
   "metadata": {},
   "outputs": [
    {
     "name": "stdout",
     "output_type": "stream",
     "text": [
      "Fecha\n",
      "Sigla Empresa\n",
      "Origen\n",
      "Destino\n",
      "Pasajeros\n",
      "Trafico\n",
      "TipoVuelo\n",
      "Ciudad Origen\n",
      "Ciudad Destino\n",
      "Pais Origen\n",
      "Pais Destino\n",
      "Nombre Empresa\n",
      "Apto_Origen\n",
      "Apto_Destino\n"
     ]
    }
   ],
   "source": [
    "for c in df.columns:\n",
    "    print(c)"
   ]
  },
  {
   "cell_type": "code",
   "execution_count": 8,
   "metadata": {},
   "outputs": [
    {
     "name": "stdout",
     "output_type": "stream",
     "text": [
      "Fecha - 15\n",
      "Sigla Empresa - 12\n",
      "Origen - 24\n",
      "Destino - 15\n",
      "Pasajeros - 201\n",
      "Trafico - 24\n",
      "TipoVuelo - 24\n",
      "Ciudad Origen - 8351\n",
      "Ciudad Destino - 10998\n",
      "Pais Origen - 8351\n",
      "Pais Destino - 10992\n",
      "Nombre Empresa - 15\n",
      "Apto_Origen - 18\n",
      "Apto_Destino - 30\n"
     ]
    }
   ],
   "source": [
    "#Cantidad de valores nulos\n",
    "for c in df.columns:\n",
    "    nuls = df.filter(col(c).isNull()).count()\n",
    "    print(f'{c} - {nuls}')"
   ]
  },
  {
   "cell_type": "code",
   "execution_count": 9,
   "metadata": {},
   "outputs": [],
   "source": [
    "df = df.na.drop(subset=[\"Pasajeros\", \"Nombre Empresa\"])\n"
   ]
  },
  {
   "cell_type": "code",
   "execution_count": 10,
   "metadata": {},
   "outputs": [],
   "source": [
    "#Cantidad de valores nulos\n",
    "#for c in df.columns:\n",
    "#    nuls = df.filter(col(c).isNull()).count()\n",
    "#    print(f'{c} - {nuls}')"
   ]
  },
  {
   "cell_type": "code",
   "execution_count": 11,
   "metadata": {},
   "outputs": [],
   "source": [
    "#Se toma la decision de unificar los nombres de las aerolineas a aquellas que han cambiado de nombre\n",
    "# debido a unificaciones o compras, las transformaciones se pueden observar en el diccionario:\n",
    "dict_aerolineas={ \"LATAM\":[\"AIRES\" \"LAN\", \"TAM\", ],\n",
    "                 \"FAST COLOMBIA\":\"VIVA AIR\"\n",
    "    \n",
    "}"
   ]
  },
  {
   "cell_type": "code",
   "execution_count": 12,
   "metadata": {},
   "outputs": [],
   "source": [
    "#Se crea una nueva columna a partir de la limpieza de la columna 'Nombre empresa'\n",
    "df = df.select(\"*\",\n",
    "            when(df[\"Nombre Empresa\"].contains(\"21 AIR LLC.\"), \"21 AIR\").\n",
    "            when(df[\"Nombre Empresa\"].contains(\"REGAIR\"), \"REGAIR\").\n",
    "            when(df[\"Nombre Empresa\"].contains(\"ABX AIR INC\"), \"ABX AIR INC\").\n",
    "            when(df[\"Nombre Empresa\"].contains(\"AER CARIBE\"), \"AER CARIBE\").\n",
    "            when(df[\"Nombre Empresa\"].contains(\"DAMOJH\"), \"DAMOJH\").\n",
    "            when(df[\"Nombre Empresa\"].contains(\"AEROUNIËN\"), \"AEROUNIÓN\").\n",
    "            when(df[\"Nombre Empresa\"].contains(\"ALBATROS\"), \"ALBATROS AIRLINES\").\n",
    "            when(df[\"Nombre Empresa\"].contains(\"AMERICA┤S AIR SAS\"), \"AMERICA´S AIR SAS\").\n",
    "            when(df[\"Nombre Empresa\"].contains(\"AVIANLINE CHARTE┤S S.A.S.\"), \"AVIANLINE CHARTE´S S.A.S.\").\n",
    "            when(df[\"Nombre Empresa\"].contains(\"CARGO THREE INC.\"), \"CARGO THREE\").\n",
    "            when(df[\"Nombre Empresa\"].contains(\"FLEXAIR S A S\"), \"FLEXAIR S.A.S\").\n",
    "            when(df[\"Nombre Empresa\"].contains(\"HORIZONTAL DE AVIACION S.A.S\"), \"HORIZONTAL S A S\").\n",
    "            when(df[\"Nombre Empresa\"].contains(\"ICARO S.A.\"), \"ICARO\").\n",
    "            when(df[\"Nombre Empresa\"].contains(\"LATAM AIRLINES GROUP S.A SUCURSAL COLOMBIA\"), \"LATAM\").\n",
    "            when(df[\"Nombre Empresa\"].contains(\"CARGUERA DE COLOMBIA S.A\"), \"LÍNEA AÉREA CARGUERA DE COLOMBIA S.A.\").\n",
    "            when(df[\"Nombre Empresa\"].contains(\"NO FIGURA\"), \"NO REGISTRA\").\n",
    "            when(df[\"Nombre Empresa\"].contains(\"NO REGISTRA SIGLA\"), \"NO REGISTRA\").\n",
    "            when(df[\"Nombre Empresa\"].contains(\"SERVICIO AEREO A TERRITORIOS NACIONALES SATENA\"), \"SATENA\").\n",
    "            when(df[\"Nombre Empresa\"].contains(\"SKY LEASE I. INC  (GREENSBORO.NC)\"), \"SKY LEASE\").\n",
    "            when(df[\"Nombre Empresa\"].contains(\"SKY LEASE I. INC (GREENSBORO.NC)\"), \"SKY LEASE\").\n",
    "            when(df[\"Nombre Empresa\"].contains(\"SOUTHERN AIR TRANSPORT INC.\"), \"SOUTHERN AIR INC.\").\n",
    "            when(df[\"Nombre Empresa\"].contains(\"TAG\"), \"TAG AVIATION\").\n",
    "            when(df[\"Nombre Empresa\"].contains(\"TAMPA CARGO\"), \"TAMPA CARGO\").\n",
    "            when(df[\"Nombre Empresa\"].contains(\"VIANA S.A.S\"), \"VIANA S.A.S\").\n",
    "            when(df[\"Nombre Empresa\"].contains(\"TAXCO S.A.S\"), \"TAXCO\").\n",
    "            when(df[\"Nombre Empresa\"].contains(\"VUELA COMPAÑÍA DE AVIACION S.A.P.I DE\"), \"VUELA COMPAÑÍA DE AVIACION\").\n",
    "            when(df[\"Nombre Empresa\"].contains(\"AERO LLANOS DEL ORIENTE\"), \"AERO LLANOS DEL ORIENTE\").\n",
    "            when(df[\"Nombre Empresa\"].contains(\"ASES LTDA.\"), \"ASES LTDA.\").\n",
    "            when(df[\"Nombre Empresa\"].contains(\"AERO TAXI GUAYMARAL ATG S.A.S\"), \"AERO TAXI GUAYMARAL\").\n",
    "            when(df[\"Nombre Empresa\"].contains(\"MITCHELL AAERO, INC.\"), \"MITCHELL AAERO, INC.\").\n",
    "            when(df[\"Nombre Empresa\"].contains(\"ROYAL AIR MAROC-COMPAGNIE\"), \"ROYAL AIR MAROC-COMPAGNIE\").\n",
    "            when(df[\"Nombre Empresa\"].contains(\"AIR TRANSPORT ASSOCIATION OF AMERCA\"), \"AIR TRANSPORT ASSOCIATION OF AMERCA\").\n",
    "            when(df[\"Nombre Empresa\"].contains(\"OMEGA AIR HOLDING\"), \"OMEGA AIR HOLDING\").\n",
    "            when(df[\"Nombre Empresa\"].contains(\"KALITTA FLYING SERVICE\"), \"KALITTA FLYING SERVICE\").\n",
    "            when(df[\"Nombre Empresa\"].contains(\"LINEA AEREA BOLIVARIANA\"), \"LINEA AEREA BOLIVARIANA\").\n",
    "            when(df[\"Nombre Empresa\"].contains(\"TRANS AMERICAN AIR LINES\"), \"TRANS AMERICAN AIR LINES\").\n",
    "            when(df[\"Nombre Empresa\"].contains(\"UNITED PARCEL SERVICE\"), \"UNITED PARCEL SERVICE\").\n",
    "            when(df[\"Nombre Empresa\"].contains(\"AMERIJET INTERNATIOANL\"), \"AMERIJET INTERNATIONAL\").\n",
    "            when(df[\"Nombre Empresa\"].contains(\"AEROTRANSPORTE DE CARGA UNION\"), \"AEROTRANSPORTE DE CARGA UNION\").\n",
    "            when(df[\"Nombre Empresa\"].contains(\"DUTCH ANTILLES EXPRESS\"), \"DUTCH ANTILLES EXPRESS\").\n",
    "            when(df[\"Nombre Empresa\"].contains(\"AEROGALAN\"), \"STARBLUE AIRLINES\"). #Aerogalan cambia nombre a starblue\n",
    "            when(df[\"Nombre Empresa\"].contains(\"VRG LINHAS AEREAS\"), \"VRG LINHAS AEREAS\").\n",
    "            when(df[\"Nombre Empresa\"].contains(\"DYNAMIC AIRWAYS\"), \"DYNAMIC AIRWAYS\").\n",
    "            when(df[\"Nombre Empresa\"].contains(\"AVIANCA\"), \"AVIANCA\").\n",
    "            when(df[\"Nombre Empresa\"].contains(\"JETBLUE AIRWAYS CORPORATION\"), \"JETBLUE AIRWAYS\").\n",
    "            when(df[\"Nombre Empresa\"].contains(\"AIR CLASS\"), \"AIR CLASS\").\n",
    "            when(df[\"Nombre Empresa\"].contains(\"VERTICAL DE AVIACION\"), \"VERTICAL DE AVIACION\").\n",
    "            when(df[\"Nombre Empresa\"].contains(\"REGIONAL EXPRESS AMERICAS\"), \"REGIONAL EXPRESS AMERICAS\").\n",
    "            when(df[\"Nombre Empresa\"].contains(\"AEROMEXICO\"), \"AEROMEXICO\").\n",
    "            when(df[\"Nombre Empresa\"].contains(\"AEROLINEA DE ANTIOQUIA\"), \"ADA\").\n",
    "            when(df[\"Nombre Empresa\"].contains(\"LATAM\"), \"LATAM\").\n",
    "            when(df[\"Nombre Empresa\"].contains(\"FAST COLOMBIA\"), \"VIVA AIR\").\n",
    "            when(df[\"Nombre Empresa\"].contains(\"AIRES\"), \"LATAM\").\n",
    "            when(df[\"Nombre Empresa\"].contains(\"LAN\"), \"LATAM\").\n",
    "            when(df[\"Nombre Empresa\"].contains(\"TAM\"), \"LATAM\").\n",
    "            when(df[\"Nombre Empresa\"].contains(\"AEROEXPRESO DEL PACIFICO S.A.\"), \"AEXPA\").\n",
    "            \t\n",
    "            otherwise(df[\"Nombre Empresa\"]).alias(\"Nombre_Empresa_clean\")\n",
    "           )\n",
    "\n",
    "\n"
   ]
  },
  {
   "cell_type": "code",
   "execution_count": 13,
   "metadata": {},
   "outputs": [
    {
     "name": "stdout",
     "output_type": "stream",
     "text": [
      "+---------------------------------------+\n",
      "|Nombre_Empresa_clean                   |\n",
      "+---------------------------------------+\n",
      "|21 AIR                                 |\n",
      "|A.T.&S.                                |\n",
      "|ABSA                                   |\n",
      "|ABX AIR INC                            |\n",
      "|ACES                                   |\n",
      "|ADA                                    |\n",
      "|ADES                                   |\n",
      "|AER CARIBE                             |\n",
      "|AEREA S.A.                             |\n",
      "|AERO APOYO                             |\n",
      "|AERO COSTA RICA                        |\n",
      "|AERO LLANOS DEL ORIENTE                |\n",
      "|AERO PAZ S.A.                          |\n",
      "|AERO TAXI GUAYMARAL                    |\n",
      "|AEROAMERICA                            |\n",
      "|AEROANTIGUA                            |\n",
      "|AEROCAFE S.A.                          |\n",
      "|AEROCAR                                |\n",
      "|AEROCHARTER ANDINA S.A.S.              |\n",
      "|AEROCHARTER DE COLOMBIA                |\n",
      "|AEROCOL S.A.S                          |\n",
      "|AEROCOLOMBIA CARGO                     |\n",
      "|AEROCONTINENTE                         |\n",
      "|AEROCORALES                            |\n",
      "|AEROCORDINADORA                        |\n",
      "|AERODESIERTO S.A.                      |\n",
      "|AEROEJECUTIVOS DE ANTIOQUIA S.A.       |\n",
      "|AEROENLACES NACIONALES S.A.            |\n",
      "|AEROES                                 |\n",
      "|AEROEXPRESS DEL ECUADOR                |\n",
      "|AEROEXPRESS S.A.S                      |\n",
      "|AEROGAL                                |\n",
      "|AEROGOLFO                              |\n",
      "|AEROJET DE3 COSTA RICA, S.A.           |\n",
      "|AEROLINEAS ALAS DE COLOMBIA LTDA.      |\n",
      "|AEROLINEAS ARGENTINAS                  |\n",
      "|AEROMEL LTDA                           |\n",
      "|AEROMENEGUA                            |\n",
      "|AEROMEXICO                             |\n",
      "|AERONORTE                              |\n",
      "|AEROPACA SAS                           |\n",
      "|AEROPEI                                |\n",
      "|AEROPERU                               |\n",
      "|AEROPOSTAL                             |\n",
      "|AEROREPUBLICA                          |\n",
      "|AEROSUCRE                              |\n",
      "|AEROTACA                               |\n",
      "|AEROTAX                                |\n",
      "|AEROTAXI DEL ORIENTE LTDA.             |\n",
      "|AEROTAXI DEL QUINDIO LTDA.             |\n",
      "|AEROTAYRONA                            |\n",
      "|AEROTRANSPORTE DE CARGA UNION          |\n",
      "|AEROTRANSPORTE DEL CARIBE C.A.         |\n",
      "|AEROUNIÓN                              |\n",
      "|AEROVIAS DAP                           |\n",
      "|AEROVUELOS                             |\n",
      "|AERUBA                                 |\n",
      "|AERUPIA SAS                            |\n",
      "|AERVAL                                 |\n",
      "|AETV                                   |\n",
      "|AEXPA                                  |\n",
      "|AIR ARUBA                              |\n",
      "|AIR CANADA                             |\n",
      "|AIR CARGO GERMANY                      |\n",
      "|AIR CAVREL                             |\n",
      "|AIR CHARTER SERVICE/ AIR X CHARTER     |\n",
      "|AIR CLASS                              |\n",
      "|AIR COLOMBIA                           |\n",
      "|AIR COMERCE                            |\n",
      "|AIR COMET                              |\n",
      "|AIR EUROPA                             |\n",
      "|AIR FRANCE                             |\n",
      "|AIR MADRD                              |\n",
      "|AIR PANAMA                             |\n",
      "|AIR PEREIRA                            |\n",
      "|AIR SIGNATURE S.A.S                    |\n",
      "|AIR TRANSAT                            |\n",
      "|AIR TRANSPORT ASSOCIATION OF AMERCA    |\n",
      "|AIR TROPICAL                           |\n",
      "|ALBATROS AIRLINES                      |\n",
      "|ALCOM                                  |\n",
      "|ALFUTURO                               |\n",
      "|ALIANSA                                |\n",
      "|ALICOL                                 |\n",
      "|ALITALIA                               |\n",
      "|ALLAS S.A.S                            |\n",
      "|ALPES S.A.S                            |\n",
      "|AMERICAN                               |\n",
      "|AMERICA´S AIR SAS                      |\n",
      "|AMERIJET INTERNATIONAL                 |\n",
      "|ANDES LINEAS AEREAS S.A.               |\n",
      "|ANTONOV DESIGN BUREAU                  |\n",
      "|APEL EXPRESS                           |\n",
      "|APSA                                   |\n",
      "|APT                                    |\n",
      "|ARAJET SUCURSAL COLOMBIA               |\n",
      "|ARCA                                   |\n",
      "|ARKAS S.A.                             |\n",
      "|ARO LTDA                               |\n",
      "|ARO S.A.S.                             |\n",
      "|ARROW                                  |\n",
      "|AS                                     |\n",
      "|ASERCA                                 |\n",
      "|ASES LTDA.                             |\n",
      "|ASTRAL                                 |\n",
      "|ASUR                                   |\n",
      "|ATC                                    |\n",
      "|ATLAS AIR                              |\n",
      "|ATLAS AIRLINES (MUNCE,IN)              |\n",
      "|ATTA                                   |\n",
      "|AVANTE                                 |\n",
      "|AVANTY                                 |\n",
      "|AVIACION DEL SUR                       |\n",
      "|AVIANCA                                |\n",
      "|AVIANLINE CHARTE´S S.A.S.              |\n",
      "|AVIAPA                                 |\n",
      "|AVIATECA                               |\n",
      "|AVIATSA                                |\n",
      "|AVIEL                                  |\n",
      "|AVIHECO                                |\n",
      "|AVIOCESAR                              |\n",
      "|AVIOICHARTER LIMITADA                  |\n",
      "|AVIOR AIRLINES,C.A.                    |\n",
      "|AYSA                                   |\n",
      "|BLUE PANORAMA                          |\n",
      "|BRITISH AIRWAYS                        |\n",
      "|C.V. CARGO                             |\n",
      "|CALAMAR                                |\n",
      "|CAP                                    |\n",
      "|CAPITAL EXPRESS S.A.                   |\n",
      "|CARGO THREE                            |\n",
      "|CARGOJET AIRWAYS LTD.                  |\n",
      "|CARGOLUX AIRLINES INTERNATIONAL S.A.   |\n",
      "|CARIBBEAN SUPPORT AND FLIGHT S.A.S.    |\n",
      "|CAYMAN AIRWAYS                         |\n",
      "|CENTRAL CHARTER                        |\n",
      "|CENTURION AIR CARGO COLOMBIA           |\n",
      "|CHALLENGE                              |\n",
      "|CHARTER DEL CARIBE S.A.                |\n",
      "|CHARTER EXPRESS SAS                    |\n",
      "|CIELOS DEL PERU S.A.                   |\n",
      "|COARCO                                 |\n",
      "|COMLUX ARUBA NV                        |\n",
      "|CONDOR                                 |\n",
      "|CONTINENTAL                            |\n",
      "|CONVIASA                               |\n",
      "|COPA                                   |\n",
      "|CORAL                                  |\n",
      "|CORSAIR INTERNATIONAL                  |\n",
      "|COSMOS S.A.                            |\n",
      "|CUBANA                                 |\n",
      "|DAMOJH                                 |\n",
      "|DELTA                                  |\n",
      "|DELTA HELICOPTEROS  S.A.S.             |\n",
      "|DHAL AIRWAYS, INC. (CINCINNATI,OH)     |\n",
      "|DHL AERO EXPRESO                       |\n",
      "|DHL DE GUATELMALA , S.A.               |\n",
      "|DOMINICAN WINGS                        |\n",
      "|DUTCH ANTILLES EXPRESS                 |\n",
      "|DYNAMIC AIRWAYS                        |\n",
      "|EASTERN AIR LINES GROUP                |\n",
      "|EASYFLY S.A                            |\n",
      "|EBANO                                  |\n",
      "|ECUATORIANA                            |\n",
      "|EL CONDOR LTDA. INTERANDINA DE AVIACION|\n",
      "|ELDORADO                               |\n",
      "|EMIRATES                               |\n",
      "|ESTELAR LATIOAMERICANA.C.A.            |\n",
      "|ETHIPIAN AIRLINES                      |\n",
      "|ETIHAD                                 |\n",
      "|ETIHAD AIRWAYS                         |\n",
      "|EURASIA AIR COMPANY                    |\n",
      "|EUROPE ELITE                           |\n",
      "|EUROPEAN AVIATION SERVICES             |\n",
      "|EXPORT AIR DEL PERU                    |\n",
      "|EZ AIR                                 |\n",
      "|FALCON AIR EXPRESS                     |\n",
      "|FAST AIR LTDA                          |\n",
      "|FEDERAL EXPRESS CORPORATION            |\n",
      "|FINNAIR                                |\n",
      "|FLEXAIR S.A.S                          |\n",
      "|FLORIDA WEST INTERNATIONAL AIRWAYS INC.|\n",
      "|GCA AIRLINES                           |\n",
      "|GEMINI AIR CARGO                       |\n",
      "|GEMINI AIRLINES                        |\n",
      "|GLOBAL                                 |\n",
      "|GOL TRANSPORTES AEREOS LTDA            |\n",
      "|GOOD FLY CO SAS                        |\n",
      "|HELI JET SAS                           |\n",
      "|HELIANDES                              |\n",
      "|HELIAV                                 |\n",
      "|HELICARGO S.A.                         |\n",
      "|HELICOL                                |\n",
      "|HELICONDOR                             |\n",
      "|HELIFLY                                |\n",
      "|HELIGOLFO S.A.S                        |\n",
      "|HELIJET                                |\n",
      "|HELIPETROL                             |\n",
      "|HELISAS S.A.S                          |\n",
      "|HELISERVICE                            |\n",
      "|HELISTAR S.A.S                         |\n",
      "|HELITEC                                |\n",
      "|HELIVALLE                              |\n",
      "|HORIZONTAL S A S                       |\n",
      "|IBC AIRWAYS                            |\n",
      "|IBERIA                                 |\n",
      "|ICARO                                  |\n",
      "|INSEL AIR                              |\n",
      "|INSELAIR ARUBA                         |\n",
      "|INSTITUTO LINGUISTICO DE VERANO        |\n",
      "|INTER                                  |\n",
      "|INTERAMERICANA                         |\n",
      "|INTERAMERICANO                         |\n",
      "|INTERANDES                             |\n",
      "|INTEREJECUTIVA                         |\n",
      "|INTERJET                               |\n",
      "|ISLENA DE AVIACION                     |\n",
      "|JET                                    |\n",
      "|JET MAGIC LTD.                         |\n",
      "|JETBLUE AIRWAYS                        |\n",
      "|JETCOM SA                              |\n",
      "|JETSMART                               |\n",
      "|KAISERAIR, INC.                        |\n",
      "|KALITTA FLYING SERVICE                 |\n",
      "|KELOWNA FLIGHTCRFT AIR CHARTER LTD.    |\n",
      "|KHI                                    |\n",
      "|KLM                                    |\n",
      "|KOREN AIR LINES CO .LTD.               |\n",
      "|LA TATACOA                             |\n",
      "|LAC                                    |\n",
      "|LACSA                                  |\n",
      "|LADECO                                 |\n",
      "|LAMIA CORPORATION SRL                  |\n",
      "|LAP                                    |\n",
      "|LAR                                    |\n",
      "|LARCO                                  |\n",
      "|LAS                                    |\n",
      "|LASER AEREO S.A.S                      |\n",
      "|LASER AIRLINES                         |\n",
      "|LATAM                                  |\n",
      "|LATINA DE AVIACION                     |\n",
      "|LINEA AEREA BOLIVARIANA                |\n",
      "|LINEAS AEREAS PETROLERAS S.A.          |\n",
      "|LIRA                                   |\n",
      "|LLOYD BOLIVIANO                        |\n",
      "|LOS HALCONES                           |\n",
      "|LOS LIBERTADORES                       |\n",
      "|LUFTHANSA                              |\n",
      "|LUFTHANSA CARGO                        |\n",
      "|LÍNEA AÉREA CARGUERA DE COLOMBIA S.A.  |\n",
      "|MANTRUST ASAHI AIRWAYS, PT             |\n",
      "|MARTINAIR                              |\n",
      "|MAS AIR                                |\n",
      "|MASTER TOP LINHAS AEREAS LTDA.         |\n",
      "|METROJET LIMITED                       |\n",
      "|MEXICANA                               |\n",
      "|MILLON AIR INC.                        |\n",
      "|MITCHELL AAERO, INC.                   |\n",
      "|NACIONAL DE AVIACION S.A.S             |\n",
      "|NATIONAL AIR CARGO                     |\n",
      "|NATIVA SA                              |\n",
      "|NO REGISTRA                            |\n",
      "|NORTHERN AIR CARGO                     |\n",
      "|OCEANAIR                               |\n",
      "|OMEGA AIR HOLDING                      |\n",
      "|ORION CARGO                            |\n",
      "|PACIFIC                                |\n",
      "|PACIFICA DE AVIACION S.A.S             |\n",
      "|PANAVIA                                |\n",
      "|PETROLEUM                              |\n",
      "|POLAR                                  |\n",
      "|PORTENA                                |\n",
      "|QATAR AIRWAYS COMPANY                  |\n",
      "|RAA                                    |\n",
      "|RAG                                    |\n",
      "|RANSA                                  |\n",
      "|REGAIR                                 |\n",
      "|REGION AIR                             |\n",
      "|REGIONAL EXPRESS AMERICAS              |\n",
      "|RIO SUR                                |\n",
      "|ROYAL AIR MAROC-COMPAGNIE              |\n",
      "|RUBYSTAR                               |\n",
      "|SADA                                   |\n",
      "|SADELCA                                |\n",
      "|SADI                                   |\n",
      "|SAE                                    |\n",
      "|SAEP                                   |\n",
      "|SAER                                   |\n",
      "|SAETA                                  |\n",
      "|SAHSA                                  |\n",
      "|SALLA                                  |\n",
      "|SAM                                    |\n",
      "|SAN-TA                                 |\n",
      "|SANTA BARBARA                          |\n",
      "|SAO                                    |\n",
      "|SARPA S.A.S                            |\n",
      "|SAS                                    |\n",
      "|SASA                                   |\n",
      "|SATENA                                 |\n",
      "|SAVA                                   |\n",
      "|SAVIARE LTDA                           |\n",
      "|SEARCA S.A.                            |\n",
      "|SECAL                                  |\n",
      "|SELVA                                  |\n",
      "|SERCU                                  |\n",
      "|SERPA                                  |\n",
      "|SERVI-HANGAR                           |\n",
      "|SERVIALAS                              |\n",
      "|SERVICIOS AEREOS AMAZONICOS            |\n",
      "|SERVICIOS AEREOS DE LA CAPITAL LTDA.   |\n",
      "|SERVIVENSA                             |\n",
      "|SETA S.A.                              |\n",
      "|SICHER HELICOPTER SAS                  |\n",
      "|SIDERAL AIRLINES                       |\n",
      "|SIDFIN AIR LIMITED                     |\n",
      "|SINGAPORE AIRLINES CARGO PTE LTD       |\n",
      "|SIS SOLUCIONES INTEGRALES              |\n",
      "|SKY AIRLINE                            |\n",
      "|SKY LEASE                              |\n",
      "|SKYSERVICE F.B.O. INC.                 |\n",
      "|SOLAIR S.A.S                           |\n",
      "|SOLAR CARGO                            |\n",
      "|SOLOMON AIRLINES LIMITED               |\n",
      "|SOUTHERN AIR INC.                      |\n",
      "|SPIRIT AIRLINES                        |\n",
      "|STAR UP - PERU                         |\n",
      "|STARBLUE AIRLINES                      |\n",
      "|SUNRISE AIRWAYS, TRAVEL SERVICE        |\n",
      "|SURINAAMSE LUCHTVAART MAATSCHAPPIJ N.V |\n",
      "|SWIFTAIR S.A                           |\n",
      "|TAC                                    |\n",
      "|TACA INTERNATIONAL                     |\n",
      "|TACA S.A.S                             |\n",
      "|TACOL                                  |\n",
      "|TADUL                                  |\n",
      "|TAERCO                                 |\n",
      "|TAG AVIATION                           |\n",
      "|TAISA                                  |\n",
      "|TALA                                   |\n",
      "|TAMPA CARGO                            |\n",
      "|TAN                                    |\n",
      "|TAN LTDA                               |\n",
      "|TAP                                    |\n",
      "|TAP PORTUGAL SUCURSAL COLOMBIA         |\n",
      "|TAR                                    |\n",
      "|TARI                                   |\n",
      "|TAT                                    |\n",
      "|TAVINA                                 |\n",
      "|TAXA                                   |\n",
      "|TAXCAR                                 |\n",
      "|TAXCO                                  |\n",
      "|TAXI AEREO CUSIANA LTDA                |\n",
      "|TAXOR                                  |\n",
      "|TAXSUR                                 |\n",
      "|TECNIAEREAS                            |\n",
      "|THOMSONFLY LTD                         |\n",
      "|TIARA                                  |\n",
      "|TITAN AIRWAYS LTD.                     |\n",
      "|TRADEWINDS AIRLINES COLOMBIA           |\n",
      "|TRANS AMERICAN AIR LINES               |\n",
      "|TRANSANDINA                            |\n",
      "|TRANSAPEL                              |\n",
      "|TRANSCARGA INTERNATIONAL AIRWAYS C.A.  |\n",
      "|TRANSCARIBE                            |\n",
      "|TRANSCOLOMBIA                          |\n",
      "|TRANSOCEANICA DE AVIACION LTDA.        |\n",
      "|TRANSORIENTE                           |\n",
      "|TRANSP AEREOS BOLIVIANOS               |\n",
      "|TRANSPACIFICOS                         |\n",
      "|TURKISH AIRLINES INC                   |\n",
      "|TURPIAL AIRLINES                       |\n",
      "|ULTRA AIR S.A.S.                       |\n",
      "|UNITED AIR LINES INC                   |\n",
      "|UNITED PARCEL SERVICE                  |\n",
      "|UNIWORLD AIR CARGO                     |\n",
      "|VARIG                                  |\n",
      "|VENSECAR C.A.                          |\n",
      "|VERTICAL DE AVIACION                   |\n",
      "|VIANA S.A.S                            |\n",
      "|VIARCO                                 |\n",
      "|VIASA                                  |\n",
      "|VIVA AIR                               |\n",
      "|VIVA AIR PERU                          |\n",
      "|VOLARIS COSTA RICA                     |\n",
      "|VOLGA - DNEPR                          |\n",
      "|VRG LINHAS AEREAS                      |\n",
      "|VUELA COMPAÑÍA DE AVIACION             |\n",
      "|WEST CARIBBEAN                         |\n",
      "|WEST CARIBBEAN COSTA RICA S.A.         |\n",
      "|WESTERN GLOBAL                         |\n",
      "|WORLD AIRWAYS INC.                     |\n",
      "|XTRA AIRWAYS                           |\n",
      "|ZOOM AIRLINES INC.                     |\n",
      "|ZULIANA DE AVIACION C.A.               |\n",
      "+---------------------------------------+\n",
      "\n"
     ]
    }
   ],
   "source": [
    "import pyspark.sql.functions as F\n",
    "#df.select(\"Nombre_Empresa_clean\", F.length(col(\"Nombre_Empresa_clean\")).alias(\"len\")\n",
    "#          ).distinct().sort(\"len\",descending=False).show(n=100000, truncate=False)\n",
    "\n",
    "df.select(\"Nombre_Empresa_clean\").distinct().sort(\"Nombre_Empresa_clean\",descending=False).show(n=100000, truncate=False)"
   ]
  },
  {
   "cell_type": "code",
   "execution_count": 14,
   "metadata": {},
   "outputs": [
    {
     "name": "stdout",
     "output_type": "stream",
     "text": [
      "+----------------------------------------------+---------------+\n",
      "|Nombre Empresa                                |Total pasajeros|\n",
      "+----------------------------------------------+---------------+\n",
      "|AIR COLOMBIA                                  |0              |\n",
      "|TAMPA CARGO S.A.                              |0              |\n",
      "|AER CARIBE LIMITADA                           |0              |\n",
      "|SKY LEASE I. INC  (GREENSBORO.NC)             |0              |\n",
      "|CENTURION AIR CARGO COLOMBIA                  |0              |\n",
      "|LÍNEA AÉREA CARGUERA DE COLOMBIA S.A.         |0              |\n",
      "|LAS                                           |0              |\n",
      "|AEROSUCRE                                     |0              |\n",
      "|FLORIDA WEST INTERNATIONAL AIRWAYS INC.       |0              |\n",
      "|OCEANAIR                                      |0              |\n",
      "|SELVA                                         |0              |\n",
      "|LAN PERU                                      |215            |\n",
      "|ANDES LINEAS AEREAS S.A.                      |769            |\n",
      "|ALIANSA                                       |19395          |\n",
      "|AEROREPUBLICA                                 |210550         |\n",
      "|AEROLINEA DE ANTIOQUIA S.A.                   |298094         |\n",
      "|EASYFLY S.A                                   |965337         |\n",
      "|SERVICIO AEREO A TERRITORIOS NACIONALES SATENA|985585         |\n",
      "|FAST COLOMBIA SAS                             |3128588        |\n",
      "|AIRES                                         |4266694        |\n",
      "|AVIANCA                                       |13681761       |\n",
      "+----------------------------------------------+---------------+\n",
      "\n"
     ]
    }
   ],
   "source": [
    "df.filter((year(\"Fecha\")==2016) & (df.Trafico.contains(\"N\"))).groupBy(\"Nombre Empresa\").agg(\n",
    "    sum(\"Pasajeros\").alias(\"Total pasajeros\")).sort(\"Total pasajeros\",descending=True).show(10000,truncate=False)"
   ]
  },
  {
   "attachments": {},
   "cell_type": "markdown",
   "metadata": {},
   "source": [
    "**¿Cómo ha evolucionado el tráfico aéreo, visto como el número de pasajeros, a través de los años?**"
   ]
  },
  {
   "cell_type": "code",
   "execution_count": 16,
   "metadata": {},
   "outputs": [],
   "source": [
    "pasajeros_anho = df.select(\n",
    "                \"Fecha\",\n",
    "                \"Pasajeros\", \n",
    "                year(\"Fecha\").alias(\"año\")\n",
    "                ).groupBy(\"año\").agg(\n",
    "                    sum(\"Pasajeros\").alias(\"total_pasajeros\")).toPandas()"
   ]
  },
  {
   "cell_type": "code",
   "execution_count": 17,
   "metadata": {},
   "outputs": [],
   "source": [
    "pasajeros_anho_empresa = df.select(\n",
    "                        \"Pasajeros\",\n",
    "                        \"Nombre_Empresa_clean\",\n",
    "                        year(\"Fecha\").alias(\"año\")\n",
    "                        ).groupBy([\"año\", \"Nombre_Empresa_clean\"]).agg(\n",
    "                        sum(\"Pasajeros\").alias(\"total_pasajeros\")).toPandas()"
   ]
  },
  {
   "cell_type": "code",
   "execution_count": 18,
   "metadata": {},
   "outputs": [],
   "source": [
    "pasajeros_empresa = df.select(\n",
    "                        \"Pasajeros\",\n",
    "                        \"Nombre_Empresa_clean\",\n",
    "                        ).groupBy(\"Nombre_Empresa_clean\").agg(\n",
    "                        sum(\"Pasajeros\").alias(\"total_pasajeros\")).toPandas()"
   ]
  },
  {
   "cell_type": "code",
   "execution_count": 19,
   "metadata": {},
   "outputs": [],
   "source": [
    "pasajeros_anho_empresa_nacional = df.select(\n",
    "                        \"Pasajeros\",\n",
    "                        \"Nombre_Empresa_clean\",\n",
    "                        year(\"Fecha\").alias(\"año\")\n",
    "                        ).filter(df.Trafico==\"N\").groupBy([\"año\", \"Nombre_Empresa_clean\"]).agg(\n",
    "                        sum(\"Pasajeros\").alias(\"total_pasajeros\")).toPandas()"
   ]
  },
  {
   "cell_type": "code",
   "execution_count": 20,
   "metadata": {},
   "outputs": [
    {
     "data": {
      "text/plain": [
       "<Axes: xlabel='año'>"
      ]
     },
     "execution_count": 20,
     "metadata": {},
     "output_type": "execute_result"
    },
    {
     "data": {
      "image/png": "[encoded data removed]",
      "text/plain": [
       "<Figure size 640x480 with 1 Axes>"
      ]
     },
     "metadata": {},
     "output_type": "display_data"
    }
   ],
   "source": [
    "pasajeros_anho[\"año\"] = pasajeros_anho[\"año\"].astype(\"Int64\")\n",
    "pasajeros_anho.dropna(inplace=True)\n",
    "pasajeros_anho.set_index(\"año\").sort_index().plot(kind=\"bar\")\n"
   ]
  },
  {
   "cell_type": "code",
   "execution_count": 21,
   "metadata": {},
   "outputs": [
    {
     "data": {
      "text/plain": [
       "<Axes: ylabel='Nombre_Empresa_clean'>"
      ]
     },
     "execution_count": 21,
     "metadata": {},
     "output_type": "execute_result"
    },
    {
     "data": {
      "image/png": "[encoded data removed]",
      "text/plain": [
       "<Figure size 640x480 with 1 Axes>"
      ]
     },
     "metadata": {},
     "output_type": "display_data"
    }
   ],
   "source": [
    "pasajeros_empresa.dropna(inplace=True)\n",
    "pasajeros_empresa.sort_values(\"total_pasajeros\", ascending=False)[:10].sort_values(\"total_pasajeros\").set_index(\"Nombre_Empresa_clean\").plot(kind=\"barh\")\n"
   ]
  },
  {
   "cell_type": "code",
   "execution_count": 22,
   "metadata": {},
   "outputs": [],
   "source": [
    "top_empresas =pd.DataFrame()\n",
    "tot_anhos = pasajeros_anho_empresa[\"año\"].unique()\n",
    "for anho in tot_anhos:\n",
    "    ind = pasajeros_anho_empresa[\"año\"] ==anho\n",
    "    tmp = pasajeros_anho_empresa.loc[ind,:].sort_values(\"total_pasajeros\", ascending=False).iloc[:10,:]\n",
    "    top_empresas = pd.concat([top_empresas,tmp ])\n",
    "top_empresas = top_empresas.sort_values(\"año\")"
   ]
  },
  {
   "cell_type": "code",
   "execution_count": 23,
   "metadata": {},
   "outputs": [],
   "source": [
    "top_empresas_nacional =pd.DataFrame()\n",
    "tot_anhos_nacional = pasajeros_anho_empresa_nacional[\"año\"].unique()\n",
    "for anho in tot_anhos_nacional:\n",
    "    ind = pasajeros_anho_empresa_nacional[\"año\"] ==anho\n",
    "    tmp = pasajeros_anho_empresa_nacional.loc[ind,:].sort_values(\"total_pasajeros\", ascending=False).iloc[:10,:]\n",
    "    top_empresas_nacional = pd.concat([top_empresas_nacional,tmp ])\n",
    "top_empresas_nacional = top_empresas_nacional.sort_values(\"año\")"
   ]
  },
  {
   "cell_type": "code",
   "execution_count": 26,
   "metadata": {},
   "outputs": [
    {
     "data": {
      "text/html": [
       "<div>\n",
       "<style scoped>\n",
       "    .dataframe tbody tr th:only-of-type {\n",
       "        vertical-align: middle;\n",
       "    }\n",
       "\n",
       "    .dataframe tbody tr th {\n",
       "        vertical-align: top;\n",
       "    }\n",
       "\n",
       "    .dataframe thead th {\n",
       "        text-align: right;\n",
       "    }\n",
       "</style>\n",
       "<table border=\"1\" class=\"dataframe\">\n",
       "  <thead>\n",
       "    <tr style=\"text-align: right;\">\n",
       "      <th></th>\n",
       "      <th>año</th>\n",
       "      <th>Nombre_Empresa_clean</th>\n",
       "      <th>total_pasajeros</th>\n",
       "    </tr>\n",
       "  </thead>\n",
       "  <tbody>\n",
       "    <tr>\n",
       "      <th>491</th>\n",
       "      <td>2016</td>\n",
       "      <td>AVIANCA</td>\n",
       "      <td>13681761</td>\n",
       "    </tr>\n",
       "    <tr>\n",
       "      <th>639</th>\n",
       "      <td>2016</td>\n",
       "      <td>LATAM</td>\n",
       "      <td>4266909</td>\n",
       "    </tr>\n",
       "    <tr>\n",
       "      <th>1047</th>\n",
       "      <td>2016</td>\n",
       "      <td>VIVA AIR</td>\n",
       "      <td>3128588</td>\n",
       "    </tr>\n",
       "    <tr>\n",
       "      <th>531</th>\n",
       "      <td>2016</td>\n",
       "      <td>SATENA</td>\n",
       "      <td>985585</td>\n",
       "    </tr>\n",
       "    <tr>\n",
       "      <th>1004</th>\n",
       "      <td>2016</td>\n",
       "      <td>EASYFLY S.A</td>\n",
       "      <td>965337</td>\n",
       "    </tr>\n",
       "    <tr>\n",
       "      <th>825</th>\n",
       "      <td>2016</td>\n",
       "      <td>ADA</td>\n",
       "      <td>298094</td>\n",
       "    </tr>\n",
       "    <tr>\n",
       "      <th>829</th>\n",
       "      <td>2016</td>\n",
       "      <td>AEROREPUBLICA</td>\n",
       "      <td>210550</td>\n",
       "    </tr>\n",
       "    <tr>\n",
       "      <th>972</th>\n",
       "      <td>2016</td>\n",
       "      <td>ALIANSA</td>\n",
       "      <td>19395</td>\n",
       "    </tr>\n",
       "    <tr>\n",
       "      <th>991</th>\n",
       "      <td>2016</td>\n",
       "      <td>ANDES LINEAS AEREAS S.A.</td>\n",
       "      <td>769</td>\n",
       "    </tr>\n",
       "    <tr>\n",
       "      <th>894</th>\n",
       "      <td>2016</td>\n",
       "      <td>SELVA</td>\n",
       "      <td>0</td>\n",
       "    </tr>\n",
       "    <tr>\n",
       "      <th>1040</th>\n",
       "      <td>2016</td>\n",
       "      <td>LAS</td>\n",
       "      <td>0</td>\n",
       "    </tr>\n",
       "    <tr>\n",
       "      <th>923</th>\n",
       "      <td>2016</td>\n",
       "      <td>OCEANAIR</td>\n",
       "      <td>0</td>\n",
       "    </tr>\n",
       "    <tr>\n",
       "      <th>455</th>\n",
       "      <td>2016</td>\n",
       "      <td>LÍNEA AÉREA CARGUERA DE COLOMBIA S.A.</td>\n",
       "      <td>0</td>\n",
       "    </tr>\n",
       "    <tr>\n",
       "      <th>893</th>\n",
       "      <td>2016</td>\n",
       "      <td>AEROSUCRE</td>\n",
       "      <td>0</td>\n",
       "    </tr>\n",
       "    <tr>\n",
       "      <th>756</th>\n",
       "      <td>2016</td>\n",
       "      <td>TAMPA CARGO</td>\n",
       "      <td>0</td>\n",
       "    </tr>\n",
       "    <tr>\n",
       "      <th>689</th>\n",
       "      <td>2016</td>\n",
       "      <td>CENTURION AIR CARGO COLOMBIA</td>\n",
       "      <td>0</td>\n",
       "    </tr>\n",
       "    <tr>\n",
       "      <th>668</th>\n",
       "      <td>2016</td>\n",
       "      <td>AIR COLOMBIA</td>\n",
       "      <td>0</td>\n",
       "    </tr>\n",
       "    <tr>\n",
       "      <th>608</th>\n",
       "      <td>2016</td>\n",
       "      <td>FLORIDA WEST INTERNATIONAL AIRWAYS INC.</td>\n",
       "      <td>0</td>\n",
       "    </tr>\n",
       "    <tr>\n",
       "      <th>527</th>\n",
       "      <td>2016</td>\n",
       "      <td>AER CARIBE</td>\n",
       "      <td>0</td>\n",
       "    </tr>\n",
       "    <tr>\n",
       "      <th>1180</th>\n",
       "      <td>2016</td>\n",
       "      <td>SKY LEASE</td>\n",
       "      <td>0</td>\n",
       "    </tr>\n",
       "  </tbody>\n",
       "</table>\n",
       "</div>"
      ],
      "text/plain": [
       "       año                     Nombre_Empresa_clean  total_pasajeros\n",
       "491   2016                                  AVIANCA         13681761\n",
       "639   2016                                    LATAM          4266909\n",
       "1047  2016                                 VIVA AIR          3128588\n",
       "531   2016                                   SATENA           985585\n",
       "1004  2016                              EASYFLY S.A           965337\n",
       "825   2016                                      ADA           298094\n",
       "829   2016                            AEROREPUBLICA           210550\n",
       "972   2016                                  ALIANSA            19395\n",
       "991   2016                 ANDES LINEAS AEREAS S.A.              769\n",
       "894   2016                                    SELVA                0\n",
       "1040  2016                                      LAS                0\n",
       "923   2016                                 OCEANAIR                0\n",
       "455   2016    LÍNEA AÉREA CARGUERA DE COLOMBIA S.A.                0\n",
       "893   2016                                AEROSUCRE                0\n",
       "756   2016                              TAMPA CARGO                0\n",
       "689   2016             CENTURION AIR CARGO COLOMBIA                0\n",
       "668   2016                             AIR COLOMBIA                0\n",
       "608   2016  FLORIDA WEST INTERNATIONAL AIRWAYS INC.                0\n",
       "527   2016                               AER CARIBE                0\n",
       "1180  2016                                SKY LEASE                0"
      ]
     },
     "execution_count": 26,
     "metadata": {},
     "output_type": "execute_result"
    }
   ],
   "source": [
    "pasajeros_anho_empresa_nacional [pasajeros_anho_empresa_nacional[\"año\"] ==2016].sort_values(\"total_pasajeros\", ascending=False)\n"
   ]
  },
  {
   "attachments": {},
   "cell_type": "markdown",
   "metadata": {},
   "source": [
    "**IpyVizzu**"
   ]
  },
  {
   "cell_type": "code",
   "execution_count": 27,
   "metadata": {},
   "outputs": [],
   "source": [
    " # data processing, CSV file I/O (e.g. pd.read_csv)\n",
    "from ipyvizzu import Chart, Data, Config, Style\n",
    "\n"
   ]
  },
  {
   "cell_type": "code",
   "execution_count": 39,
   "metadata": {},
   "outputs": [
    {
     "data": {
      "application/javascript": "if (window.IpyVizzu) { window.IpyVizzu.clearInhibitScroll(element); }"
     },
     "metadata": {},
     "output_type": "display_data"
    },
    {
     "data": {
      "application/javascript": "if (window.IpyVizzu) { window.IpyVizzu.clearInhibitScroll(element); }"
     },
     "metadata": {},
     "output_type": "display_data"
    },
    {
     "data": {
      "application/javascript": "if (window.IpyVizzu) { window.IpyVizzu.clearInhibitScroll(element); }"
     },
     "metadata": {},
     "output_type": "display_data"
    },
    {
     "data": {
      "application/javascript": "if (window.IpyVizzu) { window.IpyVizzu.clearInhibitScroll(element); }"
     },
     "metadata": {},
     "output_type": "display_data"
    },
    {
     "data": {
      "application/javascript": "if (window.IpyVizzu) { window.IpyVizzu.clearInhibitScroll(element); }"
     },
     "metadata": {},
     "output_type": "display_data"
    },
    {
     "data": {
      "application/javascript": "if (window.IpyVizzu) { window.IpyVizzu.clearInhibitScroll(element); }"
     },
     "metadata": {},
     "output_type": "display_data"
    },
    {
     "data": {
      "application/javascript": "if (window.IpyVizzu) { window.IpyVizzu.clearInhibitScroll(element); }"
     },
     "metadata": {},
     "output_type": "display_data"
    },
    {
     "data": {
      "application/javascript": "if (window.IpyVizzu) { window.IpyVizzu.clearInhibitScroll(element); }"
     },
     "metadata": {},
     "output_type": "display_data"
    },
    {
     "data": {
      "application/javascript": "if (!window.IpyVizzu) {\n  class IpyVizzu {\n    constructor() {\n      IpyVizzu.inhibitScroll = false;\n      IpyVizzu.nbconvert = false;\n      document.addEventListener(\n        \"wheel\",\n        (evt) => {\n          IpyVizzu.inhibitScroll = true;\n        },\n        true\n      );\n      document.addEventListener(\n        \"keydown\",\n        (evt) => {\n          IpyVizzu.inhibitScroll = true;\n        },\n        true\n      );\n      document.addEventListener(\n        \"touchstart\",\n        (evt) => {\n          IpyVizzu.inhibitScroll = true;\n        },\n        true\n      );\n\n      this.elements = {};\n      this.charts = {};\n      this.controls = {};\n\n      this.storage = {};\n      this.displays = {};\n\n      this.events = {};\n      this.loaded = {};\n      this.libs = {};\n    }\n\n    static clearInhibitScroll(element) {\n      if (IpyVizzu.nbconvert) IpyVizzu._hide(element);\n      IpyVizzu.inhibitScroll = false;\n    }\n\n    createChart(element, chartId, vizzulib, divWidth, divHeight) {\n      this.elements[chartId] = document.createElement(\"div\");\n      this.elements[\n        chartId\n      ].style.cssText = `width: ${divWidth}; height: ${divHeight};`;\n      this.loaded[chartId] = import(vizzulib);\n      this.charts[chartId] = this.loaded[chartId].then((Vizzu) => {\n        this.libs[chartId] = Vizzu.default;\n        const VizzuConstructor = Vizzu.default;\n        return new VizzuConstructor(this.elements[chartId]).initializing;\n      });\n      this._moveHere(chartId, element);\n    }\n\n    animate(\n      element,\n      chartId,\n      animId,\n      displayTarget,\n      scrollEnabled,\n      getChartTarget,\n      chartAnimOpts\n    ) {\n      if (IpyVizzu.nbconvert) IpyVizzu._hide(element);\n      if (displayTarget === \"end\") this._moveHere(chartId, element);\n      this.controls[chartId] = this.charts[chartId];\n      this.charts[chartId] = this.charts[chartId].then((chart) => {\n        if (displayTarget === \"actual\") this._moveHere(chartId, element);\n        this._scroll(chartId, scrollEnabled);\n        let chartTarget = getChartTarget(this.libs[chartId]);\n        if (typeof chartTarget === \"string\") {\n          chartTarget = this.storage[chartTarget];\n        } else if (Array.isArray(chartTarget)) {\n          for (let i = 0; i < chartTarget.length; i++) {\n            const target = chartTarget[i].target;\n            if (typeof target === \"string\") {\n              chartTarget[i].target = this.storage[target];\n            }\n          }\n        }\n        chart = chart.animate(chartTarget, chartAnimOpts);\n        this.controls[animId] = chart;\n        return chart;\n      });\n    }\n\n    store(element, chartId, id) {\n      if (IpyVizzu.nbconvert) IpyVizzu._hide(element);\n      this.charts[chartId] = this.charts[chartId].then((chart) => {\n        this.storage[id] = chart.store();\n        return chart;\n      });\n    }\n\n    feature(element, chartId, name, enabled) {\n      if (IpyVizzu.nbconvert) IpyVizzu._hide(element);\n      this.charts[chartId] = this.charts[chartId].then((chart) => {\n        chart.feature(name, enabled);\n        return chart;\n      });\n    }\n\n    setEvent(element, chartId, id, event, handler) {\n      if (IpyVizzu.nbconvert) IpyVizzu._hide(element);\n      this.charts[chartId] = this.charts[chartId].then((chart) => {\n        this.events[id] = handler;\n        chart.on(event, this.events[id]);\n        return chart;\n      });\n    }\n\n    clearEvent(element, chartId, id, event) {\n      if (IpyVizzu.nbconvert) IpyVizzu._hide(element);\n      this.charts[chartId] = this.charts[chartId].then((chart) => {\n        chart.off(event, this.events[id]);\n        return chart;\n      });\n    }\n\n    log(element, chartId, chartProperty) {\n      if (IpyVizzu.nbconvert) IpyVizzu._hide(element);\n      this.charts[chartId] = this.charts[chartId].then((chart) => {\n        console.log(chart[chartProperty]);\n        return chart;\n      });\n    }\n\n    control(element, method, prevId, lastId, ...params) {\n      if (IpyVizzu.nbconvert) IpyVizzu._hide(element);\n      this.controls[prevId].then(() => {\n        this.controls[lastId].activated.then((control) => {\n          if (method === \"seek\") {\n            const value = params[0];\n            control[method](value);\n            return;\n          }\n          if (method === \"store\") {\n            const id = params[0];\n            this.storage[id] = control[method]();\n            return;\n          }\n          control[method]();\n        });\n      });\n    }\n\n    _moveHere(chartId, element) {\n      if (IpyVizzu.nbconvert)\n        IpyVizzu._display(this.elements[chartId], element);\n      element.append(this.elements[chartId]);\n    }\n\n    _scroll(chartId, enabled) {\n      if (!IpyVizzu.inhibitScroll && enabled) {\n        this.elements[chartId].scrollIntoView({\n          behavior: \"auto\",\n          block: \"center\",\n        });\n      }\n    }\n\n    static _hide(element) {\n      document.getElementById(\n        element.selector.substring(1)\n      ).parentNode.style.display = \"none\";\n    }\n\n    static _display(prevElement, element) {\n      if (prevElement.parentNode) {\n        prevElement.parentNode.style.display = \"none\";\n      }\n      document.getElementById(\n        element.selector.substring(1)\n      ).parentNode.style.display = \"flex\";\n      document.getElementById(\n        element.selector.substring(1)\n      ).parentNode.style.margin = \"auto\";\n    }\n  }\n\n  window.IpyVizzu = IpyVizzu;\n  window.ipyvizzu = new window.IpyVizzu();\n}\n"
     },
     "metadata": {},
     "output_type": "display_data"
    },
    {
     "data": {
      "application/javascript": "window.ipyvizzu.createChart(element, '259d681', 'https://cdn.jsdelivr.net/npm/vizzu@0.7/dist/vizzu.min.js', '800px', '480px');"
     },
     "metadata": {},
     "output_type": "display_data"
    },
    {
     "data": {
      "application/javascript": "window.ipyvizzu.animate(element, '259d681', 'b0b644f', 'begin', false, lib => { return {\"data\": {\"series\": [{\"name\": \"a\\u00f1o\", \"type\": \"measure\", \"values\": [1992.0, 1992.0, 1992.0, 1992.0, 1992.0, 1992.0, 1992.0, 1992.0, 1992.0, 1992.0, 1993.0, 1993.0, 1993.0, 1993.0, 1993.0, 1993.0, 1993.0, 1993.0, 1993.0, 1993.0, 1994.0, 1994.0, 1994.0, 1994.0, 1994.0, 1994.0, 1994.0, 1994.0, 1994.0, 1994.0, 1995.0, 1995.0, 1995.0, 1995.0, 1995.0, 1995.0, 1995.0, 1995.0, 1995.0, 1995.0, 1996.0, 1996.0, 1996.0, 1996.0, 1996.0, 1996.0, 1996.0, 1996.0, 1996.0, 1996.0, 1997.0, 1997.0, 1997.0, 1997.0, 1997.0, 1997.0, 1997.0, 1997.0, 1997.0, 1997.0, 1998.0, 1998.0, 1998.0, 1998.0, 1998.0, 1998.0, 1998.0, 1998.0, 1998.0, 1998.0, 1999.0, 1999.0, 1999.0, 1999.0, 1999.0, 1999.0, 1999.0, 1999.0, 1999.0, 1999.0, 2000.0, 2000.0, 2000.0, 2000.0, 2000.0, 2000.0, 2000.0, 2000.0, 2000.0, 2000.0, 2001.0, 2001.0, 2001.0, 2001.0, 2001.0, 2001.0, 2001.0, 2001.0, 2001.0, 2001.0, 2002.0, 2002.0, 2002.0, 2002.0, 2002.0, 2002.0, 2002.0, 2002.0, 2002.0, 2002.0, 2003.0, 2003.0, 2003.0, 2003.0, 2003.0, 2003.0, 2003.0, 2003.0, 2003.0, 2003.0, 2004.0, 2004.0, 2004.0, 2004.0, 2004.0, 2004.0, 2004.0, 2004.0, 2004.0, 2004.0, 2005.0, 2005.0, 2005.0, 2005.0, 2005.0, 2005.0, 2005.0, 2005.0, 2005.0, 2005.0, 2006.0, 2006.0, 2006.0, 2006.0, 2006.0, 2006.0, 2006.0, 2006.0, 2006.0, 2006.0, 2007.0, 2007.0, 2007.0, 2007.0, 2007.0, 2007.0, 2007.0, 2007.0, 2007.0, 2007.0, 2008.0, 2008.0, 2008.0, 2008.0, 2008.0, 2008.0, 2008.0, 2008.0, 2008.0, 2008.0, 2009.0, 2009.0, 2009.0, 2009.0, 2009.0, 2009.0, 2009.0, 2009.0, 2009.0, 2009.0, 2010.0, 2010.0, 2010.0, 2010.0, 2010.0, 2010.0, 2010.0, 2010.0, 2010.0, 2010.0, 2011.0, 2011.0, 2011.0, 2011.0, 2011.0, 2011.0, 2011.0, 2011.0, 2011.0, 2011.0, 2012.0, 2012.0, 2012.0, 2012.0, 2012.0, 2012.0, 2012.0, 2012.0, 2012.0, 2012.0, 2013.0, 2013.0, 2013.0, 2013.0, 2013.0, 2013.0, 2013.0, 2013.0, 2013.0, 2013.0, 2014.0, 2014.0, 2014.0, 2014.0, 2014.0, 2014.0, 2014.0, 2014.0, 2014.0, 2014.0, 2015.0, 2015.0, 2015.0, 2015.0, 2015.0, 2015.0, 2015.0, 2015.0, 2015.0, 2015.0, 2016.0, 2016.0, 2016.0, 2016.0, 2016.0, 2016.0, 2016.0, 2016.0, 2016.0, 2016.0, 2017.0, 2017.0, 2017.0, 2017.0, 2017.0, 2017.0, 2017.0, 2017.0, 2017.0, 2017.0, 2018.0, 2018.0, 2018.0, 2018.0, 2018.0, 2018.0, 2018.0, 2018.0, 2018.0, 2018.0, 2019.0, 2019.0, 2019.0, 2019.0, 2019.0, 2019.0, 2019.0, 2019.0, 2019.0, 2019.0, 2020.0, 2020.0, 2020.0, 2020.0, 2020.0, 2020.0, 2020.0, 2020.0, 2020.0, 2020.0, 2021.0, 2021.0, 2021.0, 2021.0, 2021.0, 2021.0, 2021.0, 2021.0, 2021.0, 2021.0, 2022.0, 2022.0, 2022.0, 2022.0, 2022.0, 2022.0, 2022.0, 2022.0, 2022.0, 2022.0]}, {\"name\": \"Nombre_Empresa_clean\", \"type\": \"dimension\", \"values\": [\"LATAM\", \"ACES\", \"SAM\", \"INTER\", \"HELICOL\", \"AVIANCA\", \"AEROTACA\", \"VERTICAL DE AVIACION\", \"APSA\", \"SATENA\", \"AVIANCA\", \"AEROTACA\", \"AEROREPUBLICA\", \"HELICOL\", \"SATENA\", \"VERTICAL DE AVIACION\", \"LATAM\", \"SAM\", \"INTER\", \"ACES\", \"SATENA\", \"HELICOL\", \"AEROTACA\", \"LATAM\", \"AEROREPUBLICA\", \"SAM\", \"INTER\", \"VERTICAL DE AVIACION\", \"ACES\", \"AVIANCA\", \"SAM\", \"ACES\", \"AEROTACA\", \"VERTICAL DE AVIACION\", \"SATENA\", \"AVIANCA\", \"LATAM\", \"INTER\", \"AEROREPUBLICA\", \"HELICOL\", \"AVIANCA\", \"ACES\", \"AEROTACA\", \"VERTICAL DE AVIACION\", \"HELICOL\", \"SATENA\", \"INTER\", \"LATAM\", \"SAM\", \"AEROREPUBLICA\", \"ACES\", \"AEROREPUBLICA\", \"LATAM\", \"SATENA\", \"VERTICAL DE AVIACION\", \"HELICOL\", \"AEROTACA\", \"AVIANCA\", \"INTER\", \"SAM\", \"INTER\", \"VERTICAL DE AVIACION\", \"HELICOL\", \"LATAM\", \"SATENA\", \"AEROTACA\", \"AVIANCA\", \"SAM\", \"ACES\", \"AEROREPUBLICA\", \"AEROTACA\", \"AEROREPUBLICA\", \"SAM\", \"LATAM\", \"INTER\", \"SATENA\", \"VERTICAL DE AVIACION\", \"HELICOL\", \"AVIANCA\", \"ACES\", \"AVIANCA\", \"ACES\", \"AEROREPUBLICA\", \"LATAM\", \"SAM\", \"SATENA\", \"INTER\", \"HELICOL\", \"AEROTACA\", \"SEARCA S.A.\", \"AEROTACA\", \"INTER\", \"WEST CARIBBEAN\", \"HELICOL\", \"ACES\", \"AVIANCA\", \"SAM\", \"LATAM\", \"SATENA\", \"AEROREPUBLICA\", \"INTER\", \"WEST CARIBBEAN\", \"LATAM\", \"SAM\", \"AEROREPUBLICA\", \"AVIANCA\", \"HELICOL\", \"AEROTACA\", \"SATENA\", \"ACES\", \"SATENA\", \"HELICOL\", \"SEARCA S.A.\", \"INTER\", \"WEST CARIBBEAN\", \"LATAM\", \"ACES\", \"SAM\", \"AEROREPUBLICA\", \"AVIANCA\", \"SEARCA S.A.\", \"AVIANCA\", \"AEROREPUBLICA\", \"WEST CARIBBEAN\", \"ADA\", \"LATAM\", \"SAM\", \"INTER\", \"SATENA\", \"REGION AIR\", \"TAC\", \"AVIANCA\", \"AEROREPUBLICA\", \"SAM\", \"SATENA\", \"LATAM\", \"WEST CARIBBEAN\", \"ADA\", \"SEARCA S.A.\", \"SARPA S.A.S\", \"AVIANCA\", \"SAM\", \"AEROREPUBLICA\", \"LATAM\", \"ADA\", \"VIARCO\", \"SARPA S.A.S\", \"TAC\", \"SEARCA S.A.\", \"SATENA\", \"AEROREPUBLICA\", \"SAM\", \"SATENA\", \"LATAM\", \"ADA\", \"SEARCA S.A.\", \"TAC\", \"ALPES S.A.S\", \"AEXPA\", \"AVIANCA\", \"SAM\", \"AEROREPUBLICA\", \"SATENA\", \"LATAM\", \"EASYFLY S.A\", \"AVIANCA\", \"SEARCA S.A.\", \"TAC\", \"SARPA S.A.S\", \"ADA\", \"SADELCA\", \"PETROLEUM\", \"SEARCA S.A.\", \"ADA\", \"EASYFLY S.A\", \"LATAM\", \"AEROREPUBLICA\", \"SAM\", \"SATENA\", \"AVIANCA\", \"TAC\", \"SEARCA S.A.\", \"ADA\", \"PETROLEUM\", \"SATENA\", \"SAM\", \"AEROREPUBLICA\", \"LATAM\", \"EASYFLY S.A\", \"AVIANCA\", \"PETROLEUM\", \"SARPA S.A.S\", \"SEARCA S.A.\", \"TAC\", \"EASYFLY S.A\", \"AEROREPUBLICA\", \"LATAM\", \"AVIANCA\", \"ADA\", \"SATENA\", \"AVIANCA\", \"LATAM\", \"AEROREPUBLICA\", \"SATENA\", \"EASYFLY S.A\", \"VIVA AIR\", \"ADA\", \"SEARCA S.A.\", \"SARPA S.A.S\", \"TAC\", \"LATAM\", \"VIVA AIR\", \"AEROREPUBLICA\", \"SATENA\", \"EASYFLY S.A\", \"ADA\", \"SEARCA S.A.\", \"PETROLEUM\", \"TAC\", \"AVIANCA\", \"AVIANCA\", \"LATAM\", \"VIVA AIR\", \"SATENA\", \"EASYFLY S.A\", \"ADA\", \"SEARCA S.A.\", \"HELICOL\", \"SARPA S.A.S\", \"AEROREPUBLICA\", \"TAC\", \"HELICOL\", \"SEARCA S.A.\", \"AEROREPUBLICA\", \"ADA\", \"EASYFLY S.A\", \"SATENA\", \"VIVA AIR\", \"LATAM\", \"AVIANCA\", \"SELVA\", \"VIVA AIR\", \"LATAM\", \"AVIANCA\", \"SATENA\", \"EASYFLY S.A\", \"ADA\", \"AEROREPUBLICA\", \"ANDES LINEAS AEREAS S.A.\", \"ALIANSA\", \"TAC\", \"SEARCA S.A.\", \"LATAM\", \"AVIANCA\", \"ADA\", \"AEROREPUBLICA\", \"HELICOL\", \"SATENA\", \"VIVA AIR\", \"EASYFLY S.A\", \"SARPA S.A.S\", \"HELICOL\", \"ADA\", \"AEROREPUBLICA\", \"SATENA\", \"EASYFLY S.A\", \"VIVA AIR\", \"LATAM\", \"AVIANCA\", \"SEARCA S.A.\", \"SARPA S.A.S\", \"LATAM\", \"HELICOL\", \"SEARCA S.A.\", \"AEROREPUBLICA\", \"REGIONAL EXPRESS AMERICAS\", \"SATENA\", \"EASYFLY S.A\", \"VIVA AIR\", \"AVIANCA\", \"AVIANCA\", \"LATAM\", \"SATENA\", \"VIVA AIR\", \"EASYFLY S.A\", \"REGIONAL EXPRESS AMERICAS\", \"SEARCA S.A.\", \"HELICOL\", \"GCA AIRLINES\", \"AEROREPUBLICA\", \"AVIANCA\", \"SARPA S.A.S\", \"AEROREPUBLICA\", \"SATENA\", \"SEARCA S.A.\", \"GCA AIRLINES\", \"EASYFLY S.A\", \"VIVA AIR\", \"LATAM\", \"HELICOL\", \"AVIANCA\", \"VIVA AIR\", \"EASYFLY S.A\", \"ULTRA AIR S.A.S.\", \"SATENA\", \"AEROREPUBLICA\", \"SEARCA S.A.\", \"HELICOL\", \"SARPA S.A.S\", \"LATAM\"]}, {\"name\": \"total_pasajeros\", \"type\": \"measure\", \"values\": [281649.0, 1189859.0, 1019539.0, 557442.0, 247727.0, 2584630.0, 106557.0, 91845.0, 36564.0, 245274.0, 2510643.0, 106413.0, 124761.0, 196187.0, 231298.0, 103768.0, 342778.0, 942934.0, 960658.0, 1340969.0, 184990.0, 94073.0, 114942.0, 391935.0, 505870.0, 766831.0, 830161.0, 93986.0, 1489618.0, 3039382.0, 1096570.0, 1543795.0, 109339.0, 117225.0, 246847.0, 3104505.0, 513222.0, 523463.0, 898617.0, 282771.0, 3124019.0, 1783031.0, 119084.0, 214478.0, 236094.0, 244958.0, 500966.0, 548570.0, 917615.0, 1019773.0, 1721058.0, 922609.0, 553367.0, 309122.0, 209467.0, 158735.0, 130126.0, 2859206.0, 489894.0, 1067425.0, 446812.0, 173080.0, 101750.0, 517937.0, 365704.0, 112528.0, 2746597.0, 1081306.0, 1769203.0, 874723.0, 53932.0, 973453.0, 763180.0, 504833.0, 352970.0, 339529.0, 163446.0, 89956.0, 2716037.0, 1893950.0, 2399120.0, 2147384.0, 1071977.0, 532882.0, 473495.0, 431107.0, 275532.0, 82549.0, 72445.0, 54561.0, 41420.0, 318732.0, 82897.0, 77030.0, 2128197.0, 2063974.0, 766289.0, 515118.0, 491044.0, 1144961.0, 339710.0, 172654.0, 548668.0, 740577.0, 1355567.0, 2533882.0, 75377.0, 46981.0, 486694.0, 1555111.0, 561100.0, 40686.0, 67632.0, 285556.0, 307161.0, 550113.0, 652334.0, 800407.0, 1583226.0, 2708883.0, 62000.0, 2823002.0, 2039904.0, 556252.0, 96997.0, 640198.0, 823463.0, 55344.0, 682998.0, 17104.0, 19862.0, 3323832.0, 1957754.0, 851117.0, 712648.0, 636330.0, 176391.0, 145083.0, 101403.0, 15925.0, 3536402.0, 1124550.0, 2079751.0, 633517.0, 184687.0, 13750.0, 21803.0, 26156.0, 92699.0, 873626.0, 1859967.0, 1609722.0, 1018142.0, 695811.0, 189941.0, 120144.0, 17277.0, 11727.0, 11664.0, 3568882.0, 1812034.0, 1594265.0, 999824.0, 832653.0, 171283.0, 3667045.0, 154138.0, 26456.0, 31390.0, 159130.0, 11201.0, 17789.0, 149099.0, 169484.0, 279001.0, 1547828.0, 1820425.0, 1975001.0, 951732.0, 3670996.0, 39224.0, 174687.0, 205833.0, 15993.0, 919281.0, 1566386.0, 2019984.0, 2815373.0, 366855.0, 5710291.0, 23578.0, 26909.0, 210008.0, 37520.0, 534738.0, 1635006.0, 2843988.0, 8098564.0, 243124.0, 827381.0, 9714148.0, 3193908.0, 1346329.0, 751437.0, 632534.0, 558120.0, 260713.0, 215099.0, 36500.0, 53214.0, 3597499.0, 1837135.0, 1135150.0, 790352.0, 742974.0, 274250.0, 179708.0, 67914.0, 58755.0, 10864469.0, 12036707.0, 3696875.0, 2220823.0, 900578.0, 797462.0, 290029.0, 198970.0, 99887.0, 47400.0, 497940.0, 56579.0, 76966.0, 95051.0, 315646.0, 341410.0, 935875.0, 1004541.0, 2670393.0, 4059152.0, 13379823.0, 0.0, 3128588.0, 4266909.0, 13681761.0, 985585.0, 965337.0, 298094.0, 210550.0, 769.0, 19395.0, 43132.0, 117197.0, 4495873.0, 12643114.0, 228555.0, 348688.0, 68010.0, 1039512.0, 3166107.0, 989176.0, 106644.0, 115495.0, 339067.0, 697691.0, 1863716.0, 1979783.0, 5275081.0, 8071003.0, 21938740.0, 130263.0, 49338.0, 5042153.0, 59065.0, 129552.0, 364961.0, 460977.0, 1039739.0, 1790897.0, 3779806.0, 11798224.0, 10068286.0, 5657568.0, 1148877.0, 4819742.0, 2006639.0, 193343.0, 104603.0, 62694.0, 59752.0, 548218.0, 11591137.0, 52709.0, 1196252.0, 1353200.0, 129490.0, 281225.0, 2027622.0, 7128697.0, 8311060.0, 51386.0, 11980650.0, 6629304.0, 1917401.0, 1431408.0, 1040604.0, 881517.0, 124424.0, 50328.0, 42354.0, 8431078.0]}]}} }, undefined);"
     },
     "metadata": {},
     "output_type": "display_data"
    },
    {
     "data": {
      "application/javascript": "window.ipyvizzu.animate(element, '259d681', 'ab608b9', 'begin', false, lib => { return {\"data\": {\"filter\": record => { return (record['año'] == 1992) }}, \"config\": {\"channels\": {\"x\": {\"set\": [\"total_pasajeros\"]}, \"y\": {\"set\": [\"Nombre_Empresa_clean\"]}, \"color\": {\"set\": [\"Nombre_Empresa_clean\"]}, \"label\": {\"set\": [\"total_pasajeros\"]}}, \"sort\": \"byValue\", \"legend\": null, \"title\": \"N\\u00famero de pasajeros por aerol\\u00ednea en 1992\"}, \"style\": {\"plot\": {\"marker\": {\"colorPalette\": \"#008080 #b5e48cff #99D986 #76c893ff #52b69aff #34a0a4ff #168aadff #1a759fff #1e6091ff #184e77ff\", \"label\": {\"maxFractionDigits\": \"0\"}}, \"paddingLeft\": \"18em\", \"xAxis\": {\"title\": {\"color\": \"#00000000\"}}}}} }, {\"duration\": 1.2, \"x\": {\"easing\": \"linear\", \"delay\": 0}, \"y\": {\"delay\": 0}, \"show\": {\"delay\": 0}, \"hide\": {\"delay\": 0}, \"title\": {\"duration\": 0, \"delay\": 0}});"
     },
     "metadata": {},
     "output_type": "display_data"
    },
    {
     "data": {
      "application/javascript": "window.ipyvizzu.animate(element, '259d681', 'b84f950', 'begin', false, lib => { return {\"data\": {\"filter\": record => { return (record['año'] == 1993) }}, \"config\": {\"channels\": {\"x\": {\"set\": [\"total_pasajeros\"]}, \"y\": {\"set\": [\"Nombre_Empresa_clean\"]}, \"color\": {\"set\": [\"Nombre_Empresa_clean\"]}, \"label\": {\"set\": [\"total_pasajeros\"]}}, \"sort\": \"byValue\", \"legend\": null, \"title\": \"N\\u00famero de pasajeros por aerol\\u00ednea en 1993\"}, \"style\": {\"plot\": {\"marker\": {\"colorPalette\": \"#008080 #b5e48cff #99D986 #76c893ff #52b69aff #34a0a4ff #168aadff #1a759fff #1e6091ff #184e77ff\", \"label\": {\"maxFractionDigits\": \"0\"}}, \"paddingLeft\": \"18em\", \"xAxis\": {\"title\": {\"color\": \"#00000000\"}}}}} }, {\"duration\": 1.2, \"x\": {\"easing\": \"linear\", \"delay\": 0}, \"y\": {\"delay\": 0}, \"show\": {\"delay\": 0}, \"hide\": {\"delay\": 0}, \"title\": {\"duration\": 0, \"delay\": 0}});"
     },
     "metadata": {},
     "output_type": "display_data"
    },
    {
     "data": {
      "application/javascript": "window.ipyvizzu.animate(element, '259d681', '7003873', 'begin', false, lib => { return {\"data\": {\"filter\": record => { return (record['año'] == 1994) }}, \"config\": {\"channels\": {\"x\": {\"set\": [\"total_pasajeros\"]}, \"y\": {\"set\": [\"Nombre_Empresa_clean\"]}, \"color\": {\"set\": [\"Nombre_Empresa_clean\"]}, \"label\": {\"set\": [\"total_pasajeros\"]}}, \"sort\": \"byValue\", \"legend\": null, \"title\": \"N\\u00famero de pasajeros por aerol\\u00ednea en 1994\"}, \"style\": {\"plot\": {\"marker\": {\"colorPalette\": \"#008080 #b5e48cff #99D986 #76c893ff #52b69aff #34a0a4ff #168aadff #1a759fff #1e6091ff #184e77ff\", \"label\": {\"maxFractionDigits\": \"0\"}}, \"paddingLeft\": \"18em\", \"xAxis\": {\"title\": {\"color\": \"#00000000\"}}}}} }, {\"duration\": 1.2, \"x\": {\"easing\": \"linear\", \"delay\": 0}, \"y\": {\"delay\": 0}, \"show\": {\"delay\": 0}, \"hide\": {\"delay\": 0}, \"title\": {\"duration\": 0, \"delay\": 0}});"
     },
     "metadata": {},
     "output_type": "display_data"
    },
    {
     "data": {
      "application/javascript": "window.ipyvizzu.animate(element, '259d681', 'a40eb84', 'begin', false, lib => { return {\"data\": {\"filter\": record => { return (record['año'] == 1995) }}, \"config\": {\"channels\": {\"x\": {\"set\": [\"total_pasajeros\"]}, \"y\": {\"set\": [\"Nombre_Empresa_clean\"]}, \"color\": {\"set\": [\"Nombre_Empresa_clean\"]}, \"label\": {\"set\": [\"total_pasajeros\"]}}, \"sort\": \"byValue\", \"legend\": null, \"title\": \"N\\u00famero de pasajeros por aerol\\u00ednea en 1995\"}, \"style\": {\"plot\": {\"marker\": {\"colorPalette\": \"#008080 #b5e48cff #99D986 #76c893ff #52b69aff #34a0a4ff #168aadff #1a759fff #1e6091ff #184e77ff\", \"label\": {\"maxFractionDigits\": \"0\"}}, \"paddingLeft\": \"18em\", \"xAxis\": {\"title\": {\"color\": \"#00000000\"}}}}} }, {\"duration\": 1.2, \"x\": {\"easing\": \"linear\", \"delay\": 0}, \"y\": {\"delay\": 0}, \"show\": {\"delay\": 0}, \"hide\": {\"delay\": 0}, \"title\": {\"duration\": 0, \"delay\": 0}});"
     },
     "metadata": {},
     "output_type": "display_data"
    },
    {
     "data": {
      "application/javascript": "window.ipyvizzu.animate(element, '259d681', '8931bce', 'begin', false, lib => { return {\"data\": {\"filter\": record => { return (record['año'] == 1996) }}, \"config\": {\"channels\": {\"x\": {\"set\": [\"total_pasajeros\"]}, \"y\": {\"set\": [\"Nombre_Empresa_clean\"]}, \"color\": {\"set\": [\"Nombre_Empresa_clean\"]}, \"label\": {\"set\": [\"total_pasajeros\"]}}, \"sort\": \"byValue\", \"legend\": null, \"title\": \"N\\u00famero de pasajeros por aerol\\u00ednea en 1996\"}, \"style\": {\"plot\": {\"marker\": {\"colorPalette\": \"#008080 #b5e48cff #99D986 #76c893ff #52b69aff #34a0a4ff #168aadff #1a759fff #1e6091ff #184e77ff\", \"label\": {\"maxFractionDigits\": \"0\"}}, \"paddingLeft\": \"18em\", \"xAxis\": {\"title\": {\"color\": \"#00000000\"}}}}} }, {\"duration\": 1.2, \"x\": {\"easing\": \"linear\", \"delay\": 0}, \"y\": {\"delay\": 0}, \"show\": {\"delay\": 0}, \"hide\": {\"delay\": 0}, \"title\": {\"duration\": 0, \"delay\": 0}});"
     },
     "metadata": {},
     "output_type": "display_data"
    },
    {
     "data": {
      "application/javascript": "window.ipyvizzu.animate(element, '259d681', '110634f', 'begin', false, lib => { return {\"data\": {\"filter\": record => { return (record['año'] == 1997) }}, \"config\": {\"channels\": {\"x\": {\"set\": [\"total_pasajeros\"]}, \"y\": {\"set\": [\"Nombre_Empresa_clean\"]}, \"color\": {\"set\": [\"Nombre_Empresa_clean\"]}, \"label\": {\"set\": [\"total_pasajeros\"]}}, \"sort\": \"byValue\", \"legend\": null, \"title\": \"N\\u00famero de pasajeros por aerol\\u00ednea en 1997\"}, \"style\": {\"plot\": {\"marker\": {\"colorPalette\": \"#008080 #b5e48cff #99D986 #76c893ff #52b69aff #34a0a4ff #168aadff #1a759fff #1e6091ff #184e77ff\", \"label\": {\"maxFractionDigits\": \"0\"}}, \"paddingLeft\": \"18em\", \"xAxis\": {\"title\": {\"color\": \"#00000000\"}}}}} }, {\"duration\": 1.2, \"x\": {\"easing\": \"linear\", \"delay\": 0}, \"y\": {\"delay\": 0}, \"show\": {\"delay\": 0}, \"hide\": {\"delay\": 0}, \"title\": {\"duration\": 0, \"delay\": 0}});"
     },
     "metadata": {},
     "output_type": "display_data"
    },
    {
     "data": {
      "application/javascript": "window.ipyvizzu.animate(element, '259d681', 'b1839dc', 'begin', false, lib => { return {\"data\": {\"filter\": record => { return (record['año'] == 1998) }}, \"config\": {\"channels\": {\"x\": {\"set\": [\"total_pasajeros\"]}, \"y\": {\"set\": [\"Nombre_Empresa_clean\"]}, \"color\": {\"set\": [\"Nombre_Empresa_clean\"]}, \"label\": {\"set\": [\"total_pasajeros\"]}}, \"sort\": \"byValue\", \"legend\": null, \"title\": \"N\\u00famero de pasajeros por aerol\\u00ednea en 1998\"}, \"style\": {\"plot\": {\"marker\": {\"colorPalette\": \"#008080 #b5e48cff #99D986 #76c893ff #52b69aff #34a0a4ff #168aadff #1a759fff #1e6091ff #184e77ff\", \"label\": {\"maxFractionDigits\": \"0\"}}, \"paddingLeft\": \"18em\", \"xAxis\": {\"title\": {\"color\": \"#00000000\"}}}}} }, {\"duration\": 1.2, \"x\": {\"easing\": \"linear\", \"delay\": 0}, \"y\": {\"delay\": 0}, \"show\": {\"delay\": 0}, \"hide\": {\"delay\": 0}, \"title\": {\"duration\": 0, \"delay\": 0}});"
     },
     "metadata": {},
     "output_type": "display_data"
    },
    {
     "data": {
      "application/javascript": "window.ipyvizzu.animate(element, '259d681', '9811029', 'begin', false, lib => { return {\"data\": {\"filter\": record => { return (record['año'] == 1999) }}, \"config\": {\"channels\": {\"x\": {\"set\": [\"total_pasajeros\"]}, \"y\": {\"set\": [\"Nombre_Empresa_clean\"]}, \"color\": {\"set\": [\"Nombre_Empresa_clean\"]}, \"label\": {\"set\": [\"total_pasajeros\"]}}, \"sort\": \"byValue\", \"legend\": null, \"title\": \"N\\u00famero de pasajeros por aerol\\u00ednea en 1999\"}, \"style\": {\"plot\": {\"marker\": {\"colorPalette\": \"#008080 #b5e48cff #99D986 #76c893ff #52b69aff #34a0a4ff #168aadff #1a759fff #1e6091ff #184e77ff\", \"label\": {\"maxFractionDigits\": \"0\"}}, \"paddingLeft\": \"18em\", \"xAxis\": {\"title\": {\"color\": \"#00000000\"}}}}} }, {\"duration\": 1.2, \"x\": {\"easing\": \"linear\", \"delay\": 0}, \"y\": {\"delay\": 0}, \"show\": {\"delay\": 0}, \"hide\": {\"delay\": 0}, \"title\": {\"duration\": 0, \"delay\": 0}});"
     },
     "metadata": {},
     "output_type": "display_data"
    },
    {
     "data": {
      "application/javascript": "window.ipyvizzu.animate(element, '259d681', '90e26c1', 'begin', false, lib => { return {\"data\": {\"filter\": record => { return (record['año'] == 2000) }}, \"config\": {\"channels\": {\"x\": {\"set\": [\"total_pasajeros\"]}, \"y\": {\"set\": [\"Nombre_Empresa_clean\"]}, \"color\": {\"set\": [\"Nombre_Empresa_clean\"]}, \"label\": {\"set\": [\"total_pasajeros\"]}}, \"sort\": \"byValue\", \"legend\": null, \"title\": \"N\\u00famero de pasajeros por aerol\\u00ednea en 2000\"}, \"style\": {\"plot\": {\"marker\": {\"colorPalette\": \"#008080 #b5e48cff #99D986 #76c893ff #52b69aff #34a0a4ff #168aadff #1a759fff #1e6091ff #184e77ff\", \"label\": {\"maxFractionDigits\": \"0\"}}, \"paddingLeft\": \"18em\", \"xAxis\": {\"title\": {\"color\": \"#00000000\"}}}}} }, {\"duration\": 1.2, \"x\": {\"easing\": \"linear\", \"delay\": 0}, \"y\": {\"delay\": 0}, \"show\": {\"delay\": 0}, \"hide\": {\"delay\": 0}, \"title\": {\"duration\": 0, \"delay\": 0}});"
     },
     "metadata": {},
     "output_type": "display_data"
    },
    {
     "data": {
      "application/javascript": "window.ipyvizzu.animate(element, '259d681', 'fb6db67', 'begin', false, lib => { return {\"data\": {\"filter\": record => { return (record['año'] == 2001) }}, \"config\": {\"channels\": {\"x\": {\"set\": [\"total_pasajeros\"]}, \"y\": {\"set\": [\"Nombre_Empresa_clean\"]}, \"color\": {\"set\": [\"Nombre_Empresa_clean\"]}, \"label\": {\"set\": [\"total_pasajeros\"]}}, \"sort\": \"byValue\", \"legend\": null, \"title\": \"N\\u00famero de pasajeros por aerol\\u00ednea en 2001\"}, \"style\": {\"plot\": {\"marker\": {\"colorPalette\": \"#008080 #b5e48cff #99D986 #76c893ff #52b69aff #34a0a4ff #168aadff #1a759fff #1e6091ff #184e77ff\", \"label\": {\"maxFractionDigits\": \"0\"}}, \"paddingLeft\": \"18em\", \"xAxis\": {\"title\": {\"color\": \"#00000000\"}}}}} }, {\"duration\": 1.2, \"x\": {\"easing\": \"linear\", \"delay\": 0}, \"y\": {\"delay\": 0}, \"show\": {\"delay\": 0}, \"hide\": {\"delay\": 0}, \"title\": {\"duration\": 0, \"delay\": 0}});"
     },
     "metadata": {},
     "output_type": "display_data"
    },
    {
     "data": {
      "application/javascript": "window.ipyvizzu.animate(element, '259d681', '309ec43', 'begin', false, lib => { return {\"data\": {\"filter\": record => { return (record['año'] == 2002) }}, \"config\": {\"channels\": {\"x\": {\"set\": [\"total_pasajeros\"]}, \"y\": {\"set\": [\"Nombre_Empresa_clean\"]}, \"color\": {\"set\": [\"Nombre_Empresa_clean\"]}, \"label\": {\"set\": [\"total_pasajeros\"]}}, \"sort\": \"byValue\", \"legend\": null, \"title\": \"N\\u00famero de pasajeros por aerol\\u00ednea en 2002\"}, \"style\": {\"plot\": {\"marker\": {\"colorPalette\": \"#008080 #b5e48cff #99D986 #76c893ff #52b69aff #34a0a4ff #168aadff #1a759fff #1e6091ff #184e77ff\", \"label\": {\"maxFractionDigits\": \"0\"}}, \"paddingLeft\": \"18em\", \"xAxis\": {\"title\": {\"color\": \"#00000000\"}}}}} }, {\"duration\": 1.2, \"x\": {\"easing\": \"linear\", \"delay\": 0}, \"y\": {\"delay\": 0}, \"show\": {\"delay\": 0}, \"hide\": {\"delay\": 0}, \"title\": {\"duration\": 0, \"delay\": 0}});"
     },
     "metadata": {},
     "output_type": "display_data"
    },
    {
     "data": {
      "application/javascript": "window.ipyvizzu.animate(element, '259d681', '93772ad', 'begin', false, lib => { return {\"data\": {\"filter\": record => { return (record['año'] == 2003) }}, \"config\": {\"channels\": {\"x\": {\"set\": [\"total_pasajeros\"]}, \"y\": {\"set\": [\"Nombre_Empresa_clean\"]}, \"color\": {\"set\": [\"Nombre_Empresa_clean\"]}, \"label\": {\"set\": [\"total_pasajeros\"]}}, \"sort\": \"byValue\", \"legend\": null, \"title\": \"N\\u00famero de pasajeros por aerol\\u00ednea en 2003\"}, \"style\": {\"plot\": {\"marker\": {\"colorPalette\": \"#008080 #b5e48cff #99D986 #76c893ff #52b69aff #34a0a4ff #168aadff #1a759fff #1e6091ff #184e77ff\", \"label\": {\"maxFractionDigits\": \"0\"}}, \"paddingLeft\": \"18em\", \"xAxis\": {\"title\": {\"color\": \"#00000000\"}}}}} }, {\"duration\": 1.2, \"x\": {\"easing\": \"linear\", \"delay\": 0}, \"y\": {\"delay\": 0}, \"show\": {\"delay\": 0}, \"hide\": {\"delay\": 0}, \"title\": {\"duration\": 0, \"delay\": 0}});"
     },
     "metadata": {},
     "output_type": "display_data"
    },
    {
     "data": {
      "application/javascript": "window.ipyvizzu.animate(element, '259d681', '01553a9', 'begin', false, lib => { return {\"data\": {\"filter\": record => { return (record['año'] == 2004) }}, \"config\": {\"channels\": {\"x\": {\"set\": [\"total_pasajeros\"]}, \"y\": {\"set\": [\"Nombre_Empresa_clean\"]}, \"color\": {\"set\": [\"Nombre_Empresa_clean\"]}, \"label\": {\"set\": [\"total_pasajeros\"]}}, \"sort\": \"byValue\", \"legend\": null, \"title\": \"N\\u00famero de pasajeros por aerol\\u00ednea en 2004\"}, \"style\": {\"plot\": {\"marker\": {\"colorPalette\": \"#008080 #b5e48cff #99D986 #76c893ff #52b69aff #34a0a4ff #168aadff #1a759fff #1e6091ff #184e77ff\", \"label\": {\"maxFractionDigits\": \"0\"}}, \"paddingLeft\": \"18em\", \"xAxis\": {\"title\": {\"color\": \"#00000000\"}}}}} }, {\"duration\": 1.2, \"x\": {\"easing\": \"linear\", \"delay\": 0}, \"y\": {\"delay\": 0}, \"show\": {\"delay\": 0}, \"hide\": {\"delay\": 0}, \"title\": {\"duration\": 0, \"delay\": 0}});"
     },
     "metadata": {},
     "output_type": "display_data"
    },
    {
     "data": {
      "application/javascript": "window.ipyvizzu.animate(element, '259d681', '165baaa', 'begin', false, lib => { return {\"data\": {\"filter\": record => { return (record['año'] == 2005) }}, \"config\": {\"channels\": {\"x\": {\"set\": [\"total_pasajeros\"]}, \"y\": {\"set\": [\"Nombre_Empresa_clean\"]}, \"color\": {\"set\": [\"Nombre_Empresa_clean\"]}, \"label\": {\"set\": [\"total_pasajeros\"]}}, \"sort\": \"byValue\", \"legend\": null, \"title\": \"N\\u00famero de pasajeros por aerol\\u00ednea en 2005\"}, \"style\": {\"plot\": {\"marker\": {\"colorPalette\": \"#008080 #b5e48cff #99D986 #76c893ff #52b69aff #34a0a4ff #168aadff #1a759fff #1e6091ff #184e77ff\", \"label\": {\"maxFractionDigits\": \"0\"}}, \"paddingLeft\": \"18em\", \"xAxis\": {\"title\": {\"color\": \"#00000000\"}}}}} }, {\"duration\": 1.2, \"x\": {\"easing\": \"linear\", \"delay\": 0}, \"y\": {\"delay\": 0}, \"show\": {\"delay\": 0}, \"hide\": {\"delay\": 0}, \"title\": {\"duration\": 0, \"delay\": 0}});"
     },
     "metadata": {},
     "output_type": "display_data"
    },
    {
     "data": {
      "application/javascript": "window.ipyvizzu.animate(element, '259d681', '36890c1', 'begin', false, lib => { return {\"data\": {\"filter\": record => { return (record['año'] == 2006) }}, \"config\": {\"channels\": {\"x\": {\"set\": [\"total_pasajeros\"]}, \"y\": {\"set\": [\"Nombre_Empresa_clean\"]}, \"color\": {\"set\": [\"Nombre_Empresa_clean\"]}, \"label\": {\"set\": [\"total_pasajeros\"]}}, \"sort\": \"byValue\", \"legend\": null, \"title\": \"N\\u00famero de pasajeros por aerol\\u00ednea en 2006\"}, \"style\": {\"plot\": {\"marker\": {\"colorPalette\": \"#008080 #b5e48cff #99D986 #76c893ff #52b69aff #34a0a4ff #168aadff #1a759fff #1e6091ff #184e77ff\", \"label\": {\"maxFractionDigits\": \"0\"}}, \"paddingLeft\": \"18em\", \"xAxis\": {\"title\": {\"color\": \"#00000000\"}}}}} }, {\"duration\": 1.2, \"x\": {\"easing\": \"linear\", \"delay\": 0}, \"y\": {\"delay\": 0}, \"show\": {\"delay\": 0}, \"hide\": {\"delay\": 0}, \"title\": {\"duration\": 0, \"delay\": 0}});"
     },
     "metadata": {},
     "output_type": "display_data"
    },
    {
     "data": {
      "application/javascript": "window.ipyvizzu.animate(element, '259d681', '8449093', 'begin', false, lib => { return {\"data\": {\"filter\": record => { return (record['año'] == 2007) }}, \"config\": {\"channels\": {\"x\": {\"set\": [\"total_pasajeros\"]}, \"y\": {\"set\": [\"Nombre_Empresa_clean\"]}, \"color\": {\"set\": [\"Nombre_Empresa_clean\"]}, \"label\": {\"set\": [\"total_pasajeros\"]}}, \"sort\": \"byValue\", \"legend\": null, \"title\": \"N\\u00famero de pasajeros por aerol\\u00ednea en 2007\"}, \"style\": {\"plot\": {\"marker\": {\"colorPalette\": \"#008080 #b5e48cff #99D986 #76c893ff #52b69aff #34a0a4ff #168aadff #1a759fff #1e6091ff #184e77ff\", \"label\": {\"maxFractionDigits\": \"0\"}}, \"paddingLeft\": \"18em\", \"xAxis\": {\"title\": {\"color\": \"#00000000\"}}}}} }, {\"duration\": 1.2, \"x\": {\"easing\": \"linear\", \"delay\": 0}, \"y\": {\"delay\": 0}, \"show\": {\"delay\": 0}, \"hide\": {\"delay\": 0}, \"title\": {\"duration\": 0, \"delay\": 0}});"
     },
     "metadata": {},
     "output_type": "display_data"
    },
    {
     "data": {
      "application/javascript": "window.ipyvizzu.animate(element, '259d681', '2b1ed32', 'begin', false, lib => { return {\"data\": {\"filter\": record => { return (record['año'] == 2008) }}, \"config\": {\"channels\": {\"x\": {\"set\": [\"total_pasajeros\"]}, \"y\": {\"set\": [\"Nombre_Empresa_clean\"]}, \"color\": {\"set\": [\"Nombre_Empresa_clean\"]}, \"label\": {\"set\": [\"total_pasajeros\"]}}, \"sort\": \"byValue\", \"legend\": null, \"title\": \"N\\u00famero de pasajeros por aerol\\u00ednea en 2008\"}, \"style\": {\"plot\": {\"marker\": {\"colorPalette\": \"#008080 #b5e48cff #99D986 #76c893ff #52b69aff #34a0a4ff #168aadff #1a759fff #1e6091ff #184e77ff\", \"label\": {\"maxFractionDigits\": \"0\"}}, \"paddingLeft\": \"18em\", \"xAxis\": {\"title\": {\"color\": \"#00000000\"}}}}} }, {\"duration\": 1.2, \"x\": {\"easing\": \"linear\", \"delay\": 0}, \"y\": {\"delay\": 0}, \"show\": {\"delay\": 0}, \"hide\": {\"delay\": 0}, \"title\": {\"duration\": 0, \"delay\": 0}});"
     },
     "metadata": {},
     "output_type": "display_data"
    },
    {
     "data": {
      "application/javascript": "window.ipyvizzu.animate(element, '259d681', '700b252', 'begin', false, lib => { return {\"data\": {\"filter\": record => { return (record['año'] == 2009) }}, \"config\": {\"channels\": {\"x\": {\"set\": [\"total_pasajeros\"]}, \"y\": {\"set\": [\"Nombre_Empresa_clean\"]}, \"color\": {\"set\": [\"Nombre_Empresa_clean\"]}, \"label\": {\"set\": [\"total_pasajeros\"]}}, \"sort\": \"byValue\", \"legend\": null, \"title\": \"N\\u00famero de pasajeros por aerol\\u00ednea en 2009\"}, \"style\": {\"plot\": {\"marker\": {\"colorPalette\": \"#008080 #b5e48cff #99D986 #76c893ff #52b69aff #34a0a4ff #168aadff #1a759fff #1e6091ff #184e77ff\", \"label\": {\"maxFractionDigits\": \"0\"}}, \"paddingLeft\": \"18em\", \"xAxis\": {\"title\": {\"color\": \"#00000000\"}}}}} }, {\"duration\": 1.2, \"x\": {\"easing\": \"linear\", \"delay\": 0}, \"y\": {\"delay\": 0}, \"show\": {\"delay\": 0}, \"hide\": {\"delay\": 0}, \"title\": {\"duration\": 0, \"delay\": 0}});"
     },
     "metadata": {},
     "output_type": "display_data"
    },
    {
     "data": {
      "application/javascript": "window.ipyvizzu.animate(element, '259d681', '9948c0a', 'begin', false, lib => { return {\"data\": {\"filter\": record => { return (record['año'] == 2010) }}, \"config\": {\"channels\": {\"x\": {\"set\": [\"total_pasajeros\"]}, \"y\": {\"set\": [\"Nombre_Empresa_clean\"]}, \"color\": {\"set\": [\"Nombre_Empresa_clean\"]}, \"label\": {\"set\": [\"total_pasajeros\"]}}, \"sort\": \"byValue\", \"legend\": null, \"title\": \"N\\u00famero de pasajeros por aerol\\u00ednea en 2010\"}, \"style\": {\"plot\": {\"marker\": {\"colorPalette\": \"#008080 #b5e48cff #99D986 #76c893ff #52b69aff #34a0a4ff #168aadff #1a759fff #1e6091ff #184e77ff\", \"label\": {\"maxFractionDigits\": \"0\"}}, \"paddingLeft\": \"18em\", \"xAxis\": {\"title\": {\"color\": \"#00000000\"}}}}} }, {\"duration\": 1.2, \"x\": {\"easing\": \"linear\", \"delay\": 0}, \"y\": {\"delay\": 0}, \"show\": {\"delay\": 0}, \"hide\": {\"delay\": 0}, \"title\": {\"duration\": 0, \"delay\": 0}});"
     },
     "metadata": {},
     "output_type": "display_data"
    },
    {
     "data": {
      "application/javascript": "window.ipyvizzu.animate(element, '259d681', 'b2f5b5a', 'begin', false, lib => { return {\"data\": {\"filter\": record => { return (record['año'] == 2011) }}, \"config\": {\"channels\": {\"x\": {\"set\": [\"total_pasajeros\"]}, \"y\": {\"set\": [\"Nombre_Empresa_clean\"]}, \"color\": {\"set\": [\"Nombre_Empresa_clean\"]}, \"label\": {\"set\": [\"total_pasajeros\"]}}, \"sort\": \"byValue\", \"legend\": null, \"title\": \"N\\u00famero de pasajeros por aerol\\u00ednea en 2011\"}, \"style\": {\"plot\": {\"marker\": {\"colorPalette\": \"#008080 #b5e48cff #99D986 #76c893ff #52b69aff #34a0a4ff #168aadff #1a759fff #1e6091ff #184e77ff\", \"label\": {\"maxFractionDigits\": \"0\"}}, \"paddingLeft\": \"18em\", \"xAxis\": {\"title\": {\"color\": \"#00000000\"}}}}} }, {\"duration\": 1.2, \"x\": {\"easing\": \"linear\", \"delay\": 0}, \"y\": {\"delay\": 0}, \"show\": {\"delay\": 0}, \"hide\": {\"delay\": 0}, \"title\": {\"duration\": 0, \"delay\": 0}});"
     },
     "metadata": {},
     "output_type": "display_data"
    },
    {
     "data": {
      "application/javascript": "window.ipyvizzu.animate(element, '259d681', 'a27e346', 'begin', false, lib => { return {\"data\": {\"filter\": record => { return (record['año'] == 2012) }}, \"config\": {\"channels\": {\"x\": {\"set\": [\"total_pasajeros\"]}, \"y\": {\"set\": [\"Nombre_Empresa_clean\"]}, \"color\": {\"set\": [\"Nombre_Empresa_clean\"]}, \"label\": {\"set\": [\"total_pasajeros\"]}}, \"sort\": \"byValue\", \"legend\": null, \"title\": \"N\\u00famero de pasajeros por aerol\\u00ednea en 2012\"}, \"style\": {\"plot\": {\"marker\": {\"colorPalette\": \"#008080 #b5e48cff #99D986 #76c893ff #52b69aff #34a0a4ff #168aadff #1a759fff #1e6091ff #184e77ff\", \"label\": {\"maxFractionDigits\": \"0\"}}, \"paddingLeft\": \"18em\", \"xAxis\": {\"title\": {\"color\": \"#00000000\"}}}}} }, {\"duration\": 1.2, \"x\": {\"easing\": \"linear\", \"delay\": 0}, \"y\": {\"delay\": 0}, \"show\": {\"delay\": 0}, \"hide\": {\"delay\": 0}, \"title\": {\"duration\": 0, \"delay\": 0}});"
     },
     "metadata": {},
     "output_type": "display_data"
    },
    {
     "data": {
      "application/javascript": "window.ipyvizzu.animate(element, '259d681', '16f22f1', 'begin', false, lib => { return {\"data\": {\"filter\": record => { return (record['año'] == 2013) }}, \"config\": {\"channels\": {\"x\": {\"set\": [\"total_pasajeros\"]}, \"y\": {\"set\": [\"Nombre_Empresa_clean\"]}, \"color\": {\"set\": [\"Nombre_Empresa_clean\"]}, \"label\": {\"set\": [\"total_pasajeros\"]}}, \"sort\": \"byValue\", \"legend\": null, \"title\": \"N\\u00famero de pasajeros por aerol\\u00ednea en 2013\"}, \"style\": {\"plot\": {\"marker\": {\"colorPalette\": \"#008080 #b5e48cff #99D986 #76c893ff #52b69aff #34a0a4ff #168aadff #1a759fff #1e6091ff #184e77ff\", \"label\": {\"maxFractionDigits\": \"0\"}}, \"paddingLeft\": \"18em\", \"xAxis\": {\"title\": {\"color\": \"#00000000\"}}}}} }, {\"duration\": 1.2, \"x\": {\"easing\": \"linear\", \"delay\": 0}, \"y\": {\"delay\": 0}, \"show\": {\"delay\": 0}, \"hide\": {\"delay\": 0}, \"title\": {\"duration\": 0, \"delay\": 0}});"
     },
     "metadata": {},
     "output_type": "display_data"
    },
    {
     "data": {
      "application/javascript": "window.ipyvizzu.animate(element, '259d681', '0259595', 'begin', false, lib => { return {\"data\": {\"filter\": record => { return (record['año'] == 2014) }}, \"config\": {\"channels\": {\"x\": {\"set\": [\"total_pasajeros\"]}, \"y\": {\"set\": [\"Nombre_Empresa_clean\"]}, \"color\": {\"set\": [\"Nombre_Empresa_clean\"]}, \"label\": {\"set\": [\"total_pasajeros\"]}}, \"sort\": \"byValue\", \"legend\": null, \"title\": \"N\\u00famero de pasajeros por aerol\\u00ednea en 2014\"}, \"style\": {\"plot\": {\"marker\": {\"colorPalette\": \"#008080 #b5e48cff #99D986 #76c893ff #52b69aff #34a0a4ff #168aadff #1a759fff #1e6091ff #184e77ff\", \"label\": {\"maxFractionDigits\": \"0\"}}, \"paddingLeft\": \"18em\", \"xAxis\": {\"title\": {\"color\": \"#00000000\"}}}}} }, {\"duration\": 1.2, \"x\": {\"easing\": \"linear\", \"delay\": 0}, \"y\": {\"delay\": 0}, \"show\": {\"delay\": 0}, \"hide\": {\"delay\": 0}, \"title\": {\"duration\": 0, \"delay\": 0}});"
     },
     "metadata": {},
     "output_type": "display_data"
    },
    {
     "data": {
      "application/javascript": "window.ipyvizzu.animate(element, '259d681', '6e6cedd', 'begin', false, lib => { return {\"data\": {\"filter\": record => { return (record['año'] == 2015) }}, \"config\": {\"channels\": {\"x\": {\"set\": [\"total_pasajeros\"]}, \"y\": {\"set\": [\"Nombre_Empresa_clean\"]}, \"color\": {\"set\": [\"Nombre_Empresa_clean\"]}, \"label\": {\"set\": [\"total_pasajeros\"]}}, \"sort\": \"byValue\", \"legend\": null, \"title\": \"N\\u00famero de pasajeros por aerol\\u00ednea en 2015\"}, \"style\": {\"plot\": {\"marker\": {\"colorPalette\": \"#008080 #b5e48cff #99D986 #76c893ff #52b69aff #34a0a4ff #168aadff #1a759fff #1e6091ff #184e77ff\", \"label\": {\"maxFractionDigits\": \"0\"}}, \"paddingLeft\": \"18em\", \"xAxis\": {\"title\": {\"color\": \"#00000000\"}}}}} }, {\"duration\": 1.2, \"x\": {\"easing\": \"linear\", \"delay\": 0}, \"y\": {\"delay\": 0}, \"show\": {\"delay\": 0}, \"hide\": {\"delay\": 0}, \"title\": {\"duration\": 0, \"delay\": 0}});"
     },
     "metadata": {},
     "output_type": "display_data"
    },
    {
     "data": {
      "application/javascript": "window.ipyvizzu.animate(element, '259d681', '44fdbeb', 'begin', false, lib => { return {\"data\": {\"filter\": record => { return (record['año'] == 2016) }}, \"config\": {\"channels\": {\"x\": {\"set\": [\"total_pasajeros\"]}, \"y\": {\"set\": [\"Nombre_Empresa_clean\"]}, \"color\": {\"set\": [\"Nombre_Empresa_clean\"]}, \"label\": {\"set\": [\"total_pasajeros\"]}}, \"sort\": \"byValue\", \"legend\": null, \"title\": \"N\\u00famero de pasajeros por aerol\\u00ednea en 2016\"}, \"style\": {\"plot\": {\"marker\": {\"colorPalette\": \"#008080 #b5e48cff #99D986 #76c893ff #52b69aff #34a0a4ff #168aadff #1a759fff #1e6091ff #184e77ff\", \"label\": {\"maxFractionDigits\": \"0\"}}, \"paddingLeft\": \"18em\", \"xAxis\": {\"title\": {\"color\": \"#00000000\"}}}}} }, {\"duration\": 1.2, \"x\": {\"easing\": \"linear\", \"delay\": 0}, \"y\": {\"delay\": 0}, \"show\": {\"delay\": 0}, \"hide\": {\"delay\": 0}, \"title\": {\"duration\": 0, \"delay\": 0}});"
     },
     "metadata": {},
     "output_type": "display_data"
    },
    {
     "data": {
      "application/javascript": "window.ipyvizzu.animate(element, '259d681', 'c15f30d', 'begin', false, lib => { return {\"data\": {\"filter\": record => { return (record['año'] == 2017) }}, \"config\": {\"channels\": {\"x\": {\"set\": [\"total_pasajeros\"]}, \"y\": {\"set\": [\"Nombre_Empresa_clean\"]}, \"color\": {\"set\": [\"Nombre_Empresa_clean\"]}, \"label\": {\"set\": [\"total_pasajeros\"]}}, \"sort\": \"byValue\", \"legend\": null, \"title\": \"N\\u00famero de pasajeros por aerol\\u00ednea en 2017\"}, \"style\": {\"plot\": {\"marker\": {\"colorPalette\": \"#008080 #b5e48cff #99D986 #76c893ff #52b69aff #34a0a4ff #168aadff #1a759fff #1e6091ff #184e77ff\", \"label\": {\"maxFractionDigits\": \"0\"}}, \"paddingLeft\": \"18em\", \"xAxis\": {\"title\": {\"color\": \"#00000000\"}}}}} }, {\"duration\": 1.2, \"x\": {\"easing\": \"linear\", \"delay\": 0}, \"y\": {\"delay\": 0}, \"show\": {\"delay\": 0}, \"hide\": {\"delay\": 0}, \"title\": {\"duration\": 0, \"delay\": 0}});"
     },
     "metadata": {},
     "output_type": "display_data"
    },
    {
     "data": {
      "application/javascript": "window.ipyvizzu.animate(element, '259d681', '9e85289', 'begin', false, lib => { return {\"data\": {\"filter\": record => { return (record['año'] == 2018) }}, \"config\": {\"channels\": {\"x\": {\"set\": [\"total_pasajeros\"]}, \"y\": {\"set\": [\"Nombre_Empresa_clean\"]}, \"color\": {\"set\": [\"Nombre_Empresa_clean\"]}, \"label\": {\"set\": [\"total_pasajeros\"]}}, \"sort\": \"byValue\", \"legend\": null, \"title\": \"N\\u00famero de pasajeros por aerol\\u00ednea en 2018\"}, \"style\": {\"plot\": {\"marker\": {\"colorPalette\": \"#008080 #b5e48cff #99D986 #76c893ff #52b69aff #34a0a4ff #168aadff #1a759fff #1e6091ff #184e77ff\", \"label\": {\"maxFractionDigits\": \"0\"}}, \"paddingLeft\": \"18em\", \"xAxis\": {\"title\": {\"color\": \"#00000000\"}}}}} }, {\"duration\": 1.2, \"x\": {\"easing\": \"linear\", \"delay\": 0}, \"y\": {\"delay\": 0}, \"show\": {\"delay\": 0}, \"hide\": {\"delay\": 0}, \"title\": {\"duration\": 0, \"delay\": 0}});"
     },
     "metadata": {},
     "output_type": "display_data"
    },
    {
     "data": {
      "application/javascript": "window.ipyvizzu.animate(element, '259d681', '90d7451', 'begin', false, lib => { return {\"data\": {\"filter\": record => { return (record['año'] == 2019) }}, \"config\": {\"channels\": {\"x\": {\"set\": [\"total_pasajeros\"]}, \"y\": {\"set\": [\"Nombre_Empresa_clean\"]}, \"color\": {\"set\": [\"Nombre_Empresa_clean\"]}, \"label\": {\"set\": [\"total_pasajeros\"]}}, \"sort\": \"byValue\", \"legend\": null, \"title\": \"N\\u00famero de pasajeros por aerol\\u00ednea en 2019\"}, \"style\": {\"plot\": {\"marker\": {\"colorPalette\": \"#008080 #b5e48cff #99D986 #76c893ff #52b69aff #34a0a4ff #168aadff #1a759fff #1e6091ff #184e77ff\", \"label\": {\"maxFractionDigits\": \"0\"}}, \"paddingLeft\": \"18em\", \"xAxis\": {\"title\": {\"color\": \"#00000000\"}}}}} }, {\"duration\": 1.2, \"x\": {\"easing\": \"linear\", \"delay\": 0}, \"y\": {\"delay\": 0}, \"show\": {\"delay\": 0}, \"hide\": {\"delay\": 0}, \"title\": {\"duration\": 0, \"delay\": 0}});"
     },
     "metadata": {},
     "output_type": "display_data"
    },
    {
     "data": {
      "application/javascript": "window.ipyvizzu.animate(element, '259d681', '3da9e53', 'begin', false, lib => { return {\"data\": {\"filter\": record => { return (record['año'] == 2020) }}, \"config\": {\"channels\": {\"x\": {\"set\": [\"total_pasajeros\"]}, \"y\": {\"set\": [\"Nombre_Empresa_clean\"]}, \"color\": {\"set\": [\"Nombre_Empresa_clean\"]}, \"label\": {\"set\": [\"total_pasajeros\"]}}, \"sort\": \"byValue\", \"legend\": null, \"title\": \"N\\u00famero de pasajeros por aerol\\u00ednea en 2020\"}, \"style\": {\"plot\": {\"marker\": {\"colorPalette\": \"#008080 #b5e48cff #99D986 #76c893ff #52b69aff #34a0a4ff #168aadff #1a759fff #1e6091ff #184e77ff\", \"label\": {\"maxFractionDigits\": \"0\"}}, \"paddingLeft\": \"18em\", \"xAxis\": {\"title\": {\"color\": \"#00000000\"}}}}} }, {\"duration\": 1.2, \"x\": {\"easing\": \"linear\", \"delay\": 0}, \"y\": {\"delay\": 0}, \"show\": {\"delay\": 0}, \"hide\": {\"delay\": 0}, \"title\": {\"duration\": 0, \"delay\": 0}});"
     },
     "metadata": {},
     "output_type": "display_data"
    },
    {
     "data": {
      "application/javascript": "window.ipyvizzu.animate(element, '259d681', '7e36d28', 'begin', false, lib => { return {\"data\": {\"filter\": record => { return (record['año'] == 2021) }}, \"config\": {\"channels\": {\"x\": {\"set\": [\"total_pasajeros\"]}, \"y\": {\"set\": [\"Nombre_Empresa_clean\"]}, \"color\": {\"set\": [\"Nombre_Empresa_clean\"]}, \"label\": {\"set\": [\"total_pasajeros\"]}}, \"sort\": \"byValue\", \"legend\": null, \"title\": \"N\\u00famero de pasajeros por aerol\\u00ednea en 2021\"}, \"style\": {\"plot\": {\"marker\": {\"colorPalette\": \"#008080 #b5e48cff #99D986 #76c893ff #52b69aff #34a0a4ff #168aadff #1a759fff #1e6091ff #184e77ff\", \"label\": {\"maxFractionDigits\": \"0\"}}, \"paddingLeft\": \"18em\", \"xAxis\": {\"title\": {\"color\": \"#00000000\"}}}}} }, {\"duration\": 1.2, \"x\": {\"easing\": \"linear\", \"delay\": 0}, \"y\": {\"delay\": 0}, \"show\": {\"delay\": 0}, \"hide\": {\"delay\": 0}, \"title\": {\"duration\": 0, \"delay\": 0}});"
     },
     "metadata": {},
     "output_type": "display_data"
    },
    {
     "data": {
      "application/javascript": "window.ipyvizzu.animate(element, '259d681', '2d7485c', 'begin', false, lib => { return {\"data\": {\"filter\": record => { return (record['año'] == 2022) }}, \"config\": {\"channels\": {\"x\": {\"set\": [\"total_pasajeros\"]}, \"y\": {\"set\": [\"Nombre_Empresa_clean\"]}, \"color\": {\"set\": [\"Nombre_Empresa_clean\"]}, \"label\": {\"set\": [\"total_pasajeros\"]}}, \"sort\": \"byValue\", \"legend\": null, \"title\": \"N\\u00famero de pasajeros por aerol\\u00ednea en 2022\"}, \"style\": {\"plot\": {\"marker\": {\"colorPalette\": \"#008080 #b5e48cff #99D986 #76c893ff #52b69aff #34a0a4ff #168aadff #1a759fff #1e6091ff #184e77ff\", \"label\": {\"maxFractionDigits\": \"0\"}}, \"paddingLeft\": \"18em\", \"xAxis\": {\"title\": {\"color\": \"#00000000\"}}}}} }, {\"duration\": 1.2, \"x\": {\"easing\": \"linear\", \"delay\": 0}, \"y\": {\"delay\": 0}, \"show\": {\"delay\": 0}, \"hide\": {\"delay\": 0}, \"title\": {\"duration\": 0, \"delay\": 0}});"
     },
     "metadata": {},
     "output_type": "display_data"
    }
   ],
   "source": [
    "char_data = Data()\n",
    "char_data.add_data_frame(top_empresas_nacional) \n",
    "chart = Chart(display = \"begin\")\n",
    "chart.scroll_into_view = False\n",
    "\n",
    "\n",
    "chart.animate(char_data)\n",
    "config = {\n",
    "    \"channels\": {\n",
    "        \"x\": {\"set\": [\"total_pasajeros\"]},\n",
    "        \"y\": {\"set\": [\"Nombre_Empresa_clean\"]},\n",
    "        \"color\": {\"set\": [\"Nombre_Empresa_clean\"]},\n",
    "        \"label\": { \"set\": [\"total_pasajeros\"] }\n",
    "    },\n",
    "    \"sort\": 'byValue',\n",
    "    \"legend\": None,\n",
    "}\n",
    "\n",
    "style= Style({\"plot\": \n",
    "    {\"marker\": {\"colorPalette\": \"#008080 #b5e48cff #99D986 #76c893ff #52b69aff\"\n",
    "                + \" #34a0a4ff #168aadff #1a759fff #1e6091ff #184e77ff\",\n",
    "                \"label\": {\"maxFractionDigits\": \"0\"}}, #cutting off unnecessary digits when animating the labels\n",
    "      \"paddingLeft\":\"18em\", #add padding on the left side of the plot so that long country names are visible\n",
    "      \"xAxis\": { \"title\": { \"color\" : \"#00000000\" }} #hiding the axis title on the x-axis\n",
    "    }})\n",
    "\n",
    "\n",
    "for anho in range(1992, 2023):\n",
    "    config[\"title\"] = f\"Número de pasajeros por aerolínea en {anho}\"\n",
    "    chart.animate(\n",
    "        Data.filter(\"record['año'] == {}\".format(anho)), \n",
    "        Config(config),\n",
    "        style,\n",
    "        # Animation options:\n",
    "        duration = 1.2,        \n",
    "        x = { \"easing\": \"linear\", \"delay\": 0 },\n",
    "        y = { \"delay\": 0 },\n",
    "        show = { \"delay\": 0 },\n",
    "        hide = { \"delay\": 0 },\n",
    "        title = { \"duration\": 0, \"delay\": 0 })\n",
    " \n",
    "\n",
    "\n"
   ]
  },
  {
   "cell_type": "code",
   "execution_count": 37,
   "metadata": {},
   "outputs": [
    {
     "data": {
      "application/javascript": "if (window.IpyVizzu) { window.IpyVizzu.clearInhibitScroll(element); }"
     },
     "metadata": {},
     "output_type": "display_data"
    },
    {
     "data": {
      "application/javascript": "if (window.IpyVizzu) { window.IpyVizzu.clearInhibitScroll(element); }"
     },
     "metadata": {},
     "output_type": "display_data"
    },
    {
     "data": {
      "application/javascript": "if (window.IpyVizzu) { window.IpyVizzu.clearInhibitScroll(element); }"
     },
     "metadata": {},
     "output_type": "display_data"
    },
    {
     "data": {
      "application/javascript": "if (window.IpyVizzu) { window.IpyVizzu.clearInhibitScroll(element); }"
     },
     "metadata": {},
     "output_type": "display_data"
    },
    {
     "data": {
      "application/javascript": "if (window.IpyVizzu) { window.IpyVizzu.clearInhibitScroll(element); }"
     },
     "metadata": {},
     "output_type": "display_data"
    },
    {
     "data": {
      "application/javascript": "if (window.IpyVizzu) { window.IpyVizzu.clearInhibitScroll(element); }"
     },
     "metadata": {},
     "output_type": "display_data"
    },
    {
     "data": {
      "application/javascript": "if (window.IpyVizzu) { window.IpyVizzu.clearInhibitScroll(element); }"
     },
     "metadata": {},
     "output_type": "display_data"
    },
    {
     "ename": "AttributeError",
     "evalue": "'Chart' object has no attribute 'to_html5_video'",
     "output_type": "error",
     "traceback": [
      "\u001b[1;31m---------------------------------------------------------------------------\u001b[0m",
      "\u001b[1;31mAttributeError\u001b[0m                            Traceback (most recent call last)",
      "Cell \u001b[1;32mIn[37], line 1\u001b[0m\n\u001b[1;32m----> 1\u001b[0m chart\u001b[39m.\u001b[39;49mto_html5_video(filename\u001b[39m=\u001b[39m\u001b[39m'\u001b[39m\u001b[39mmy_animation.mp4\u001b[39m\u001b[39m'\u001b[39m, bitrate\u001b[39m=\u001b[39m\u001b[39m3000\u001b[39m)\n",
      "\u001b[1;31mAttributeError\u001b[0m: 'Chart' object has no attribute 'to_html5_video'"
     ]
    }
   ],
   "source": [
    "chart.to_html5_video(filename='my_animation.mp4', bitrate=3000)"
   ]
  },
  {
   "cell_type": "code",
   "execution_count": 29,
   "metadata": {},
   "outputs": [
    {
     "data": {
      "application/javascript": "if (window.IpyVizzu) { window.IpyVizzu.clearInhibitScroll(element); }"
     },
     "metadata": {},
     "output_type": "display_data"
    },
    {
     "data": {
      "application/javascript": "if (!window.IpyVizzu) {\n  class IpyVizzu {\n    constructor() {\n      IpyVizzu.inhibitScroll = false;\n      IpyVizzu.nbconvert = false;\n      document.addEventListener(\n        \"wheel\",\n        (evt) => {\n          IpyVizzu.inhibitScroll = true;\n        },\n        true\n      );\n      document.addEventListener(\n        \"keydown\",\n        (evt) => {\n          IpyVizzu.inhibitScroll = true;\n        },\n        true\n      );\n      document.addEventListener(\n        \"touchstart\",\n        (evt) => {\n          IpyVizzu.inhibitScroll = true;\n        },\n        true\n      );\n\n      this.elements = {};\n      this.charts = {};\n      this.controls = {};\n\n      this.storage = {};\n      this.displays = {};\n\n      this.events = {};\n      this.loaded = {};\n      this.libs = {};\n    }\n\n    static clearInhibitScroll(element) {\n      if (IpyVizzu.nbconvert) IpyVizzu._hide(element);\n      IpyVizzu.inhibitScroll = false;\n    }\n\n    createChart(element, chartId, vizzulib, divWidth, divHeight) {\n      this.elements[chartId] = document.createElement(\"div\");\n      this.elements[\n        chartId\n      ].style.cssText = `width: ${divWidth}; height: ${divHeight};`;\n      this.loaded[chartId] = import(vizzulib);\n      this.charts[chartId] = this.loaded[chartId].then((Vizzu) => {\n        this.libs[chartId] = Vizzu.default;\n        const VizzuConstructor = Vizzu.default;\n        return new VizzuConstructor(this.elements[chartId]).initializing;\n      });\n      this._moveHere(chartId, element);\n    }\n\n    animate(\n      element,\n      chartId,\n      animId,\n      displayTarget,\n      scrollEnabled,\n      getChartTarget,\n      chartAnimOpts\n    ) {\n      if (IpyVizzu.nbconvert) IpyVizzu._hide(element);\n      if (displayTarget === \"end\") this._moveHere(chartId, element);\n      this.controls[chartId] = this.charts[chartId];\n      this.charts[chartId] = this.charts[chartId].then((chart) => {\n        if (displayTarget === \"actual\") this._moveHere(chartId, element);\n        this._scroll(chartId, scrollEnabled);\n        let chartTarget = getChartTarget(this.libs[chartId]);\n        if (typeof chartTarget === \"string\") {\n          chartTarget = this.storage[chartTarget];\n        } else if (Array.isArray(chartTarget)) {\n          for (let i = 0; i < chartTarget.length; i++) {\n            const target = chartTarget[i].target;\n            if (typeof target === \"string\") {\n              chartTarget[i].target = this.storage[target];\n            }\n          }\n        }\n        chart = chart.animate(chartTarget, chartAnimOpts);\n        this.controls[animId] = chart;\n        return chart;\n      });\n    }\n\n    store(element, chartId, id) {\n      if (IpyVizzu.nbconvert) IpyVizzu._hide(element);\n      this.charts[chartId] = this.charts[chartId].then((chart) => {\n        this.storage[id] = chart.store();\n        return chart;\n      });\n    }\n\n    feature(element, chartId, name, enabled) {\n      if (IpyVizzu.nbconvert) IpyVizzu._hide(element);\n      this.charts[chartId] = this.charts[chartId].then((chart) => {\n        chart.feature(name, enabled);\n        return chart;\n      });\n    }\n\n    setEvent(element, chartId, id, event, handler) {\n      if (IpyVizzu.nbconvert) IpyVizzu._hide(element);\n      this.charts[chartId] = this.charts[chartId].then((chart) => {\n        this.events[id] = handler;\n        chart.on(event, this.events[id]);\n        return chart;\n      });\n    }\n\n    clearEvent(element, chartId, id, event) {\n      if (IpyVizzu.nbconvert) IpyVizzu._hide(element);\n      this.charts[chartId] = this.charts[chartId].then((chart) => {\n        chart.off(event, this.events[id]);\n        return chart;\n      });\n    }\n\n    log(element, chartId, chartProperty) {\n      if (IpyVizzu.nbconvert) IpyVizzu._hide(element);\n      this.charts[chartId] = this.charts[chartId].then((chart) => {\n        console.log(chart[chartProperty]);\n        return chart;\n      });\n    }\n\n    control(element, method, prevId, lastId, ...params) {\n      if (IpyVizzu.nbconvert) IpyVizzu._hide(element);\n      this.controls[prevId].then(() => {\n        this.controls[lastId].activated.then((control) => {\n          if (method === \"seek\") {\n            const value = params[0];\n            control[method](value);\n            return;\n          }\n          if (method === \"store\") {\n            const id = params[0];\n            this.storage[id] = control[method]();\n            return;\n          }\n          control[method]();\n        });\n      });\n    }\n\n    _moveHere(chartId, element) {\n      if (IpyVizzu.nbconvert)\n        IpyVizzu._display(this.elements[chartId], element);\n      element.append(this.elements[chartId]);\n    }\n\n    _scroll(chartId, enabled) {\n      if (!IpyVizzu.inhibitScroll && enabled) {\n        this.elements[chartId].scrollIntoView({\n          behavior: \"auto\",\n          block: \"center\",\n        });\n      }\n    }\n\n    static _hide(element) {\n      document.getElementById(\n        element.selector.substring(1)\n      ).parentNode.style.display = \"none\";\n    }\n\n    static _display(prevElement, element) {\n      if (prevElement.parentNode) {\n        prevElement.parentNode.style.display = \"none\";\n      }\n      document.getElementById(\n        element.selector.substring(1)\n      ).parentNode.style.display = \"flex\";\n      document.getElementById(\n        element.selector.substring(1)\n      ).parentNode.style.margin = \"auto\";\n    }\n  }\n\n  window.IpyVizzu = IpyVizzu;\n  window.ipyvizzu = new window.IpyVizzu();\n}\n"
     },
     "metadata": {},
     "output_type": "display_data"
    },
    {
     "data": {
      "application/javascript": "window.ipyvizzu.createChart(element, '16aa335', 'https://cdn.jsdelivr.net/npm/vizzu@0.7/dist/vizzu.min.js', '800px', '480px');"
     },
     "metadata": {},
     "output_type": "display_data"
    },
    {
     "data": {
      "application/javascript": "window.ipyvizzu.animate(element, '16aa335', '505bf89', 'begin', false, lib => { return {\"data\": {\"series\": [{\"name\": \"a\\u00f1o\", \"type\": \"measure\", \"values\": [1992.0, 1992.0, 1992.0, 1992.0, 1992.0, 1992.0, 1992.0, 1992.0, 1992.0, 1992.0, 1993.0, 1993.0, 1993.0, 1993.0, 1993.0, 1993.0, 1993.0, 1993.0, 1993.0, 1993.0, 1994.0, 1994.0, 1994.0, 1994.0, 1994.0, 1994.0, 1994.0, 1994.0, 1994.0, 1994.0, 1995.0, 1995.0, 1995.0, 1995.0, 1995.0, 1995.0, 1995.0, 1995.0, 1995.0, 1995.0, 1996.0, 1996.0, 1996.0, 1996.0, 1996.0, 1996.0, 1996.0, 1996.0, 1996.0, 1996.0, 1997.0, 1997.0, 1997.0, 1997.0, 1997.0, 1997.0, 1997.0, 1997.0, 1997.0, 1997.0, 1998.0, 1998.0, 1998.0, 1998.0, 1998.0, 1998.0, 1998.0, 1998.0, 1998.0, 1998.0, 1999.0, 1999.0, 1999.0, 1999.0, 1999.0, 1999.0, 1999.0, 1999.0, 1999.0, 1999.0, 2000.0, 2000.0, 2000.0, 2000.0, 2000.0, 2000.0, 2000.0, 2000.0, 2000.0, 2000.0, 2001.0, 2001.0, 2001.0, 2001.0, 2001.0, 2001.0, 2001.0, 2001.0, 2001.0, 2001.0, 2002.0, 2002.0, 2002.0, 2002.0, 2002.0, 2002.0, 2002.0, 2002.0, 2002.0, 2002.0, 2003.0, 2003.0, 2003.0, 2003.0, 2003.0, 2003.0, 2003.0, 2003.0, 2003.0, 2003.0, 2004.0, 2004.0, 2004.0, 2004.0, 2004.0, 2004.0, 2004.0, 2004.0, 2004.0, 2004.0, 2005.0, 2005.0, 2005.0, 2005.0, 2005.0, 2005.0, 2005.0, 2005.0, 2005.0, 2005.0, 2006.0, 2006.0, 2006.0, 2006.0, 2006.0, 2006.0, 2006.0, 2006.0, 2006.0, 2006.0, 2007.0, 2007.0, 2007.0, 2007.0, 2007.0, 2007.0, 2007.0, 2007.0, 2007.0, 2007.0, 2008.0, 2008.0, 2008.0, 2008.0, 2008.0, 2008.0, 2008.0, 2008.0, 2008.0, 2008.0, 2009.0, 2009.0, 2009.0, 2009.0, 2009.0, 2009.0, 2009.0, 2009.0, 2009.0, 2009.0, 2010.0, 2010.0, 2010.0, 2010.0, 2010.0, 2010.0, 2010.0, 2010.0, 2010.0, 2010.0, 2011.0, 2011.0, 2011.0, 2011.0, 2011.0, 2011.0, 2011.0, 2011.0, 2011.0, 2011.0, 2012.0, 2012.0, 2012.0, 2012.0, 2012.0, 2012.0, 2012.0, 2012.0, 2012.0, 2012.0, 2013.0, 2013.0, 2013.0, 2013.0, 2013.0, 2013.0, 2013.0, 2013.0, 2013.0, 2013.0, 2014.0, 2014.0, 2014.0, 2014.0, 2014.0, 2014.0, 2014.0, 2014.0, 2014.0, 2014.0, 2015.0, 2015.0, 2015.0, 2015.0, 2015.0, 2015.0, 2015.0, 2015.0, 2015.0, 2015.0, 2016.0, 2016.0, 2016.0, 2016.0, 2016.0, 2016.0, 2016.0, 2016.0, 2016.0, 2016.0, 2017.0, 2017.0, 2017.0, 2017.0, 2017.0, 2017.0, 2017.0, 2017.0, 2017.0, 2017.0, 2018.0, 2018.0, 2018.0, 2018.0, 2018.0, 2018.0, 2018.0, 2018.0, 2018.0, 2018.0, 2019.0, 2019.0, 2019.0, 2019.0, 2019.0, 2019.0, 2019.0, 2019.0, 2019.0, 2019.0, 2020.0, 2020.0, 2020.0, 2020.0, 2020.0, 2020.0, 2020.0, 2020.0, 2020.0, 2020.0, 2021.0, 2021.0, 2021.0, 2021.0, 2021.0, 2021.0, 2021.0, 2021.0, 2021.0, 2021.0, 2022.0, 2022.0, 2022.0, 2022.0, 2022.0, 2022.0, 2022.0, 2022.0, 2022.0, 2022.0]}, {\"name\": \"Nombre_Empresa_clean\", \"type\": \"dimension\", \"values\": [\"AMERICAN\", \"AEROTACA\", \"LATAM\", \"INTER\", \"SAM\", \"ACES\", \"AVIANCA\", \"HELICOL\", \"VERTICAL DE AVIACION\", \"SATENA\", \"AEROREPUBLICA\", \"HELICOL\", \"SATENA\", \"AMERICAN\", \"LATAM\", \"INTER\", \"AEROTACA\", \"AVIANCA\", \"SAM\", \"ACES\", \"AEROTACA\", \"ACES\", \"COPA\", \"SATENA\", \"AMERICAN\", \"LATAM\", \"AEROREPUBLICA\", \"INTER\", \"SAM\", \"AVIANCA\", \"ACES\", \"AVIANCA\", \"SATENA\", \"HELICOL\", \"AMERICAN\", \"COPA\", \"LATAM\", \"AEROREPUBLICA\", \"SAM\", \"INTER\", \"AEROREPUBLICA\", \"VERTICAL DE AVIACION\", \"HELICOL\", \"SATENA\", \"AMERICAN\", \"INTER\", \"SAM\", \"ACES\", \"LATAM\", \"AVIANCA\", \"ACES\", \"SAM\", \"LATAM\", \"AMERICAN\", \"SATENA\", \"COPA\", \"VERTICAL DE AVIACION\", \"AVIANCA\", \"INTER\", \"AEROREPUBLICA\", \"ACES\", \"AEROREPUBLICA\", \"LATAM\", \"INTER\", \"AMERICAN\", \"SATENA\", \"COPA\", \"VERTICAL DE AVIACION\", \"AVIANCA\", \"SAM\", \"AVIANCA\", \"SAM\", \"LATAM\", \"AMERICAN\", \"INTER\", \"SATENA\", \"COPA\", \"VERTICAL DE AVIACION\", \"AEROREPUBLICA\", \"ACES\", \"INTER\", \"SATENA\", \"CONTINENTAL\", \"AVIANCA\", \"ACES\", \"AEROREPUBLICA\", \"LATAM\", \"SAM\", \"AMERICAN\", \"COPA\", \"SAM\", \"AVIANCA\", \"ACES\", \"IBERIA\", \"COPA\", \"INTER\", \"AMERICAN\", \"SATENA\", \"AEROREPUBLICA\", \"LATAM\", \"AVIANCA\", \"LATAM\", \"SAM\", \"SATENA\", \"INTER\", \"AMERICAN\", \"COPA\", \"WEST CARIBBEAN\", \"AEROREPUBLICA\", \"ACES\", \"ACES\", \"LATAM\", \"AEROREPUBLICA\", \"SAM\", \"INTER\", \"WEST CARIBBEAN\", \"COPA\", \"AVIANCA\", \"SATENA\", \"AMERICAN\", \"WEST CARIBBEAN\", \"AVIANCA\", \"AEROREPUBLICA\", \"SAM\", \"LATAM\", \"SATENA\", \"AMERICAN\", \"COPA\", \"CONTINENTAL\", \"IBERIA\", \"IBERIA\", \"CONTINENTAL\", \"WEST CARIBBEAN\", \"COPA\", \"AMERICAN\", \"AEROREPUBLICA\", \"LATAM\", \"SAM\", \"AVIANCA\", \"SATENA\", \"AMERICAN\", \"ADA\", \"CONTINENTAL\", \"IBERIA\", \"COPA\", \"SATENA\", \"SAM\", \"AEROREPUBLICA\", \"AVIANCA\", \"LATAM\", \"ADA\", \"COPA\", \"AMERICAN\", \"LATAM\", \"SATENA\", \"SAM\", \"AEROREPUBLICA\", \"IBERIA\", \"AVIANCA\", \"CONTINENTAL\", \"COPA\", \"IBERIA\", \"LATAM\", \"AEROREPUBLICA\", \"SAM\", \"AVIANCA\", \"AMERICAN\", \"SATENA\", \"AIR FRANCE\", \"CONTINENTAL\", \"AEROREPUBLICA\", \"AVIANCA\", \"CONTINENTAL\", \"IBERIA\", \"EASYFLY S.A\", \"COPA\", \"SATENA\", \"LATAM\", \"AMERICAN\", \"SAM\", \"SPIRIT AIRLINES\", \"IBERIA\", \"EASYFLY S.A\", \"COPA\", \"AMERICAN\", \"SAM\", \"AEROREPUBLICA\", \"LATAM\", \"SATENA\", \"AVIANCA\", \"LATAM\", \"AEROREPUBLICA\", \"SATENA\", \"AVIANCA\", \"EASYFLY S.A\", \"AMERICAN\", \"IBERIA\", \"AEROGAL\", \"SPIRIT AIRLINES\", \"ADA\", \"SPIRIT AIRLINES\", \"AVIANCA\", \"AMERICAN\", \"VIVA AIR\", \"EASYFLY S.A\", \"SATENA\", \"AEROREPUBLICA\", \"LATAM\", \"AEROGAL\", \"IBERIA\", \"SATENA\", \"TRANS AMERICAN AIR LINES\", \"JETBLUE AIRWAYS\", \"AVIANCA\", \"AEROREPUBLICA\", \"LATAM\", \"EASYFLY S.A\", \"AEROGAL\", \"AMERICAN\", \"VIVA AIR\", \"AVIANCA\", \"LATAM\", \"VIVA AIR\", \"SATENA\", \"EASYFLY S.A\", \"AEROGAL\", \"AMERICAN\", \"TRANS AMERICAN AIR LINES\", \"JETBLUE AIRWAYS\", \"AEROREPUBLICA\", \"AVIANCA\", \"LATAM\", \"JETBLUE AIRWAYS\", \"AMERICAN\", \"AEROGAL\", \"EASYFLY S.A\", \"SATENA\", \"AEROREPUBLICA\", \"VIVA AIR\", \"TRANS AMERICAN AIR LINES\", \"JETBLUE AIRWAYS\", \"VIVA AIR\", \"TRANS AMERICAN AIR LINES\", \"AMERICAN\", \"AEROGAL\", \"EASYFLY S.A\", \"SATENA\", \"AEROREPUBLICA\", \"LATAM\", \"AVIANCA\", \"AEROREPUBLICA\", \"SATENA\", \"EASYFLY S.A\", \"AEROGAL\", \"JETBLUE AIRWAYS\", \"TRANS AMERICAN AIR LINES\", \"VIVA AIR\", \"AVIANCA\", \"AMERICAN\", \"LATAM\", \"AMERICAN\", \"LATAM\", \"VIVA AIR\", \"AEROREPUBLICA\", \"EASYFLY S.A\", \"SATENA\", \"AEROGAL\", \"AVIANCA\", \"JETBLUE AIRWAYS\", \"AEROMEXICO\", \"VIVA AIR\", \"REGIONAL EXPRESS AMERICAS\", \"SPIRIT AIRLINES\", \"AMERICAN\", \"AEROGAL\", \"SATENA\", \"EASYFLY S.A\", \"AEROREPUBLICA\", \"LATAM\", \"AVIANCA\", \"AEROGAL\", \"VIVA AIR\", \"EASYFLY S.A\", \"AEROREPUBLICA\", \"SATENA\", \"AMERICAN\", \"SPIRIT AIRLINES\", \"COPA\", \"AVIANCA\", \"LATAM\", \"AVIANCA\", \"AEROREPUBLICA\", \"EASYFLY S.A\", \"AMERICAN\", \"COPA\", \"SATENA\", \"SPIRIT AIRLINES\", \"JETBLUE AIRWAYS\", \"VIVA AIR\", \"LATAM\", \"AVIANCA\", \"SPIRIT AIRLINES\", \"AMERICAN\", \"LATAM\", \"EASYFLY S.A\", \"COPA\", \"AEROREPUBLICA\", \"VIVA AIR\", \"SATENA\", \"ULTRA AIR S.A.S.\"]}, {\"name\": \"total_pasajeros\", \"type\": \"measure\", \"values\": [303477.0, 106557.0, 317446.0, 558157.0, 1124085.0, 1207792.0, 3181830.0, 248120.0, 91862.0, 245274.0, 124761.0, 196554.0, 231298.0, 330421.0, 388320.0, 964285.0, 106413.0, 3143007.0, 1068818.0, 1409133.0, 114942.0, 1592485.0, 152669.0, 184990.0, 344922.0, 443708.0, 505995.0, 849147.0, 894023.0, 3748843.0, 1652863.0, 3888551.0, 246847.0, 283834.0, 395483.0, 191056.0, 568370.0, 912820.0, 1204244.0, 550530.0, 1026497.0, 214478.0, 236195.0, 244958.0, 389302.0, 521629.0, 1004884.0, 1920475.0, 600789.0, 3929604.0, 1892043.0, 1138996.0, 608837.0, 429175.0, 309122.0, 242661.0, 209467.0, 3804777.0, 509173.0, 927041.0, 1965876.0, 875851.0, 567418.0, 459451.0, 422997.0, 365704.0, 228268.0, 173080.0, 3704786.0, 1163378.0, 3703286.0, 899338.0, 561946.0, 433541.0, 360378.0, 339529.0, 228139.0, 163446.0, 974245.0, 2115878.0, 275532.0, 431107.0, 145201.0, 3524435.0, 2414619.0, 1071977.0, 597342.0, 530011.0, 449570.0, 246425.0, 779065.0, 3281073.0, 2436794.0, 133464.0, 247758.0, 318732.0, 385429.0, 491044.0, 1145539.0, 594360.0, 3690847.0, 629509.0, 746196.0, 486964.0, 339874.0, 326910.0, 247271.0, 202658.0, 1363617.0, 1852355.0, 916269.0, 654252.0, 1584984.0, 811675.0, 291034.0, 340908.0, 267688.0, 3850656.0, 561442.0, 332792.0, 632152.0, 4297719.0, 2051406.0, 837831.0, 764868.0, 683170.0, 380740.0, 307021.0, 152121.0, 142727.0, 169797.0, 174681.0, 220526.0, 410831.0, 428467.0, 1981643.0, 793618.0, 868442.0, 5030944.0, 714924.0, 433957.0, 184687.0, 187097.0, 191058.0, 470859.0, 873626.0, 1209014.0, 2177939.0, 5438590.0, 864900.0, 189973.0, 448372.0, 467039.0, 969743.0, 1018620.0, 1803828.0, 2114583.0, 207100.0, 5699868.0, 191967.0, 417273.0, 243970.0, 1140189.0, 1972539.0, 2040168.0, 5743398.0, 526682.0, 1000081.0, 173640.0, 192449.0, 2279681.0, 5792016.0, 217129.0, 240924.0, 279001.0, 387022.0, 952595.0, 1925496.0, 450067.0, 2188250.0, 258388.0, 266434.0, 366855.0, 372322.0, 442704.0, 1685658.0, 2532333.0, 3425308.0, 919937.0, 7956844.0, 3394649.0, 2505085.0, 828488.0, 10646090.0, 534738.0, 427951.0, 312258.0, 293508.0, 240857.0, 243124.0, 264712.0, 12533707.0, 487384.0, 558120.0, 632534.0, 752030.0, 2548938.0, 3736841.0, 441279.0, 282047.0, 790352.0, 317607.0, 302957.0, 13898360.0, 2388815.0, 4299822.0, 742974.0, 581782.0, 496288.0, 1837135.0, 15404625.0, 4583088.0, 2283956.0, 900578.0, 797462.0, 641364.0, 543889.0, 418607.0, 379443.0, 2308432.0, 17095710.0, 5031033.0, 475861.0, 564183.0, 806273.0, 935875.0, 1004541.0, 2164411.0, 2919664.0, 458365.0, 425473.0, 3455531.0, 453031.0, 533237.0, 713700.0, 965337.0, 985585.0, 2263568.0, 5314903.0, 17770520.0, 2518971.0, 1039512.0, 989176.0, 886251.0, 368970.0, 316918.0, 3410018.0, 16745806.0, 625556.0, 5665381.0, 1267413.0, 10033147.0, 5599046.0, 4450994.0, 1979783.0, 1863716.0, 1592695.0, 30255880.0, 700009.0, 648308.0, 4000003.0, 460977.0, 522242.0, 725866.0, 871737.0, 1039739.0, 1790897.0, 2479278.0, 5978458.0, 16460110.0, 446481.0, 5141930.0, 2006639.0, 1989320.0, 1151382.0, 893512.0, 686600.0, 473283.0, 13048144.0, 6319062.0, 13691108.0, 2036648.0, 2027622.0, 1947578.0, 1679197.0, 1353200.0, 1090235.0, 423503.0, 7532424.0, 8700860.0, 16108926.0, 1080205.0, 1414980.0, 9159037.0, 1917401.0, 1996845.0, 2078877.0, 7216905.0, 1040677.0, 1431408.0]}]}} }, undefined);"
     },
     "metadata": {},
     "output_type": "display_data"
    },
    {
     "data": {
      "application/javascript": "window.ipyvizzu.animate(element, '16aa335', '9ef3e6a', 'begin', false, lib => { return {\"data\": {\"filter\": record => { return (record['año'] == 1992) }}, \"config\": {\"channels\": {\"x\": {\"set\": [\"total_pasajeros\"]}, \"y\": {\"set\": [\"Nombre_Empresa_clean\"]}, \"color\": {\"set\": [\"Nombre_Empresa_clean\"]}, \"label\": {\"set\": [\"total_pasajeros\"]}}, \"sort\": \"byValue\", \"legend\": null, \"title\": \"N\\u00famero de pasajeros por aerol\\u00ednea en 1992\"}, \"style\": {\"plot\": {\"marker\": {\"label\": {\"maxFractionDigits\": \"0\"}}, \"paddingLeft\": \"19em\", \"xAxis\": {\"title\": {\"color\": \"#00000000\"}}}}} }, {\"duration\": 1.5, \"x\": {\"easing\": \"linear\", \"delay\": 0}, \"y\": {\"delay\": 0}, \"show\": {\"delay\": 0}, \"hide\": {\"delay\": 0}, \"title\": {\"duration\": 0, \"delay\": 0}});"
     },
     "metadata": {},
     "output_type": "display_data"
    },
    {
     "data": {
      "application/javascript": "window.ipyvizzu.animate(element, '16aa335', '6c962cd', 'begin', false, lib => { return {\"data\": {\"filter\": record => { return (record['año'] == 1993) }}, \"config\": {\"channels\": {\"x\": {\"set\": [\"total_pasajeros\"]}, \"y\": {\"set\": [\"Nombre_Empresa_clean\"]}, \"color\": {\"set\": [\"Nombre_Empresa_clean\"]}, \"label\": {\"set\": [\"total_pasajeros\"]}}, \"sort\": \"byValue\", \"legend\": null, \"title\": \"N\\u00famero de pasajeros por aerol\\u00ednea en 1993\"}, \"style\": {\"plot\": {\"marker\": {\"label\": {\"maxFractionDigits\": \"0\"}}, \"paddingLeft\": \"19em\", \"xAxis\": {\"title\": {\"color\": \"#00000000\"}}}}} }, {\"duration\": 1.5, \"x\": {\"easing\": \"linear\", \"delay\": 0}, \"y\": {\"delay\": 0}, \"show\": {\"delay\": 0}, \"hide\": {\"delay\": 0}, \"title\": {\"duration\": 0, \"delay\": 0}});"
     },
     "metadata": {},
     "output_type": "display_data"
    },
    {
     "data": {
      "application/javascript": "window.ipyvizzu.animate(element, '16aa335', '07b3a8c', 'begin', false, lib => { return {\"data\": {\"filter\": record => { return (record['año'] == 1994) }}, \"config\": {\"channels\": {\"x\": {\"set\": [\"total_pasajeros\"]}, \"y\": {\"set\": [\"Nombre_Empresa_clean\"]}, \"color\": {\"set\": [\"Nombre_Empresa_clean\"]}, \"label\": {\"set\": [\"total_pasajeros\"]}}, \"sort\": \"byValue\", \"legend\": null, \"title\": \"N\\u00famero de pasajeros por aerol\\u00ednea en 1994\"}, \"style\": {\"plot\": {\"marker\": {\"label\": {\"maxFractionDigits\": \"0\"}}, \"paddingLeft\": \"19em\", \"xAxis\": {\"title\": {\"color\": \"#00000000\"}}}}} }, {\"duration\": 1.5, \"x\": {\"easing\": \"linear\", \"delay\": 0}, \"y\": {\"delay\": 0}, \"show\": {\"delay\": 0}, \"hide\": {\"delay\": 0}, \"title\": {\"duration\": 0, \"delay\": 0}});"
     },
     "metadata": {},
     "output_type": "display_data"
    },
    {
     "data": {
      "application/javascript": "window.ipyvizzu.animate(element, '16aa335', 'cb002ac', 'begin', false, lib => { return {\"data\": {\"filter\": record => { return (record['año'] == 1995) }}, \"config\": {\"channels\": {\"x\": {\"set\": [\"total_pasajeros\"]}, \"y\": {\"set\": [\"Nombre_Empresa_clean\"]}, \"color\": {\"set\": [\"Nombre_Empresa_clean\"]}, \"label\": {\"set\": [\"total_pasajeros\"]}}, \"sort\": \"byValue\", \"legend\": null, \"title\": \"N\\u00famero de pasajeros por aerol\\u00ednea en 1995\"}, \"style\": {\"plot\": {\"marker\": {\"label\": {\"maxFractionDigits\": \"0\"}}, \"paddingLeft\": \"19em\", \"xAxis\": {\"title\": {\"color\": \"#00000000\"}}}}} }, {\"duration\": 1.5, \"x\": {\"easing\": \"linear\", \"delay\": 0}, \"y\": {\"delay\": 0}, \"show\": {\"delay\": 0}, \"hide\": {\"delay\": 0}, \"title\": {\"duration\": 0, \"delay\": 0}});"
     },
     "metadata": {},
     "output_type": "display_data"
    },
    {
     "data": {
      "application/javascript": "window.ipyvizzu.animate(element, '16aa335', 'f3f380a', 'begin', false, lib => { return {\"data\": {\"filter\": record => { return (record['año'] == 1996) }}, \"config\": {\"channels\": {\"x\": {\"set\": [\"total_pasajeros\"]}, \"y\": {\"set\": [\"Nombre_Empresa_clean\"]}, \"color\": {\"set\": [\"Nombre_Empresa_clean\"]}, \"label\": {\"set\": [\"total_pasajeros\"]}}, \"sort\": \"byValue\", \"legend\": null, \"title\": \"N\\u00famero de pasajeros por aerol\\u00ednea en 1996\"}, \"style\": {\"plot\": {\"marker\": {\"label\": {\"maxFractionDigits\": \"0\"}}, \"paddingLeft\": \"19em\", \"xAxis\": {\"title\": {\"color\": \"#00000000\"}}}}} }, {\"duration\": 1.5, \"x\": {\"easing\": \"linear\", \"delay\": 0}, \"y\": {\"delay\": 0}, \"show\": {\"delay\": 0}, \"hide\": {\"delay\": 0}, \"title\": {\"duration\": 0, \"delay\": 0}});"
     },
     "metadata": {},
     "output_type": "display_data"
    },
    {
     "data": {
      "application/javascript": "window.ipyvizzu.animate(element, '16aa335', 'b1e2598', 'begin', false, lib => { return {\"data\": {\"filter\": record => { return (record['año'] == 1997) }}, \"config\": {\"channels\": {\"x\": {\"set\": [\"total_pasajeros\"]}, \"y\": {\"set\": [\"Nombre_Empresa_clean\"]}, \"color\": {\"set\": [\"Nombre_Empresa_clean\"]}, \"label\": {\"set\": [\"total_pasajeros\"]}}, \"sort\": \"byValue\", \"legend\": null, \"title\": \"N\\u00famero de pasajeros por aerol\\u00ednea en 1997\"}, \"style\": {\"plot\": {\"marker\": {\"label\": {\"maxFractionDigits\": \"0\"}}, \"paddingLeft\": \"19em\", \"xAxis\": {\"title\": {\"color\": \"#00000000\"}}}}} }, {\"duration\": 1.5, \"x\": {\"easing\": \"linear\", \"delay\": 0}, \"y\": {\"delay\": 0}, \"show\": {\"delay\": 0}, \"hide\": {\"delay\": 0}, \"title\": {\"duration\": 0, \"delay\": 0}});"
     },
     "metadata": {},
     "output_type": "display_data"
    },
    {
     "data": {
      "application/javascript": "window.ipyvizzu.animate(element, '16aa335', '836fe3f', 'begin', false, lib => { return {\"data\": {\"filter\": record => { return (record['año'] == 1998) }}, \"config\": {\"channels\": {\"x\": {\"set\": [\"total_pasajeros\"]}, \"y\": {\"set\": [\"Nombre_Empresa_clean\"]}, \"color\": {\"set\": [\"Nombre_Empresa_clean\"]}, \"label\": {\"set\": [\"total_pasajeros\"]}}, \"sort\": \"byValue\", \"legend\": null, \"title\": \"N\\u00famero de pasajeros por aerol\\u00ednea en 1998\"}, \"style\": {\"plot\": {\"marker\": {\"label\": {\"maxFractionDigits\": \"0\"}}, \"paddingLeft\": \"19em\", \"xAxis\": {\"title\": {\"color\": \"#00000000\"}}}}} }, {\"duration\": 1.5, \"x\": {\"easing\": \"linear\", \"delay\": 0}, \"y\": {\"delay\": 0}, \"show\": {\"delay\": 0}, \"hide\": {\"delay\": 0}, \"title\": {\"duration\": 0, \"delay\": 0}});"
     },
     "metadata": {},
     "output_type": "display_data"
    },
    {
     "data": {
      "application/javascript": "window.ipyvizzu.animate(element, '16aa335', '5a745b1', 'begin', false, lib => { return {\"data\": {\"filter\": record => { return (record['año'] == 1999) }}, \"config\": {\"channels\": {\"x\": {\"set\": [\"total_pasajeros\"]}, \"y\": {\"set\": [\"Nombre_Empresa_clean\"]}, \"color\": {\"set\": [\"Nombre_Empresa_clean\"]}, \"label\": {\"set\": [\"total_pasajeros\"]}}, \"sort\": \"byValue\", \"legend\": null, \"title\": \"N\\u00famero de pasajeros por aerol\\u00ednea en 1999\"}, \"style\": {\"plot\": {\"marker\": {\"label\": {\"maxFractionDigits\": \"0\"}}, \"paddingLeft\": \"19em\", \"xAxis\": {\"title\": {\"color\": \"#00000000\"}}}}} }, {\"duration\": 1.5, \"x\": {\"easing\": \"linear\", \"delay\": 0}, \"y\": {\"delay\": 0}, \"show\": {\"delay\": 0}, \"hide\": {\"delay\": 0}, \"title\": {\"duration\": 0, \"delay\": 0}});"
     },
     "metadata": {},
     "output_type": "display_data"
    },
    {
     "data": {
      "application/javascript": "window.ipyvizzu.animate(element, '16aa335', '519292d', 'begin', false, lib => { return {\"data\": {\"filter\": record => { return (record['año'] == 2000) }}, \"config\": {\"channels\": {\"x\": {\"set\": [\"total_pasajeros\"]}, \"y\": {\"set\": [\"Nombre_Empresa_clean\"]}, \"color\": {\"set\": [\"Nombre_Empresa_clean\"]}, \"label\": {\"set\": [\"total_pasajeros\"]}}, \"sort\": \"byValue\", \"legend\": null, \"title\": \"N\\u00famero de pasajeros por aerol\\u00ednea en 2000\"}, \"style\": {\"plot\": {\"marker\": {\"label\": {\"maxFractionDigits\": \"0\"}}, \"paddingLeft\": \"19em\", \"xAxis\": {\"title\": {\"color\": \"#00000000\"}}}}} }, {\"duration\": 1.5, \"x\": {\"easing\": \"linear\", \"delay\": 0}, \"y\": {\"delay\": 0}, \"show\": {\"delay\": 0}, \"hide\": {\"delay\": 0}, \"title\": {\"duration\": 0, \"delay\": 0}});"
     },
     "metadata": {},
     "output_type": "display_data"
    },
    {
     "data": {
      "application/javascript": "window.ipyvizzu.animate(element, '16aa335', 'ef1268b', 'begin', false, lib => { return {\"data\": {\"filter\": record => { return (record['año'] == 2001) }}, \"config\": {\"channels\": {\"x\": {\"set\": [\"total_pasajeros\"]}, \"y\": {\"set\": [\"Nombre_Empresa_clean\"]}, \"color\": {\"set\": [\"Nombre_Empresa_clean\"]}, \"label\": {\"set\": [\"total_pasajeros\"]}}, \"sort\": \"byValue\", \"legend\": null, \"title\": \"N\\u00famero de pasajeros por aerol\\u00ednea en 2001\"}, \"style\": {\"plot\": {\"marker\": {\"label\": {\"maxFractionDigits\": \"0\"}}, \"paddingLeft\": \"19em\", \"xAxis\": {\"title\": {\"color\": \"#00000000\"}}}}} }, {\"duration\": 1.5, \"x\": {\"easing\": \"linear\", \"delay\": 0}, \"y\": {\"delay\": 0}, \"show\": {\"delay\": 0}, \"hide\": {\"delay\": 0}, \"title\": {\"duration\": 0, \"delay\": 0}});"
     },
     "metadata": {},
     "output_type": "display_data"
    },
    {
     "data": {
      "application/javascript": "window.ipyvizzu.animate(element, '16aa335', 'd3c1d6f', 'begin', false, lib => { return {\"data\": {\"filter\": record => { return (record['año'] == 2002) }}, \"config\": {\"channels\": {\"x\": {\"set\": [\"total_pasajeros\"]}, \"y\": {\"set\": [\"Nombre_Empresa_clean\"]}, \"color\": {\"set\": [\"Nombre_Empresa_clean\"]}, \"label\": {\"set\": [\"total_pasajeros\"]}}, \"sort\": \"byValue\", \"legend\": null, \"title\": \"N\\u00famero de pasajeros por aerol\\u00ednea en 2002\"}, \"style\": {\"plot\": {\"marker\": {\"label\": {\"maxFractionDigits\": \"0\"}}, \"paddingLeft\": \"19em\", \"xAxis\": {\"title\": {\"color\": \"#00000000\"}}}}} }, {\"duration\": 1.5, \"x\": {\"easing\": \"linear\", \"delay\": 0}, \"y\": {\"delay\": 0}, \"show\": {\"delay\": 0}, \"hide\": {\"delay\": 0}, \"title\": {\"duration\": 0, \"delay\": 0}});"
     },
     "metadata": {},
     "output_type": "display_data"
    },
    {
     "data": {
      "application/javascript": "window.ipyvizzu.animate(element, '16aa335', '0f025b7', 'begin', false, lib => { return {\"data\": {\"filter\": record => { return (record['año'] == 2003) }}, \"config\": {\"channels\": {\"x\": {\"set\": [\"total_pasajeros\"]}, \"y\": {\"set\": [\"Nombre_Empresa_clean\"]}, \"color\": {\"set\": [\"Nombre_Empresa_clean\"]}, \"label\": {\"set\": [\"total_pasajeros\"]}}, \"sort\": \"byValue\", \"legend\": null, \"title\": \"N\\u00famero de pasajeros por aerol\\u00ednea en 2003\"}, \"style\": {\"plot\": {\"marker\": {\"label\": {\"maxFractionDigits\": \"0\"}}, \"paddingLeft\": \"19em\", \"xAxis\": {\"title\": {\"color\": \"#00000000\"}}}}} }, {\"duration\": 1.5, \"x\": {\"easing\": \"linear\", \"delay\": 0}, \"y\": {\"delay\": 0}, \"show\": {\"delay\": 0}, \"hide\": {\"delay\": 0}, \"title\": {\"duration\": 0, \"delay\": 0}});"
     },
     "metadata": {},
     "output_type": "display_data"
    },
    {
     "data": {
      "application/javascript": "window.ipyvizzu.animate(element, '16aa335', '2223303', 'begin', false, lib => { return {\"data\": {\"filter\": record => { return (record['año'] == 2004) }}, \"config\": {\"channels\": {\"x\": {\"set\": [\"total_pasajeros\"]}, \"y\": {\"set\": [\"Nombre_Empresa_clean\"]}, \"color\": {\"set\": [\"Nombre_Empresa_clean\"]}, \"label\": {\"set\": [\"total_pasajeros\"]}}, \"sort\": \"byValue\", \"legend\": null, \"title\": \"N\\u00famero de pasajeros por aerol\\u00ednea en 2004\"}, \"style\": {\"plot\": {\"marker\": {\"label\": {\"maxFractionDigits\": \"0\"}}, \"paddingLeft\": \"19em\", \"xAxis\": {\"title\": {\"color\": \"#00000000\"}}}}} }, {\"duration\": 1.5, \"x\": {\"easing\": \"linear\", \"delay\": 0}, \"y\": {\"delay\": 0}, \"show\": {\"delay\": 0}, \"hide\": {\"delay\": 0}, \"title\": {\"duration\": 0, \"delay\": 0}});"
     },
     "metadata": {},
     "output_type": "display_data"
    },
    {
     "data": {
      "application/javascript": "window.ipyvizzu.animate(element, '16aa335', 'bae3a63', 'begin', false, lib => { return {\"data\": {\"filter\": record => { return (record['año'] == 2005) }}, \"config\": {\"channels\": {\"x\": {\"set\": [\"total_pasajeros\"]}, \"y\": {\"set\": [\"Nombre_Empresa_clean\"]}, \"color\": {\"set\": [\"Nombre_Empresa_clean\"]}, \"label\": {\"set\": [\"total_pasajeros\"]}}, \"sort\": \"byValue\", \"legend\": null, \"title\": \"N\\u00famero de pasajeros por aerol\\u00ednea en 2005\"}, \"style\": {\"plot\": {\"marker\": {\"label\": {\"maxFractionDigits\": \"0\"}}, \"paddingLeft\": \"19em\", \"xAxis\": {\"title\": {\"color\": \"#00000000\"}}}}} }, {\"duration\": 1.5, \"x\": {\"easing\": \"linear\", \"delay\": 0}, \"y\": {\"delay\": 0}, \"show\": {\"delay\": 0}, \"hide\": {\"delay\": 0}, \"title\": {\"duration\": 0, \"delay\": 0}});"
     },
     "metadata": {},
     "output_type": "display_data"
    },
    {
     "data": {
      "application/javascript": "window.ipyvizzu.animate(element, '16aa335', 'c0a7a68', 'begin', false, lib => { return {\"data\": {\"filter\": record => { return (record['año'] == 2006) }}, \"config\": {\"channels\": {\"x\": {\"set\": [\"total_pasajeros\"]}, \"y\": {\"set\": [\"Nombre_Empresa_clean\"]}, \"color\": {\"set\": [\"Nombre_Empresa_clean\"]}, \"label\": {\"set\": [\"total_pasajeros\"]}}, \"sort\": \"byValue\", \"legend\": null, \"title\": \"N\\u00famero de pasajeros por aerol\\u00ednea en 2006\"}, \"style\": {\"plot\": {\"marker\": {\"label\": {\"maxFractionDigits\": \"0\"}}, \"paddingLeft\": \"19em\", \"xAxis\": {\"title\": {\"color\": \"#00000000\"}}}}} }, {\"duration\": 1.5, \"x\": {\"easing\": \"linear\", \"delay\": 0}, \"y\": {\"delay\": 0}, \"show\": {\"delay\": 0}, \"hide\": {\"delay\": 0}, \"title\": {\"duration\": 0, \"delay\": 0}});"
     },
     "metadata": {},
     "output_type": "display_data"
    },
    {
     "data": {
      "application/javascript": "window.ipyvizzu.animate(element, '16aa335', 'acb4363', 'begin', false, lib => { return {\"data\": {\"filter\": record => { return (record['año'] == 2007) }}, \"config\": {\"channels\": {\"x\": {\"set\": [\"total_pasajeros\"]}, \"y\": {\"set\": [\"Nombre_Empresa_clean\"]}, \"color\": {\"set\": [\"Nombre_Empresa_clean\"]}, \"label\": {\"set\": [\"total_pasajeros\"]}}, \"sort\": \"byValue\", \"legend\": null, \"title\": \"N\\u00famero de pasajeros por aerol\\u00ednea en 2007\"}, \"style\": {\"plot\": {\"marker\": {\"label\": {\"maxFractionDigits\": \"0\"}}, \"paddingLeft\": \"19em\", \"xAxis\": {\"title\": {\"color\": \"#00000000\"}}}}} }, {\"duration\": 1.5, \"x\": {\"easing\": \"linear\", \"delay\": 0}, \"y\": {\"delay\": 0}, \"show\": {\"delay\": 0}, \"hide\": {\"delay\": 0}, \"title\": {\"duration\": 0, \"delay\": 0}});"
     },
     "metadata": {},
     "output_type": "display_data"
    },
    {
     "data": {
      "application/javascript": "window.ipyvizzu.animate(element, '16aa335', 'a3956cd', 'begin', false, lib => { return {\"data\": {\"filter\": record => { return (record['año'] == 2008) }}, \"config\": {\"channels\": {\"x\": {\"set\": [\"total_pasajeros\"]}, \"y\": {\"set\": [\"Nombre_Empresa_clean\"]}, \"color\": {\"set\": [\"Nombre_Empresa_clean\"]}, \"label\": {\"set\": [\"total_pasajeros\"]}}, \"sort\": \"byValue\", \"legend\": null, \"title\": \"N\\u00famero de pasajeros por aerol\\u00ednea en 2008\"}, \"style\": {\"plot\": {\"marker\": {\"label\": {\"maxFractionDigits\": \"0\"}}, \"paddingLeft\": \"19em\", \"xAxis\": {\"title\": {\"color\": \"#00000000\"}}}}} }, {\"duration\": 1.5, \"x\": {\"easing\": \"linear\", \"delay\": 0}, \"y\": {\"delay\": 0}, \"show\": {\"delay\": 0}, \"hide\": {\"delay\": 0}, \"title\": {\"duration\": 0, \"delay\": 0}});"
     },
     "metadata": {},
     "output_type": "display_data"
    },
    {
     "data": {
      "application/javascript": "window.ipyvizzu.animate(element, '16aa335', 'df3d57b', 'begin', false, lib => { return {\"data\": {\"filter\": record => { return (record['año'] == 2009) }}, \"config\": {\"channels\": {\"x\": {\"set\": [\"total_pasajeros\"]}, \"y\": {\"set\": [\"Nombre_Empresa_clean\"]}, \"color\": {\"set\": [\"Nombre_Empresa_clean\"]}, \"label\": {\"set\": [\"total_pasajeros\"]}}, \"sort\": \"byValue\", \"legend\": null, \"title\": \"N\\u00famero de pasajeros por aerol\\u00ednea en 2009\"}, \"style\": {\"plot\": {\"marker\": {\"label\": {\"maxFractionDigits\": \"0\"}}, \"paddingLeft\": \"19em\", \"xAxis\": {\"title\": {\"color\": \"#00000000\"}}}}} }, {\"duration\": 1.5, \"x\": {\"easing\": \"linear\", \"delay\": 0}, \"y\": {\"delay\": 0}, \"show\": {\"delay\": 0}, \"hide\": {\"delay\": 0}, \"title\": {\"duration\": 0, \"delay\": 0}});"
     },
     "metadata": {},
     "output_type": "display_data"
    },
    {
     "data": {
      "application/javascript": "window.ipyvizzu.animate(element, '16aa335', 'ac4caf1', 'begin', false, lib => { return {\"data\": {\"filter\": record => { return (record['año'] == 2010) }}, \"config\": {\"channels\": {\"x\": {\"set\": [\"total_pasajeros\"]}, \"y\": {\"set\": [\"Nombre_Empresa_clean\"]}, \"color\": {\"set\": [\"Nombre_Empresa_clean\"]}, \"label\": {\"set\": [\"total_pasajeros\"]}}, \"sort\": \"byValue\", \"legend\": null, \"title\": \"N\\u00famero de pasajeros por aerol\\u00ednea en 2010\"}, \"style\": {\"plot\": {\"marker\": {\"label\": {\"maxFractionDigits\": \"0\"}}, \"paddingLeft\": \"19em\", \"xAxis\": {\"title\": {\"color\": \"#00000000\"}}}}} }, {\"duration\": 1.5, \"x\": {\"easing\": \"linear\", \"delay\": 0}, \"y\": {\"delay\": 0}, \"show\": {\"delay\": 0}, \"hide\": {\"delay\": 0}, \"title\": {\"duration\": 0, \"delay\": 0}});"
     },
     "metadata": {},
     "output_type": "display_data"
    },
    {
     "data": {
      "application/javascript": "window.ipyvizzu.animate(element, '16aa335', '9604a69', 'begin', false, lib => { return {\"data\": {\"filter\": record => { return (record['año'] == 2011) }}, \"config\": {\"channels\": {\"x\": {\"set\": [\"total_pasajeros\"]}, \"y\": {\"set\": [\"Nombre_Empresa_clean\"]}, \"color\": {\"set\": [\"Nombre_Empresa_clean\"]}, \"label\": {\"set\": [\"total_pasajeros\"]}}, \"sort\": \"byValue\", \"legend\": null, \"title\": \"N\\u00famero de pasajeros por aerol\\u00ednea en 2011\"}, \"style\": {\"plot\": {\"marker\": {\"label\": {\"maxFractionDigits\": \"0\"}}, \"paddingLeft\": \"19em\", \"xAxis\": {\"title\": {\"color\": \"#00000000\"}}}}} }, {\"duration\": 1.5, \"x\": {\"easing\": \"linear\", \"delay\": 0}, \"y\": {\"delay\": 0}, \"show\": {\"delay\": 0}, \"hide\": {\"delay\": 0}, \"title\": {\"duration\": 0, \"delay\": 0}});"
     },
     "metadata": {},
     "output_type": "display_data"
    },
    {
     "data": {
      "application/javascript": "window.ipyvizzu.animate(element, '16aa335', 'cceb873', 'begin', false, lib => { return {\"data\": {\"filter\": record => { return (record['año'] == 2012) }}, \"config\": {\"channels\": {\"x\": {\"set\": [\"total_pasajeros\"]}, \"y\": {\"set\": [\"Nombre_Empresa_clean\"]}, \"color\": {\"set\": [\"Nombre_Empresa_clean\"]}, \"label\": {\"set\": [\"total_pasajeros\"]}}, \"sort\": \"byValue\", \"legend\": null, \"title\": \"N\\u00famero de pasajeros por aerol\\u00ednea en 2012\"}, \"style\": {\"plot\": {\"marker\": {\"label\": {\"maxFractionDigits\": \"0\"}}, \"paddingLeft\": \"19em\", \"xAxis\": {\"title\": {\"color\": \"#00000000\"}}}}} }, {\"duration\": 1.5, \"x\": {\"easing\": \"linear\", \"delay\": 0}, \"y\": {\"delay\": 0}, \"show\": {\"delay\": 0}, \"hide\": {\"delay\": 0}, \"title\": {\"duration\": 0, \"delay\": 0}});"
     },
     "metadata": {},
     "output_type": "display_data"
    },
    {
     "data": {
      "application/javascript": "window.ipyvizzu.animate(element, '16aa335', '10c17ff', 'begin', false, lib => { return {\"data\": {\"filter\": record => { return (record['año'] == 2013) }}, \"config\": {\"channels\": {\"x\": {\"set\": [\"total_pasajeros\"]}, \"y\": {\"set\": [\"Nombre_Empresa_clean\"]}, \"color\": {\"set\": [\"Nombre_Empresa_clean\"]}, \"label\": {\"set\": [\"total_pasajeros\"]}}, \"sort\": \"byValue\", \"legend\": null, \"title\": \"N\\u00famero de pasajeros por aerol\\u00ednea en 2013\"}, \"style\": {\"plot\": {\"marker\": {\"label\": {\"maxFractionDigits\": \"0\"}}, \"paddingLeft\": \"19em\", \"xAxis\": {\"title\": {\"color\": \"#00000000\"}}}}} }, {\"duration\": 1.5, \"x\": {\"easing\": \"linear\", \"delay\": 0}, \"y\": {\"delay\": 0}, \"show\": {\"delay\": 0}, \"hide\": {\"delay\": 0}, \"title\": {\"duration\": 0, \"delay\": 0}});"
     },
     "metadata": {},
     "output_type": "display_data"
    },
    {
     "data": {
      "application/javascript": "window.ipyvizzu.animate(element, '16aa335', 'dace204', 'begin', false, lib => { return {\"data\": {\"filter\": record => { return (record['año'] == 2014) }}, \"config\": {\"channels\": {\"x\": {\"set\": [\"total_pasajeros\"]}, \"y\": {\"set\": [\"Nombre_Empresa_clean\"]}, \"color\": {\"set\": [\"Nombre_Empresa_clean\"]}, \"label\": {\"set\": [\"total_pasajeros\"]}}, \"sort\": \"byValue\", \"legend\": null, \"title\": \"N\\u00famero de pasajeros por aerol\\u00ednea en 2014\"}, \"style\": {\"plot\": {\"marker\": {\"label\": {\"maxFractionDigits\": \"0\"}}, \"paddingLeft\": \"19em\", \"xAxis\": {\"title\": {\"color\": \"#00000000\"}}}}} }, {\"duration\": 1.5, \"x\": {\"easing\": \"linear\", \"delay\": 0}, \"y\": {\"delay\": 0}, \"show\": {\"delay\": 0}, \"hide\": {\"delay\": 0}, \"title\": {\"duration\": 0, \"delay\": 0}});"
     },
     "metadata": {},
     "output_type": "display_data"
    },
    {
     "data": {
      "application/javascript": "window.ipyvizzu.animate(element, '16aa335', 'e6707aa', 'begin', false, lib => { return {\"data\": {\"filter\": record => { return (record['año'] == 2015) }}, \"config\": {\"channels\": {\"x\": {\"set\": [\"total_pasajeros\"]}, \"y\": {\"set\": [\"Nombre_Empresa_clean\"]}, \"color\": {\"set\": [\"Nombre_Empresa_clean\"]}, \"label\": {\"set\": [\"total_pasajeros\"]}}, \"sort\": \"byValue\", \"legend\": null, \"title\": \"N\\u00famero de pasajeros por aerol\\u00ednea en 2015\"}, \"style\": {\"plot\": {\"marker\": {\"label\": {\"maxFractionDigits\": \"0\"}}, \"paddingLeft\": \"19em\", \"xAxis\": {\"title\": {\"color\": \"#00000000\"}}}}} }, {\"duration\": 1.5, \"x\": {\"easing\": \"linear\", \"delay\": 0}, \"y\": {\"delay\": 0}, \"show\": {\"delay\": 0}, \"hide\": {\"delay\": 0}, \"title\": {\"duration\": 0, \"delay\": 0}});"
     },
     "metadata": {},
     "output_type": "display_data"
    },
    {
     "data": {
      "application/javascript": "window.ipyvizzu.animate(element, '16aa335', '0762649', 'begin', false, lib => { return {\"data\": {\"filter\": record => { return (record['año'] == 2016) }}, \"config\": {\"channels\": {\"x\": {\"set\": [\"total_pasajeros\"]}, \"y\": {\"set\": [\"Nombre_Empresa_clean\"]}, \"color\": {\"set\": [\"Nombre_Empresa_clean\"]}, \"label\": {\"set\": [\"total_pasajeros\"]}}, \"sort\": \"byValue\", \"legend\": null, \"title\": \"N\\u00famero de pasajeros por aerol\\u00ednea en 2016\"}, \"style\": {\"plot\": {\"marker\": {\"label\": {\"maxFractionDigits\": \"0\"}}, \"paddingLeft\": \"19em\", \"xAxis\": {\"title\": {\"color\": \"#00000000\"}}}}} }, {\"duration\": 1.5, \"x\": {\"easing\": \"linear\", \"delay\": 0}, \"y\": {\"delay\": 0}, \"show\": {\"delay\": 0}, \"hide\": {\"delay\": 0}, \"title\": {\"duration\": 0, \"delay\": 0}});"
     },
     "metadata": {},
     "output_type": "display_data"
    },
    {
     "data": {
      "application/javascript": "window.ipyvizzu.animate(element, '16aa335', '9294b38', 'begin', false, lib => { return {\"data\": {\"filter\": record => { return (record['año'] == 2017) }}, \"config\": {\"channels\": {\"x\": {\"set\": [\"total_pasajeros\"]}, \"y\": {\"set\": [\"Nombre_Empresa_clean\"]}, \"color\": {\"set\": [\"Nombre_Empresa_clean\"]}, \"label\": {\"set\": [\"total_pasajeros\"]}}, \"sort\": \"byValue\", \"legend\": null, \"title\": \"N\\u00famero de pasajeros por aerol\\u00ednea en 2017\"}, \"style\": {\"plot\": {\"marker\": {\"label\": {\"maxFractionDigits\": \"0\"}}, \"paddingLeft\": \"19em\", \"xAxis\": {\"title\": {\"color\": \"#00000000\"}}}}} }, {\"duration\": 1.5, \"x\": {\"easing\": \"linear\", \"delay\": 0}, \"y\": {\"delay\": 0}, \"show\": {\"delay\": 0}, \"hide\": {\"delay\": 0}, \"title\": {\"duration\": 0, \"delay\": 0}});"
     },
     "metadata": {},
     "output_type": "display_data"
    },
    {
     "data": {
      "application/javascript": "window.ipyvizzu.animate(element, '16aa335', '134884f', 'begin', false, lib => { return {\"data\": {\"filter\": record => { return (record['año'] == 2018) }}, \"config\": {\"channels\": {\"x\": {\"set\": [\"total_pasajeros\"]}, \"y\": {\"set\": [\"Nombre_Empresa_clean\"]}, \"color\": {\"set\": [\"Nombre_Empresa_clean\"]}, \"label\": {\"set\": [\"total_pasajeros\"]}}, \"sort\": \"byValue\", \"legend\": null, \"title\": \"N\\u00famero de pasajeros por aerol\\u00ednea en 2018\"}, \"style\": {\"plot\": {\"marker\": {\"label\": {\"maxFractionDigits\": \"0\"}}, \"paddingLeft\": \"19em\", \"xAxis\": {\"title\": {\"color\": \"#00000000\"}}}}} }, {\"duration\": 1.5, \"x\": {\"easing\": \"linear\", \"delay\": 0}, \"y\": {\"delay\": 0}, \"show\": {\"delay\": 0}, \"hide\": {\"delay\": 0}, \"title\": {\"duration\": 0, \"delay\": 0}});"
     },
     "metadata": {},
     "output_type": "display_data"
    },
    {
     "data": {
      "application/javascript": "window.ipyvizzu.animate(element, '16aa335', 'e5b5c30', 'begin', false, lib => { return {\"data\": {\"filter\": record => { return (record['año'] == 2019) }}, \"config\": {\"channels\": {\"x\": {\"set\": [\"total_pasajeros\"]}, \"y\": {\"set\": [\"Nombre_Empresa_clean\"]}, \"color\": {\"set\": [\"Nombre_Empresa_clean\"]}, \"label\": {\"set\": [\"total_pasajeros\"]}}, \"sort\": \"byValue\", \"legend\": null, \"title\": \"N\\u00famero de pasajeros por aerol\\u00ednea en 2019\"}, \"style\": {\"plot\": {\"marker\": {\"label\": {\"maxFractionDigits\": \"0\"}}, \"paddingLeft\": \"19em\", \"xAxis\": {\"title\": {\"color\": \"#00000000\"}}}}} }, {\"duration\": 1.5, \"x\": {\"easing\": \"linear\", \"delay\": 0}, \"y\": {\"delay\": 0}, \"show\": {\"delay\": 0}, \"hide\": {\"delay\": 0}, \"title\": {\"duration\": 0, \"delay\": 0}});"
     },
     "metadata": {},
     "output_type": "display_data"
    },
    {
     "data": {
      "application/javascript": "window.ipyvizzu.animate(element, '16aa335', 'c2c5b44', 'begin', false, lib => { return {\"data\": {\"filter\": record => { return (record['año'] == 2020) }}, \"config\": {\"channels\": {\"x\": {\"set\": [\"total_pasajeros\"]}, \"y\": {\"set\": [\"Nombre_Empresa_clean\"]}, \"color\": {\"set\": [\"Nombre_Empresa_clean\"]}, \"label\": {\"set\": [\"total_pasajeros\"]}}, \"sort\": \"byValue\", \"legend\": null, \"title\": \"N\\u00famero de pasajeros por aerol\\u00ednea en 2020\"}, \"style\": {\"plot\": {\"marker\": {\"label\": {\"maxFractionDigits\": \"0\"}}, \"paddingLeft\": \"19em\", \"xAxis\": {\"title\": {\"color\": \"#00000000\"}}}}} }, {\"duration\": 1.5, \"x\": {\"easing\": \"linear\", \"delay\": 0}, \"y\": {\"delay\": 0}, \"show\": {\"delay\": 0}, \"hide\": {\"delay\": 0}, \"title\": {\"duration\": 0, \"delay\": 0}});"
     },
     "metadata": {},
     "output_type": "display_data"
    },
    {
     "data": {
      "application/javascript": "window.ipyvizzu.animate(element, '16aa335', '7773391', 'begin', false, lib => { return {\"data\": {\"filter\": record => { return (record['año'] == 2021) }}, \"config\": {\"channels\": {\"x\": {\"set\": [\"total_pasajeros\"]}, \"y\": {\"set\": [\"Nombre_Empresa_clean\"]}, \"color\": {\"set\": [\"Nombre_Empresa_clean\"]}, \"label\": {\"set\": [\"total_pasajeros\"]}}, \"sort\": \"byValue\", \"legend\": null, \"title\": \"N\\u00famero de pasajeros por aerol\\u00ednea en 2021\"}, \"style\": {\"plot\": {\"marker\": {\"label\": {\"maxFractionDigits\": \"0\"}}, \"paddingLeft\": \"19em\", \"xAxis\": {\"title\": {\"color\": \"#00000000\"}}}}} }, {\"duration\": 1.5, \"x\": {\"easing\": \"linear\", \"delay\": 0}, \"y\": {\"delay\": 0}, \"show\": {\"delay\": 0}, \"hide\": {\"delay\": 0}, \"title\": {\"duration\": 0, \"delay\": 0}});"
     },
     "metadata": {},
     "output_type": "display_data"
    },
    {
     "data": {
      "application/javascript": "window.ipyvizzu.animate(element, '16aa335', '2f396ea', 'begin', false, lib => { return {\"data\": {\"filter\": record => { return (record['año'] == 2022) }}, \"config\": {\"channels\": {\"x\": {\"set\": [\"total_pasajeros\"]}, \"y\": {\"set\": [\"Nombre_Empresa_clean\"]}, \"color\": {\"set\": [\"Nombre_Empresa_clean\"]}, \"label\": {\"set\": [\"total_pasajeros\"]}}, \"sort\": \"byValue\", \"legend\": null, \"title\": \"N\\u00famero de pasajeros por aerol\\u00ednea en 2022\"}, \"style\": {\"plot\": {\"marker\": {\"label\": {\"maxFractionDigits\": \"0\"}}, \"paddingLeft\": \"19em\", \"xAxis\": {\"title\": {\"color\": \"#00000000\"}}}}} }, {\"duration\": 1.5, \"x\": {\"easing\": \"linear\", \"delay\": 0}, \"y\": {\"delay\": 0}, \"show\": {\"delay\": 0}, \"hide\": {\"delay\": 0}, \"title\": {\"duration\": 0, \"delay\": 0}});"
     },
     "metadata": {},
     "output_type": "display_data"
    }
   ],
   "source": [
    "char_data = Data()\n",
    "char_data.add_data_frame(top_empresas) \n",
    "chart = Chart(display = \"begin\")\n",
    "chart.scroll_into_view = False\n",
    "\n",
    "\n",
    "chart.animate(char_data)\n",
    "config = {\n",
    "    \"channels\": {\n",
    "        \"x\": {\"set\": [\"total_pasajeros\"]},\n",
    "        \"y\": {\"set\": [\"Nombre_Empresa_clean\"]},\n",
    "        \"color\": {\"set\": [\"Nombre_Empresa_clean\"]},\n",
    "        \"label\": { \"set\": [\"total_pasajeros\"] }\n",
    "    },\n",
    "    \"sort\": 'byValue',\n",
    "    \"legend\": None,\n",
    "}\n",
    "\n",
    "style= Style({\"plot\": \n",
    "    {\"marker\": {\"label\": {\"maxFractionDigits\": \"0\"}}, #cutting off unnecessary digits when animating the labels\n",
    "      \"paddingLeft\":\"19em\", #add padding on the left side of the plot so that long country names are visible\n",
    "      \"xAxis\": { \"title\": { \"color\" : \"#00000000\" }} #hiding the axis title on the x-axis\n",
    "    }})\n",
    "\n",
    "\n",
    "for anho in range(1992, 2023):\n",
    "    config[\"title\"] = f\"Número de pasajeros por aerolínea en {anho}\"\n",
    "    chart.animate(\n",
    "        Data.filter(\"record['año'] == {}\".format(anho)), \n",
    "        Config(config),\n",
    "        style,\n",
    "        # Animation options:\n",
    "        duration = 1.5,        \n",
    "        x = { \"easing\": \"linear\", \"delay\": 0 },\n",
    "        y = { \"delay\": 0 },\n",
    "        show = { \"delay\": 0 },\n",
    "        hide = { \"delay\": 0 },\n",
    "        title = { \"duration\": 0, \"delay\": 0 })"
   ]
  },
  {
   "cell_type": "code",
   "execution_count": 30,
   "metadata": {},
   "outputs": [
    {
     "data": {
      "application/javascript": "if (window.IpyVizzu) { window.IpyVizzu.clearInhibitScroll(element); }"
     },
     "metadata": {},
     "output_type": "display_data"
    },
    {
     "data": {
      "application/javascript": "if (window.IpyVizzu) { window.IpyVizzu.clearInhibitScroll(element); }"
     },
     "metadata": {},
     "output_type": "display_data"
    },
    {
     "data": {
      "application/javascript": "if (!window.IpyVizzu) {\n  class IpyVizzu {\n    constructor() {\n      IpyVizzu.inhibitScroll = false;\n      IpyVizzu.nbconvert = false;\n      document.addEventListener(\n        \"wheel\",\n        (evt) => {\n          IpyVizzu.inhibitScroll = true;\n        },\n        true\n      );\n      document.addEventListener(\n        \"keydown\",\n        (evt) => {\n          IpyVizzu.inhibitScroll = true;\n        },\n        true\n      );\n      document.addEventListener(\n        \"touchstart\",\n        (evt) => {\n          IpyVizzu.inhibitScroll = true;\n        },\n        true\n      );\n\n      this.elements = {};\n      this.charts = {};\n      this.controls = {};\n\n      this.storage = {};\n      this.displays = {};\n\n      this.events = {};\n      this.loaded = {};\n      this.libs = {};\n    }\n\n    static clearInhibitScroll(element) {\n      if (IpyVizzu.nbconvert) IpyVizzu._hide(element);\n      IpyVizzu.inhibitScroll = false;\n    }\n\n    createChart(element, chartId, vizzulib, divWidth, divHeight) {\n      this.elements[chartId] = document.createElement(\"div\");\n      this.elements[\n        chartId\n      ].style.cssText = `width: ${divWidth}; height: ${divHeight};`;\n      this.loaded[chartId] = import(vizzulib);\n      this.charts[chartId] = this.loaded[chartId].then((Vizzu) => {\n        this.libs[chartId] = Vizzu.default;\n        const VizzuConstructor = Vizzu.default;\n        return new VizzuConstructor(this.elements[chartId]).initializing;\n      });\n      this._moveHere(chartId, element);\n    }\n\n    animate(\n      element,\n      chartId,\n      animId,\n      displayTarget,\n      scrollEnabled,\n      getChartTarget,\n      chartAnimOpts\n    ) {\n      if (IpyVizzu.nbconvert) IpyVizzu._hide(element);\n      if (displayTarget === \"end\") this._moveHere(chartId, element);\n      this.controls[chartId] = this.charts[chartId];\n      this.charts[chartId] = this.charts[chartId].then((chart) => {\n        if (displayTarget === \"actual\") this._moveHere(chartId, element);\n        this._scroll(chartId, scrollEnabled);\n        let chartTarget = getChartTarget(this.libs[chartId]);\n        if (typeof chartTarget === \"string\") {\n          chartTarget = this.storage[chartTarget];\n        } else if (Array.isArray(chartTarget)) {\n          for (let i = 0; i < chartTarget.length; i++) {\n            const target = chartTarget[i].target;\n            if (typeof target === \"string\") {\n              chartTarget[i].target = this.storage[target];\n            }\n          }\n        }\n        chart = chart.animate(chartTarget, chartAnimOpts);\n        this.controls[animId] = chart;\n        return chart;\n      });\n    }\n\n    store(element, chartId, id) {\n      if (IpyVizzu.nbconvert) IpyVizzu._hide(element);\n      this.charts[chartId] = this.charts[chartId].then((chart) => {\n        this.storage[id] = chart.store();\n        return chart;\n      });\n    }\n\n    feature(element, chartId, name, enabled) {\n      if (IpyVizzu.nbconvert) IpyVizzu._hide(element);\n      this.charts[chartId] = this.charts[chartId].then((chart) => {\n        chart.feature(name, enabled);\n        return chart;\n      });\n    }\n\n    setEvent(element, chartId, id, event, handler) {\n      if (IpyVizzu.nbconvert) IpyVizzu._hide(element);\n      this.charts[chartId] = this.charts[chartId].then((chart) => {\n        this.events[id] = handler;\n        chart.on(event, this.events[id]);\n        return chart;\n      });\n    }\n\n    clearEvent(element, chartId, id, event) {\n      if (IpyVizzu.nbconvert) IpyVizzu._hide(element);\n      this.charts[chartId] = this.charts[chartId].then((chart) => {\n        chart.off(event, this.events[id]);\n        return chart;\n      });\n    }\n\n    log(element, chartId, chartProperty) {\n      if (IpyVizzu.nbconvert) IpyVizzu._hide(element);\n      this.charts[chartId] = this.charts[chartId].then((chart) => {\n        console.log(chart[chartProperty]);\n        return chart;\n      });\n    }\n\n    control(element, method, prevId, lastId, ...params) {\n      if (IpyVizzu.nbconvert) IpyVizzu._hide(element);\n      this.controls[prevId].then(() => {\n        this.controls[lastId].activated.then((control) => {\n          if (method === \"seek\") {\n            const value = params[0];\n            control[method](value);\n            return;\n          }\n          if (method === \"store\") {\n            const id = params[0];\n            this.storage[id] = control[method]();\n            return;\n          }\n          control[method]();\n        });\n      });\n    }\n\n    _moveHere(chartId, element) {\n      if (IpyVizzu.nbconvert)\n        IpyVizzu._display(this.elements[chartId], element);\n      element.append(this.elements[chartId]);\n    }\n\n    _scroll(chartId, enabled) {\n      if (!IpyVizzu.inhibitScroll && enabled) {\n        this.elements[chartId].scrollIntoView({\n          behavior: \"auto\",\n          block: \"center\",\n        });\n      }\n    }\n\n    static _hide(element) {\n      document.getElementById(\n        element.selector.substring(1)\n      ).parentNode.style.display = \"none\";\n    }\n\n    static _display(prevElement, element) {\n      if (prevElement.parentNode) {\n        prevElement.parentNode.style.display = \"none\";\n      }\n      document.getElementById(\n        element.selector.substring(1)\n      ).parentNode.style.display = \"flex\";\n      document.getElementById(\n        element.selector.substring(1)\n      ).parentNode.style.margin = \"auto\";\n    }\n  }\n\n  window.IpyVizzu = IpyVizzu;\n  window.ipyvizzu = new window.IpyVizzu();\n}\n"
     },
     "metadata": {},
     "output_type": "display_data"
    },
    {
     "data": {
      "application/javascript": "window.ipyvizzu.createChart(element, '8affe14', 'https://cdn.jsdelivr.net/npm/vizzu@0.7/dist/vizzu.min.js', '800px', '480px');"
     },
     "metadata": {},
     "output_type": "display_data"
    },
    {
     "data": {
      "application/javascript": "window.ipyvizzu.animate(element, '8affe14', '562a9bb', 'begin', false, lib => { return {\"data\": {\"series\": [{\"name\": \"a\\u00f1o\", \"type\": \"measure\", \"values\": [1992.0, 1992.0, 1992.0, 1992.0, 1992.0, 1992.0, 1992.0, 1992.0, 1992.0, 1992.0, 1993.0, 1993.0, 1993.0, 1993.0, 1993.0, 1993.0, 1993.0, 1993.0, 1993.0, 1993.0, 1994.0, 1994.0, 1994.0, 1994.0, 1994.0, 1994.0, 1994.0, 1994.0, 1994.0, 1994.0, 1995.0, 1995.0, 1995.0, 1995.0, 1995.0, 1995.0, 1995.0, 1995.0, 1995.0, 1995.0, 1996.0, 1996.0, 1996.0, 1996.0, 1996.0, 1996.0, 1996.0, 1996.0, 1996.0, 1996.0, 1997.0, 1997.0, 1997.0, 1997.0, 1997.0, 1997.0, 1997.0, 1997.0, 1997.0, 1997.0, 1998.0, 1998.0, 1998.0, 1998.0, 1998.0, 1998.0, 1998.0, 1998.0, 1998.0, 1998.0, 1999.0, 1999.0, 1999.0, 1999.0, 1999.0, 1999.0, 1999.0, 1999.0, 1999.0, 1999.0, 2000.0, 2000.0, 2000.0, 2000.0, 2000.0, 2000.0, 2000.0, 2000.0, 2000.0, 2000.0, 2001.0, 2001.0, 2001.0, 2001.0, 2001.0, 2001.0, 2001.0, 2001.0, 2001.0, 2001.0, 2002.0, 2002.0, 2002.0, 2002.0, 2002.0, 2002.0, 2002.0, 2002.0, 2002.0, 2002.0, 2003.0, 2003.0, 2003.0, 2003.0, 2003.0, 2003.0, 2003.0, 2003.0, 2003.0, 2003.0, 2004.0, 2004.0, 2004.0, 2004.0, 2004.0, 2004.0, 2004.0, 2004.0, 2004.0, 2004.0, 2005.0, 2005.0, 2005.0, 2005.0, 2005.0, 2005.0, 2005.0, 2005.0, 2005.0, 2005.0, 2006.0, 2006.0, 2006.0, 2006.0, 2006.0, 2006.0, 2006.0, 2006.0, 2006.0, 2006.0, 2007.0, 2007.0, 2007.0, 2007.0, 2007.0, 2007.0, 2007.0, 2007.0, 2007.0, 2007.0, 2008.0, 2008.0, 2008.0, 2008.0, 2008.0, 2008.0, 2008.0, 2008.0, 2008.0, 2008.0, 2009.0, 2009.0, 2009.0, 2009.0, 2009.0, 2009.0, 2009.0, 2009.0, 2009.0, 2009.0, 2010.0, 2010.0, 2010.0, 2010.0, 2010.0, 2010.0, 2010.0, 2010.0, 2010.0, 2010.0, 2011.0, 2011.0, 2011.0, 2011.0, 2011.0, 2011.0, 2011.0, 2011.0, 2011.0, 2011.0, 2012.0, 2012.0, 2012.0, 2012.0, 2012.0, 2012.0, 2012.0, 2012.0, 2012.0, 2012.0, 2013.0, 2013.0, 2013.0, 2013.0, 2013.0, 2013.0, 2013.0, 2013.0, 2013.0, 2013.0, 2014.0, 2014.0, 2014.0, 2014.0, 2014.0, 2014.0, 2014.0, 2014.0, 2014.0, 2014.0, 2015.0, 2015.0, 2015.0, 2015.0, 2015.0, 2015.0, 2015.0, 2015.0, 2015.0, 2015.0, 2016.0, 2016.0, 2016.0, 2016.0, 2016.0, 2016.0, 2016.0, 2016.0, 2016.0, 2016.0, 2017.0, 2017.0, 2017.0, 2017.0, 2017.0, 2017.0, 2017.0, 2017.0, 2017.0, 2017.0, 2018.0, 2018.0, 2018.0, 2018.0, 2018.0, 2018.0, 2018.0, 2018.0, 2018.0, 2018.0, 2019.0, 2019.0, 2019.0, 2019.0, 2019.0, 2019.0, 2019.0, 2019.0, 2019.0, 2019.0, 2020.0, 2020.0, 2020.0, 2020.0, 2020.0, 2020.0, 2020.0, 2020.0, 2020.0, 2020.0, 2021.0, 2021.0, 2021.0, 2021.0, 2021.0, 2021.0, 2021.0, 2021.0, 2021.0, 2021.0, 2022.0, 2022.0, 2022.0, 2022.0, 2022.0, 2022.0, 2022.0, 2022.0, 2022.0, 2022.0]}, {\"name\": \"Nombre_Empresa_clean\", \"type\": \"dimension\", \"values\": [\"LATAM\", \"ACES\", \"SAM\", \"INTER\", \"HELICOL\", \"AVIANCA\", \"AEROTACA\", \"VERTICAL DE AVIACION\", \"APSA\", \"SATENA\", \"AVIANCA\", \"AEROTACA\", \"AEROREPUBLICA\", \"HELICOL\", \"SATENA\", \"VERTICAL DE AVIACION\", \"LATAM\", \"SAM\", \"INTER\", \"ACES\", \"SATENA\", \"HELICOL\", \"AEROTACA\", \"LATAM\", \"AEROREPUBLICA\", \"SAM\", \"INTER\", \"VERTICAL DE AVIACION\", \"ACES\", \"AVIANCA\", \"SAM\", \"ACES\", \"AEROTACA\", \"VERTICAL DE AVIACION\", \"SATENA\", \"AVIANCA\", \"LATAM\", \"INTER\", \"AEROREPUBLICA\", \"HELICOL\", \"AVIANCA\", \"ACES\", \"AEROTACA\", \"VERTICAL DE AVIACION\", \"HELICOL\", \"SATENA\", \"INTER\", \"LATAM\", \"SAM\", \"AEROREPUBLICA\", \"ACES\", \"AEROREPUBLICA\", \"LATAM\", \"SATENA\", \"VERTICAL DE AVIACION\", \"HELICOL\", \"AEROTACA\", \"AVIANCA\", \"INTER\", \"SAM\", \"INTER\", \"VERTICAL DE AVIACION\", \"HELICOL\", \"LATAM\", \"SATENA\", \"AEROTACA\", \"AVIANCA\", \"SAM\", \"ACES\", \"AEROREPUBLICA\", \"AEROTACA\", \"AEROREPUBLICA\", \"SAM\", \"LATAM\", \"INTER\", \"SATENA\", \"VERTICAL DE AVIACION\", \"HELICOL\", \"AVIANCA\", \"ACES\", \"AVIANCA\", \"ACES\", \"AEROREPUBLICA\", \"LATAM\", \"SAM\", \"SATENA\", \"INTER\", \"HELICOL\", \"AEROTACA\", \"SEARCA S.A.\", \"AEROTACA\", \"INTER\", \"WEST CARIBBEAN\", \"HELICOL\", \"ACES\", \"AVIANCA\", \"SAM\", \"LATAM\", \"SATENA\", \"AEROREPUBLICA\", \"INTER\", \"WEST CARIBBEAN\", \"LATAM\", \"SAM\", \"AEROREPUBLICA\", \"AVIANCA\", \"HELICOL\", \"AEROTACA\", \"SATENA\", \"ACES\", \"SATENA\", \"HELICOL\", \"SEARCA S.A.\", \"INTER\", \"WEST CARIBBEAN\", \"LATAM\", \"ACES\", \"SAM\", \"AEROREPUBLICA\", \"AVIANCA\", \"SEARCA S.A.\", \"AVIANCA\", \"AEROREPUBLICA\", \"WEST CARIBBEAN\", \"ADA\", \"LATAM\", \"SAM\", \"INTER\", \"SATENA\", \"REGION AIR\", \"TAC\", \"AVIANCA\", \"AEROREPUBLICA\", \"SAM\", \"SATENA\", \"LATAM\", \"WEST CARIBBEAN\", \"ADA\", \"SEARCA S.A.\", \"SARPA S.A.S\", \"AVIANCA\", \"SAM\", \"AEROREPUBLICA\", \"LATAM\", \"ADA\", \"VIARCO\", \"SARPA S.A.S\", \"TAC\", \"SEARCA S.A.\", \"SATENA\", \"AEROREPUBLICA\", \"SAM\", \"SATENA\", \"LATAM\", \"ADA\", \"SEARCA S.A.\", \"TAC\", \"ALPES S.A.S\", \"AEXPA\", \"AVIANCA\", \"SAM\", \"AEROREPUBLICA\", \"SATENA\", \"LATAM\", \"EASYFLY S.A\", \"AVIANCA\", \"SEARCA S.A.\", \"TAC\", \"SARPA S.A.S\", \"ADA\", \"SADELCA\", \"PETROLEUM\", \"SEARCA S.A.\", \"ADA\", \"EASYFLY S.A\", \"LATAM\", \"AEROREPUBLICA\", \"SAM\", \"SATENA\", \"AVIANCA\", \"TAC\", \"SEARCA S.A.\", \"ADA\", \"PETROLEUM\", \"SATENA\", \"SAM\", \"AEROREPUBLICA\", \"LATAM\", \"EASYFLY S.A\", \"AVIANCA\", \"PETROLEUM\", \"SARPA S.A.S\", \"SEARCA S.A.\", \"TAC\", \"EASYFLY S.A\", \"AEROREPUBLICA\", \"LATAM\", \"AVIANCA\", \"ADA\", \"SATENA\", \"AVIANCA\", \"LATAM\", \"AEROREPUBLICA\", \"SATENA\", \"EASYFLY S.A\", \"VIVA AIR\", \"ADA\", \"SEARCA S.A.\", \"SARPA S.A.S\", \"TAC\", \"LATAM\", \"VIVA AIR\", \"AEROREPUBLICA\", \"SATENA\", \"EASYFLY S.A\", \"ADA\", \"SEARCA S.A.\", \"PETROLEUM\", \"TAC\", \"AVIANCA\", \"AVIANCA\", \"LATAM\", \"VIVA AIR\", \"SATENA\", \"EASYFLY S.A\", \"ADA\", \"SEARCA S.A.\", \"HELICOL\", \"SARPA S.A.S\", \"AEROREPUBLICA\", \"TAC\", \"HELICOL\", \"SEARCA S.A.\", \"AEROREPUBLICA\", \"ADA\", \"EASYFLY S.A\", \"SATENA\", \"VIVA AIR\", \"LATAM\", \"AVIANCA\", \"SELVA\", \"VIVA AIR\", \"LATAM\", \"AVIANCA\", \"SATENA\", \"EASYFLY S.A\", \"ADA\", \"AEROREPUBLICA\", \"ANDES LINEAS AEREAS S.A.\", \"ALIANSA\", \"TAC\", \"SEARCA S.A.\", \"LATAM\", \"AVIANCA\", \"ADA\", \"AEROREPUBLICA\", \"HELICOL\", \"SATENA\", \"VIVA AIR\", \"EASYFLY S.A\", \"SARPA S.A.S\", \"HELICOL\", \"ADA\", \"AEROREPUBLICA\", \"SATENA\", \"EASYFLY S.A\", \"VIVA AIR\", \"LATAM\", \"AVIANCA\", \"SEARCA S.A.\", \"SARPA S.A.S\", \"LATAM\", \"HELICOL\", \"SEARCA S.A.\", \"AEROREPUBLICA\", \"REGIONAL EXPRESS AMERICAS\", \"SATENA\", \"EASYFLY S.A\", \"VIVA AIR\", \"AVIANCA\", \"AVIANCA\", \"LATAM\", \"SATENA\", \"VIVA AIR\", \"EASYFLY S.A\", \"REGIONAL EXPRESS AMERICAS\", \"SEARCA S.A.\", \"HELICOL\", \"GCA AIRLINES\", \"AEROREPUBLICA\", \"AVIANCA\", \"SARPA S.A.S\", \"AEROREPUBLICA\", \"SATENA\", \"SEARCA S.A.\", \"GCA AIRLINES\", \"EASYFLY S.A\", \"VIVA AIR\", \"LATAM\", \"HELICOL\", \"AVIANCA\", \"VIVA AIR\", \"EASYFLY S.A\", \"ULTRA AIR S.A.S.\", \"SATENA\", \"AEROREPUBLICA\", \"SEARCA S.A.\", \"HELICOL\", \"SARPA S.A.S\", \"LATAM\"]}, {\"name\": \"total_pasajeros\", \"type\": \"measure\", \"values\": [281649.0, 1189859.0, 1019539.0, 557442.0, 247727.0, 2584630.0, 106557.0, 91845.0, 36564.0, 245274.0, 2510643.0, 106413.0, 124761.0, 196187.0, 231298.0, 103768.0, 342778.0, 942934.0, 960658.0, 1340969.0, 184990.0, 94073.0, 114942.0, 391935.0, 505870.0, 766831.0, 830161.0, 93986.0, 1489618.0, 3039382.0, 1096570.0, 1543795.0, 109339.0, 117225.0, 246847.0, 3104505.0, 513222.0, 523463.0, 898617.0, 282771.0, 3124019.0, 1783031.0, 119084.0, 214478.0, 236094.0, 244958.0, 500966.0, 548570.0, 917615.0, 1019773.0, 1721058.0, 922609.0, 553367.0, 309122.0, 209467.0, 158735.0, 130126.0, 2859206.0, 489894.0, 1067425.0, 446812.0, 173080.0, 101750.0, 517937.0, 365704.0, 112528.0, 2746597.0, 1081306.0, 1769203.0, 874723.0, 53932.0, 973453.0, 763180.0, 504833.0, 352970.0, 339529.0, 163446.0, 89956.0, 2716037.0, 1893950.0, 2399120.0, 2147384.0, 1071977.0, 532882.0, 473495.0, 431107.0, 275532.0, 82549.0, 72445.0, 54561.0, 41420.0, 318732.0, 82897.0, 77030.0, 2128197.0, 2063974.0, 766289.0, 515118.0, 491044.0, 1144961.0, 339710.0, 172654.0, 548668.0, 740577.0, 1355567.0, 2533882.0, 75377.0, 46981.0, 486694.0, 1555111.0, 561100.0, 40686.0, 67632.0, 285556.0, 307161.0, 550113.0, 652334.0, 800407.0, 1583226.0, 2708883.0, 62000.0, 2823002.0, 2039904.0, 556252.0, 96997.0, 640198.0, 823463.0, 55344.0, 682998.0, 17104.0, 19862.0, 3323832.0, 1957754.0, 851117.0, 712648.0, 636330.0, 176391.0, 145083.0, 101403.0, 15925.0, 3536402.0, 1124550.0, 2079751.0, 633517.0, 184687.0, 13750.0, 21803.0, 26156.0, 92699.0, 873626.0, 1859967.0, 1609722.0, 1018142.0, 695811.0, 189941.0, 120144.0, 17277.0, 11727.0, 11664.0, 3568882.0, 1812034.0, 1594265.0, 999824.0, 832653.0, 171283.0, 3667045.0, 154138.0, 26456.0, 31390.0, 159130.0, 11201.0, 17789.0, 149099.0, 169484.0, 279001.0, 1547828.0, 1820425.0, 1975001.0, 951732.0, 3670996.0, 39224.0, 174687.0, 205833.0, 15993.0, 919281.0, 1566386.0, 2019984.0, 2815373.0, 366855.0, 5710291.0, 23578.0, 26909.0, 210008.0, 37520.0, 534738.0, 1635006.0, 2843988.0, 8098564.0, 243124.0, 827381.0, 9714148.0, 3193908.0, 1346329.0, 751437.0, 632534.0, 558120.0, 260713.0, 215099.0, 36500.0, 53214.0, 3597499.0, 1837135.0, 1135150.0, 790352.0, 742974.0, 274250.0, 179708.0, 67914.0, 58755.0, 10864469.0, 12036707.0, 3696875.0, 2220823.0, 900578.0, 797462.0, 290029.0, 198970.0, 99887.0, 47400.0, 497940.0, 56579.0, 76966.0, 95051.0, 315646.0, 341410.0, 935875.0, 1004541.0, 2670393.0, 4059152.0, 13379823.0, 0.0, 3128588.0, 4266909.0, 13681761.0, 985585.0, 965337.0, 298094.0, 210550.0, 769.0, 19395.0, 43132.0, 117197.0, 4495873.0, 12643114.0, 228555.0, 348688.0, 68010.0, 1039512.0, 3166107.0, 989176.0, 106644.0, 115495.0, 339067.0, 697691.0, 1863716.0, 1979783.0, 5275081.0, 8071003.0, 21938740.0, 130263.0, 49338.0, 5042153.0, 59065.0, 129552.0, 364961.0, 460977.0, 1039739.0, 1790897.0, 3779806.0, 11798224.0, 10068286.0, 5657568.0, 1148877.0, 4819742.0, 2006639.0, 193343.0, 104603.0, 62694.0, 59752.0, 548218.0, 11591137.0, 52709.0, 1196252.0, 1353200.0, 129490.0, 281225.0, 2027622.0, 7128697.0, 8311060.0, 51386.0, 11980650.0, 6629304.0, 1917401.0, 1431408.0, 1040604.0, 881517.0, 124424.0, 50328.0, 42354.0, 8431078.0]}]}} }, undefined);"
     },
     "metadata": {},
     "output_type": "display_data"
    },
    {
     "data": {
      "application/javascript": "window.ipyvizzu.animate(element, '8affe14', '25a36af', 'begin', false, lib => { return {\"data\": {\"filter\": record => { return (record['año'] == 1992) }}, \"config\": {\"channels\": {\"x\": {\"set\": [\"total_pasajeros\"]}, \"y\": {\"set\": [\"Nombre_Empresa_clean\"]}, \"color\": {\"set\": [\"Nombre_Empresa_clean\"]}, \"label\": {\"set\": [\"total_pasajeros\"]}}, \"sort\": \"byValue\", \"legend\": null, \"title\": \"N\\u00famero de pasajeros por aerol\\u00ednea en 1992\"}, \"style\": {\"plot\": {\"marker\": {\"colorPalette\": \"#d9ed92ff #b5e48cff #99D986 #76c893ff #52b69aff #34a0a4ff #168aadff #1a759fff #1e6091ff #184e77ff\", \"label\": {\"maxFractionDigits\": \"0\"}}, \"paddingLeft\": \"19em\", \"xAxis\": {\"title\": {\"color\": \"#00000000\"}}}}} }, {\"duration\": 0.8, \"x\": {\"easing\": \"linear\", \"delay\": 0}, \"y\": {\"delay\": 0}, \"show\": {\"delay\": 0}, \"hide\": {\"delay\": 0}, \"title\": {\"duration\": 0, \"delay\": 0}});"
     },
     "metadata": {},
     "output_type": "display_data"
    },
    {
     "data": {
      "application/javascript": "window.ipyvizzu.animate(element, '8affe14', '4d8ea0d', 'begin', false, lib => { return {\"data\": {\"filter\": record => { return (record['año'] == 1993) }}, \"config\": {\"channels\": {\"x\": {\"set\": [\"total_pasajeros\"]}, \"y\": {\"set\": [\"Nombre_Empresa_clean\"]}, \"color\": {\"set\": [\"Nombre_Empresa_clean\"]}, \"label\": {\"set\": [\"total_pasajeros\"]}}, \"sort\": \"byValue\", \"legend\": null, \"title\": \"N\\u00famero de pasajeros por aerol\\u00ednea en 1993\"}, \"style\": {\"plot\": {\"marker\": {\"colorPalette\": \"#d9ed92ff #b5e48cff #99D986 #76c893ff #52b69aff #34a0a4ff #168aadff #1a759fff #1e6091ff #184e77ff\", \"label\": {\"maxFractionDigits\": \"0\"}}, \"paddingLeft\": \"19em\", \"xAxis\": {\"title\": {\"color\": \"#00000000\"}}}}} }, {\"duration\": 0.8, \"x\": {\"easing\": \"linear\", \"delay\": 0}, \"y\": {\"delay\": 0}, \"show\": {\"delay\": 0}, \"hide\": {\"delay\": 0}, \"title\": {\"duration\": 0, \"delay\": 0}});"
     },
     "metadata": {},
     "output_type": "display_data"
    },
    {
     "data": {
      "application/javascript": "window.ipyvizzu.animate(element, '8affe14', 'e005701', 'begin', false, lib => { return {\"data\": {\"filter\": record => { return (record['año'] == 1994) }}, \"config\": {\"channels\": {\"x\": {\"set\": [\"total_pasajeros\"]}, \"y\": {\"set\": [\"Nombre_Empresa_clean\"]}, \"color\": {\"set\": [\"Nombre_Empresa_clean\"]}, \"label\": {\"set\": [\"total_pasajeros\"]}}, \"sort\": \"byValue\", \"legend\": null, \"title\": \"N\\u00famero de pasajeros por aerol\\u00ednea en 1994\"}, \"style\": {\"plot\": {\"marker\": {\"colorPalette\": \"#d9ed92ff #b5e48cff #99D986 #76c893ff #52b69aff #34a0a4ff #168aadff #1a759fff #1e6091ff #184e77ff\", \"label\": {\"maxFractionDigits\": \"0\"}}, \"paddingLeft\": \"19em\", \"xAxis\": {\"title\": {\"color\": \"#00000000\"}}}}} }, {\"duration\": 0.8, \"x\": {\"easing\": \"linear\", \"delay\": 0}, \"y\": {\"delay\": 0}, \"show\": {\"delay\": 0}, \"hide\": {\"delay\": 0}, \"title\": {\"duration\": 0, \"delay\": 0}});"
     },
     "metadata": {},
     "output_type": "display_data"
    },
    {
     "data": {
      "application/javascript": "window.ipyvizzu.animate(element, '8affe14', '529f559', 'begin', false, lib => { return {\"data\": {\"filter\": record => { return (record['año'] == 1995) }}, \"config\": {\"channels\": {\"x\": {\"set\": [\"total_pasajeros\"]}, \"y\": {\"set\": [\"Nombre_Empresa_clean\"]}, \"color\": {\"set\": [\"Nombre_Empresa_clean\"]}, \"label\": {\"set\": [\"total_pasajeros\"]}}, \"sort\": \"byValue\", \"legend\": null, \"title\": \"N\\u00famero de pasajeros por aerol\\u00ednea en 1995\"}, \"style\": {\"plot\": {\"marker\": {\"colorPalette\": \"#d9ed92ff #b5e48cff #99D986 #76c893ff #52b69aff #34a0a4ff #168aadff #1a759fff #1e6091ff #184e77ff\", \"label\": {\"maxFractionDigits\": \"0\"}}, \"paddingLeft\": \"19em\", \"xAxis\": {\"title\": {\"color\": \"#00000000\"}}}}} }, {\"duration\": 0.8, \"x\": {\"easing\": \"linear\", \"delay\": 0}, \"y\": {\"delay\": 0}, \"show\": {\"delay\": 0}, \"hide\": {\"delay\": 0}, \"title\": {\"duration\": 0, \"delay\": 0}});"
     },
     "metadata": {},
     "output_type": "display_data"
    },
    {
     "data": {
      "application/javascript": "window.ipyvizzu.animate(element, '8affe14', '9d111ee', 'begin', false, lib => { return {\"data\": {\"filter\": record => { return (record['año'] == 1996) }}, \"config\": {\"channels\": {\"x\": {\"set\": [\"total_pasajeros\"]}, \"y\": {\"set\": [\"Nombre_Empresa_clean\"]}, \"color\": {\"set\": [\"Nombre_Empresa_clean\"]}, \"label\": {\"set\": [\"total_pasajeros\"]}}, \"sort\": \"byValue\", \"legend\": null, \"title\": \"N\\u00famero de pasajeros por aerol\\u00ednea en 1996\"}, \"style\": {\"plot\": {\"marker\": {\"colorPalette\": \"#d9ed92ff #b5e48cff #99D986 #76c893ff #52b69aff #34a0a4ff #168aadff #1a759fff #1e6091ff #184e77ff\", \"label\": {\"maxFractionDigits\": \"0\"}}, \"paddingLeft\": \"19em\", \"xAxis\": {\"title\": {\"color\": \"#00000000\"}}}}} }, {\"duration\": 0.8, \"x\": {\"easing\": \"linear\", \"delay\": 0}, \"y\": {\"delay\": 0}, \"show\": {\"delay\": 0}, \"hide\": {\"delay\": 0}, \"title\": {\"duration\": 0, \"delay\": 0}});"
     },
     "metadata": {},
     "output_type": "display_data"
    },
    {
     "data": {
      "application/javascript": "window.ipyvizzu.animate(element, '8affe14', '00af9ba', 'begin', false, lib => { return {\"data\": {\"filter\": record => { return (record['año'] == 1997) }}, \"config\": {\"channels\": {\"x\": {\"set\": [\"total_pasajeros\"]}, \"y\": {\"set\": [\"Nombre_Empresa_clean\"]}, \"color\": {\"set\": [\"Nombre_Empresa_clean\"]}, \"label\": {\"set\": [\"total_pasajeros\"]}}, \"sort\": \"byValue\", \"legend\": null, \"title\": \"N\\u00famero de pasajeros por aerol\\u00ednea en 1997\"}, \"style\": {\"plot\": {\"marker\": {\"colorPalette\": \"#d9ed92ff #b5e48cff #99D986 #76c893ff #52b69aff #34a0a4ff #168aadff #1a759fff #1e6091ff #184e77ff\", \"label\": {\"maxFractionDigits\": \"0\"}}, \"paddingLeft\": \"19em\", \"xAxis\": {\"title\": {\"color\": \"#00000000\"}}}}} }, {\"duration\": 0.8, \"x\": {\"easing\": \"linear\", \"delay\": 0}, \"y\": {\"delay\": 0}, \"show\": {\"delay\": 0}, \"hide\": {\"delay\": 0}, \"title\": {\"duration\": 0, \"delay\": 0}});"
     },
     "metadata": {},
     "output_type": "display_data"
    },
    {
     "data": {
      "application/javascript": "window.ipyvizzu.animate(element, '8affe14', '35a2924', 'begin', false, lib => { return {\"data\": {\"filter\": record => { return (record['año'] == 1998) }}, \"config\": {\"channels\": {\"x\": {\"set\": [\"total_pasajeros\"]}, \"y\": {\"set\": [\"Nombre_Empresa_clean\"]}, \"color\": {\"set\": [\"Nombre_Empresa_clean\"]}, \"label\": {\"set\": [\"total_pasajeros\"]}}, \"sort\": \"byValue\", \"legend\": null, \"title\": \"N\\u00famero de pasajeros por aerol\\u00ednea en 1998\"}, \"style\": {\"plot\": {\"marker\": {\"colorPalette\": \"#d9ed92ff #b5e48cff #99D986 #76c893ff #52b69aff #34a0a4ff #168aadff #1a759fff #1e6091ff #184e77ff\", \"label\": {\"maxFractionDigits\": \"0\"}}, \"paddingLeft\": \"19em\", \"xAxis\": {\"title\": {\"color\": \"#00000000\"}}}}} }, {\"duration\": 0.8, \"x\": {\"easing\": \"linear\", \"delay\": 0}, \"y\": {\"delay\": 0}, \"show\": {\"delay\": 0}, \"hide\": {\"delay\": 0}, \"title\": {\"duration\": 0, \"delay\": 0}});"
     },
     "metadata": {},
     "output_type": "display_data"
    },
    {
     "data": {
      "application/javascript": "window.ipyvizzu.animate(element, '8affe14', '8895eef', 'begin', false, lib => { return {\"data\": {\"filter\": record => { return (record['año'] == 1999) }}, \"config\": {\"channels\": {\"x\": {\"set\": [\"total_pasajeros\"]}, \"y\": {\"set\": [\"Nombre_Empresa_clean\"]}, \"color\": {\"set\": [\"Nombre_Empresa_clean\"]}, \"label\": {\"set\": [\"total_pasajeros\"]}}, \"sort\": \"byValue\", \"legend\": null, \"title\": \"N\\u00famero de pasajeros por aerol\\u00ednea en 1999\"}, \"style\": {\"plot\": {\"marker\": {\"colorPalette\": \"#d9ed92ff #b5e48cff #99D986 #76c893ff #52b69aff #34a0a4ff #168aadff #1a759fff #1e6091ff #184e77ff\", \"label\": {\"maxFractionDigits\": \"0\"}}, \"paddingLeft\": \"19em\", \"xAxis\": {\"title\": {\"color\": \"#00000000\"}}}}} }, {\"duration\": 0.8, \"x\": {\"easing\": \"linear\", \"delay\": 0}, \"y\": {\"delay\": 0}, \"show\": {\"delay\": 0}, \"hide\": {\"delay\": 0}, \"title\": {\"duration\": 0, \"delay\": 0}});"
     },
     "metadata": {},
     "output_type": "display_data"
    },
    {
     "data": {
      "application/javascript": "window.ipyvizzu.animate(element, '8affe14', '487d86a', 'begin', false, lib => { return {\"data\": {\"filter\": record => { return (record['año'] == 2000) }}, \"config\": {\"channels\": {\"x\": {\"set\": [\"total_pasajeros\"]}, \"y\": {\"set\": [\"Nombre_Empresa_clean\"]}, \"color\": {\"set\": [\"Nombre_Empresa_clean\"]}, \"label\": {\"set\": [\"total_pasajeros\"]}}, \"sort\": \"byValue\", \"legend\": null, \"title\": \"N\\u00famero de pasajeros por aerol\\u00ednea en 2000\"}, \"style\": {\"plot\": {\"marker\": {\"colorPalette\": \"#d9ed92ff #b5e48cff #99D986 #76c893ff #52b69aff #34a0a4ff #168aadff #1a759fff #1e6091ff #184e77ff\", \"label\": {\"maxFractionDigits\": \"0\"}}, \"paddingLeft\": \"19em\", \"xAxis\": {\"title\": {\"color\": \"#00000000\"}}}}} }, {\"duration\": 0.8, \"x\": {\"easing\": \"linear\", \"delay\": 0}, \"y\": {\"delay\": 0}, \"show\": {\"delay\": 0}, \"hide\": {\"delay\": 0}, \"title\": {\"duration\": 0, \"delay\": 0}});"
     },
     "metadata": {},
     "output_type": "display_data"
    },
    {
     "data": {
      "application/javascript": "window.ipyvizzu.animate(element, '8affe14', '4ef241e', 'begin', false, lib => { return {\"data\": {\"filter\": record => { return (record['año'] == 2001) }}, \"config\": {\"channels\": {\"x\": {\"set\": [\"total_pasajeros\"]}, \"y\": {\"set\": [\"Nombre_Empresa_clean\"]}, \"color\": {\"set\": [\"Nombre_Empresa_clean\"]}, \"label\": {\"set\": [\"total_pasajeros\"]}}, \"sort\": \"byValue\", \"legend\": null, \"title\": \"N\\u00famero de pasajeros por aerol\\u00ednea en 2001\"}, \"style\": {\"plot\": {\"marker\": {\"colorPalette\": \"#d9ed92ff #b5e48cff #99D986 #76c893ff #52b69aff #34a0a4ff #168aadff #1a759fff #1e6091ff #184e77ff\", \"label\": {\"maxFractionDigits\": \"0\"}}, \"paddingLeft\": \"19em\", \"xAxis\": {\"title\": {\"color\": \"#00000000\"}}}}} }, {\"duration\": 0.8, \"x\": {\"easing\": \"linear\", \"delay\": 0}, \"y\": {\"delay\": 0}, \"show\": {\"delay\": 0}, \"hide\": {\"delay\": 0}, \"title\": {\"duration\": 0, \"delay\": 0}});"
     },
     "metadata": {},
     "output_type": "display_data"
    },
    {
     "data": {
      "application/javascript": "window.ipyvizzu.animate(element, '8affe14', '707855b', 'begin', false, lib => { return {\"data\": {\"filter\": record => { return (record['año'] == 2002) }}, \"config\": {\"channels\": {\"x\": {\"set\": [\"total_pasajeros\"]}, \"y\": {\"set\": [\"Nombre_Empresa_clean\"]}, \"color\": {\"set\": [\"Nombre_Empresa_clean\"]}, \"label\": {\"set\": [\"total_pasajeros\"]}}, \"sort\": \"byValue\", \"legend\": null, \"title\": \"N\\u00famero de pasajeros por aerol\\u00ednea en 2002\"}, \"style\": {\"plot\": {\"marker\": {\"colorPalette\": \"#d9ed92ff #b5e48cff #99D986 #76c893ff #52b69aff #34a0a4ff #168aadff #1a759fff #1e6091ff #184e77ff\", \"label\": {\"maxFractionDigits\": \"0\"}}, \"paddingLeft\": \"19em\", \"xAxis\": {\"title\": {\"color\": \"#00000000\"}}}}} }, {\"duration\": 0.8, \"x\": {\"easing\": \"linear\", \"delay\": 0}, \"y\": {\"delay\": 0}, \"show\": {\"delay\": 0}, \"hide\": {\"delay\": 0}, \"title\": {\"duration\": 0, \"delay\": 0}});"
     },
     "metadata": {},
     "output_type": "display_data"
    },
    {
     "data": {
      "application/javascript": "window.ipyvizzu.animate(element, '8affe14', '9d39e2e', 'begin', false, lib => { return {\"data\": {\"filter\": record => { return (record['año'] == 2003) }}, \"config\": {\"channels\": {\"x\": {\"set\": [\"total_pasajeros\"]}, \"y\": {\"set\": [\"Nombre_Empresa_clean\"]}, \"color\": {\"set\": [\"Nombre_Empresa_clean\"]}, \"label\": {\"set\": [\"total_pasajeros\"]}}, \"sort\": \"byValue\", \"legend\": null, \"title\": \"N\\u00famero de pasajeros por aerol\\u00ednea en 2003\"}, \"style\": {\"plot\": {\"marker\": {\"colorPalette\": \"#d9ed92ff #b5e48cff #99D986 #76c893ff #52b69aff #34a0a4ff #168aadff #1a759fff #1e6091ff #184e77ff\", \"label\": {\"maxFractionDigits\": \"0\"}}, \"paddingLeft\": \"19em\", \"xAxis\": {\"title\": {\"color\": \"#00000000\"}}}}} }, {\"duration\": 0.8, \"x\": {\"easing\": \"linear\", \"delay\": 0}, \"y\": {\"delay\": 0}, \"show\": {\"delay\": 0}, \"hide\": {\"delay\": 0}, \"title\": {\"duration\": 0, \"delay\": 0}});"
     },
     "metadata": {},
     "output_type": "display_data"
    },
    {
     "data": {
      "application/javascript": "window.ipyvizzu.animate(element, '8affe14', '7590f87', 'begin', false, lib => { return {\"data\": {\"filter\": record => { return (record['año'] == 2004) }}, \"config\": {\"channels\": {\"x\": {\"set\": [\"total_pasajeros\"]}, \"y\": {\"set\": [\"Nombre_Empresa_clean\"]}, \"color\": {\"set\": [\"Nombre_Empresa_clean\"]}, \"label\": {\"set\": [\"total_pasajeros\"]}}, \"sort\": \"byValue\", \"legend\": null, \"title\": \"N\\u00famero de pasajeros por aerol\\u00ednea en 2004\"}, \"style\": {\"plot\": {\"marker\": {\"colorPalette\": \"#d9ed92ff #b5e48cff #99D986 #76c893ff #52b69aff #34a0a4ff #168aadff #1a759fff #1e6091ff #184e77ff\", \"label\": {\"maxFractionDigits\": \"0\"}}, \"paddingLeft\": \"19em\", \"xAxis\": {\"title\": {\"color\": \"#00000000\"}}}}} }, {\"duration\": 0.8, \"x\": {\"easing\": \"linear\", \"delay\": 0}, \"y\": {\"delay\": 0}, \"show\": {\"delay\": 0}, \"hide\": {\"delay\": 0}, \"title\": {\"duration\": 0, \"delay\": 0}});"
     },
     "metadata": {},
     "output_type": "display_data"
    },
    {
     "data": {
      "application/javascript": "window.ipyvizzu.animate(element, '8affe14', '44e195f', 'begin', false, lib => { return {\"data\": {\"filter\": record => { return (record['año'] == 2005) }}, \"config\": {\"channels\": {\"x\": {\"set\": [\"total_pasajeros\"]}, \"y\": {\"set\": [\"Nombre_Empresa_clean\"]}, \"color\": {\"set\": [\"Nombre_Empresa_clean\"]}, \"label\": {\"set\": [\"total_pasajeros\"]}}, \"sort\": \"byValue\", \"legend\": null, \"title\": \"N\\u00famero de pasajeros por aerol\\u00ednea en 2005\"}, \"style\": {\"plot\": {\"marker\": {\"colorPalette\": \"#d9ed92ff #b5e48cff #99D986 #76c893ff #52b69aff #34a0a4ff #168aadff #1a759fff #1e6091ff #184e77ff\", \"label\": {\"maxFractionDigits\": \"0\"}}, \"paddingLeft\": \"19em\", \"xAxis\": {\"title\": {\"color\": \"#00000000\"}}}}} }, {\"duration\": 0.8, \"x\": {\"easing\": \"linear\", \"delay\": 0}, \"y\": {\"delay\": 0}, \"show\": {\"delay\": 0}, \"hide\": {\"delay\": 0}, \"title\": {\"duration\": 0, \"delay\": 0}});"
     },
     "metadata": {},
     "output_type": "display_data"
    },
    {
     "data": {
      "application/javascript": "window.ipyvizzu.animate(element, '8affe14', '1a79a79', 'begin', false, lib => { return {\"data\": {\"filter\": record => { return (record['año'] == 2006) }}, \"config\": {\"channels\": {\"x\": {\"set\": [\"total_pasajeros\"]}, \"y\": {\"set\": [\"Nombre_Empresa_clean\"]}, \"color\": {\"set\": [\"Nombre_Empresa_clean\"]}, \"label\": {\"set\": [\"total_pasajeros\"]}}, \"sort\": \"byValue\", \"legend\": null, \"title\": \"N\\u00famero de pasajeros por aerol\\u00ednea en 2006\"}, \"style\": {\"plot\": {\"marker\": {\"colorPalette\": \"#d9ed92ff #b5e48cff #99D986 #76c893ff #52b69aff #34a0a4ff #168aadff #1a759fff #1e6091ff #184e77ff\", \"label\": {\"maxFractionDigits\": \"0\"}}, \"paddingLeft\": \"19em\", \"xAxis\": {\"title\": {\"color\": \"#00000000\"}}}}} }, {\"duration\": 0.8, \"x\": {\"easing\": \"linear\", \"delay\": 0}, \"y\": {\"delay\": 0}, \"show\": {\"delay\": 0}, \"hide\": {\"delay\": 0}, \"title\": {\"duration\": 0, \"delay\": 0}});"
     },
     "metadata": {},
     "output_type": "display_data"
    },
    {
     "data": {
      "application/javascript": "window.ipyvizzu.animate(element, '8affe14', '1faa938', 'begin', false, lib => { return {\"data\": {\"filter\": record => { return (record['año'] == 2007) }}, \"config\": {\"channels\": {\"x\": {\"set\": [\"total_pasajeros\"]}, \"y\": {\"set\": [\"Nombre_Empresa_clean\"]}, \"color\": {\"set\": [\"Nombre_Empresa_clean\"]}, \"label\": {\"set\": [\"total_pasajeros\"]}}, \"sort\": \"byValue\", \"legend\": null, \"title\": \"N\\u00famero de pasajeros por aerol\\u00ednea en 2007\"}, \"style\": {\"plot\": {\"marker\": {\"colorPalette\": \"#d9ed92ff #b5e48cff #99D986 #76c893ff #52b69aff #34a0a4ff #168aadff #1a759fff #1e6091ff #184e77ff\", \"label\": {\"maxFractionDigits\": \"0\"}}, \"paddingLeft\": \"19em\", \"xAxis\": {\"title\": {\"color\": \"#00000000\"}}}}} }, {\"duration\": 0.8, \"x\": {\"easing\": \"linear\", \"delay\": 0}, \"y\": {\"delay\": 0}, \"show\": {\"delay\": 0}, \"hide\": {\"delay\": 0}, \"title\": {\"duration\": 0, \"delay\": 0}});"
     },
     "metadata": {},
     "output_type": "display_data"
    },
    {
     "data": {
      "application/javascript": "window.ipyvizzu.animate(element, '8affe14', '068d563', 'begin', false, lib => { return {\"data\": {\"filter\": record => { return (record['año'] == 2008) }}, \"config\": {\"channels\": {\"x\": {\"set\": [\"total_pasajeros\"]}, \"y\": {\"set\": [\"Nombre_Empresa_clean\"]}, \"color\": {\"set\": [\"Nombre_Empresa_clean\"]}, \"label\": {\"set\": [\"total_pasajeros\"]}}, \"sort\": \"byValue\", \"legend\": null, \"title\": \"N\\u00famero de pasajeros por aerol\\u00ednea en 2008\"}, \"style\": {\"plot\": {\"marker\": {\"colorPalette\": \"#d9ed92ff #b5e48cff #99D986 #76c893ff #52b69aff #34a0a4ff #168aadff #1a759fff #1e6091ff #184e77ff\", \"label\": {\"maxFractionDigits\": \"0\"}}, \"paddingLeft\": \"19em\", \"xAxis\": {\"title\": {\"color\": \"#00000000\"}}}}} }, {\"duration\": 0.8, \"x\": {\"easing\": \"linear\", \"delay\": 0}, \"y\": {\"delay\": 0}, \"show\": {\"delay\": 0}, \"hide\": {\"delay\": 0}, \"title\": {\"duration\": 0, \"delay\": 0}});"
     },
     "metadata": {},
     "output_type": "display_data"
    },
    {
     "data": {
      "application/javascript": "window.ipyvizzu.animate(element, '8affe14', 'e62093b', 'begin', false, lib => { return {\"data\": {\"filter\": record => { return (record['año'] == 2009) }}, \"config\": {\"channels\": {\"x\": {\"set\": [\"total_pasajeros\"]}, \"y\": {\"set\": [\"Nombre_Empresa_clean\"]}, \"color\": {\"set\": [\"Nombre_Empresa_clean\"]}, \"label\": {\"set\": [\"total_pasajeros\"]}}, \"sort\": \"byValue\", \"legend\": null, \"title\": \"N\\u00famero de pasajeros por aerol\\u00ednea en 2009\"}, \"style\": {\"plot\": {\"marker\": {\"colorPalette\": \"#d9ed92ff #b5e48cff #99D986 #76c893ff #52b69aff #34a0a4ff #168aadff #1a759fff #1e6091ff #184e77ff\", \"label\": {\"maxFractionDigits\": \"0\"}}, \"paddingLeft\": \"19em\", \"xAxis\": {\"title\": {\"color\": \"#00000000\"}}}}} }, {\"duration\": 0.8, \"x\": {\"easing\": \"linear\", \"delay\": 0}, \"y\": {\"delay\": 0}, \"show\": {\"delay\": 0}, \"hide\": {\"delay\": 0}, \"title\": {\"duration\": 0, \"delay\": 0}});"
     },
     "metadata": {},
     "output_type": "display_data"
    },
    {
     "data": {
      "application/javascript": "window.ipyvizzu.animate(element, '8affe14', '2b94871', 'begin', false, lib => { return {\"data\": {\"filter\": record => { return (record['año'] == 2010) }}, \"config\": {\"channels\": {\"x\": {\"set\": [\"total_pasajeros\"]}, \"y\": {\"set\": [\"Nombre_Empresa_clean\"]}, \"color\": {\"set\": [\"Nombre_Empresa_clean\"]}, \"label\": {\"set\": [\"total_pasajeros\"]}}, \"sort\": \"byValue\", \"legend\": null, \"title\": \"N\\u00famero de pasajeros por aerol\\u00ednea en 2010\"}, \"style\": {\"plot\": {\"marker\": {\"colorPalette\": \"#d9ed92ff #b5e48cff #99D986 #76c893ff #52b69aff #34a0a4ff #168aadff #1a759fff #1e6091ff #184e77ff\", \"label\": {\"maxFractionDigits\": \"0\"}}, \"paddingLeft\": \"19em\", \"xAxis\": {\"title\": {\"color\": \"#00000000\"}}}}} }, {\"duration\": 0.8, \"x\": {\"easing\": \"linear\", \"delay\": 0}, \"y\": {\"delay\": 0}, \"show\": {\"delay\": 0}, \"hide\": {\"delay\": 0}, \"title\": {\"duration\": 0, \"delay\": 0}});"
     },
     "metadata": {},
     "output_type": "display_data"
    },
    {
     "data": {
      "application/javascript": "window.ipyvizzu.animate(element, '8affe14', '6df6465', 'begin', false, lib => { return {\"data\": {\"filter\": record => { return (record['año'] == 2011) }}, \"config\": {\"channels\": {\"x\": {\"set\": [\"total_pasajeros\"]}, \"y\": {\"set\": [\"Nombre_Empresa_clean\"]}, \"color\": {\"set\": [\"Nombre_Empresa_clean\"]}, \"label\": {\"set\": [\"total_pasajeros\"]}}, \"sort\": \"byValue\", \"legend\": null, \"title\": \"N\\u00famero de pasajeros por aerol\\u00ednea en 2011\"}, \"style\": {\"plot\": {\"marker\": {\"colorPalette\": \"#d9ed92ff #b5e48cff #99D986 #76c893ff #52b69aff #34a0a4ff #168aadff #1a759fff #1e6091ff #184e77ff\", \"label\": {\"maxFractionDigits\": \"0\"}}, \"paddingLeft\": \"19em\", \"xAxis\": {\"title\": {\"color\": \"#00000000\"}}}}} }, {\"duration\": 0.8, \"x\": {\"easing\": \"linear\", \"delay\": 0}, \"y\": {\"delay\": 0}, \"show\": {\"delay\": 0}, \"hide\": {\"delay\": 0}, \"title\": {\"duration\": 0, \"delay\": 0}});"
     },
     "metadata": {},
     "output_type": "display_data"
    },
    {
     "data": {
      "application/javascript": "window.ipyvizzu.animate(element, '8affe14', '69e0543', 'begin', false, lib => { return {\"data\": {\"filter\": record => { return (record['año'] == 2012) }}, \"config\": {\"channels\": {\"x\": {\"set\": [\"total_pasajeros\"]}, \"y\": {\"set\": [\"Nombre_Empresa_clean\"]}, \"color\": {\"set\": [\"Nombre_Empresa_clean\"]}, \"label\": {\"set\": [\"total_pasajeros\"]}}, \"sort\": \"byValue\", \"legend\": null, \"title\": \"N\\u00famero de pasajeros por aerol\\u00ednea en 2012\"}, \"style\": {\"plot\": {\"marker\": {\"colorPalette\": \"#d9ed92ff #b5e48cff #99D986 #76c893ff #52b69aff #34a0a4ff #168aadff #1a759fff #1e6091ff #184e77ff\", \"label\": {\"maxFractionDigits\": \"0\"}}, \"paddingLeft\": \"19em\", \"xAxis\": {\"title\": {\"color\": \"#00000000\"}}}}} }, {\"duration\": 0.8, \"x\": {\"easing\": \"linear\", \"delay\": 0}, \"y\": {\"delay\": 0}, \"show\": {\"delay\": 0}, \"hide\": {\"delay\": 0}, \"title\": {\"duration\": 0, \"delay\": 0}});"
     },
     "metadata": {},
     "output_type": "display_data"
    },
    {
     "data": {
      "application/javascript": "window.ipyvizzu.animate(element, '8affe14', 'e623bf8', 'begin', false, lib => { return {\"data\": {\"filter\": record => { return (record['año'] == 2013) }}, \"config\": {\"channels\": {\"x\": {\"set\": [\"total_pasajeros\"]}, \"y\": {\"set\": [\"Nombre_Empresa_clean\"]}, \"color\": {\"set\": [\"Nombre_Empresa_clean\"]}, \"label\": {\"set\": [\"total_pasajeros\"]}}, \"sort\": \"byValue\", \"legend\": null, \"title\": \"N\\u00famero de pasajeros por aerol\\u00ednea en 2013\"}, \"style\": {\"plot\": {\"marker\": {\"colorPalette\": \"#d9ed92ff #b5e48cff #99D986 #76c893ff #52b69aff #34a0a4ff #168aadff #1a759fff #1e6091ff #184e77ff\", \"label\": {\"maxFractionDigits\": \"0\"}}, \"paddingLeft\": \"19em\", \"xAxis\": {\"title\": {\"color\": \"#00000000\"}}}}} }, {\"duration\": 0.8, \"x\": {\"easing\": \"linear\", \"delay\": 0}, \"y\": {\"delay\": 0}, \"show\": {\"delay\": 0}, \"hide\": {\"delay\": 0}, \"title\": {\"duration\": 0, \"delay\": 0}});"
     },
     "metadata": {},
     "output_type": "display_data"
    },
    {
     "data": {
      "application/javascript": "window.ipyvizzu.animate(element, '8affe14', '54aa3ab', 'begin', false, lib => { return {\"data\": {\"filter\": record => { return (record['año'] == 2014) }}, \"config\": {\"channels\": {\"x\": {\"set\": [\"total_pasajeros\"]}, \"y\": {\"set\": [\"Nombre_Empresa_clean\"]}, \"color\": {\"set\": [\"Nombre_Empresa_clean\"]}, \"label\": {\"set\": [\"total_pasajeros\"]}}, \"sort\": \"byValue\", \"legend\": null, \"title\": \"N\\u00famero de pasajeros por aerol\\u00ednea en 2014\"}, \"style\": {\"plot\": {\"marker\": {\"colorPalette\": \"#d9ed92ff #b5e48cff #99D986 #76c893ff #52b69aff #34a0a4ff #168aadff #1a759fff #1e6091ff #184e77ff\", \"label\": {\"maxFractionDigits\": \"0\"}}, \"paddingLeft\": \"19em\", \"xAxis\": {\"title\": {\"color\": \"#00000000\"}}}}} }, {\"duration\": 0.8, \"x\": {\"easing\": \"linear\", \"delay\": 0}, \"y\": {\"delay\": 0}, \"show\": {\"delay\": 0}, \"hide\": {\"delay\": 0}, \"title\": {\"duration\": 0, \"delay\": 0}});"
     },
     "metadata": {},
     "output_type": "display_data"
    },
    {
     "data": {
      "application/javascript": "window.ipyvizzu.animate(element, '8affe14', 'ba3816f', 'begin', false, lib => { return {\"data\": {\"filter\": record => { return (record['año'] == 2015) }}, \"config\": {\"channels\": {\"x\": {\"set\": [\"total_pasajeros\"]}, \"y\": {\"set\": [\"Nombre_Empresa_clean\"]}, \"color\": {\"set\": [\"Nombre_Empresa_clean\"]}, \"label\": {\"set\": [\"total_pasajeros\"]}}, \"sort\": \"byValue\", \"legend\": null, \"title\": \"N\\u00famero de pasajeros por aerol\\u00ednea en 2015\"}, \"style\": {\"plot\": {\"marker\": {\"colorPalette\": \"#d9ed92ff #b5e48cff #99D986 #76c893ff #52b69aff #34a0a4ff #168aadff #1a759fff #1e6091ff #184e77ff\", \"label\": {\"maxFractionDigits\": \"0\"}}, \"paddingLeft\": \"19em\", \"xAxis\": {\"title\": {\"color\": \"#00000000\"}}}}} }, {\"duration\": 0.8, \"x\": {\"easing\": \"linear\", \"delay\": 0}, \"y\": {\"delay\": 0}, \"show\": {\"delay\": 0}, \"hide\": {\"delay\": 0}, \"title\": {\"duration\": 0, \"delay\": 0}});"
     },
     "metadata": {},
     "output_type": "display_data"
    },
    {
     "data": {
      "application/javascript": "window.ipyvizzu.animate(element, '8affe14', '93f09bd', 'begin', false, lib => { return {\"data\": {\"filter\": record => { return (record['año'] == 2016) }}, \"config\": {\"channels\": {\"x\": {\"set\": [\"total_pasajeros\"]}, \"y\": {\"set\": [\"Nombre_Empresa_clean\"]}, \"color\": {\"set\": [\"Nombre_Empresa_clean\"]}, \"label\": {\"set\": [\"total_pasajeros\"]}}, \"sort\": \"byValue\", \"legend\": null, \"title\": \"N\\u00famero de pasajeros por aerol\\u00ednea en 2016\"}, \"style\": {\"plot\": {\"marker\": {\"colorPalette\": \"#d9ed92ff #b5e48cff #99D986 #76c893ff #52b69aff #34a0a4ff #168aadff #1a759fff #1e6091ff #184e77ff\", \"label\": {\"maxFractionDigits\": \"0\"}}, \"paddingLeft\": \"19em\", \"xAxis\": {\"title\": {\"color\": \"#00000000\"}}}}} }, {\"duration\": 0.8, \"x\": {\"easing\": \"linear\", \"delay\": 0}, \"y\": {\"delay\": 0}, \"show\": {\"delay\": 0}, \"hide\": {\"delay\": 0}, \"title\": {\"duration\": 0, \"delay\": 0}});"
     },
     "metadata": {},
     "output_type": "display_data"
    },
    {
     "data": {
      "application/javascript": "window.ipyvizzu.animate(element, '8affe14', '626e2d6', 'begin', false, lib => { return {\"data\": {\"filter\": record => { return (record['año'] == 2017) }}, \"config\": {\"channels\": {\"x\": {\"set\": [\"total_pasajeros\"]}, \"y\": {\"set\": [\"Nombre_Empresa_clean\"]}, \"color\": {\"set\": [\"Nombre_Empresa_clean\"]}, \"label\": {\"set\": [\"total_pasajeros\"]}}, \"sort\": \"byValue\", \"legend\": null, \"title\": \"N\\u00famero de pasajeros por aerol\\u00ednea en 2017\"}, \"style\": {\"plot\": {\"marker\": {\"colorPalette\": \"#d9ed92ff #b5e48cff #99D986 #76c893ff #52b69aff #34a0a4ff #168aadff #1a759fff #1e6091ff #184e77ff\", \"label\": {\"maxFractionDigits\": \"0\"}}, \"paddingLeft\": \"19em\", \"xAxis\": {\"title\": {\"color\": \"#00000000\"}}}}} }, {\"duration\": 0.8, \"x\": {\"easing\": \"linear\", \"delay\": 0}, \"y\": {\"delay\": 0}, \"show\": {\"delay\": 0}, \"hide\": {\"delay\": 0}, \"title\": {\"duration\": 0, \"delay\": 0}});"
     },
     "metadata": {},
     "output_type": "display_data"
    },
    {
     "data": {
      "application/javascript": "window.ipyvizzu.animate(element, '8affe14', 'c33d31c', 'begin', false, lib => { return {\"data\": {\"filter\": record => { return (record['año'] == 2018) }}, \"config\": {\"channels\": {\"x\": {\"set\": [\"total_pasajeros\"]}, \"y\": {\"set\": [\"Nombre_Empresa_clean\"]}, \"color\": {\"set\": [\"Nombre_Empresa_clean\"]}, \"label\": {\"set\": [\"total_pasajeros\"]}}, \"sort\": \"byValue\", \"legend\": null, \"title\": \"N\\u00famero de pasajeros por aerol\\u00ednea en 2018\"}, \"style\": {\"plot\": {\"marker\": {\"colorPalette\": \"#d9ed92ff #b5e48cff #99D986 #76c893ff #52b69aff #34a0a4ff #168aadff #1a759fff #1e6091ff #184e77ff\", \"label\": {\"maxFractionDigits\": \"0\"}}, \"paddingLeft\": \"19em\", \"xAxis\": {\"title\": {\"color\": \"#00000000\"}}}}} }, {\"duration\": 0.8, \"x\": {\"easing\": \"linear\", \"delay\": 0}, \"y\": {\"delay\": 0}, \"show\": {\"delay\": 0}, \"hide\": {\"delay\": 0}, \"title\": {\"duration\": 0, \"delay\": 0}});"
     },
     "metadata": {},
     "output_type": "display_data"
    },
    {
     "data": {
      "application/javascript": "window.ipyvizzu.animate(element, '8affe14', 'a33964d', 'begin', false, lib => { return {\"data\": {\"filter\": record => { return (record['año'] == 2019) }}, \"config\": {\"channels\": {\"x\": {\"set\": [\"total_pasajeros\"]}, \"y\": {\"set\": [\"Nombre_Empresa_clean\"]}, \"color\": {\"set\": [\"Nombre_Empresa_clean\"]}, \"label\": {\"set\": [\"total_pasajeros\"]}}, \"sort\": \"byValue\", \"legend\": null, \"title\": \"N\\u00famero de pasajeros por aerol\\u00ednea en 2019\"}, \"style\": {\"plot\": {\"marker\": {\"colorPalette\": \"#d9ed92ff #b5e48cff #99D986 #76c893ff #52b69aff #34a0a4ff #168aadff #1a759fff #1e6091ff #184e77ff\", \"label\": {\"maxFractionDigits\": \"0\"}}, \"paddingLeft\": \"19em\", \"xAxis\": {\"title\": {\"color\": \"#00000000\"}}}}} }, {\"duration\": 0.8, \"x\": {\"easing\": \"linear\", \"delay\": 0}, \"y\": {\"delay\": 0}, \"show\": {\"delay\": 0}, \"hide\": {\"delay\": 0}, \"title\": {\"duration\": 0, \"delay\": 0}});"
     },
     "metadata": {},
     "output_type": "display_data"
    },
    {
     "data": {
      "application/javascript": "window.ipyvizzu.animate(element, '8affe14', 'bfefe68', 'begin', false, lib => { return {\"data\": {\"filter\": record => { return (record['año'] == 2020) }}, \"config\": {\"channels\": {\"x\": {\"set\": [\"total_pasajeros\"]}, \"y\": {\"set\": [\"Nombre_Empresa_clean\"]}, \"color\": {\"set\": [\"Nombre_Empresa_clean\"]}, \"label\": {\"set\": [\"total_pasajeros\"]}}, \"sort\": \"byValue\", \"legend\": null, \"title\": \"N\\u00famero de pasajeros por aerol\\u00ednea en 2020\"}, \"style\": {\"plot\": {\"marker\": {\"colorPalette\": \"#d9ed92ff #b5e48cff #99D986 #76c893ff #52b69aff #34a0a4ff #168aadff #1a759fff #1e6091ff #184e77ff\", \"label\": {\"maxFractionDigits\": \"0\"}}, \"paddingLeft\": \"19em\", \"xAxis\": {\"title\": {\"color\": \"#00000000\"}}}}} }, {\"duration\": 0.8, \"x\": {\"easing\": \"linear\", \"delay\": 0}, \"y\": {\"delay\": 0}, \"show\": {\"delay\": 0}, \"hide\": {\"delay\": 0}, \"title\": {\"duration\": 0, \"delay\": 0}});"
     },
     "metadata": {},
     "output_type": "display_data"
    },
    {
     "data": {
      "application/javascript": "window.ipyvizzu.animate(element, '8affe14', '77201b5', 'begin', false, lib => { return {\"data\": {\"filter\": record => { return (record['año'] == 2021) }}, \"config\": {\"channels\": {\"x\": {\"set\": [\"total_pasajeros\"]}, \"y\": {\"set\": [\"Nombre_Empresa_clean\"]}, \"color\": {\"set\": [\"Nombre_Empresa_clean\"]}, \"label\": {\"set\": [\"total_pasajeros\"]}}, \"sort\": \"byValue\", \"legend\": null, \"title\": \"N\\u00famero de pasajeros por aerol\\u00ednea en 2021\"}, \"style\": {\"plot\": {\"marker\": {\"colorPalette\": \"#d9ed92ff #b5e48cff #99D986 #76c893ff #52b69aff #34a0a4ff #168aadff #1a759fff #1e6091ff #184e77ff\", \"label\": {\"maxFractionDigits\": \"0\"}}, \"paddingLeft\": \"19em\", \"xAxis\": {\"title\": {\"color\": \"#00000000\"}}}}} }, {\"duration\": 0.8, \"x\": {\"easing\": \"linear\", \"delay\": 0}, \"y\": {\"delay\": 0}, \"show\": {\"delay\": 0}, \"hide\": {\"delay\": 0}, \"title\": {\"duration\": 0, \"delay\": 0}});"
     },
     "metadata": {},
     "output_type": "display_data"
    },
    {
     "data": {
      "application/javascript": "window.ipyvizzu.animate(element, '8affe14', '9b4a83b', 'begin', false, lib => { return {\"data\": {\"filter\": record => { return (record['año'] == 2022) }}, \"config\": {\"channels\": {\"x\": {\"set\": [\"total_pasajeros\"]}, \"y\": {\"set\": [\"Nombre_Empresa_clean\"]}, \"color\": {\"set\": [\"Nombre_Empresa_clean\"]}, \"label\": {\"set\": [\"total_pasajeros\"]}}, \"sort\": \"byValue\", \"legend\": null, \"title\": \"N\\u00famero de pasajeros por aerol\\u00ednea en 2022\"}, \"style\": {\"plot\": {\"marker\": {\"colorPalette\": \"#d9ed92ff #b5e48cff #99D986 #76c893ff #52b69aff #34a0a4ff #168aadff #1a759fff #1e6091ff #184e77ff\", \"label\": {\"maxFractionDigits\": \"0\"}}, \"paddingLeft\": \"19em\", \"xAxis\": {\"title\": {\"color\": \"#00000000\"}}}}} }, {\"duration\": 0.8, \"x\": {\"easing\": \"linear\", \"delay\": 0}, \"y\": {\"delay\": 0}, \"show\": {\"delay\": 0}, \"hide\": {\"delay\": 0}, \"title\": {\"duration\": 0, \"delay\": 0}});"
     },
     "metadata": {},
     "output_type": "display_data"
    }
   ],
   "source": [
    "char_data = Data()\n",
    "char_data.add_data_frame(top_empresas_nacional) \n",
    "chart = Chart(display = \"begin\")\n",
    "chart.scroll_into_view = False\n",
    "\n",
    "\n",
    "chart.animate(char_data)\n",
    "config = {\n",
    "    \"channels\": {\n",
    "        \"x\": {\"set\": [\"total_pasajeros\"]},\n",
    "        \"y\": {\"set\": [\"Nombre_Empresa_clean\"]},\n",
    "        \"color\": {\"set\": [\"Nombre_Empresa_clean\"]},\n",
    "        \"label\": { \"set\": [\"total_pasajeros\"] }\n",
    "    },\n",
    "    \"sort\": 'byValue',\n",
    "    \"legend\": None,\n",
    "}\n",
    "\n",
    "style= Style({\"plot\": \n",
    "    {\"marker\": {\"colorPalette\": \"#d9ed92ff #b5e48cff #99D986 #76c893ff #52b69aff\"\n",
    "                + \" #34a0a4ff #168aadff #1a759fff #1e6091ff #184e77ff\",\n",
    "                \"label\": {\"maxFractionDigits\": \"0\"}}, #cutting off unnecessary digits when animating the labels\n",
    "      \"paddingLeft\":\"19em\", #add padding on the left side of the plot so that long country names are visible\n",
    "      \"xAxis\": { \"title\": { \"color\" : \"#00000000\" }} #hiding the axis title on the x-axis\n",
    "    }})\n",
    "\n",
    "\n",
    "for anho in range(1992, 2023):\n",
    "    config[\"title\"] = f\"Número de pasajeros por aerolínea en {anho}\"\n",
    "    chart.animate(\n",
    "        Data.filter(\"record['año'] == {}\".format(anho)), \n",
    "        Config(config),\n",
    "        style,\n",
    "        # Animation options:\n",
    "        duration = .8,        \n",
    "        x = { \"easing\": \"linear\", \"delay\": 0 },\n",
    "        y = { \"delay\": 0 },\n",
    "        show = { \"delay\": 0 },\n",
    "        hide = { \"delay\": 0 },\n",
    "        title = { \"duration\": 0, \"delay\": 0 })\n",
    " \n",
    " \n",
    "\n",
    "\n"
   ]
  },
  {
   "cell_type": "code",
   "execution_count": null,
   "metadata": {},
   "outputs": [],
   "source": []
  },
  {
   "cell_type": "code",
   "execution_count": 31,
   "metadata": {},
   "outputs": [
    {
     "data": {
      "application/javascript": "if (window.IpyVizzu) { window.IpyVizzu.clearInhibitScroll(element); }"
     },
     "metadata": {},
     "output_type": "display_data"
    },
    {
     "data": {
      "application/javascript": "if (window.IpyVizzu) { window.IpyVizzu.clearInhibitScroll(element); }"
     },
     "metadata": {},
     "output_type": "display_data"
    },
    {
     "data": {
      "application/javascript": "if (window.IpyVizzu) { window.IpyVizzu.clearInhibitScroll(element); }"
     },
     "metadata": {},
     "output_type": "display_data"
    },
    {
     "data": {
      "text/plain": [
       "<Axes: xlabel='color'>"
      ]
     },
     "execution_count": 31,
     "metadata": {},
     "output_type": "execute_result"
    },
    {
     "data": {
      "image/png": "[encoded data removed]",
      "text/plain": [
       "<Figure size 640x480 with 1 Axes>"
      ]
     },
     "metadata": {},
     "output_type": "display_data"
    }
   ],
   "source": [
    "palet =pd.DataFrame()\n",
    "color_palette = [\"#d9ed92ff\", \"#b5e48cff\", \"#99d98cff\" ,\"#76c893ff\", \"#52b69aff\"]\n",
    "vals = [1, 1, 1, 1, 1]\n",
    "palet[\"color\"] = color_palette\n",
    "palet[\"val\"] = vals\n",
    "palet.set_index(\"color\").plot(kind=\"bar\", color=color_palette)"
   ]
  },
  {
   "cell_type": "code",
   "execution_count": 32,
   "metadata": {},
   "outputs": [
    {
     "data": {
      "application/javascript": "if (window.IpyVizzu) { window.IpyVizzu.clearInhibitScroll(element); }"
     },
     "metadata": {},
     "output_type": "display_data"
    },
    {
     "data": {
      "application/javascript": "if (window.IpyVizzu) { window.IpyVizzu.clearInhibitScroll(element); }"
     },
     "metadata": {},
     "output_type": "display_data"
    },
    {
     "data": {
      "application/javascript": "if (window.IpyVizzu) { window.IpyVizzu.clearInhibitScroll(element); }"
     },
     "metadata": {},
     "output_type": "display_data"
    },
    {
     "ename": "TypeError",
     "evalue": "bar() missing 1 required positional argument: 'height'",
     "output_type": "error",
     "traceback": [
      "\u001b[1;31m---------------------------------------------------------------------------\u001b[0m",
      "\u001b[1;31mTypeError\u001b[0m                                 Traceback (most recent call last)",
      "Cell \u001b[1;32mIn[32], line 11\u001b[0m\n\u001b[0;32m      8\u001b[0m y_values \u001b[39m=\u001b[39m np\u001b[39m.\u001b[39mzeros(\u001b[39mlen\u001b[39m(color_palette))\n\u001b[0;32m     10\u001b[0m \u001b[39m# Create a bar plot with the specified color palette\u001b[39;00m\n\u001b[1;32m---> 11\u001b[0m plt\u001b[39m.\u001b[39;49mbar(x\u001b[39m=\u001b[39;49m color_palette,y \u001b[39m=\u001b[39;49m vals, color\u001b[39m=\u001b[39;49mcolor_palette)\n\u001b[0;32m     13\u001b[0m \u001b[39m# Remove the y-axis ticks and labels\u001b[39;00m\n\u001b[0;32m     14\u001b[0m \u001b[39m#plt.yticks([])\u001b[39;00m\n\u001b[0;32m     15\u001b[0m \u001b[39m#plt.ylabel('Color Palette')\u001b[39;00m\n\u001b[0;32m     16\u001b[0m \n\u001b[0;32m     17\u001b[0m \u001b[39m# Display the plot\u001b[39;00m\n\u001b[0;32m     18\u001b[0m \u001b[39m#plt.show()\u001b[39;00m\n",
      "\u001b[1;31mTypeError\u001b[0m: bar() missing 1 required positional argument: 'height'"
     ]
    }
   ],
   "source": [
    "import matplotlib.pyplot as plt\n",
    "import numpy as np\n",
    "\n",
    "# Define your color palette as a list of hex color codes\n",
    "color_palette = ['#d9ed92', '#b5e48c', '#99d98c']\n",
    "vals = [1, 2, 3]\n",
    "# Create a numpy array to use as the y-axis values for the plot\n",
    "y_values = np.zeros(len(color_palette))\n",
    "\n",
    "# Create a bar plot with the specified color palette\n",
    "plt.bar(x= color_palette,y = vals, color=color_palette)\n",
    "\n",
    "# Remove the y-axis ticks and labels\n",
    "#plt.yticks([])\n",
    "#plt.ylabel('Color Palette')\n",
    "\n",
    "# Display the plot\n",
    "#plt.show()\n"
   ]
  },
  {
   "cell_type": "code",
   "execution_count": null,
   "metadata": {},
   "outputs": [],
   "source": [
    "import seaborn as sns \n",
    "sns.countplot(pd.Series(color_palette))"
   ]
  }
 ],
 "metadata": {
  "kernelspec": {
   "display_name": "ta",
   "language": "python",
   "name": "python3"
  },
  "language_info": {
   "codemirror_mode": {
    "name": "ipython",
    "version": 3
   },
   "file_extension": ".py",
   "mimetype": "text/x-python",
   "name": "python",
   "nbconvert_exporter": "python",
   "pygments_lexer": "ipython3",
   "version": "3.9.16"
  },
  "orig_nbformat": 4
 },
 "nbformat": 4,
 "nbformat_minor": 2
}
