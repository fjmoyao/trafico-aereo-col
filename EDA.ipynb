{
 "cells": [
  {
   "cell_type": "markdown",
   "metadata": {},
   "source": [
    "### **Análisis Exploratorio de Datos**"
   ]
  },
  {
   "cell_type": "code",
   "execution_count": 2,
   "metadata": {},
   "outputs": [],
   "source": [
    "#Se importan las librerias correspondientes\n",
    "import os\n",
    "import pyspark\n",
    "from pyspark.ml.feature import BucketedRandomProjectionLSH\n",
    "from pyspark.sql import *\n",
    "from pyspark.sql.functions import *\n",
    "from pyspark import SparkContext, SparkConf\n",
    "from pyspark.sql.functions import year\n",
    "from pyspark.sql.types import StructType, StructField\n",
    "from pyspark.sql.types import  IntegerType, StringType, DateType\n",
    "import matplotlib\n",
    "import matplotlib.pyplot as plt\n",
    "matplotlib.style.use('ggplot')\n",
    "import pandas as pd\n"
   ]
  },
  {
   "cell_type": "code",
   "execution_count": 3,
   "metadata": {},
   "outputs": [],
   "source": [
    "#Se confirma que los datos se encuentren en el espacio de trabajo \n",
    "if  not (os.path.isdir(\"raw\") and os.path.isfile(os.path.join(\"trusted\", 'trafico_aereo_1992_2022.csv'))):\n",
    "    import preprocess\n",
    "    preprocess"
   ]
  },
  {
   "cell_type": "code",
   "execution_count": 4,
   "metadata": {},
   "outputs": [
    {
     "data": {
      "text/html": [
       "\n",
       "            <div>\n",
       "                <p><b>SparkSession - in-memory</b></p>\n",
       "                \n",
       "        <div>\n",
       "            <p><b>SparkContext</b></p>\n",
       "\n",
       "            <p><a href=\"http://host.docker.internal:4040\">Spark UI</a></p>\n",
       "\n",
       "            <dl>\n",
       "              <dt>Version</dt>\n",
       "                <dd><code>v3.3.2</code></dd>\n",
       "              <dt>Master</dt>\n",
       "                <dd><code>local[*]</code></dd>\n",
       "              <dt>AppName</dt>\n",
       "                <dd><code>pyspark-shell</code></dd>\n",
       "            </dl>\n",
       "        </div>\n",
       "        \n",
       "            </div>\n",
       "        "
      ],
      "text/plain": [
       "<pyspark.sql.session.SparkSession at 0x2b2db876b50>"
      ]
     },
     "execution_count": 4,
     "metadata": {},
     "output_type": "execute_result"
    }
   ],
   "source": [
    "# creamos el contexto y la sesión\n",
    "sc = pyspark.SparkContext()\n",
    "spark = SparkSession.builder.getOrCreate()\n",
    "spark"
   ]
  },
  {
   "cell_type": "code",
   "execution_count": 5,
   "metadata": {},
   "outputs": [],
   "source": [
    "\n",
    "#Se define el esquema de la tabla\n",
    "schema = StructType([\n",
    "    StructField('Fecha', DateType()),\n",
    "    StructField('Sigla Empresa', StringType()),\n",
    "    StructField('Origen', StringType()),\n",
    "    StructField('Destino', StringType()),\n",
    "    StructField('Pasajeros', IntegerType()),\n",
    "    StructField('Trafico', StringType()),\n",
    "    StructField('TipoVuelo', StringType()),\n",
    "    StructField('Ciudad Origen', StringType()),\n",
    "    StructField('Ciudad Destino', StringType()),\n",
    "    StructField('Pais Origen', StringType()),\n",
    "    StructField('Pais Destino', StringType()),\n",
    "    StructField('Nombre Empresa', StringType()),\n",
    "    StructField('Apto_Origen', StringType()),\n",
    "    StructField('Apto_Destino', StringType()),\n",
    "])"
   ]
  },
  {
   "cell_type": "code",
   "execution_count": 6,
   "metadata": {},
   "outputs": [
    {
     "name": "stdout",
     "output_type": "stream",
     "text": [
      "+----------+-------------+------+-------+---------+-------+---------+-------------+--------------+--------------+------------+--------------+--------------------+--------------------+\n",
      "|     Fecha|Sigla Empresa|Origen|Destino|Pasajeros|Trafico|TipoVuelo|Ciudad Origen|Ciudad Destino|   Pais Origen|Pais Destino|Nombre Empresa|         Apto_Origen|        Apto_Destino|\n",
      "+----------+-------------+------+-------+---------+-------+---------+-------------+--------------+--------------+------------+--------------+--------------------+--------------------+\n",
      "|2019-04-01|          AAL|   ABQ|    BOG|       37|      I|        R| NUEVO MEXICO|        BOGOTA|ESTADOS UNIDOS|    COLOMBIA|      AMERICAN|ALBUQUERQUE INTL ...|   BOGOTA - ELDORADO|\n",
      "|2019-04-01|          AAL|   ABZ|    CLO|        1|      I|        R|     ABENDEEN|          CALI|    INGLATERRA|    COLOMBIA|      AMERICAN|                CYDE|CALI - ALFONSO BO...|\n",
      "|2019-04-01|          AAL|   AMS|    CTG|        2|      I|        R|    AMSTERDAM|     CARTAGENA|       HOLANDA|    COLOMBIA|      AMERICAN|            SCHIPHOL|CARTAGENA - RAFAE...|\n",
      "+----------+-------------+------+-------+---------+-------+---------+-------------+--------------+--------------+------------+--------------+--------------------+--------------------+\n",
      "only showing top 3 rows\n",
      "\n"
     ]
    }
   ],
   "source": [
    "#Se lee el archivo de trusted\n",
    "filepath = os.path.join(\"trusted\", 'trafico_aereo_1992_2022.csv')\n",
    "df = spark.read.csv(filepath, header=True, schema=schema)\n",
    "df.show(n=3)"
   ]
  },
  {
   "cell_type": "code",
   "execution_count": 7,
   "metadata": {},
   "outputs": [
    {
     "name": "stdout",
     "output_type": "stream",
     "text": [
      "(1820258, 14)\n"
     ]
    }
   ],
   "source": [
    "print((df.count(), len(df.columns)))"
   ]
  },
  {
   "cell_type": "code",
   "execution_count": null,
   "metadata": {},
   "outputs": [],
   "source": []
  },
  {
   "cell_type": "code",
   "execution_count": 8,
   "metadata": {},
   "outputs": [
    {
     "name": "stdout",
     "output_type": "stream",
     "text": [
      "Fecha - 15\n",
      "Sigla Empresa - 12\n",
      "Origen - 24\n",
      "Destino - 15\n",
      "Pasajeros - 201\n",
      "Trafico - 24\n",
      "TipoVuelo - 24\n",
      "Ciudad Origen - 8351\n",
      "Ciudad Destino - 9116\n",
      "Pais Origen - 8351\n",
      "Pais Destino - 73\n",
      "Nombre Empresa - 15\n",
      "Apto_Origen - 18\n",
      "Apto_Destino - 30\n"
     ]
    }
   ],
   "source": [
    "#Cantidad de valores nulos\n",
    "for c in df.columns:\n",
    "    nuls = df.filter(col(c).isNull()).count()\n",
    "    print(f'{c} - {nuls}')"
   ]
  },
  {
   "cell_type": "code",
   "execution_count": 9,
   "metadata": {},
   "outputs": [],
   "source": [
    "df = df.na.drop(subset=[\"Pasajeros\", \"Nombre Empresa\"])\n"
   ]
  },
  {
   "cell_type": "code",
   "execution_count": 10,
   "metadata": {},
   "outputs": [],
   "source": [
    "#Cantidad de valores nulos\n",
    "for c in df.columns:\n",
    "    nuls = df.filter(col(c).isNull()).count()\n",
    "    print(f'{c} - {nuls}')"
   ]
  },
  {
   "cell_type": "code",
   "execution_count": 11,
   "metadata": {},
   "outputs": [],
   "source": [
    "#Se toma la decision de unificar los nombres de las aerolineas a aquellas que han cambiado de nombre\n",
    "# debido a unificaciones o compras, las transformaciones se pueden observar en el diccionario:\n",
    "dict_aerolineas={ \"LATAM\":[\"AIRES\" \"LAN\", \"TAM\", ],\n",
    "                 \"FAST COLOMBIA\":\"VIVA AIR\"\n",
    "    \n",
    "}"
   ]
  },
  {
   "cell_type": "code",
   "execution_count": 12,
   "metadata": {},
   "outputs": [],
   "source": [
    "#Se crea una nueva columna a partir de la limpieza de la columna 'Nombre empresa'\n",
    "df = df.select(\"*\",\n",
    "            when(df[\"Nombre Empresa\"].contains(\"21 AIR LLC.\"), \"21 AIR\").\n",
    "            when(df[\"Nombre Empresa\"].contains(\"REGAIR\"), \"REGAIR\").\n",
    "            when(df[\"Nombre Empresa\"].contains(\"ABX AIR INC\"), \"ABX AIR INC\").\n",
    "            when(df[\"Nombre Empresa\"].contains(\"AER CARIBE\"), \"AER CARIBE\").\n",
    "            when(df[\"Nombre Empresa\"].contains(\"DAMOJH\"), \"DAMOJH\").\n",
    "            when(df[\"Nombre Empresa\"].contains(\"AEROUNIËN\"), \"AEROUNIÓN\").\n",
    "            when(df[\"Nombre Empresa\"].contains(\"ALBATROS\"), \"ALBATROS AIRLINES\").\n",
    "            when(df[\"Nombre Empresa\"].contains(\"AMERICA┤S AIR SAS\"), \"AMERICA´S AIR SAS\").\n",
    "            when(df[\"Nombre Empresa\"].contains(\"AVIANLINE CHARTE┤S S.A.S.\"), \"AVIANLINE CHARTE´S S.A.S.\").\n",
    "            when(df[\"Nombre Empresa\"].contains(\"CARGO THREE INC.\"), \"CARGO THREE\").\n",
    "            when(df[\"Nombre Empresa\"].contains(\"FLEXAIR S A S\"), \"FLEXAIR S.A.S\").\n",
    "            when(df[\"Nombre Empresa\"].contains(\"HORIZONTAL DE AVIACION S.A.S\"), \"HORIZONTAL S A S\").\n",
    "            when(df[\"Nombre Empresa\"].contains(\"ICARO S.A.\"), \"ICARO\").\n",
    "            when(df[\"Nombre Empresa\"].contains(\"LATAM AIRLINES GROUP S.A SUCURSAL COLOMBIA\"), \"LATAM\").\n",
    "            when(df[\"Nombre Empresa\"].contains(\"CARGUERA DE COLOMBIA S.A\"), \"LÍNEA AÉREA CARGUERA DE COLOMBIA S.A.\").\n",
    "            when(df[\"Nombre Empresa\"].contains(\"NO FIGURA\"), \"NO REGISTRA\").\n",
    "            when(df[\"Nombre Empresa\"].contains(\"NO REGISTRA SIGLA\"), \"NO REGISTRA\").\n",
    "            when(df[\"Nombre Empresa\"].contains(\"SERVICIO AEREO A TERRITORIOS NACIONALES SATENA\"), \"SATENA\").\n",
    "            when(df[\"Nombre Empresa\"].contains(\"SKY LEASE I. INC  (GREENSBORO.NC)\"), \"SKY LEASE\").\n",
    "            when(df[\"Nombre Empresa\"].contains(\"SKY LEASE I. INC (GREENSBORO.NC)\"), \"SKY LEASE\").\n",
    "            when(df[\"Nombre Empresa\"].contains(\"SOUTHERN AIR TRANSPORT INC.\"), \"SOUTHERN AIR INC.\").\n",
    "            when(df[\"Nombre Empresa\"].contains(\"TAG\"), \"TAG AVIATION\").\n",
    "            when(df[\"Nombre Empresa\"].contains(\"TAMPA CARGO\"), \"TAMPA CARGO\").\n",
    "            when(df[\"Nombre Empresa\"].contains(\"VIANA S.A.S\"), \"VIANA S.A.S\").\n",
    "            when(df[\"Nombre Empresa\"].contains(\"TAXCO S.A.S\"), \"TAXCO\").\n",
    "            when(df[\"Nombre Empresa\"].contains(\"VUELA COMPAÑÍA DE AVIACION S.A.P.I DE\"), \"VUELA COMPAÑÍA DE AVIACION\").\n",
    "            when(df[\"Nombre Empresa\"].contains(\"AERO LLANOS DEL ORIENTE\"), \"AERO LLANOS DEL ORIENTE\").\n",
    "            when(df[\"Nombre Empresa\"].contains(\"ASES LTDA.\"), \"ASES LTDA.\").\n",
    "            when(df[\"Nombre Empresa\"].contains(\"AERO TAXI GUAYMARAL ATG S.A.S\"), \"AERO TAXI GUAYMARAL\").\n",
    "            when(df[\"Nombre Empresa\"].contains(\"MITCHELL AAERO, INC.\"), \"MITCHELL AAERO, INC.\").\n",
    "            when(df[\"Nombre Empresa\"].contains(\"ROYAL AIR MAROC-COMPAGNIE\"), \"ROYAL AIR MAROC-COMPAGNIE\").\n",
    "            when(df[\"Nombre Empresa\"].contains(\"AIR TRANSPORT ASSOCIATION OF AMERCA\"), \"AIR TRANSPORT ASSOCIATION OF AMERCA\").\n",
    "            when(df[\"Nombre Empresa\"].contains(\"OMEGA AIR HOLDING\"), \"OMEGA AIR HOLDING\").\n",
    "            when(df[\"Nombre Empresa\"].contains(\"KALITTA FLYING SERVICE\"), \"KALITTA FLYING SERVICE\").\n",
    "            when(df[\"Nombre Empresa\"].contains(\"LINEA AEREA BOLIVARIANA\"), \"LINEA AEREA BOLIVARIANA\").\n",
    "            when(df[\"Nombre Empresa\"].contains(\"TRANS AMERICAN AIR LINES\"), \"TRANS AMERICAN AIR LINES\").\n",
    "            when(df[\"Nombre Empresa\"].contains(\"UNITED PARCEL SERVICE\"), \"UNITED PARCEL SERVICE\").\n",
    "            when(df[\"Nombre Empresa\"].contains(\"AMERIJET INTERNATIOANL\"), \"AMERIJET INTERNATIONAL\").\n",
    "            when(df[\"Nombre Empresa\"].contains(\"AEROTRANSPORTE DE CARGA UNION\"), \"AEROTRANSPORTE DE CARGA UNION\").\n",
    "            when(df[\"Nombre Empresa\"].contains(\"DUTCH ANTILLES EXPRESS\"), \"DUTCH ANTILLES EXPRESS\").\n",
    "            when(df[\"Nombre Empresa\"].contains(\"AEROGALAN\"), \"STARBLUE AIRLINES\"). #Aerogalan cambia nombre a starblue\n",
    "            when(df[\"Nombre Empresa\"].contains(\"VRG LINHAS AEREAS\"), \"VRG LINHAS AEREAS\").\n",
    "            when(df[\"Nombre Empresa\"].contains(\"DYNAMIC AIRWAYS\"), \"DYNAMIC AIRWAYS\").\n",
    "            when(df[\"Nombre Empresa\"].contains(\"AVIANCA\"), \"AVIANCA\").\n",
    "            when(df[\"Nombre Empresa\"].contains(\"JETBLUE AIRWAYS CORPORATION\"), \"JETBLUE AIRWAYS\").\n",
    "            when(df[\"Nombre Empresa\"].contains(\"AIR CLASS\"), \"AIR CLASS\").\n",
    "            when(df[\"Nombre Empresa\"].contains(\"VERTICAL DE AVIACION\"), \"VERTICAL DE AVIACION\").\n",
    "            when(df[\"Nombre Empresa\"].contains(\"REGIONAL EXPRESS AMERICAS\"), \"REGIONAL EXPRESS AMERICAS\").\n",
    "            when(df[\"Nombre Empresa\"].contains(\"AEROMEXICO\"), \"AEROMEXICO\").\n",
    "            when(df[\"Nombre Empresa\"].contains(\"AEROLINEA DE ANTIOQUIA\"), \"ADA\").\n",
    "            when(df[\"Nombre Empresa\"].contains(\"LATAM\"), \"LATAM\").\n",
    "            when(df[\"Nombre Empresa\"].contains(\"FAST COLOMBIA\"), \"VIVA AIR\").\n",
    "            when(df[\"Nombre Empresa\"].contains(\"AIRES\"), \"LATAM\").\n",
    "            when(df[\"Nombre Empresa\"].contains(\"LAN\"), \"LATAM\").\n",
    "            when(df[\"Nombre Empresa\"].contains(\"TAM\"), \"LATAM\").\n",
    "            when(df[\"Nombre Empresa\"].contains(\"AEROEXPRESO DEL PACIFICO S.A.\"), \"AEXPA\").\n",
    "            \t\n",
    "            otherwise(df[\"Nombre Empresa\"]).alias(\"Nombre_Empresa_clean\")\n",
    "           )\n",
    "\n",
    "\n"
   ]
  },
  {
   "cell_type": "code",
   "execution_count": 13,
   "metadata": {},
   "outputs": [
    {
     "name": "stdout",
     "output_type": "stream",
     "text": [
      "+---------------------------------------+\n",
      "|Nombre_Empresa_clean                   |\n",
      "+---------------------------------------+\n",
      "|21 AIR                                 |\n",
      "|A.T.&S.                                |\n",
      "|ABSA                                   |\n",
      "|ABX AIR INC                            |\n",
      "|ACES                                   |\n",
      "|ADA                                    |\n",
      "|ADES                                   |\n",
      "|AER CARIBE                             |\n",
      "|AEREA S.A.                             |\n",
      "|AERO APOYO                             |\n",
      "|AERO COSTA RICA                        |\n",
      "|AERO LLANOS DEL ORIENTE                |\n",
      "|AERO PAZ S.A.                          |\n",
      "|AERO TAXI GUAYMARAL                    |\n",
      "|AEROAMERICA                            |\n",
      "|AEROANTIGUA                            |\n",
      "|AEROCAFE S.A.                          |\n",
      "|AEROCAR                                |\n",
      "|AEROCHARTER ANDINA S.A.S.              |\n",
      "|AEROCHARTER DE COLOMBIA                |\n",
      "|AEROCOL S.A.S                          |\n",
      "|AEROCOLOMBIA CARGO                     |\n",
      "|AEROCONTINENTE                         |\n",
      "|AEROCORALES                            |\n",
      "|AEROCORDINADORA                        |\n",
      "|AERODESIERTO S.A.                      |\n",
      "|AEROEJECUTIVOS DE ANTIOQUIA S.A.       |\n",
      "|AEROENLACES NACIONALES S.A.            |\n",
      "|AEROES                                 |\n",
      "|AEROEXPRESS DEL ECUADOR                |\n",
      "|AEROEXPRESS S.A.S                      |\n",
      "|AEROGAL                                |\n",
      "|AEROGOLFO                              |\n",
      "|AEROJET DE3 COSTA RICA, S.A.           |\n",
      "|AEROLINEAS ALAS DE COLOMBIA LTDA.      |\n",
      "|AEROLINEAS ARGENTINAS                  |\n",
      "|AEROMEL LTDA                           |\n",
      "|AEROMENEGUA                            |\n",
      "|AEROMEXICO                             |\n",
      "|AERONORTE                              |\n",
      "|AEROPACA SAS                           |\n",
      "|AEROPEI                                |\n",
      "|AEROPERU                               |\n",
      "|AEROPOSTAL                             |\n",
      "|AEROREPUBLICA                          |\n",
      "|AEROSUCRE                              |\n",
      "|AEROTACA                               |\n",
      "|AEROTAX                                |\n",
      "|AEROTAXI DEL ORIENTE LTDA.             |\n",
      "|AEROTAXI DEL QUINDIO LTDA.             |\n",
      "|AEROTAYRONA                            |\n",
      "|AEROTRANSPORTE DE CARGA UNION          |\n",
      "|AEROTRANSPORTE DEL CARIBE C.A.         |\n",
      "|AEROUNIÓN                              |\n",
      "|AEROVIAS DAP                           |\n",
      "|AEROVUELOS                             |\n",
      "|AERUBA                                 |\n",
      "|AERUPIA SAS                            |\n",
      "|AERVAL                                 |\n",
      "|AETV                                   |\n",
      "|AEXPA                                  |\n",
      "|AIR ARUBA                              |\n",
      "|AIR CANADA                             |\n",
      "|AIR CARGO GERMANY                      |\n",
      "|AIR CAVREL                             |\n",
      "|AIR CHARTER SERVICE/ AIR X CHARTER     |\n",
      "|AIR CLASS                              |\n",
      "|AIR COLOMBIA                           |\n",
      "|AIR COMERCE                            |\n",
      "|AIR COMET                              |\n",
      "|AIR EUROPA                             |\n",
      "|AIR FRANCE                             |\n",
      "|AIR MADRD                              |\n",
      "|AIR PANAMA                             |\n",
      "|AIR PEREIRA                            |\n",
      "|AIR SIGNATURE S.A.S                    |\n",
      "|AIR TRANSAT                            |\n",
      "|AIR TRANSPORT ASSOCIATION OF AMERCA    |\n",
      "|AIR TROPICAL                           |\n",
      "|ALBATROS AIRLINES                      |\n",
      "|ALCOM                                  |\n",
      "|ALFUTURO                               |\n",
      "|ALIANSA                                |\n",
      "|ALICOL                                 |\n",
      "|ALITALIA                               |\n",
      "|ALLAS S.A.S                            |\n",
      "|ALPES S.A.S                            |\n",
      "|AMERICAN                               |\n",
      "|AMERICA´S AIR SAS                      |\n",
      "|AMERIJET INTERNATIONAL                 |\n",
      "|ANDES LINEAS AEREAS S.A.               |\n",
      "|ANTONOV DESIGN BUREAU                  |\n",
      "|APEL EXPRESS                           |\n",
      "|APSA                                   |\n",
      "|APT                                    |\n",
      "|ARAJET SUCURSAL COLOMBIA               |\n",
      "|ARCA                                   |\n",
      "|ARKAS S.A.                             |\n",
      "|ARO LTDA                               |\n",
      "|ARO S.A.S.                             |\n",
      "|ARROW                                  |\n",
      "|AS                                     |\n",
      "|ASERCA                                 |\n",
      "|ASES LTDA.                             |\n",
      "|ASTRAL                                 |\n",
      "|ASUR                                   |\n",
      "|ATC                                    |\n",
      "|ATLAS AIR                              |\n",
      "|ATLAS AIRLINES (MUNCE,IN)              |\n",
      "|ATTA                                   |\n",
      "|AVANTE                                 |\n",
      "|AVANTY                                 |\n",
      "|AVIACION DEL SUR                       |\n",
      "|AVIANCA                                |\n",
      "|AVIANLINE CHARTE´S S.A.S.              |\n",
      "|AVIAPA                                 |\n",
      "|AVIATECA                               |\n",
      "|AVIATSA                                |\n",
      "|AVIEL                                  |\n",
      "|AVIHECO                                |\n",
      "|AVIOCESAR                              |\n",
      "|AVIOICHARTER LIMITADA                  |\n",
      "|AVIOR AIRLINES,C.A.                    |\n",
      "|AYSA                                   |\n",
      "|BLUE PANORAMA                          |\n",
      "|BRITISH AIRWAYS                        |\n",
      "|C.V. CARGO                             |\n",
      "|CALAMAR                                |\n",
      "|CAP                                    |\n",
      "|CAPITAL EXPRESS S.A.                   |\n",
      "|CARGO THREE                            |\n",
      "|CARGOJET AIRWAYS LTD.                  |\n",
      "|CARGOLUX AIRLINES INTERNATIONAL S.A.   |\n",
      "|CARIBBEAN SUPPORT AND FLIGHT S.A.S.    |\n",
      "|CAYMAN AIRWAYS                         |\n",
      "|CENTRAL CHARTER                        |\n",
      "|CENTURION AIR CARGO COLOMBIA           |\n",
      "|CHALLENGE                              |\n",
      "|CHARTER DEL CARIBE S.A.                |\n",
      "|CHARTER EXPRESS SAS                    |\n",
      "|CIELOS DEL PERU S.A.                   |\n",
      "|COARCO                                 |\n",
      "|COMLUX ARUBA NV                        |\n",
      "|CONDOR                                 |\n",
      "|CONTINENTAL                            |\n",
      "|CONVIASA                               |\n",
      "|COPA                                   |\n",
      "|CORAL                                  |\n",
      "|CORSAIR INTERNATIONAL                  |\n",
      "|COSMOS S.A.                            |\n",
      "|CUBANA                                 |\n",
      "|DAMOJH                                 |\n",
      "|DELTA                                  |\n",
      "|DELTA HELICOPTEROS  S.A.S.             |\n",
      "|DHAL AIRWAYS, INC. (CINCINNATI,OH)     |\n",
      "|DHL AERO EXPRESO                       |\n",
      "|DHL DE GUATELMALA , S.A.               |\n",
      "|DOMINICAN WINGS                        |\n",
      "|DUTCH ANTILLES EXPRESS                 |\n",
      "|DYNAMIC AIRWAYS                        |\n",
      "|EASTERN AIR LINES GROUP                |\n",
      "|EASYFLY S.A                            |\n",
      "|EBANO                                  |\n",
      "|ECUATORIANA                            |\n",
      "|EL CONDOR LTDA. INTERANDINA DE AVIACION|\n",
      "|ELDORADO                               |\n",
      "|EMIRATES                               |\n",
      "|ESTELAR LATIOAMERICANA.C.A.            |\n",
      "|ETHIPIAN AIRLINES                      |\n",
      "|ETIHAD                                 |\n",
      "|ETIHAD AIRWAYS                         |\n",
      "|EURASIA AIR COMPANY                    |\n",
      "|EUROPE ELITE                           |\n",
      "|EUROPEAN AVIATION SERVICES             |\n",
      "|EXPORT AIR DEL PERU                    |\n",
      "|EZ AIR                                 |\n",
      "|FALCON AIR EXPRESS                     |\n",
      "|FAST AIR LTDA                          |\n",
      "|FEDERAL EXPRESS CORPORATION            |\n",
      "|FINNAIR                                |\n",
      "|FLEXAIR S.A.S                          |\n",
      "|FLORIDA WEST INTERNATIONAL AIRWAYS INC.|\n",
      "|GCA AIRLINES                           |\n",
      "|GEMINI AIR CARGO                       |\n",
      "|GEMINI AIRLINES                        |\n",
      "|GLOBAL                                 |\n",
      "|GOL TRANSPORTES AEREOS LTDA            |\n",
      "|GOOD FLY CO SAS                        |\n",
      "|HELI JET SAS                           |\n",
      "|HELIANDES                              |\n",
      "|HELIAV                                 |\n",
      "|HELICARGO S.A.                         |\n",
      "|HELICOL                                |\n",
      "|HELICONDOR                             |\n",
      "|HELIFLY                                |\n",
      "|HELIGOLFO S.A.S                        |\n",
      "|HELIJET                                |\n",
      "|HELIPETROL                             |\n",
      "|HELISAS S.A.S                          |\n",
      "|HELISERVICE                            |\n",
      "|HELISTAR S.A.S                         |\n",
      "|HELITEC                                |\n",
      "|HELIVALLE                              |\n",
      "|HORIZONTAL S A S                       |\n",
      "|IBC AIRWAYS                            |\n",
      "|IBERIA                                 |\n",
      "|ICARO                                  |\n",
      "|INSEL AIR                              |\n",
      "|INSELAIR ARUBA                         |\n",
      "|INSTITUTO LINGUISTICO DE VERANO        |\n",
      "|INTER                                  |\n",
      "|INTERAMERICANA                         |\n",
      "|INTERAMERICANO                         |\n",
      "|INTERANDES                             |\n",
      "|INTEREJECUTIVA                         |\n",
      "|INTERJET                               |\n",
      "|ISLENA DE AVIACION                     |\n",
      "|JET                                    |\n",
      "|JET MAGIC LTD.                         |\n",
      "|JETBLUE AIRWAYS                        |\n",
      "|JETCOM SA                              |\n",
      "|JETSMART                               |\n",
      "|KAISERAIR, INC.                        |\n",
      "|KALITTA FLYING SERVICE                 |\n",
      "|KELOWNA FLIGHTCRFT AIR CHARTER LTD.    |\n",
      "|KHI                                    |\n",
      "|KLM                                    |\n",
      "|KOREN AIR LINES CO .LTD.               |\n",
      "|LA TATACOA                             |\n",
      "|LAC                                    |\n",
      "|LACSA                                  |\n",
      "|LADECO                                 |\n",
      "|LAMIA CORPORATION SRL                  |\n",
      "|LAP                                    |\n",
      "|LAR                                    |\n",
      "|LARCO                                  |\n",
      "|LAS                                    |\n",
      "|LASER AEREO S.A.S                      |\n",
      "|LASER AIRLINES                         |\n",
      "|LATAM                                  |\n",
      "|LATINA DE AVIACION                     |\n",
      "|LINEA AEREA BOLIVARIANA                |\n",
      "|LINEAS AEREAS PETROLERAS S.A.          |\n",
      "|LIRA                                   |\n",
      "|LLOYD BOLIVIANO                        |\n",
      "|LOS HALCONES                           |\n",
      "|LOS LIBERTADORES                       |\n",
      "|LUFTHANSA                              |\n",
      "|LUFTHANSA CARGO                        |\n",
      "|LÍNEA AÉREA CARGUERA DE COLOMBIA S.A.  |\n",
      "|MANTRUST ASAHI AIRWAYS, PT             |\n",
      "|MARTINAIR                              |\n",
      "|MAS AIR                                |\n",
      "|MASTER TOP LINHAS AEREAS LTDA.         |\n",
      "|METROJET LIMITED                       |\n",
      "|MEXICANA                               |\n",
      "|MILLON AIR INC.                        |\n",
      "|MITCHELL AAERO, INC.                   |\n",
      "|NACIONAL DE AVIACION S.A.S             |\n",
      "|NATIONAL AIR CARGO                     |\n",
      "|NATIVA SA                              |\n",
      "|NO REGISTRA                            |\n",
      "|NORTHERN AIR CARGO                     |\n",
      "|OCEANAIR                               |\n",
      "|OMEGA AIR HOLDING                      |\n",
      "|ORION CARGO                            |\n",
      "|PACIFIC                                |\n",
      "|PACIFICA DE AVIACION S.A.S             |\n",
      "|PANAVIA                                |\n",
      "|PETROLEUM                              |\n",
      "|POLAR                                  |\n",
      "|PORTENA                                |\n",
      "|QATAR AIRWAYS COMPANY                  |\n",
      "|RAA                                    |\n",
      "|RAG                                    |\n",
      "|RANSA                                  |\n",
      "|REGAIR                                 |\n",
      "|REGION AIR                             |\n",
      "|REGIONAL EXPRESS AMERICAS              |\n",
      "|RIO SUR                                |\n",
      "|ROYAL AIR MAROC-COMPAGNIE              |\n",
      "|RUBYSTAR                               |\n",
      "|SADA                                   |\n",
      "|SADELCA                                |\n",
      "|SADI                                   |\n",
      "|SAE                                    |\n",
      "|SAEP                                   |\n",
      "|SAER                                   |\n",
      "|SAETA                                  |\n",
      "|SAHSA                                  |\n",
      "|SALLA                                  |\n",
      "|SAM                                    |\n",
      "|SAN-TA                                 |\n",
      "|SANTA BARBARA                          |\n",
      "|SAO                                    |\n",
      "|SARPA S.A.S                            |\n",
      "|SAS                                    |\n",
      "|SASA                                   |\n",
      "|SATENA                                 |\n",
      "|SAVA                                   |\n",
      "|SAVIARE LTDA                           |\n",
      "|SEARCA S.A.                            |\n",
      "|SECAL                                  |\n",
      "|SELVA                                  |\n",
      "|SERCU                                  |\n",
      "|SERPA                                  |\n",
      "|SERVI-HANGAR                           |\n",
      "|SERVIALAS                              |\n",
      "|SERVICIOS AEREOS AMAZONICOS            |\n",
      "|SERVICIOS AEREOS DE LA CAPITAL LTDA.   |\n",
      "|SERVIVENSA                             |\n",
      "|SETA S.A.                              |\n",
      "|SICHER HELICOPTER SAS                  |\n",
      "|SIDERAL AIRLINES                       |\n",
      "|SIDFIN AIR LIMITED                     |\n",
      "|SINGAPORE AIRLINES CARGO PTE LTD       |\n",
      "|SIS SOLUCIONES INTEGRALES              |\n",
      "|SKY AIRLINE                            |\n",
      "|SKY LEASE                              |\n",
      "|SKYSERVICE F.B.O. INC.                 |\n",
      "|SOLAIR S.A.S                           |\n",
      "|SOLAR CARGO                            |\n",
      "|SOLOMON AIRLINES LIMITED               |\n",
      "|SOUTHERN AIR INC.                      |\n",
      "|SPIRIT AIRLINES                        |\n",
      "|STAR UP - PERU                         |\n",
      "|STARBLUE AIRLINES                      |\n",
      "|SUNRISE AIRWAYS, TRAVEL SERVICE        |\n",
      "|SURINAAMSE LUCHTVAART MAATSCHAPPIJ N.V |\n",
      "|SWIFTAIR S.A                           |\n",
      "|TAC                                    |\n",
      "|TACA INTERNATIONAL                     |\n",
      "|TACA S.A.S                             |\n",
      "|TACOL                                  |\n",
      "|TADUL                                  |\n",
      "|TAERCO                                 |\n",
      "|TAG AVIATION                           |\n",
      "|TAISA                                  |\n",
      "|TALA                                   |\n",
      "|TAMPA CARGO                            |\n",
      "|TAN                                    |\n",
      "|TAN LTDA                               |\n",
      "|TAP                                    |\n",
      "|TAP PORTUGAL SUCURSAL COLOMBIA         |\n",
      "|TAR                                    |\n",
      "|TARI                                   |\n",
      "|TAT                                    |\n",
      "|TAVINA                                 |\n",
      "|TAXA                                   |\n",
      "|TAXCAR                                 |\n",
      "|TAXCO                                  |\n",
      "|TAXI AEREO CUSIANA LTDA                |\n",
      "|TAXOR                                  |\n",
      "|TAXSUR                                 |\n",
      "|TECNIAEREAS                            |\n",
      "|THOMSONFLY LTD                         |\n",
      "|TIARA                                  |\n",
      "|TITAN AIRWAYS LTD.                     |\n",
      "|TRADEWINDS AIRLINES COLOMBIA           |\n",
      "|TRANS AMERICAN AIR LINES               |\n",
      "|TRANSANDINA                            |\n",
      "|TRANSAPEL                              |\n",
      "|TRANSCARGA INTERNATIONAL AIRWAYS C.A.  |\n",
      "|TRANSCARIBE                            |\n",
      "|TRANSCOLOMBIA                          |\n",
      "|TRANSOCEANICA DE AVIACION LTDA.        |\n",
      "|TRANSORIENTE                           |\n",
      "|TRANSP AEREOS BOLIVIANOS               |\n",
      "|TRANSPACIFICOS                         |\n",
      "|TURKISH AIRLINES INC                   |\n",
      "|TURPIAL AIRLINES                       |\n",
      "|ULTRA AIR S.A.S.                       |\n",
      "|UNITED AIR LINES INC                   |\n",
      "|UNITED PARCEL SERVICE                  |\n",
      "|UNIWORLD AIR CARGO                     |\n",
      "|VARIG                                  |\n",
      "|VENSECAR C.A.                          |\n",
      "|VERTICAL DE AVIACION                   |\n",
      "|VIANA S.A.S                            |\n",
      "|VIARCO                                 |\n",
      "|VIASA                                  |\n",
      "|VIVA AIR                               |\n",
      "|VIVA AIR PERU                          |\n",
      "|VOLARIS COSTA RICA                     |\n",
      "|VOLGA - DNEPR                          |\n",
      "|VRG LINHAS AEREAS                      |\n",
      "|VUELA COMPAÑÍA DE AVIACION             |\n",
      "|WEST CARIBBEAN                         |\n",
      "|WEST CARIBBEAN COSTA RICA S.A.         |\n",
      "|WESTERN GLOBAL                         |\n",
      "|WORLD AIRWAYS INC.                     |\n",
      "|XTRA AIRWAYS                           |\n",
      "|ZOOM AIRLINES INC.                     |\n",
      "|ZULIANA DE AVIACION C.A.               |\n",
      "+---------------------------------------+\n",
      "\n"
     ]
    }
   ],
   "source": [
    "import pyspark.sql.functions as F\n",
    "#df.select(\"Nombre_Empresa_clean\", F.length(col(\"Nombre_Empresa_clean\")).alias(\"len\")\n",
    "#          ).distinct().sort(\"len\",descending=False).show(n=100000, truncate=False)\n",
    "\n",
    "#df.select(\"Nombre_Empresa_clean\").distinct().sort(\"Nombre_Empresa_clean\",descending=False).show(n=100000, truncate=False)"
   ]
  },
  {
   "cell_type": "markdown",
   "metadata": {},
   "source": [
    "**¿Cómo ha evolucionado el tráfico aéreo, visto como el número de pasajeros, a través de los años?**"
   ]
  },
  {
   "cell_type": "code",
   "execution_count": 15,
   "metadata": {},
   "outputs": [],
   "source": [
    "pasajeros_anho = df.select(\n",
    "                \"Fecha\",\n",
    "                \"Pasajeros\", \n",
    "                year(\"Fecha\").alias(\"año\")\n",
    "                ).groupBy(\"año\").agg(\n",
    "                    sum(\"Pasajeros\").alias(\"total_pasajeros\")).toPandas()"
   ]
  },
  {
   "cell_type": "code",
   "execution_count": 16,
   "metadata": {},
   "outputs": [],
   "source": [
    "pasajeros_anho_empresa = df.select(\n",
    "                        \"Pasajeros\",\n",
    "                        \"Nombre_Empresa_clean\",\n",
    "                        year(\"Fecha\").alias(\"año\")\n",
    "                        ).groupBy([\"año\", \"Nombre_Empresa_clean\"]).agg(\n",
    "                        sum(\"Pasajeros\").alias(\"total_pasajeros\")).toPandas()"
   ]
  },
  {
   "cell_type": "code",
   "execution_count": 17,
   "metadata": {},
   "outputs": [],
   "source": [
    "pasajeros_empresa = df.select(\n",
    "                        \"Pasajeros\",\n",
    "                        \"Nombre_Empresa_clean\",\n",
    "                        ).groupBy(\"Nombre_Empresa_clean\").agg(\n",
    "                        sum(\"Pasajeros\").alias(\"total_pasajeros\")).toPandas()"
   ]
  },
  {
   "cell_type": "code",
   "execution_count": 18,
   "metadata": {},
   "outputs": [],
   "source": [
    "pasajeros_anho_empresa_nacional = df.select(\n",
    "                        \"Pasajeros\",\n",
    "                        \"Nombre_Empresa_clean\",\n",
    "                        year(\"Fecha\").alias(\"año\")\n",
    "                        ).filter(df.Trafico==\"N\").groupBy([\"año\", \"Nombre_Empresa_clean\"]).agg(\n",
    "                        sum(\"Pasajeros\").alias(\"total_pasajeros\")).toPandas()"
   ]
  },
  {
   "cell_type": "code",
   "execution_count": 19,
   "metadata": {},
   "outputs": [
    {
     "data": {
      "text/plain": [
       "<Axes: xlabel='año'>"
      ]
     },
     "execution_count": 19,
     "metadata": {},
     "output_type": "execute_result"
    },
    {
     "data": {
      "image/png": "[encoded data removed]",
      "text/plain": [
       "<Figure size 640x480 with 1 Axes>"
      ]
     },
     "metadata": {},
     "output_type": "display_data"
    }
   ],
   "source": [
    "pasajeros_anho[\"año\"] = pasajeros_anho[\"año\"].astype(\"Int64\")\n",
    "pasajeros_anho.dropna(inplace=True)\n",
    "pasajeros_anho.set_index(\"año\").sort_index().plot(kind=\"bar\")\n"
   ]
  },
  {
   "cell_type": "code",
   "execution_count": 20,
   "metadata": {},
   "outputs": [
    {
     "data": {
      "text/plain": [
       "<Axes: ylabel='Nombre_Empresa_clean'>"
      ]
     },
     "execution_count": 20,
     "metadata": {},
     "output_type": "execute_result"
    },
    {
     "data": {
      "image/png": "[encoded data removed]",
      "text/plain": [
       "<Figure size 640x480 with 1 Axes>"
      ]
     },
     "metadata": {},
     "output_type": "display_data"
    }
   ],
   "source": [
    "pasajeros_empresa.dropna(inplace=True)\n",
    "pasajeros_empresa.sort_values(\"total_pasajeros\", ascending=False)[:10].sort_values(\"total_pasajeros\").set_index(\"Nombre_Empresa_clean\").plot(kind=\"barh\")\n"
   ]
  },
  {
   "cell_type": "code",
   "execution_count": 21,
   "metadata": {},
   "outputs": [],
   "source": [
    "top_empresas =pd.DataFrame()\n",
    "tot_anhos = pasajeros_anho_empresa[\"año\"].unique()\n",
    "for anho in tot_anhos:\n",
    "    ind = pasajeros_anho_empresa[\"año\"] ==anho\n",
    "    tmp = pasajeros_anho_empresa.loc[ind,:].sort_values(\"total_pasajeros\", ascending=False).iloc[:10,:]\n",
    "    top_empresas = pd.concat([top_empresas,tmp ])\n",
    "top_empresas = top_empresas.sort_values(\"año\")"
   ]
  },
  {
   "cell_type": "code",
   "execution_count": 22,
   "metadata": {},
   "outputs": [],
   "source": [
    "top_empresas_nacional =pd.DataFrame()\n",
    "tot_anhos_nacional = pasajeros_anho_empresa_nacional[\"año\"].unique()\n",
    "for anho in tot_anhos_nacional:\n",
    "    ind = pasajeros_anho_empresa_nacional[\"año\"] ==anho\n",
    "    tmp = pasajeros_anho_empresa_nacional.loc[ind,:].sort_values(\"total_pasajeros\", ascending=False).iloc[:10,:]\n",
    "    top_empresas_nacional = pd.concat([top_empresas_nacional,tmp ])\n",
    "top_empresas_nacional = top_empresas_nacional.sort_values(\"año\")"
   ]
  },
  {
   "cell_type": "markdown",
   "metadata": {},
   "source": [
    "**IpyVizzu**"
   ]
  },
  {
   "cell_type": "code",
   "execution_count": 53,
   "metadata": {},
   "outputs": [
    {
     "data": {
      "application/javascript": "if (window.IpyVizzu) { window.IpyVizzu.clearInhibitScroll(element); }"
     },
     "metadata": {},
     "output_type": "display_data"
    },
    {
     "data": {
      "application/javascript": "if (window.IpyVizzu) { window.IpyVizzu.clearInhibitScroll(element); }"
     },
     "metadata": {},
     "output_type": "display_data"
    },
    {
     "data": {
      "application/javascript": "if (window.IpyVizzu) { window.IpyVizzu.clearInhibitScroll(element); }"
     },
     "metadata": {},
     "output_type": "display_data"
    },
    {
     "data": {
      "application/javascript": "if (window.IpyVizzu) { window.IpyVizzu.clearInhibitScroll(element); }"
     },
     "metadata": {},
     "output_type": "display_data"
    },
    {
     "data": {
      "application/javascript": "if (window.IpyVizzu) { window.IpyVizzu.clearInhibitScroll(element); }"
     },
     "metadata": {},
     "output_type": "display_data"
    },
    {
     "data": {
      "application/javascript": "if (window.IpyVizzu) { window.IpyVizzu.clearInhibitScroll(element); }"
     },
     "metadata": {},
     "output_type": "display_data"
    },
    {
     "data": {
      "application/javascript": "if (window.IpyVizzu) { window.IpyVizzu.clearInhibitScroll(element); }"
     },
     "metadata": {},
     "output_type": "display_data"
    },
    {
     "data": {
      "application/javascript": "if (window.IpyVizzu) { window.IpyVizzu.clearInhibitScroll(element); }"
     },
     "metadata": {},
     "output_type": "display_data"
    },
    {
     "data": {
      "application/javascript": "if (window.IpyVizzu) { window.IpyVizzu.clearInhibitScroll(element); }"
     },
     "metadata": {},
     "output_type": "display_data"
    },
    {
     "data": {
      "application/javascript": "if (!window.IpyVizzu) {\n  class IpyVizzu {\n    constructor() {\n      IpyVizzu.inhibitScroll = false;\n      IpyVizzu.nbconvert = false;\n      document.addEventListener(\n        \"wheel\",\n        (evt) => {\n          IpyVizzu.inhibitScroll = true;\n        },\n        true\n      );\n      document.addEventListener(\n        \"keydown\",\n        (evt) => {\n          IpyVizzu.inhibitScroll = true;\n        },\n        true\n      );\n      document.addEventListener(\n        \"touchstart\",\n        (evt) => {\n          IpyVizzu.inhibitScroll = true;\n        },\n        true\n      );\n\n      this.elements = {};\n      this.charts = {};\n      this.controls = {};\n\n      this.storage = {};\n      this.displays = {};\n\n      this.events = {};\n      this.loaded = {};\n      this.libs = {};\n    }\n\n    static clearInhibitScroll(element) {\n      if (IpyVizzu.nbconvert) IpyVizzu._hide(element);\n      IpyVizzu.inhibitScroll = false;\n    }\n\n    createChart(element, chartId, vizzulib, divWidth, divHeight) {\n      this.elements[chartId] = document.createElement(\"div\");\n      this.elements[\n        chartId\n      ].style.cssText = `width: ${divWidth}; height: ${divHeight};`;\n      this.loaded[chartId] = import(vizzulib);\n      this.charts[chartId] = this.loaded[chartId].then((Vizzu) => {\n        this.libs[chartId] = Vizzu.default;\n        const VizzuConstructor = Vizzu.default;\n        return new VizzuConstructor(this.elements[chartId]).initializing;\n      });\n      this._moveHere(chartId, element);\n    }\n\n    animate(\n      element,\n      chartId,\n      animId,\n      displayTarget,\n      scrollEnabled,\n      getChartTarget,\n      chartAnimOpts\n    ) {\n      if (IpyVizzu.nbconvert) IpyVizzu._hide(element);\n      if (displayTarget === \"end\") this._moveHere(chartId, element);\n      this.controls[chartId] = this.charts[chartId];\n      this.charts[chartId] = this.charts[chartId].then((chart) => {\n        if (displayTarget === \"actual\") this._moveHere(chartId, element);\n        this._scroll(chartId, scrollEnabled);\n        let chartTarget = getChartTarget(this.libs[chartId]);\n        if (typeof chartTarget === \"string\") {\n          chartTarget = this.storage[chartTarget];\n        } else if (Array.isArray(chartTarget)) {\n          for (let i = 0; i < chartTarget.length; i++) {\n            const target = chartTarget[i].target;\n            if (typeof target === \"string\") {\n              chartTarget[i].target = this.storage[target];\n            }\n          }\n        }\n        chart = chart.animate(chartTarget, chartAnimOpts);\n        this.controls[animId] = chart;\n        return chart;\n      });\n    }\n\n    store(element, chartId, id) {\n      if (IpyVizzu.nbconvert) IpyVizzu._hide(element);\n      this.charts[chartId] = this.charts[chartId].then((chart) => {\n        this.storage[id] = chart.store();\n        return chart;\n      });\n    }\n\n    feature(element, chartId, name, enabled) {\n      if (IpyVizzu.nbconvert) IpyVizzu._hide(element);\n      this.charts[chartId] = this.charts[chartId].then((chart) => {\n        chart.feature(name, enabled);\n        return chart;\n      });\n    }\n\n    setEvent(element, chartId, id, event, handler) {\n      if (IpyVizzu.nbconvert) IpyVizzu._hide(element);\n      this.charts[chartId] = this.charts[chartId].then((chart) => {\n        this.events[id] = handler;\n        chart.on(event, this.events[id]);\n        return chart;\n      });\n    }\n\n    clearEvent(element, chartId, id, event) {\n      if (IpyVizzu.nbconvert) IpyVizzu._hide(element);\n      this.charts[chartId] = this.charts[chartId].then((chart) => {\n        chart.off(event, this.events[id]);\n        return chart;\n      });\n    }\n\n    log(element, chartId, chartProperty) {\n      if (IpyVizzu.nbconvert) IpyVizzu._hide(element);\n      this.charts[chartId] = this.charts[chartId].then((chart) => {\n        console.log(chart[chartProperty]);\n        return chart;\n      });\n    }\n\n    control(element, method, prevId, lastId, ...params) {\n      if (IpyVizzu.nbconvert) IpyVizzu._hide(element);\n      this.controls[prevId].then(() => {\n        this.controls[lastId].activated.then((control) => {\n          if (method === \"seek\") {\n            const value = params[0];\n            control[method](value);\n            return;\n          }\n          if (method === \"store\") {\n            const id = params[0];\n            this.storage[id] = control[method]();\n            return;\n          }\n          control[method]();\n        });\n      });\n    }\n\n    _moveHere(chartId, element) {\n      if (IpyVizzu.nbconvert)\n        IpyVizzu._display(this.elements[chartId], element);\n      element.append(this.elements[chartId]);\n    }\n\n    _scroll(chartId, enabled) {\n      if (!IpyVizzu.inhibitScroll && enabled) {\n        this.elements[chartId].scrollIntoView({\n          behavior: \"auto\",\n          block: \"center\",\n        });\n      }\n    }\n\n    static _hide(element) {\n      document.getElementById(\n        element.selector.substring(1)\n      ).parentNode.style.display = \"none\";\n    }\n\n    static _display(prevElement, element) {\n      if (prevElement.parentNode) {\n        prevElement.parentNode.style.display = \"none\";\n      }\n      document.getElementById(\n        element.selector.substring(1)\n      ).parentNode.style.display = \"flex\";\n      document.getElementById(\n        element.selector.substring(1)\n      ).parentNode.style.margin = \"auto\";\n    }\n  }\n\n  window.IpyVizzu = IpyVizzu;\n  window.ipyvizzu = new window.IpyVizzu();\n}\n"
     },
     "metadata": {},
     "output_type": "display_data"
    },
    {
     "data": {
      "application/javascript": "window.ipyvizzu.createChart(element, '989c315', 'https://cdn.jsdelivr.net/npm/vizzu@0.7/dist/vizzu.min.js', '800px', '480px');"
     },
     "metadata": {},
     "output_type": "display_data"
    },
    {
     "data": {
      "application/javascript": "window.ipyvizzu.animate(element, '989c315', '27ab083', 'begin', false, lib => { return {\"data\": {\"series\": [{\"name\": \"a\\u00f1o\", \"type\": \"measure\", \"values\": [1992.0, 1992.0, 1992.0, 1992.0, 1992.0, 1992.0, 1992.0, 1992.0, 1992.0, 1992.0, 1993.0, 1993.0, 1993.0, 1993.0, 1993.0, 1993.0, 1993.0, 1993.0, 1993.0, 1993.0, 1994.0, 1994.0, 1994.0, 1994.0, 1994.0, 1994.0, 1994.0, 1994.0, 1994.0, 1994.0, 1995.0, 1995.0, 1995.0, 1995.0, 1995.0, 1995.0, 1995.0, 1995.0, 1995.0, 1995.0, 1996.0, 1996.0, 1996.0, 1996.0, 1996.0, 1996.0, 1996.0, 1996.0, 1996.0, 1996.0, 1997.0, 1997.0, 1997.0, 1997.0, 1997.0, 1997.0, 1997.0, 1997.0, 1997.0, 1997.0, 1998.0, 1998.0, 1998.0, 1998.0, 1998.0, 1998.0, 1998.0, 1998.0, 1998.0, 1998.0, 1999.0, 1999.0, 1999.0, 1999.0, 1999.0, 1999.0, 1999.0, 1999.0, 1999.0, 1999.0, 2000.0, 2000.0, 2000.0, 2000.0, 2000.0, 2000.0, 2000.0, 2000.0, 2000.0, 2000.0, 2001.0, 2001.0, 2001.0, 2001.0, 2001.0, 2001.0, 2001.0, 2001.0, 2001.0, 2001.0, 2002.0, 2002.0, 2002.0, 2002.0, 2002.0, 2002.0, 2002.0, 2002.0, 2002.0, 2002.0, 2003.0, 2003.0, 2003.0, 2003.0, 2003.0, 2003.0, 2003.0, 2003.0, 2003.0, 2003.0, 2004.0, 2004.0, 2004.0, 2004.0, 2004.0, 2004.0, 2004.0, 2004.0, 2004.0, 2004.0, 2005.0, 2005.0, 2005.0, 2005.0, 2005.0, 2005.0, 2005.0, 2005.0, 2005.0, 2005.0, 2006.0, 2006.0, 2006.0, 2006.0, 2006.0, 2006.0, 2006.0, 2006.0, 2006.0, 2006.0, 2007.0, 2007.0, 2007.0, 2007.0, 2007.0, 2007.0, 2007.0, 2007.0, 2007.0, 2007.0, 2008.0, 2008.0, 2008.0, 2008.0, 2008.0, 2008.0, 2008.0, 2008.0, 2008.0, 2008.0, 2009.0, 2009.0, 2009.0, 2009.0, 2009.0, 2009.0, 2009.0, 2009.0, 2009.0, 2009.0, 2010.0, 2010.0, 2010.0, 2010.0, 2010.0, 2010.0, 2010.0, 2010.0, 2010.0, 2010.0, 2011.0, 2011.0, 2011.0, 2011.0, 2011.0, 2011.0, 2011.0, 2011.0, 2011.0, 2011.0, 2012.0, 2012.0, 2012.0, 2012.0, 2012.0, 2012.0, 2012.0, 2012.0, 2012.0, 2012.0, 2013.0, 2013.0, 2013.0, 2013.0, 2013.0, 2013.0, 2013.0, 2013.0, 2013.0, 2013.0, 2014.0, 2014.0, 2014.0, 2014.0, 2014.0, 2014.0, 2014.0, 2014.0, 2014.0, 2014.0, 2015.0, 2015.0, 2015.0, 2015.0, 2015.0, 2015.0, 2015.0, 2015.0, 2015.0, 2015.0, 2016.0, 2016.0, 2016.0, 2016.0, 2016.0, 2016.0, 2016.0, 2016.0, 2016.0, 2016.0, 2017.0, 2017.0, 2017.0, 2017.0, 2017.0, 2017.0, 2017.0, 2017.0, 2017.0, 2017.0, 2018.0, 2018.0, 2018.0, 2018.0, 2018.0, 2018.0, 2018.0, 2018.0, 2018.0, 2018.0, 2019.0, 2019.0, 2019.0, 2019.0, 2019.0, 2019.0, 2019.0, 2019.0, 2019.0, 2019.0, 2020.0, 2020.0, 2020.0, 2020.0, 2020.0, 2020.0, 2020.0, 2020.0, 2020.0, 2020.0, 2021.0, 2021.0, 2021.0, 2021.0, 2021.0, 2021.0, 2021.0, 2021.0, 2021.0, 2021.0, 2022.0, 2022.0, 2022.0, 2022.0, 2022.0, 2022.0, 2022.0, 2022.0, 2022.0, 2022.0]}, {\"name\": \"Nombre_Empresa_clean\", \"type\": \"dimension\", \"values\": [\"LATAM\", \"ACES\", \"SAM\", \"INTER\", \"HELICOL\", \"AVIANCA\", \"AEROTACA\", \"VERTICAL DE AVIACION\", \"APSA\", \"SATENA\", \"AVIANCA\", \"AEROTACA\", \"AEROREPUBLICA\", \"HELICOL\", \"SATENA\", \"VERTICAL DE AVIACION\", \"LATAM\", \"SAM\", \"INTER\", \"ACES\", \"SATENA\", \"HELICOL\", \"AEROTACA\", \"LATAM\", \"AEROREPUBLICA\", \"SAM\", \"INTER\", \"VERTICAL DE AVIACION\", \"ACES\", \"AVIANCA\", \"SAM\", \"ACES\", \"AEROTACA\", \"VERTICAL DE AVIACION\", \"SATENA\", \"AVIANCA\", \"LATAM\", \"INTER\", \"AEROREPUBLICA\", \"HELICOL\", \"AVIANCA\", \"ACES\", \"AEROTACA\", \"VERTICAL DE AVIACION\", \"HELICOL\", \"SATENA\", \"INTER\", \"LATAM\", \"SAM\", \"AEROREPUBLICA\", \"ACES\", \"AEROREPUBLICA\", \"LATAM\", \"SATENA\", \"VERTICAL DE AVIACION\", \"HELICOL\", \"AEROTACA\", \"AVIANCA\", \"INTER\", \"SAM\", \"INTER\", \"VERTICAL DE AVIACION\", \"HELICOL\", \"LATAM\", \"SATENA\", \"AEROTACA\", \"AVIANCA\", \"SAM\", \"ACES\", \"AEROREPUBLICA\", \"AEROTACA\", \"AEROREPUBLICA\", \"SAM\", \"LATAM\", \"INTER\", \"SATENA\", \"VERTICAL DE AVIACION\", \"HELICOL\", \"AVIANCA\", \"ACES\", \"AVIANCA\", \"ACES\", \"AEROREPUBLICA\", \"LATAM\", \"SAM\", \"SATENA\", \"INTER\", \"HELICOL\", \"AEROTACA\", \"SEARCA S.A.\", \"AEROTACA\", \"INTER\", \"WEST CARIBBEAN\", \"HELICOL\", \"ACES\", \"AVIANCA\", \"SAM\", \"LATAM\", \"SATENA\", \"AEROREPUBLICA\", \"INTER\", \"WEST CARIBBEAN\", \"LATAM\", \"SAM\", \"AEROREPUBLICA\", \"AVIANCA\", \"HELICOL\", \"AEROTACA\", \"SATENA\", \"ACES\", \"SATENA\", \"HELICOL\", \"SEARCA S.A.\", \"INTER\", \"WEST CARIBBEAN\", \"LATAM\", \"ACES\", \"SAM\", \"AEROREPUBLICA\", \"AVIANCA\", \"SEARCA S.A.\", \"AVIANCA\", \"AEROREPUBLICA\", \"WEST CARIBBEAN\", \"ADA\", \"LATAM\", \"SAM\", \"INTER\", \"SATENA\", \"REGION AIR\", \"TAC\", \"AVIANCA\", \"AEROREPUBLICA\", \"SAM\", \"SATENA\", \"LATAM\", \"WEST CARIBBEAN\", \"ADA\", \"SEARCA S.A.\", \"SARPA S.A.S\", \"AVIANCA\", \"SAM\", \"AEROREPUBLICA\", \"LATAM\", \"ADA\", \"VIARCO\", \"SARPA S.A.S\", \"TAC\", \"SEARCA S.A.\", \"SATENA\", \"AEROREPUBLICA\", \"SAM\", \"SATENA\", \"LATAM\", \"ADA\", \"SEARCA S.A.\", \"TAC\", \"ALPES S.A.S\", \"AEXPA\", \"AVIANCA\", \"SAM\", \"AEROREPUBLICA\", \"SATENA\", \"LATAM\", \"EASYFLY S.A\", \"AVIANCA\", \"SEARCA S.A.\", \"TAC\", \"SARPA S.A.S\", \"ADA\", \"SADELCA\", \"PETROLEUM\", \"SEARCA S.A.\", \"ADA\", \"EASYFLY S.A\", \"LATAM\", \"AEROREPUBLICA\", \"SAM\", \"SATENA\", \"AVIANCA\", \"TAC\", \"SEARCA S.A.\", \"ADA\", \"PETROLEUM\", \"SATENA\", \"SAM\", \"AEROREPUBLICA\", \"LATAM\", \"EASYFLY S.A\", \"AVIANCA\", \"PETROLEUM\", \"SARPA S.A.S\", \"SEARCA S.A.\", \"TAC\", \"EASYFLY S.A\", \"AEROREPUBLICA\", \"LATAM\", \"AVIANCA\", \"ADA\", \"SATENA\", \"AVIANCA\", \"LATAM\", \"AEROREPUBLICA\", \"SATENA\", \"EASYFLY S.A\", \"VIVA AIR\", \"ADA\", \"SEARCA S.A.\", \"SARPA S.A.S\", \"TAC\", \"LATAM\", \"VIVA AIR\", \"AEROREPUBLICA\", \"SATENA\", \"EASYFLY S.A\", \"ADA\", \"SEARCA S.A.\", \"PETROLEUM\", \"TAC\", \"AVIANCA\", \"AVIANCA\", \"LATAM\", \"VIVA AIR\", \"SATENA\", \"EASYFLY S.A\", \"ADA\", \"SEARCA S.A.\", \"HELICOL\", \"SARPA S.A.S\", \"AEROREPUBLICA\", \"TAC\", \"HELICOL\", \"SEARCA S.A.\", \"AEROREPUBLICA\", \"ADA\", \"EASYFLY S.A\", \"SATENA\", \"VIVA AIR\", \"LATAM\", \"AVIANCA\", \"SELVA\", \"VIVA AIR\", \"LATAM\", \"AVIANCA\", \"SATENA\", \"EASYFLY S.A\", \"ADA\", \"AEROREPUBLICA\", \"ANDES LINEAS AEREAS S.A.\", \"ALIANSA\", \"TAC\", \"SEARCA S.A.\", \"LATAM\", \"AVIANCA\", \"ADA\", \"AEROREPUBLICA\", \"HELICOL\", \"SATENA\", \"VIVA AIR\", \"EASYFLY S.A\", \"SARPA S.A.S\", \"HELICOL\", \"ADA\", \"AEROREPUBLICA\", \"SATENA\", \"EASYFLY S.A\", \"VIVA AIR\", \"LATAM\", \"AVIANCA\", \"SEARCA S.A.\", \"SARPA S.A.S\", \"LATAM\", \"HELICOL\", \"SEARCA S.A.\", \"AEROREPUBLICA\", \"REGIONAL EXPRESS AMERICAS\", \"SATENA\", \"EASYFLY S.A\", \"VIVA AIR\", \"AVIANCA\", \"AVIANCA\", \"LATAM\", \"SATENA\", \"VIVA AIR\", \"EASYFLY S.A\", \"REGIONAL EXPRESS AMERICAS\", \"SEARCA S.A.\", \"HELICOL\", \"GCA AIRLINES\", \"AEROREPUBLICA\", \"AVIANCA\", \"SARPA S.A.S\", \"AEROREPUBLICA\", \"SATENA\", \"SEARCA S.A.\", \"GCA AIRLINES\", \"EASYFLY S.A\", \"VIVA AIR\", \"LATAM\", \"HELICOL\", \"AVIANCA\", \"VIVA AIR\", \"EASYFLY S.A\", \"ULTRA AIR S.A.S.\", \"SATENA\", \"AEROREPUBLICA\", \"SEARCA S.A.\", \"HELICOL\", \"SARPA S.A.S\", \"LATAM\"]}, {\"name\": \"total_pasajeros\", \"type\": \"measure\", \"values\": [281649.0, 1189859.0, 1019539.0, 557442.0, 247727.0, 2584630.0, 106557.0, 91845.0, 36564.0, 245274.0, 2510643.0, 106413.0, 124761.0, 196187.0, 231298.0, 103768.0, 342778.0, 942934.0, 960658.0, 1340969.0, 184990.0, 94073.0, 114942.0, 391935.0, 505870.0, 766831.0, 830161.0, 93986.0, 1489618.0, 3039382.0, 1096570.0, 1543795.0, 109339.0, 117225.0, 246847.0, 3104505.0, 513222.0, 523463.0, 898617.0, 282771.0, 3124019.0, 1783031.0, 119084.0, 214478.0, 236094.0, 244958.0, 500966.0, 548570.0, 917615.0, 1019773.0, 1721058.0, 922609.0, 553367.0, 309122.0, 209467.0, 158735.0, 130126.0, 2859206.0, 489894.0, 1067425.0, 446812.0, 173080.0, 101750.0, 517937.0, 365704.0, 112528.0, 2746597.0, 1081306.0, 1769203.0, 874723.0, 53932.0, 973453.0, 763180.0, 504833.0, 352970.0, 339529.0, 163446.0, 89956.0, 2716037.0, 1893950.0, 2399120.0, 2147384.0, 1071977.0, 532882.0, 473495.0, 431107.0, 275532.0, 82549.0, 72445.0, 54561.0, 41420.0, 318732.0, 82897.0, 77030.0, 2128197.0, 2063974.0, 766289.0, 515118.0, 491044.0, 1144961.0, 339710.0, 172654.0, 548668.0, 740577.0, 1355567.0, 2533882.0, 75377.0, 46981.0, 486694.0, 1555111.0, 561100.0, 40686.0, 67632.0, 285556.0, 307161.0, 550113.0, 652334.0, 800407.0, 1583226.0, 2708883.0, 62000.0, 2823002.0, 2039904.0, 556252.0, 96997.0, 640198.0, 823463.0, 55344.0, 682998.0, 17104.0, 19862.0, 3323832.0, 1957754.0, 851117.0, 712648.0, 636330.0, 176391.0, 145083.0, 101403.0, 15925.0, 3536402.0, 1124550.0, 2079751.0, 633517.0, 184687.0, 13750.0, 21803.0, 26156.0, 92699.0, 873626.0, 1859967.0, 1609722.0, 1018142.0, 695811.0, 189941.0, 120144.0, 17277.0, 11727.0, 11664.0, 3568882.0, 1812034.0, 1594265.0, 999824.0, 832653.0, 171283.0, 3667045.0, 154138.0, 26456.0, 31390.0, 159130.0, 11201.0, 17789.0, 149099.0, 169484.0, 279001.0, 1547828.0, 1820425.0, 1975001.0, 951732.0, 3670996.0, 39224.0, 174687.0, 205833.0, 15993.0, 919281.0, 1566386.0, 2019984.0, 2815373.0, 366855.0, 5710291.0, 23578.0, 26909.0, 210008.0, 37520.0, 534738.0, 1635006.0, 2843988.0, 8098564.0, 243124.0, 827381.0, 9714148.0, 3193908.0, 1346329.0, 751437.0, 632534.0, 558120.0, 260713.0, 215099.0, 36500.0, 53214.0, 3597499.0, 1837135.0, 1135150.0, 790352.0, 742974.0, 274250.0, 179708.0, 67914.0, 58755.0, 10864469.0, 12036707.0, 3696875.0, 2220823.0, 900578.0, 797462.0, 290029.0, 198970.0, 99887.0, 47400.0, 497940.0, 56579.0, 76966.0, 95051.0, 315646.0, 341410.0, 935875.0, 1004541.0, 2670393.0, 4059152.0, 13379823.0, 0.0, 3128588.0, 4266909.0, 13681761.0, 985585.0, 965337.0, 298094.0, 210550.0, 769.0, 19395.0, 43132.0, 117197.0, 4495873.0, 12643114.0, 228555.0, 348688.0, 68010.0, 1039512.0, 3166107.0, 989176.0, 106644.0, 115495.0, 339067.0, 697691.0, 1863716.0, 1979783.0, 5275081.0, 8071003.0, 21938740.0, 130263.0, 49338.0, 5042153.0, 59065.0, 129552.0, 364961.0, 460977.0, 1039739.0, 1790897.0, 3779806.0, 11798224.0, 10068286.0, 5657568.0, 1148877.0, 4819742.0, 2006639.0, 193343.0, 104603.0, 62694.0, 59752.0, 548218.0, 11591137.0, 52709.0, 1196252.0, 1353200.0, 129490.0, 281225.0, 2027622.0, 7128697.0, 8311060.0, 51386.0, 11980650.0, 6629304.0, 1917401.0, 1431408.0, 1040604.0, 881517.0, 124424.0, 50328.0, 42354.0, 8431078.0]}, {\"name\": \"pct\", \"type\": \"measure\", \"values\": [6.179373218453115, 26.10548178170491, 22.368664514230375, 12.230265918362718, 5.435125242013055, 56.70672859342826, 2.337858369952347, 2.015077395086886, 0.8022134016436051, 5.381306472889553, 55.08345534795716, 2.3346990129389824, 2.73725375239191, 4.304338710979486, 5.074673322759068, 2.276667767797659, 7.520542210605832, 20.687952403057956, 21.07681659545297, 29.42083204760484, 4.058676763211095, 2.0639596688770063, 2.5218250960430817, 8.59904577106406, 11.098777307992847, 16.82425623552585, 18.213715122028685, 2.0620508906814314, 32.682188024547195, 66.68397804163503, 24.058723056567334, 33.870830280888015, 2.398895392252219, 2.5719140686924735, 5.415818060264713, 68.11277531095011, 11.26008003550854, 11.484767363104869, 19.715638342215605, 6.203989875182252, 68.54091206621959, 39.11966315900883, 2.6127004901358455, 4.705642871614624, 5.1798974632875305, 5.3743734394435565, 10.991183649704361, 12.03561442237262, 20.132454068187197, 22.373798469377096, 37.75997682436111, 20.242022324609035, 12.14086050288034, 6.782130268648793, 4.595701635545373, 3.4826426077534633, 2.854961741119017, 62.730920338579075, 10.748264199343405, 23.419282361049806, 9.803046012886512, 3.7973716102306954, 2.2323928896520298, 11.363527037716985, 8.023538175108657, 2.4688619861106984, 60.26028121414836, 23.72383121315064, 38.816277125808746, 19.191404477789607, 1.1832669614222435, 21.357538630078007, 16.744153371249492, 11.076025549500766, 7.744154479218446, 7.449259217991783, 3.586001850044871, 1.9736327742657294, 59.58979544797867, 41.55322371849102, 52.63664304100224, 47.11356042213792, 23.519153146638956, 11.691420027749905, 10.388470479467202, 9.45847863861639, 6.0451663653228795, 1.8111233478907653, 1.5894417974529855, 1.197067208376456, 0.908753940927637, 6.992973469332391, 1.8187584606730642, 1.6900366023576987, 46.692598040086295, 45.283546752104755, 16.812364766767214, 11.301678236184513, 10.773495175491806, 25.1204205929128, 7.453230354237749, 3.788025179066157, 12.037764540340048, 16.24824402004748, 29.74111186483472, 55.59331852596819, 1.6537698166417794, 1.030762165589602, 10.67805626571307, 34.119103086188275, 12.310522362493895, 0.8926499961511791, 1.4838446772771112, 6.265092717419901, 6.7391059693209545, 12.069467810369996, 14.31219443025324, 17.56091297914213, 34.735945603068544, 59.43283683635636, 1.3602787140877233, 61.93660532946888, 44.75545145132909, 12.204157343043939, 2.128112168231724, 14.045930841960198, 18.066761140948692, 1.2142462121366284, 14.984961954265916, 0.37526140525413576, 0.43577186805178, 72.92480514199396, 42.953082155162846, 18.673489327390335, 15.635482339309482, 13.961067002184532, 3.870014881558832, 3.183118010903051, 2.2247797168489902, 0.34939416970720955, 77.5885865331815, 24.67260367624757, 45.629693804881555, 13.899349840527616, 4.052028949495473, 0.30167471481784186, 0.4783573677944295, 0.5738620975109434, 2.0338141373744816, 19.167336320541956, 40.80763740331613, 35.31726729352771, 22.33801436320488, 15.266078908517626, 4.1673016005247785, 2.6359568681508936, 0.3790570216660257, 0.257290136775915, 0.2559079180825678, 78.30119705952939, 39.7559883774715, 34.97814103411394, 21.936117823129738, 18.268389550343304, 3.7579454675014112, 80.45489124357766, 3.3817845230976364, 0.5804440912887872, 0.6886959489550586, 3.4913088995609582, 0.2457497076854288, 0.3902902910468791, 3.27122896760912, 3.718475444813608, 6.121276153374015, 33.95931421724149, 39.940086743437796, 43.33148097745109, 20.880980340582852, 80.54157610163186, 0.8605737464738202, 3.8326291569006794, 4.5159717509164246, 0.3508860882968542, 20.169006073633486, 34.36647635233891, 44.318407064480255, 61.769225227698314, 8.048791091236318, 125.28366610559192, 0.5173008309800055, 0.5903829018933313, 4.607571164324751, 0.8231880218156673, 11.732140629255499, 35.87199772912439, 62.39703773420832, 177.68232619156657, 5.334135517481672, 18.152721979687332, 213.12820564351335, 70.07427527668536, 29.538430336435653, 16.486512194805428, 13.877782840915547, 12.245141224300648, 5.7200378126766545, 4.719267598734761, 0.8008092429709983, 1.1675140563139372, 78.9290534459979, 40.3067037968637, 24.90516745639805, 17.340306487688068, 16.300834150332452, 6.017039311912227, 3.942789792762525, 1.4900317514282844, 1.2890834813907126, 238.36622452525697, 264.0851019324306, 81.10936082488793, 48.72481055897483, 19.758662641543445, 17.496299740222966, 6.363230244647553, 4.3653976732586175, 2.1915187082916194, 1.039955016899324, 10.924793272465175, 1.2413420865220852, 1.6886324436850921, 2.085416968592777, 6.925266693337637, 7.490528318978865, 20.53307808946529, 22.0396087052967, 58.588367034658994, 89.05771069107435, 293.55303911550556, 0.0, 68.64115583145616, 93.61589496208602, 300.17755257315423, 21.62371445845401, 21.179473758408072, 6.540176177375254, 4.619462633083389, 0.016871844050539663, 0.4255258977376031, 0.9463151854198658, 2.571299749273208, 98.63936037325347, 277.3896589352337, 5.014491959650316, 7.650207488029355, 1.4921379894371942, 22.806871719979956, 69.46432191329257, 21.702500923974803, 2.3397671481479216, 2.533957904573574, 7.439122947573904, 15.307326069525446, 40.88989038555992, 43.43639795826992, 115.73516773207389, 177.07763842319608, 481.3355005791112, 2.8579675182775657, 1.082474696704195, 110.62473224312187, 1.2958848749611513, 2.842368193024076, 8.007236770518864, 10.11382581909704, 22.811852095271856, 39.29224303586389, 82.92886524485581, 258.8527898586922, 220.89798601850688, 124.12692457909439, 25.206337551692922, 105.7450395160418, 44.025618041262504, 4.241941409965527, 2.2949876504793245, 1.375505059693802, 1.3109576407124135, 12.027891549673281, 254.30930537378435, 1.1564343667879, 26.245744069110756, 29.689179933927534, 2.8410079143099884, 6.170070667247096, 44.48598462606416, 156.40346432711308, 182.34448402428893, 1.1274077742276087, 262.855212515082, 145.44679226478385, 42.067738172105074, 31.405061831852898, 22.830830177331308, 19.340464696878506, 2.7298599793814655, 1.1041952761710796, 0.9292458815559907, 184.9776764550531]}, {\"name\": \"txt\", \"type\": \"dimension\", \"values\": [\"6.0%\", \"26.0%\", \"22.0%\", \"12.0%\", \"5.0%\", \"57.0%\", \"2.0%\", \"2.0%\", \"1.0%\", \"5.0%\", \"55.0%\", \"2.0%\", \"3.0%\", \"4.0%\", \"5.0%\", \"2.0%\", \"8.0%\", \"21.0%\", \"21.0%\", \"29.0%\", \"4.0%\", \"2.0%\", \"3.0%\", \"9.0%\", \"11.0%\", \"17.0%\", \"18.0%\", \"2.0%\", \"33.0%\", \"67.0%\", \"24.0%\", \"34.0%\", \"2.0%\", \"3.0%\", \"5.0%\", \"68.0%\", \"11.0%\", \"11.0%\", \"20.0%\", \"6.0%\", \"69.0%\", \"39.0%\", \"3.0%\", \"5.0%\", \"5.0%\", \"5.0%\", \"11.0%\", \"12.0%\", \"20.0%\", \"22.0%\", \"38.0%\", \"20.0%\", \"12.0%\", \"7.0%\", \"5.0%\", \"3.0%\", \"3.0%\", \"63.0%\", \"11.0%\", \"23.0%\", \"10.0%\", \"4.0%\", \"2.0%\", \"11.0%\", \"8.0%\", \"2.0%\", \"60.0%\", \"24.0%\", \"39.0%\", \"19.0%\", \"1.0%\", \"21.0%\", \"17.0%\", \"11.0%\", \"8.0%\", \"7.0%\", \"4.0%\", \"2.0%\", \"60.0%\", \"42.0%\", \"53.0%\", \"47.0%\", \"24.0%\", \"12.0%\", \"10.0%\", \"9.0%\", \"6.0%\", \"2.0%\", \"2.0%\", \"1.0%\", \"1.0%\", \"7.0%\", \"2.0%\", \"2.0%\", \"47.0%\", \"45.0%\", \"17.0%\", \"11.0%\", \"11.0%\", \"25.0%\", \"7.0%\", \"4.0%\", \"12.0%\", \"16.0%\", \"30.0%\", \"56.0%\", \"2.0%\", \"1.0%\", \"11.0%\", \"34.0%\", \"12.0%\", \"1.0%\", \"1.0%\", \"6.0%\", \"7.0%\", \"12.0%\", \"14.0%\", \"18.0%\", \"35.0%\", \"59.0%\", \"1.0%\", \"62.0%\", \"45.0%\", \"12.0%\", \"2.0%\", \"14.0%\", \"18.0%\", \"1.0%\", \"15.0%\", \"0.0%\", \"0.0%\", \"73.0%\", \"43.0%\", \"19.0%\", \"16.0%\", \"14.0%\", \"4.0%\", \"3.0%\", \"2.0%\", \"0.0%\", \"78.0%\", \"25.0%\", \"46.0%\", \"14.0%\", \"4.0%\", \"0.0%\", \"0.0%\", \"1.0%\", \"2.0%\", \"19.0%\", \"41.0%\", \"35.0%\", \"22.0%\", \"15.0%\", \"4.0%\", \"3.0%\", \"0.0%\", \"0.0%\", \"0.0%\", \"78.0%\", \"40.0%\", \"35.0%\", \"22.0%\", \"18.0%\", \"4.0%\", \"80.0%\", \"3.0%\", \"1.0%\", \"1.0%\", \"3.0%\", \"0.0%\", \"0.0%\", \"3.0%\", \"4.0%\", \"6.0%\", \"34.0%\", \"40.0%\", \"43.0%\", \"21.0%\", \"81.0%\", \"1.0%\", \"4.0%\", \"5.0%\", \"0.0%\", \"20.0%\", \"34.0%\", \"44.0%\", \"62.0%\", \"8.0%\", \"125.0%\", \"1.0%\", \"1.0%\", \"5.0%\", \"1.0%\", \"12.0%\", \"36.0%\", \"62.0%\", \"178.0%\", \"5.0%\", \"18.0%\", \"213.0%\", \"70.0%\", \"30.0%\", \"16.0%\", \"14.0%\", \"12.0%\", \"6.0%\", \"5.0%\", \"1.0%\", \"1.0%\", \"79.0%\", \"40.0%\", \"25.0%\", \"17.0%\", \"16.0%\", \"6.0%\", \"4.0%\", \"1.0%\", \"1.0%\", \"238.0%\", \"264.0%\", \"81.0%\", \"49.0%\", \"20.0%\", \"17.0%\", \"6.0%\", \"4.0%\", \"2.0%\", \"1.0%\", \"11.0%\", \"1.0%\", \"2.0%\", \"2.0%\", \"7.0%\", \"7.0%\", \"21.0%\", \"22.0%\", \"59.0%\", \"89.0%\", \"294.0%\", \"0.0%\", \"69.0%\", \"94.0%\", \"300.0%\", \"22.0%\", \"21.0%\", \"7.0%\", \"5.0%\", \"0.0%\", \"0.0%\", \"1.0%\", \"3.0%\", \"99.0%\", \"277.0%\", \"5.0%\", \"8.0%\", \"1.0%\", \"23.0%\", \"69.0%\", \"22.0%\", \"2.0%\", \"3.0%\", \"7.0%\", \"15.0%\", \"41.0%\", \"43.0%\", \"116.0%\", \"177.0%\", \"481.0%\", \"3.0%\", \"1.0%\", \"111.0%\", \"1.0%\", \"3.0%\", \"8.0%\", \"10.0%\", \"23.0%\", \"39.0%\", \"83.0%\", \"259.0%\", \"221.0%\", \"124.0%\", \"25.0%\", \"106.0%\", \"44.0%\", \"4.0%\", \"2.0%\", \"1.0%\", \"1.0%\", \"12.0%\", \"254.0%\", \"1.0%\", \"26.0%\", \"30.0%\", \"3.0%\", \"6.0%\", \"44.0%\", \"156.0%\", \"182.0%\", \"1.0%\", \"263.0%\", \"145.0%\", \"42.0%\", \"31.0%\", \"23.0%\", \"19.0%\", \"3.0%\", \"1.0%\", \"1.0%\", \"185.0%\"]}]}} }, undefined);"
     },
     "metadata": {},
     "output_type": "display_data"
    },
    {
     "data": {
      "application/javascript": "window.ipyvizzu.animate(element, '989c315', 'fcc5a57', 'begin', false, lib => { return {\"data\": {\"filter\": record => { return (record['año'] == 1992) }}, \"config\": {\"channels\": {\"x\": {\"set\": [\"total_pasajeros\"]}, \"y\": {\"set\": [\"Nombre_Empresa_clean\"]}, \"color\": {\"set\": [\"Nombre_Empresa_clean\"]}, \"label\": {\"set\": [\"total_pasajeros\"]}}, \"sort\": \"byValue\", \"legend\": null, \"title\": \"N\\u00famero de pasajeros por aerol\\u00ednea en 1992\"}, \"style\": {\"plot\": {\"marker\": {\"colorPalette\": \"#008080 #b5e48cff #99D986 #76c893ff #52b69aff #34a0a4ff #168aadff #1a759fff #1e6091ff #184e77ff\", \"label\": {\"maxFractionDigits\": \"0\"}}, \"paddingLeft\": \"18em\", \"xAxis\": {\"title\": {\"color\": \"#00000000\"}}}}} }, {\"duration\": 0.9, \"x\": {\"easing\": \"linear\", \"delay\": 0}, \"y\": {\"delay\": 0}, \"show\": {\"delay\": 0}, \"hide\": {\"delay\": 0}, \"title\": {\"duration\": 0, \"delay\": 0}});"
     },
     "metadata": {},
     "output_type": "display_data"
    },
    {
     "data": {
      "application/javascript": "window.ipyvizzu.animate(element, '989c315', 'a774030', 'begin', false, lib => { return {\"data\": {\"filter\": record => { return (record['año'] == 1993) }}, \"config\": {\"channels\": {\"x\": {\"set\": [\"total_pasajeros\"]}, \"y\": {\"set\": [\"Nombre_Empresa_clean\"]}, \"color\": {\"set\": [\"Nombre_Empresa_clean\"]}, \"label\": {\"set\": [\"total_pasajeros\"]}}, \"sort\": \"byValue\", \"legend\": null, \"title\": \"N\\u00famero de pasajeros por aerol\\u00ednea en 1993\"}, \"style\": {\"plot\": {\"marker\": {\"colorPalette\": \"#008080 #b5e48cff #99D986 #76c893ff #52b69aff #34a0a4ff #168aadff #1a759fff #1e6091ff #184e77ff\", \"label\": {\"maxFractionDigits\": \"0\"}}, \"paddingLeft\": \"18em\", \"xAxis\": {\"title\": {\"color\": \"#00000000\"}}}}} }, {\"duration\": 0.9, \"x\": {\"easing\": \"linear\", \"delay\": 0}, \"y\": {\"delay\": 0}, \"show\": {\"delay\": 0}, \"hide\": {\"delay\": 0}, \"title\": {\"duration\": 0, \"delay\": 0}});"
     },
     "metadata": {},
     "output_type": "display_data"
    },
    {
     "data": {
      "application/javascript": "window.ipyvizzu.animate(element, '989c315', '8c6ee7e', 'begin', false, lib => { return {\"data\": {\"filter\": record => { return (record['año'] == 1994) }}, \"config\": {\"channels\": {\"x\": {\"set\": [\"total_pasajeros\"]}, \"y\": {\"set\": [\"Nombre_Empresa_clean\"]}, \"color\": {\"set\": [\"Nombre_Empresa_clean\"]}, \"label\": {\"set\": [\"total_pasajeros\"]}}, \"sort\": \"byValue\", \"legend\": null, \"title\": \"N\\u00famero de pasajeros por aerol\\u00ednea en 1994\"}, \"style\": {\"plot\": {\"marker\": {\"colorPalette\": \"#008080 #b5e48cff #99D986 #76c893ff #52b69aff #34a0a4ff #168aadff #1a759fff #1e6091ff #184e77ff\", \"label\": {\"maxFractionDigits\": \"0\"}}, \"paddingLeft\": \"18em\", \"xAxis\": {\"title\": {\"color\": \"#00000000\"}}}}} }, {\"duration\": 0.9, \"x\": {\"easing\": \"linear\", \"delay\": 0}, \"y\": {\"delay\": 0}, \"show\": {\"delay\": 0}, \"hide\": {\"delay\": 0}, \"title\": {\"duration\": 0, \"delay\": 0}});"
     },
     "metadata": {},
     "output_type": "display_data"
    },
    {
     "data": {
      "application/javascript": "window.ipyvizzu.animate(element, '989c315', 'c6260d3', 'begin', false, lib => { return {\"data\": {\"filter\": record => { return (record['año'] == 1995) }}, \"config\": {\"channels\": {\"x\": {\"set\": [\"total_pasajeros\"]}, \"y\": {\"set\": [\"Nombre_Empresa_clean\"]}, \"color\": {\"set\": [\"Nombre_Empresa_clean\"]}, \"label\": {\"set\": [\"total_pasajeros\"]}}, \"sort\": \"byValue\", \"legend\": null, \"title\": \"N\\u00famero de pasajeros por aerol\\u00ednea en 1995\"}, \"style\": {\"plot\": {\"marker\": {\"colorPalette\": \"#008080 #b5e48cff #99D986 #76c893ff #52b69aff #34a0a4ff #168aadff #1a759fff #1e6091ff #184e77ff\", \"label\": {\"maxFractionDigits\": \"0\"}}, \"paddingLeft\": \"18em\", \"xAxis\": {\"title\": {\"color\": \"#00000000\"}}}}} }, {\"duration\": 0.9, \"x\": {\"easing\": \"linear\", \"delay\": 0}, \"y\": {\"delay\": 0}, \"show\": {\"delay\": 0}, \"hide\": {\"delay\": 0}, \"title\": {\"duration\": 0, \"delay\": 0}});"
     },
     "metadata": {},
     "output_type": "display_data"
    },
    {
     "data": {
      "application/javascript": "window.ipyvizzu.animate(element, '989c315', 'e8d7f56', 'begin', false, lib => { return {\"data\": {\"filter\": record => { return (record['año'] == 1996) }}, \"config\": {\"channels\": {\"x\": {\"set\": [\"total_pasajeros\"]}, \"y\": {\"set\": [\"Nombre_Empresa_clean\"]}, \"color\": {\"set\": [\"Nombre_Empresa_clean\"]}, \"label\": {\"set\": [\"total_pasajeros\"]}}, \"sort\": \"byValue\", \"legend\": null, \"title\": \"N\\u00famero de pasajeros por aerol\\u00ednea en 1996\"}, \"style\": {\"plot\": {\"marker\": {\"colorPalette\": \"#008080 #b5e48cff #99D986 #76c893ff #52b69aff #34a0a4ff #168aadff #1a759fff #1e6091ff #184e77ff\", \"label\": {\"maxFractionDigits\": \"0\"}}, \"paddingLeft\": \"18em\", \"xAxis\": {\"title\": {\"color\": \"#00000000\"}}}}} }, {\"duration\": 0.9, \"x\": {\"easing\": \"linear\", \"delay\": 0}, \"y\": {\"delay\": 0}, \"show\": {\"delay\": 0}, \"hide\": {\"delay\": 0}, \"title\": {\"duration\": 0, \"delay\": 0}});"
     },
     "metadata": {},
     "output_type": "display_data"
    },
    {
     "data": {
      "application/javascript": "window.ipyvizzu.animate(element, '989c315', '89bc397', 'begin', false, lib => { return {\"data\": {\"filter\": record => { return (record['año'] == 1997) }}, \"config\": {\"channels\": {\"x\": {\"set\": [\"total_pasajeros\"]}, \"y\": {\"set\": [\"Nombre_Empresa_clean\"]}, \"color\": {\"set\": [\"Nombre_Empresa_clean\"]}, \"label\": {\"set\": [\"total_pasajeros\"]}}, \"sort\": \"byValue\", \"legend\": null, \"title\": \"N\\u00famero de pasajeros por aerol\\u00ednea en 1997\"}, \"style\": {\"plot\": {\"marker\": {\"colorPalette\": \"#008080 #b5e48cff #99D986 #76c893ff #52b69aff #34a0a4ff #168aadff #1a759fff #1e6091ff #184e77ff\", \"label\": {\"maxFractionDigits\": \"0\"}}, \"paddingLeft\": \"18em\", \"xAxis\": {\"title\": {\"color\": \"#00000000\"}}}}} }, {\"duration\": 0.9, \"x\": {\"easing\": \"linear\", \"delay\": 0}, \"y\": {\"delay\": 0}, \"show\": {\"delay\": 0}, \"hide\": {\"delay\": 0}, \"title\": {\"duration\": 0, \"delay\": 0}});"
     },
     "metadata": {},
     "output_type": "display_data"
    },
    {
     "data": {
      "application/javascript": "window.ipyvizzu.animate(element, '989c315', 'e49b32e', 'begin', false, lib => { return {\"data\": {\"filter\": record => { return (record['año'] == 1998) }}, \"config\": {\"channels\": {\"x\": {\"set\": [\"total_pasajeros\"]}, \"y\": {\"set\": [\"Nombre_Empresa_clean\"]}, \"color\": {\"set\": [\"Nombre_Empresa_clean\"]}, \"label\": {\"set\": [\"total_pasajeros\"]}}, \"sort\": \"byValue\", \"legend\": null, \"title\": \"N\\u00famero de pasajeros por aerol\\u00ednea en 1998\"}, \"style\": {\"plot\": {\"marker\": {\"colorPalette\": \"#008080 #b5e48cff #99D986 #76c893ff #52b69aff #34a0a4ff #168aadff #1a759fff #1e6091ff #184e77ff\", \"label\": {\"maxFractionDigits\": \"0\"}}, \"paddingLeft\": \"18em\", \"xAxis\": {\"title\": {\"color\": \"#00000000\"}}}}} }, {\"duration\": 0.9, \"x\": {\"easing\": \"linear\", \"delay\": 0}, \"y\": {\"delay\": 0}, \"show\": {\"delay\": 0}, \"hide\": {\"delay\": 0}, \"title\": {\"duration\": 0, \"delay\": 0}});"
     },
     "metadata": {},
     "output_type": "display_data"
    },
    {
     "data": {
      "application/javascript": "window.ipyvizzu.animate(element, '989c315', 'b9dd4cc', 'begin', false, lib => { return {\"data\": {\"filter\": record => { return (record['año'] == 1999) }}, \"config\": {\"channels\": {\"x\": {\"set\": [\"total_pasajeros\"]}, \"y\": {\"set\": [\"Nombre_Empresa_clean\"]}, \"color\": {\"set\": [\"Nombre_Empresa_clean\"]}, \"label\": {\"set\": [\"total_pasajeros\"]}}, \"sort\": \"byValue\", \"legend\": null, \"title\": \"N\\u00famero de pasajeros por aerol\\u00ednea en 1999\"}, \"style\": {\"plot\": {\"marker\": {\"colorPalette\": \"#008080 #b5e48cff #99D986 #76c893ff #52b69aff #34a0a4ff #168aadff #1a759fff #1e6091ff #184e77ff\", \"label\": {\"maxFractionDigits\": \"0\"}}, \"paddingLeft\": \"18em\", \"xAxis\": {\"title\": {\"color\": \"#00000000\"}}}}} }, {\"duration\": 0.9, \"x\": {\"easing\": \"linear\", \"delay\": 0}, \"y\": {\"delay\": 0}, \"show\": {\"delay\": 0}, \"hide\": {\"delay\": 0}, \"title\": {\"duration\": 0, \"delay\": 0}});"
     },
     "metadata": {},
     "output_type": "display_data"
    },
    {
     "data": {
      "application/javascript": "window.ipyvizzu.animate(element, '989c315', 'c02b914', 'begin', false, lib => { return {\"data\": {\"filter\": record => { return (record['año'] == 2000) }}, \"config\": {\"channels\": {\"x\": {\"set\": [\"total_pasajeros\"]}, \"y\": {\"set\": [\"Nombre_Empresa_clean\"]}, \"color\": {\"set\": [\"Nombre_Empresa_clean\"]}, \"label\": {\"set\": [\"total_pasajeros\"]}}, \"sort\": \"byValue\", \"legend\": null, \"title\": \"N\\u00famero de pasajeros por aerol\\u00ednea en 2000\"}, \"style\": {\"plot\": {\"marker\": {\"colorPalette\": \"#008080 #b5e48cff #99D986 #76c893ff #52b69aff #34a0a4ff #168aadff #1a759fff #1e6091ff #184e77ff\", \"label\": {\"maxFractionDigits\": \"0\"}}, \"paddingLeft\": \"18em\", \"xAxis\": {\"title\": {\"color\": \"#00000000\"}}}}} }, {\"duration\": 0.9, \"x\": {\"easing\": \"linear\", \"delay\": 0}, \"y\": {\"delay\": 0}, \"show\": {\"delay\": 0}, \"hide\": {\"delay\": 0}, \"title\": {\"duration\": 0, \"delay\": 0}});"
     },
     "metadata": {},
     "output_type": "display_data"
    },
    {
     "data": {
      "application/javascript": "window.ipyvizzu.animate(element, '989c315', 'd518a57', 'begin', false, lib => { return {\"data\": {\"filter\": record => { return (record['año'] == 2001) }}, \"config\": {\"channels\": {\"x\": {\"set\": [\"total_pasajeros\"]}, \"y\": {\"set\": [\"Nombre_Empresa_clean\"]}, \"color\": {\"set\": [\"Nombre_Empresa_clean\"]}, \"label\": {\"set\": [\"total_pasajeros\"]}}, \"sort\": \"byValue\", \"legend\": null, \"title\": \"N\\u00famero de pasajeros por aerol\\u00ednea en 2001\"}, \"style\": {\"plot\": {\"marker\": {\"colorPalette\": \"#008080 #b5e48cff #99D986 #76c893ff #52b69aff #34a0a4ff #168aadff #1a759fff #1e6091ff #184e77ff\", \"label\": {\"maxFractionDigits\": \"0\"}}, \"paddingLeft\": \"18em\", \"xAxis\": {\"title\": {\"color\": \"#00000000\"}}}}} }, {\"duration\": 0.9, \"x\": {\"easing\": \"linear\", \"delay\": 0}, \"y\": {\"delay\": 0}, \"show\": {\"delay\": 0}, \"hide\": {\"delay\": 0}, \"title\": {\"duration\": 0, \"delay\": 0}});"
     },
     "metadata": {},
     "output_type": "display_data"
    },
    {
     "data": {
      "application/javascript": "window.ipyvizzu.animate(element, '989c315', '52e1021', 'begin', false, lib => { return {\"data\": {\"filter\": record => { return (record['año'] == 2002) }}, \"config\": {\"channels\": {\"x\": {\"set\": [\"total_pasajeros\"]}, \"y\": {\"set\": [\"Nombre_Empresa_clean\"]}, \"color\": {\"set\": [\"Nombre_Empresa_clean\"]}, \"label\": {\"set\": [\"total_pasajeros\"]}}, \"sort\": \"byValue\", \"legend\": null, \"title\": \"N\\u00famero de pasajeros por aerol\\u00ednea en 2002\"}, \"style\": {\"plot\": {\"marker\": {\"colorPalette\": \"#008080 #b5e48cff #99D986 #76c893ff #52b69aff #34a0a4ff #168aadff #1a759fff #1e6091ff #184e77ff\", \"label\": {\"maxFractionDigits\": \"0\"}}, \"paddingLeft\": \"18em\", \"xAxis\": {\"title\": {\"color\": \"#00000000\"}}}}} }, {\"duration\": 0.9, \"x\": {\"easing\": \"linear\", \"delay\": 0}, \"y\": {\"delay\": 0}, \"show\": {\"delay\": 0}, \"hide\": {\"delay\": 0}, \"title\": {\"duration\": 0, \"delay\": 0}});"
     },
     "metadata": {},
     "output_type": "display_data"
    },
    {
     "data": {
      "application/javascript": "window.ipyvizzu.animate(element, '989c315', '732e49e', 'begin', false, lib => { return {\"data\": {\"filter\": record => { return (record['año'] == 2003) }}, \"config\": {\"channels\": {\"x\": {\"set\": [\"total_pasajeros\"]}, \"y\": {\"set\": [\"Nombre_Empresa_clean\"]}, \"color\": {\"set\": [\"Nombre_Empresa_clean\"]}, \"label\": {\"set\": [\"total_pasajeros\"]}}, \"sort\": \"byValue\", \"legend\": null, \"title\": \"N\\u00famero de pasajeros por aerol\\u00ednea en 2003\"}, \"style\": {\"plot\": {\"marker\": {\"colorPalette\": \"#008080 #b5e48cff #99D986 #76c893ff #52b69aff #34a0a4ff #168aadff #1a759fff #1e6091ff #184e77ff\", \"label\": {\"maxFractionDigits\": \"0\"}}, \"paddingLeft\": \"18em\", \"xAxis\": {\"title\": {\"color\": \"#00000000\"}}}}} }, {\"duration\": 0.9, \"x\": {\"easing\": \"linear\", \"delay\": 0}, \"y\": {\"delay\": 0}, \"show\": {\"delay\": 0}, \"hide\": {\"delay\": 0}, \"title\": {\"duration\": 0, \"delay\": 0}});"
     },
     "metadata": {},
     "output_type": "display_data"
    },
    {
     "data": {
      "application/javascript": "window.ipyvizzu.animate(element, '989c315', '43b3b91', 'begin', false, lib => { return {\"data\": {\"filter\": record => { return (record['año'] == 2004) }}, \"config\": {\"channels\": {\"x\": {\"set\": [\"total_pasajeros\"]}, \"y\": {\"set\": [\"Nombre_Empresa_clean\"]}, \"color\": {\"set\": [\"Nombre_Empresa_clean\"]}, \"label\": {\"set\": [\"total_pasajeros\"]}}, \"sort\": \"byValue\", \"legend\": null, \"title\": \"N\\u00famero de pasajeros por aerol\\u00ednea en 2004\"}, \"style\": {\"plot\": {\"marker\": {\"colorPalette\": \"#008080 #b5e48cff #99D986 #76c893ff #52b69aff #34a0a4ff #168aadff #1a759fff #1e6091ff #184e77ff\", \"label\": {\"maxFractionDigits\": \"0\"}}, \"paddingLeft\": \"18em\", \"xAxis\": {\"title\": {\"color\": \"#00000000\"}}}}} }, {\"duration\": 0.9, \"x\": {\"easing\": \"linear\", \"delay\": 0}, \"y\": {\"delay\": 0}, \"show\": {\"delay\": 0}, \"hide\": {\"delay\": 0}, \"title\": {\"duration\": 0, \"delay\": 0}});"
     },
     "metadata": {},
     "output_type": "display_data"
    },
    {
     "data": {
      "application/javascript": "window.ipyvizzu.animate(element, '989c315', '30a353e', 'begin', false, lib => { return {\"data\": {\"filter\": record => { return (record['año'] == 2005) }}, \"config\": {\"channels\": {\"x\": {\"set\": [\"total_pasajeros\"]}, \"y\": {\"set\": [\"Nombre_Empresa_clean\"]}, \"color\": {\"set\": [\"Nombre_Empresa_clean\"]}, \"label\": {\"set\": [\"total_pasajeros\"]}}, \"sort\": \"byValue\", \"legend\": null, \"title\": \"N\\u00famero de pasajeros por aerol\\u00ednea en 2005\"}, \"style\": {\"plot\": {\"marker\": {\"colorPalette\": \"#008080 #b5e48cff #99D986 #76c893ff #52b69aff #34a0a4ff #168aadff #1a759fff #1e6091ff #184e77ff\", \"label\": {\"maxFractionDigits\": \"0\"}}, \"paddingLeft\": \"18em\", \"xAxis\": {\"title\": {\"color\": \"#00000000\"}}}}} }, {\"duration\": 0.9, \"x\": {\"easing\": \"linear\", \"delay\": 0}, \"y\": {\"delay\": 0}, \"show\": {\"delay\": 0}, \"hide\": {\"delay\": 0}, \"title\": {\"duration\": 0, \"delay\": 0}});"
     },
     "metadata": {},
     "output_type": "display_data"
    },
    {
     "data": {
      "application/javascript": "window.ipyvizzu.animate(element, '989c315', '0babf5f', 'begin', false, lib => { return {\"data\": {\"filter\": record => { return (record['año'] == 2006) }}, \"config\": {\"channels\": {\"x\": {\"set\": [\"total_pasajeros\"]}, \"y\": {\"set\": [\"Nombre_Empresa_clean\"]}, \"color\": {\"set\": [\"Nombre_Empresa_clean\"]}, \"label\": {\"set\": [\"total_pasajeros\"]}}, \"sort\": \"byValue\", \"legend\": null, \"title\": \"N\\u00famero de pasajeros por aerol\\u00ednea en 2006\"}, \"style\": {\"plot\": {\"marker\": {\"colorPalette\": \"#008080 #b5e48cff #99D986 #76c893ff #52b69aff #34a0a4ff #168aadff #1a759fff #1e6091ff #184e77ff\", \"label\": {\"maxFractionDigits\": \"0\"}}, \"paddingLeft\": \"18em\", \"xAxis\": {\"title\": {\"color\": \"#00000000\"}}}}} }, {\"duration\": 0.9, \"x\": {\"easing\": \"linear\", \"delay\": 0}, \"y\": {\"delay\": 0}, \"show\": {\"delay\": 0}, \"hide\": {\"delay\": 0}, \"title\": {\"duration\": 0, \"delay\": 0}});"
     },
     "metadata": {},
     "output_type": "display_data"
    },
    {
     "data": {
      "application/javascript": "window.ipyvizzu.animate(element, '989c315', '39c5fe4', 'begin', false, lib => { return {\"data\": {\"filter\": record => { return (record['año'] == 2007) }}, \"config\": {\"channels\": {\"x\": {\"set\": [\"total_pasajeros\"]}, \"y\": {\"set\": [\"Nombre_Empresa_clean\"]}, \"color\": {\"set\": [\"Nombre_Empresa_clean\"]}, \"label\": {\"set\": [\"total_pasajeros\"]}}, \"sort\": \"byValue\", \"legend\": null, \"title\": \"N\\u00famero de pasajeros por aerol\\u00ednea en 2007\"}, \"style\": {\"plot\": {\"marker\": {\"colorPalette\": \"#008080 #b5e48cff #99D986 #76c893ff #52b69aff #34a0a4ff #168aadff #1a759fff #1e6091ff #184e77ff\", \"label\": {\"maxFractionDigits\": \"0\"}}, \"paddingLeft\": \"18em\", \"xAxis\": {\"title\": {\"color\": \"#00000000\"}}}}} }, {\"duration\": 0.9, \"x\": {\"easing\": \"linear\", \"delay\": 0}, \"y\": {\"delay\": 0}, \"show\": {\"delay\": 0}, \"hide\": {\"delay\": 0}, \"title\": {\"duration\": 0, \"delay\": 0}});"
     },
     "metadata": {},
     "output_type": "display_data"
    },
    {
     "data": {
      "application/javascript": "window.ipyvizzu.animate(element, '989c315', '9d7ae4f', 'begin', false, lib => { return {\"data\": {\"filter\": record => { return (record['año'] == 2008) }}, \"config\": {\"channels\": {\"x\": {\"set\": [\"total_pasajeros\"]}, \"y\": {\"set\": [\"Nombre_Empresa_clean\"]}, \"color\": {\"set\": [\"Nombre_Empresa_clean\"]}, \"label\": {\"set\": [\"total_pasajeros\"]}}, \"sort\": \"byValue\", \"legend\": null, \"title\": \"N\\u00famero de pasajeros por aerol\\u00ednea en 2008\"}, \"style\": {\"plot\": {\"marker\": {\"colorPalette\": \"#008080 #b5e48cff #99D986 #76c893ff #52b69aff #34a0a4ff #168aadff #1a759fff #1e6091ff #184e77ff\", \"label\": {\"maxFractionDigits\": \"0\"}}, \"paddingLeft\": \"18em\", \"xAxis\": {\"title\": {\"color\": \"#00000000\"}}}}} }, {\"duration\": 0.9, \"x\": {\"easing\": \"linear\", \"delay\": 0}, \"y\": {\"delay\": 0}, \"show\": {\"delay\": 0}, \"hide\": {\"delay\": 0}, \"title\": {\"duration\": 0, \"delay\": 0}});"
     },
     "metadata": {},
     "output_type": "display_data"
    },
    {
     "data": {
      "application/javascript": "window.ipyvizzu.animate(element, '989c315', '4ad5a6c', 'begin', false, lib => { return {\"data\": {\"filter\": record => { return (record['año'] == 2009) }}, \"config\": {\"channels\": {\"x\": {\"set\": [\"total_pasajeros\"]}, \"y\": {\"set\": [\"Nombre_Empresa_clean\"]}, \"color\": {\"set\": [\"Nombre_Empresa_clean\"]}, \"label\": {\"set\": [\"total_pasajeros\"]}}, \"sort\": \"byValue\", \"legend\": null, \"title\": \"N\\u00famero de pasajeros por aerol\\u00ednea en 2009\"}, \"style\": {\"plot\": {\"marker\": {\"colorPalette\": \"#008080 #b5e48cff #99D986 #76c893ff #52b69aff #34a0a4ff #168aadff #1a759fff #1e6091ff #184e77ff\", \"label\": {\"maxFractionDigits\": \"0\"}}, \"paddingLeft\": \"18em\", \"xAxis\": {\"title\": {\"color\": \"#00000000\"}}}}} }, {\"duration\": 0.9, \"x\": {\"easing\": \"linear\", \"delay\": 0}, \"y\": {\"delay\": 0}, \"show\": {\"delay\": 0}, \"hide\": {\"delay\": 0}, \"title\": {\"duration\": 0, \"delay\": 0}});"
     },
     "metadata": {},
     "output_type": "display_data"
    },
    {
     "data": {
      "application/javascript": "window.ipyvizzu.animate(element, '989c315', '33c0999', 'begin', false, lib => { return {\"data\": {\"filter\": record => { return (record['año'] == 2010) }}, \"config\": {\"channels\": {\"x\": {\"set\": [\"total_pasajeros\"]}, \"y\": {\"set\": [\"Nombre_Empresa_clean\"]}, \"color\": {\"set\": [\"Nombre_Empresa_clean\"]}, \"label\": {\"set\": [\"total_pasajeros\"]}}, \"sort\": \"byValue\", \"legend\": null, \"title\": \"N\\u00famero de pasajeros por aerol\\u00ednea en 2010\"}, \"style\": {\"plot\": {\"marker\": {\"colorPalette\": \"#008080 #b5e48cff #99D986 #76c893ff #52b69aff #34a0a4ff #168aadff #1a759fff #1e6091ff #184e77ff\", \"label\": {\"maxFractionDigits\": \"0\"}}, \"paddingLeft\": \"18em\", \"xAxis\": {\"title\": {\"color\": \"#00000000\"}}}}} }, {\"duration\": 0.9, \"x\": {\"easing\": \"linear\", \"delay\": 0}, \"y\": {\"delay\": 0}, \"show\": {\"delay\": 0}, \"hide\": {\"delay\": 0}, \"title\": {\"duration\": 0, \"delay\": 0}});"
     },
     "metadata": {},
     "output_type": "display_data"
    },
    {
     "data": {
      "application/javascript": "window.ipyvizzu.animate(element, '989c315', 'ae19e35', 'begin', false, lib => { return {\"data\": {\"filter\": record => { return (record['año'] == 2011) }}, \"config\": {\"channels\": {\"x\": {\"set\": [\"total_pasajeros\"]}, \"y\": {\"set\": [\"Nombre_Empresa_clean\"]}, \"color\": {\"set\": [\"Nombre_Empresa_clean\"]}, \"label\": {\"set\": [\"total_pasajeros\"]}}, \"sort\": \"byValue\", \"legend\": null, \"title\": \"N\\u00famero de pasajeros por aerol\\u00ednea en 2011\"}, \"style\": {\"plot\": {\"marker\": {\"colorPalette\": \"#008080 #b5e48cff #99D986 #76c893ff #52b69aff #34a0a4ff #168aadff #1a759fff #1e6091ff #184e77ff\", \"label\": {\"maxFractionDigits\": \"0\"}}, \"paddingLeft\": \"18em\", \"xAxis\": {\"title\": {\"color\": \"#00000000\"}}}}} }, {\"duration\": 0.9, \"x\": {\"easing\": \"linear\", \"delay\": 0}, \"y\": {\"delay\": 0}, \"show\": {\"delay\": 0}, \"hide\": {\"delay\": 0}, \"title\": {\"duration\": 0, \"delay\": 0}});"
     },
     "metadata": {},
     "output_type": "display_data"
    },
    {
     "data": {
      "application/javascript": "window.ipyvizzu.animate(element, '989c315', '7934dac', 'begin', false, lib => { return {\"data\": {\"filter\": record => { return (record['año'] == 2012) }}, \"config\": {\"channels\": {\"x\": {\"set\": [\"total_pasajeros\"]}, \"y\": {\"set\": [\"Nombre_Empresa_clean\"]}, \"color\": {\"set\": [\"Nombre_Empresa_clean\"]}, \"label\": {\"set\": [\"total_pasajeros\"]}}, \"sort\": \"byValue\", \"legend\": null, \"title\": \"N\\u00famero de pasajeros por aerol\\u00ednea en 2012\"}, \"style\": {\"plot\": {\"marker\": {\"colorPalette\": \"#008080 #b5e48cff #99D986 #76c893ff #52b69aff #34a0a4ff #168aadff #1a759fff #1e6091ff #184e77ff\", \"label\": {\"maxFractionDigits\": \"0\"}}, \"paddingLeft\": \"18em\", \"xAxis\": {\"title\": {\"color\": \"#00000000\"}}}}} }, {\"duration\": 0.9, \"x\": {\"easing\": \"linear\", \"delay\": 0}, \"y\": {\"delay\": 0}, \"show\": {\"delay\": 0}, \"hide\": {\"delay\": 0}, \"title\": {\"duration\": 0, \"delay\": 0}});"
     },
     "metadata": {},
     "output_type": "display_data"
    },
    {
     "data": {
      "application/javascript": "window.ipyvizzu.animate(element, '989c315', 'dcbfd74', 'begin', false, lib => { return {\"data\": {\"filter\": record => { return (record['año'] == 2013) }}, \"config\": {\"channels\": {\"x\": {\"set\": [\"total_pasajeros\"]}, \"y\": {\"set\": [\"Nombre_Empresa_clean\"]}, \"color\": {\"set\": [\"Nombre_Empresa_clean\"]}, \"label\": {\"set\": [\"total_pasajeros\"]}}, \"sort\": \"byValue\", \"legend\": null, \"title\": \"N\\u00famero de pasajeros por aerol\\u00ednea en 2013\"}, \"style\": {\"plot\": {\"marker\": {\"colorPalette\": \"#008080 #b5e48cff #99D986 #76c893ff #52b69aff #34a0a4ff #168aadff #1a759fff #1e6091ff #184e77ff\", \"label\": {\"maxFractionDigits\": \"0\"}}, \"paddingLeft\": \"18em\", \"xAxis\": {\"title\": {\"color\": \"#00000000\"}}}}} }, {\"duration\": 0.9, \"x\": {\"easing\": \"linear\", \"delay\": 0}, \"y\": {\"delay\": 0}, \"show\": {\"delay\": 0}, \"hide\": {\"delay\": 0}, \"title\": {\"duration\": 0, \"delay\": 0}});"
     },
     "metadata": {},
     "output_type": "display_data"
    },
    {
     "data": {
      "application/javascript": "window.ipyvizzu.animate(element, '989c315', 'a4aac26', 'begin', false, lib => { return {\"data\": {\"filter\": record => { return (record['año'] == 2014) }}, \"config\": {\"channels\": {\"x\": {\"set\": [\"total_pasajeros\"]}, \"y\": {\"set\": [\"Nombre_Empresa_clean\"]}, \"color\": {\"set\": [\"Nombre_Empresa_clean\"]}, \"label\": {\"set\": [\"total_pasajeros\"]}}, \"sort\": \"byValue\", \"legend\": null, \"title\": \"N\\u00famero de pasajeros por aerol\\u00ednea en 2014\"}, \"style\": {\"plot\": {\"marker\": {\"colorPalette\": \"#008080 #b5e48cff #99D986 #76c893ff #52b69aff #34a0a4ff #168aadff #1a759fff #1e6091ff #184e77ff\", \"label\": {\"maxFractionDigits\": \"0\"}}, \"paddingLeft\": \"18em\", \"xAxis\": {\"title\": {\"color\": \"#00000000\"}}}}} }, {\"duration\": 0.9, \"x\": {\"easing\": \"linear\", \"delay\": 0}, \"y\": {\"delay\": 0}, \"show\": {\"delay\": 0}, \"hide\": {\"delay\": 0}, \"title\": {\"duration\": 0, \"delay\": 0}});"
     },
     "metadata": {},
     "output_type": "display_data"
    },
    {
     "data": {
      "application/javascript": "window.ipyvizzu.animate(element, '989c315', 'b7f5901', 'begin', false, lib => { return {\"data\": {\"filter\": record => { return (record['año'] == 2015) }}, \"config\": {\"channels\": {\"x\": {\"set\": [\"total_pasajeros\"]}, \"y\": {\"set\": [\"Nombre_Empresa_clean\"]}, \"color\": {\"set\": [\"Nombre_Empresa_clean\"]}, \"label\": {\"set\": [\"total_pasajeros\"]}}, \"sort\": \"byValue\", \"legend\": null, \"title\": \"N\\u00famero de pasajeros por aerol\\u00ednea en 2015\"}, \"style\": {\"plot\": {\"marker\": {\"colorPalette\": \"#008080 #b5e48cff #99D986 #76c893ff #52b69aff #34a0a4ff #168aadff #1a759fff #1e6091ff #184e77ff\", \"label\": {\"maxFractionDigits\": \"0\"}}, \"paddingLeft\": \"18em\", \"xAxis\": {\"title\": {\"color\": \"#00000000\"}}}}} }, {\"duration\": 0.9, \"x\": {\"easing\": \"linear\", \"delay\": 0}, \"y\": {\"delay\": 0}, \"show\": {\"delay\": 0}, \"hide\": {\"delay\": 0}, \"title\": {\"duration\": 0, \"delay\": 0}});"
     },
     "metadata": {},
     "output_type": "display_data"
    },
    {
     "data": {
      "application/javascript": "window.ipyvizzu.animate(element, '989c315', 'de6b157', 'begin', false, lib => { return {\"data\": {\"filter\": record => { return (record['año'] == 2016) }}, \"config\": {\"channels\": {\"x\": {\"set\": [\"total_pasajeros\"]}, \"y\": {\"set\": [\"Nombre_Empresa_clean\"]}, \"color\": {\"set\": [\"Nombre_Empresa_clean\"]}, \"label\": {\"set\": [\"total_pasajeros\"]}}, \"sort\": \"byValue\", \"legend\": null, \"title\": \"N\\u00famero de pasajeros por aerol\\u00ednea en 2016\"}, \"style\": {\"plot\": {\"marker\": {\"colorPalette\": \"#008080 #b5e48cff #99D986 #76c893ff #52b69aff #34a0a4ff #168aadff #1a759fff #1e6091ff #184e77ff\", \"label\": {\"maxFractionDigits\": \"0\"}}, \"paddingLeft\": \"18em\", \"xAxis\": {\"title\": {\"color\": \"#00000000\"}}}}} }, {\"duration\": 0.9, \"x\": {\"easing\": \"linear\", \"delay\": 0}, \"y\": {\"delay\": 0}, \"show\": {\"delay\": 0}, \"hide\": {\"delay\": 0}, \"title\": {\"duration\": 0, \"delay\": 0}});"
     },
     "metadata": {},
     "output_type": "display_data"
    },
    {
     "data": {
      "application/javascript": "window.ipyvizzu.animate(element, '989c315', '912421c', 'begin', false, lib => { return {\"data\": {\"filter\": record => { return (record['año'] == 2017) }}, \"config\": {\"channels\": {\"x\": {\"set\": [\"total_pasajeros\"]}, \"y\": {\"set\": [\"Nombre_Empresa_clean\"]}, \"color\": {\"set\": [\"Nombre_Empresa_clean\"]}, \"label\": {\"set\": [\"total_pasajeros\"]}}, \"sort\": \"byValue\", \"legend\": null, \"title\": \"N\\u00famero de pasajeros por aerol\\u00ednea en 2017\"}, \"style\": {\"plot\": {\"marker\": {\"colorPalette\": \"#008080 #b5e48cff #99D986 #76c893ff #52b69aff #34a0a4ff #168aadff #1a759fff #1e6091ff #184e77ff\", \"label\": {\"maxFractionDigits\": \"0\"}}, \"paddingLeft\": \"18em\", \"xAxis\": {\"title\": {\"color\": \"#00000000\"}}}}} }, {\"duration\": 0.9, \"x\": {\"easing\": \"linear\", \"delay\": 0}, \"y\": {\"delay\": 0}, \"show\": {\"delay\": 0}, \"hide\": {\"delay\": 0}, \"title\": {\"duration\": 0, \"delay\": 0}});"
     },
     "metadata": {},
     "output_type": "display_data"
    },
    {
     "data": {
      "application/javascript": "window.ipyvizzu.animate(element, '989c315', '948cc39', 'begin', false, lib => { return {\"data\": {\"filter\": record => { return (record['año'] == 2018) }}, \"config\": {\"channels\": {\"x\": {\"set\": [\"total_pasajeros\"]}, \"y\": {\"set\": [\"Nombre_Empresa_clean\"]}, \"color\": {\"set\": [\"Nombre_Empresa_clean\"]}, \"label\": {\"set\": [\"total_pasajeros\"]}}, \"sort\": \"byValue\", \"legend\": null, \"title\": \"N\\u00famero de pasajeros por aerol\\u00ednea en 2018\"}, \"style\": {\"plot\": {\"marker\": {\"colorPalette\": \"#008080 #b5e48cff #99D986 #76c893ff #52b69aff #34a0a4ff #168aadff #1a759fff #1e6091ff #184e77ff\", \"label\": {\"maxFractionDigits\": \"0\"}}, \"paddingLeft\": \"18em\", \"xAxis\": {\"title\": {\"color\": \"#00000000\"}}}}} }, {\"duration\": 0.9, \"x\": {\"easing\": \"linear\", \"delay\": 0}, \"y\": {\"delay\": 0}, \"show\": {\"delay\": 0}, \"hide\": {\"delay\": 0}, \"title\": {\"duration\": 0, \"delay\": 0}});"
     },
     "metadata": {},
     "output_type": "display_data"
    },
    {
     "data": {
      "application/javascript": "window.ipyvizzu.animate(element, '989c315', 'd57a542', 'begin', false, lib => { return {\"data\": {\"filter\": record => { return (record['año'] == 2019) }}, \"config\": {\"channels\": {\"x\": {\"set\": [\"total_pasajeros\"]}, \"y\": {\"set\": [\"Nombre_Empresa_clean\"]}, \"color\": {\"set\": [\"Nombre_Empresa_clean\"]}, \"label\": {\"set\": [\"total_pasajeros\"]}}, \"sort\": \"byValue\", \"legend\": null, \"title\": \"N\\u00famero de pasajeros por aerol\\u00ednea en 2019\"}, \"style\": {\"plot\": {\"marker\": {\"colorPalette\": \"#008080 #b5e48cff #99D986 #76c893ff #52b69aff #34a0a4ff #168aadff #1a759fff #1e6091ff #184e77ff\", \"label\": {\"maxFractionDigits\": \"0\"}}, \"paddingLeft\": \"18em\", \"xAxis\": {\"title\": {\"color\": \"#00000000\"}}}}} }, {\"duration\": 0.9, \"x\": {\"easing\": \"linear\", \"delay\": 0}, \"y\": {\"delay\": 0}, \"show\": {\"delay\": 0}, \"hide\": {\"delay\": 0}, \"title\": {\"duration\": 0, \"delay\": 0}});"
     },
     "metadata": {},
     "output_type": "display_data"
    },
    {
     "data": {
      "application/javascript": "window.ipyvizzu.animate(element, '989c315', 'a00dc1f', 'begin', false, lib => { return {\"data\": {\"filter\": record => { return (record['año'] == 2020) }}, \"config\": {\"channels\": {\"x\": {\"set\": [\"total_pasajeros\"]}, \"y\": {\"set\": [\"Nombre_Empresa_clean\"]}, \"color\": {\"set\": [\"Nombre_Empresa_clean\"]}, \"label\": {\"set\": [\"total_pasajeros\"]}}, \"sort\": \"byValue\", \"legend\": null, \"title\": \"N\\u00famero de pasajeros por aerol\\u00ednea en 2020\"}, \"style\": {\"plot\": {\"marker\": {\"colorPalette\": \"#008080 #b5e48cff #99D986 #76c893ff #52b69aff #34a0a4ff #168aadff #1a759fff #1e6091ff #184e77ff\", \"label\": {\"maxFractionDigits\": \"0\"}}, \"paddingLeft\": \"18em\", \"xAxis\": {\"title\": {\"color\": \"#00000000\"}}}}} }, {\"duration\": 0.9, \"x\": {\"easing\": \"linear\", \"delay\": 0}, \"y\": {\"delay\": 0}, \"show\": {\"delay\": 0}, \"hide\": {\"delay\": 0}, \"title\": {\"duration\": 0, \"delay\": 0}});"
     },
     "metadata": {},
     "output_type": "display_data"
    },
    {
     "data": {
      "application/javascript": "window.ipyvizzu.animate(element, '989c315', '8de6070', 'begin', false, lib => { return {\"data\": {\"filter\": record => { return (record['año'] == 2021) }}, \"config\": {\"channels\": {\"x\": {\"set\": [\"total_pasajeros\"]}, \"y\": {\"set\": [\"Nombre_Empresa_clean\"]}, \"color\": {\"set\": [\"Nombre_Empresa_clean\"]}, \"label\": {\"set\": [\"total_pasajeros\"]}}, \"sort\": \"byValue\", \"legend\": null, \"title\": \"N\\u00famero de pasajeros por aerol\\u00ednea en 2021\"}, \"style\": {\"plot\": {\"marker\": {\"colorPalette\": \"#008080 #b5e48cff #99D986 #76c893ff #52b69aff #34a0a4ff #168aadff #1a759fff #1e6091ff #184e77ff\", \"label\": {\"maxFractionDigits\": \"0\"}}, \"paddingLeft\": \"18em\", \"xAxis\": {\"title\": {\"color\": \"#00000000\"}}}}} }, {\"duration\": 0.9, \"x\": {\"easing\": \"linear\", \"delay\": 0}, \"y\": {\"delay\": 0}, \"show\": {\"delay\": 0}, \"hide\": {\"delay\": 0}, \"title\": {\"duration\": 0, \"delay\": 0}});"
     },
     "metadata": {},
     "output_type": "display_data"
    },
    {
     "data": {
      "application/javascript": "window.ipyvizzu.animate(element, '989c315', 'df6d1ff', 'begin', false, lib => { return {\"data\": {\"filter\": record => { return (record['año'] == 2022) }}, \"config\": {\"channels\": {\"x\": {\"set\": [\"total_pasajeros\"]}, \"y\": {\"set\": [\"Nombre_Empresa_clean\"]}, \"color\": {\"set\": [\"Nombre_Empresa_clean\"]}, \"label\": {\"set\": [\"total_pasajeros\"]}}, \"sort\": \"byValue\", \"legend\": null, \"title\": \"N\\u00famero de pasajeros por aerol\\u00ednea en 2022\"}, \"style\": {\"plot\": {\"marker\": {\"colorPalette\": \"#008080 #b5e48cff #99D986 #76c893ff #52b69aff #34a0a4ff #168aadff #1a759fff #1e6091ff #184e77ff\", \"label\": {\"maxFractionDigits\": \"0\"}}, \"paddingLeft\": \"18em\", \"xAxis\": {\"title\": {\"color\": \"#00000000\"}}}}} }, {\"duration\": 0.9, \"x\": {\"easing\": \"linear\", \"delay\": 0}, \"y\": {\"delay\": 0}, \"show\": {\"delay\": 0}, \"hide\": {\"delay\": 0}, \"title\": {\"duration\": 0, \"delay\": 0}});"
     },
     "metadata": {},
     "output_type": "display_data"
    }
   ],
   "source": [
    " # data processing, CSV file I/O (e.g. pd.read_csv)\n",
    "from ipyvizzu import Chart, Data, Config, Style\n",
    "char_data = Data()\n",
    "char_data.add_data_frame(top_empresas_nacional) #Adds data to chart\n",
    "chart = Chart(display = \"begin\")\n",
    "chart.scroll_into_view = False\n",
    "\n",
    "\n",
    "chart.animate(char_data)\n",
    "config = {\n",
    "    \"channels\": {\n",
    "        \"x\": {\"set\": [\"total_pasajeros\"]},\n",
    "        \"y\": {\"set\": [\"Nombre_Empresa_clean\"]},\n",
    "        \"color\": {\"set\": [\"Nombre_Empresa_clean\"]},\n",
    "        \"label\": { \"set\": [\"total_pasajeros\"] }\n",
    "    },\n",
    "    \"sort\": 'byValue',\n",
    "    \"legend\": None,\n",
    "}\n",
    "\n",
    "style= Style({\"plot\": \n",
    "    {\"marker\": {\"colorPalette\": \"#008080 #b5e48cff #99D986 #76c893ff #52b69aff\"\n",
    "                + \" #34a0a4ff #168aadff #1a759fff #1e6091ff #184e77ff\",\n",
    "                \"label\": {\"maxFractionDigits\": \"0\"}}, #cutting off unnecessary digits when animating the labels\n",
    "      \"paddingLeft\":\"18em\", #add padding on the left side of the plot so that long country names are visible\n",
    "      \"xAxis\": { \"title\": { \"color\" : \"#00000000\" }} #hiding the axis title on the x-axis\n",
    "    }})\n",
    "\n",
    "#Renders the animation for each year\n",
    "for anho in range(1992, 2023):\n",
    "    config[\"title\"] = f\"Número de pasajeros por aerolínea en {anho}\"\n",
    "    chart.animate(\n",
    "        Data.filter(\"record['año'] == {}\".format(anho)), \n",
    "        Config(config),\n",
    "        style,\n",
    "        # Animation options:\n",
    "        duration = .9,        \n",
    "        x = { \"easing\": \"linear\", \"delay\": 0 },\n",
    "        y = { \"delay\": 0 },\n",
    "        show = { \"delay\": 0 },\n",
    "        hide = { \"delay\": 0 },\n",
    "        title = { \"duration\": 0, \"delay\": 0 })\n",
    " \n"
   ]
  },
  {
   "cell_type": "code",
   "execution_count": 29,
   "metadata": {},
   "outputs": [
    {
     "data": {
      "application/javascript": "if (window.IpyVizzu) { window.IpyVizzu.clearInhibitScroll(element); }"
     },
     "metadata": {},
     "output_type": "display_data"
    },
    {
     "data": {
      "application/javascript": "if (window.IpyVizzu) { window.IpyVizzu.clearInhibitScroll(element); }"
     },
     "metadata": {},
     "output_type": "display_data"
    },
    {
     "data": {
      "application/javascript": "if (!window.IpyVizzu) {\n  class IpyVizzu {\n    constructor() {\n      IpyVizzu.inhibitScroll = false;\n      IpyVizzu.nbconvert = false;\n      document.addEventListener(\n        \"wheel\",\n        (evt) => {\n          IpyVizzu.inhibitScroll = true;\n        },\n        true\n      );\n      document.addEventListener(\n        \"keydown\",\n        (evt) => {\n          IpyVizzu.inhibitScroll = true;\n        },\n        true\n      );\n      document.addEventListener(\n        \"touchstart\",\n        (evt) => {\n          IpyVizzu.inhibitScroll = true;\n        },\n        true\n      );\n\n      this.elements = {};\n      this.charts = {};\n      this.controls = {};\n\n      this.storage = {};\n      this.displays = {};\n\n      this.events = {};\n      this.loaded = {};\n      this.libs = {};\n    }\n\n    static clearInhibitScroll(element) {\n      if (IpyVizzu.nbconvert) IpyVizzu._hide(element);\n      IpyVizzu.inhibitScroll = false;\n    }\n\n    createChart(element, chartId, vizzulib, divWidth, divHeight) {\n      this.elements[chartId] = document.createElement(\"div\");\n      this.elements[\n        chartId\n      ].style.cssText = `width: ${divWidth}; height: ${divHeight};`;\n      this.loaded[chartId] = import(vizzulib);\n      this.charts[chartId] = this.loaded[chartId].then((Vizzu) => {\n        this.libs[chartId] = Vizzu.default;\n        const VizzuConstructor = Vizzu.default;\n        return new VizzuConstructor(this.elements[chartId]).initializing;\n      });\n      this._moveHere(chartId, element);\n    }\n\n    animate(\n      element,\n      chartId,\n      animId,\n      displayTarget,\n      scrollEnabled,\n      getChartTarget,\n      chartAnimOpts\n    ) {\n      if (IpyVizzu.nbconvert) IpyVizzu._hide(element);\n      if (displayTarget === \"end\") this._moveHere(chartId, element);\n      this.controls[chartId] = this.charts[chartId];\n      this.charts[chartId] = this.charts[chartId].then((chart) => {\n        if (displayTarget === \"actual\") this._moveHere(chartId, element);\n        this._scroll(chartId, scrollEnabled);\n        let chartTarget = getChartTarget(this.libs[chartId]);\n        if (typeof chartTarget === \"string\") {\n          chartTarget = this.storage[chartTarget];\n        } else if (Array.isArray(chartTarget)) {\n          for (let i = 0; i < chartTarget.length; i++) {\n            const target = chartTarget[i].target;\n            if (typeof target === \"string\") {\n              chartTarget[i].target = this.storage[target];\n            }\n          }\n        }\n        chart = chart.animate(chartTarget, chartAnimOpts);\n        this.controls[animId] = chart;\n        return chart;\n      });\n    }\n\n    store(element, chartId, id) {\n      if (IpyVizzu.nbconvert) IpyVizzu._hide(element);\n      this.charts[chartId] = this.charts[chartId].then((chart) => {\n        this.storage[id] = chart.store();\n        return chart;\n      });\n    }\n\n    feature(element, chartId, name, enabled) {\n      if (IpyVizzu.nbconvert) IpyVizzu._hide(element);\n      this.charts[chartId] = this.charts[chartId].then((chart) => {\n        chart.feature(name, enabled);\n        return chart;\n      });\n    }\n\n    setEvent(element, chartId, id, event, handler) {\n      if (IpyVizzu.nbconvert) IpyVizzu._hide(element);\n      this.charts[chartId] = this.charts[chartId].then((chart) => {\n        this.events[id] = handler;\n        chart.on(event, this.events[id]);\n        return chart;\n      });\n    }\n\n    clearEvent(element, chartId, id, event) {\n      if (IpyVizzu.nbconvert) IpyVizzu._hide(element);\n      this.charts[chartId] = this.charts[chartId].then((chart) => {\n        chart.off(event, this.events[id]);\n        return chart;\n      });\n    }\n\n    log(element, chartId, chartProperty) {\n      if (IpyVizzu.nbconvert) IpyVizzu._hide(element);\n      this.charts[chartId] = this.charts[chartId].then((chart) => {\n        console.log(chart[chartProperty]);\n        return chart;\n      });\n    }\n\n    control(element, method, prevId, lastId, ...params) {\n      if (IpyVizzu.nbconvert) IpyVizzu._hide(element);\n      this.controls[prevId].then(() => {\n        this.controls[lastId].activated.then((control) => {\n          if (method === \"seek\") {\n            const value = params[0];\n            control[method](value);\n            return;\n          }\n          if (method === \"store\") {\n            const id = params[0];\n            this.storage[id] = control[method]();\n            return;\n          }\n          control[method]();\n        });\n      });\n    }\n\n    _moveHere(chartId, element) {\n      if (IpyVizzu.nbconvert)\n        IpyVizzu._display(this.elements[chartId], element);\n      element.append(this.elements[chartId]);\n    }\n\n    _scroll(chartId, enabled) {\n      if (!IpyVizzu.inhibitScroll && enabled) {\n        this.elements[chartId].scrollIntoView({\n          behavior: \"auto\",\n          block: \"center\",\n        });\n      }\n    }\n\n    static _hide(element) {\n      document.getElementById(\n        element.selector.substring(1)\n      ).parentNode.style.display = \"none\";\n    }\n\n    static _display(prevElement, element) {\n      if (prevElement.parentNode) {\n        prevElement.parentNode.style.display = \"none\";\n      }\n      document.getElementById(\n        element.selector.substring(1)\n      ).parentNode.style.display = \"flex\";\n      document.getElementById(\n        element.selector.substring(1)\n      ).parentNode.style.margin = \"auto\";\n    }\n  }\n\n  window.IpyVizzu = IpyVizzu;\n  window.ipyvizzu = new window.IpyVizzu();\n}\n"
     },
     "metadata": {},
     "output_type": "display_data"
    },
    {
     "data": {
      "application/javascript": "window.ipyvizzu.createChart(element, 'a189bef', 'https://cdn.jsdelivr.net/npm/vizzu@0.7/dist/vizzu.min.js', '800px', '480px');"
     },
     "metadata": {},
     "output_type": "display_data"
    },
    {
     "data": {
      "application/javascript": "window.ipyvizzu.animate(element, 'a189bef', '115fed0', 'begin', false, lib => { return {\"data\": {\"series\": [{\"name\": \"a\\u00f1o\", \"type\": \"measure\", \"values\": [1992.0, 1992.0, 1992.0, 1992.0, 1992.0, 1992.0, 1992.0, 1992.0, 1992.0, 1992.0, 1993.0, 1993.0, 1993.0, 1993.0, 1993.0, 1993.0, 1993.0, 1993.0, 1993.0, 1993.0, 1994.0, 1994.0, 1994.0, 1994.0, 1994.0, 1994.0, 1994.0, 1994.0, 1994.0, 1994.0, 1995.0, 1995.0, 1995.0, 1995.0, 1995.0, 1995.0, 1995.0, 1995.0, 1995.0, 1995.0, 1996.0, 1996.0, 1996.0, 1996.0, 1996.0, 1996.0, 1996.0, 1996.0, 1996.0, 1996.0, 1997.0, 1997.0, 1997.0, 1997.0, 1997.0, 1997.0, 1997.0, 1997.0, 1997.0, 1997.0, 1998.0, 1998.0, 1998.0, 1998.0, 1998.0, 1998.0, 1998.0, 1998.0, 1998.0, 1998.0, 1999.0, 1999.0, 1999.0, 1999.0, 1999.0, 1999.0, 1999.0, 1999.0, 1999.0, 1999.0, 2000.0, 2000.0, 2000.0, 2000.0, 2000.0, 2000.0, 2000.0, 2000.0, 2000.0, 2000.0, 2001.0, 2001.0, 2001.0, 2001.0, 2001.0, 2001.0, 2001.0, 2001.0, 2001.0, 2001.0, 2002.0, 2002.0, 2002.0, 2002.0, 2002.0, 2002.0, 2002.0, 2002.0, 2002.0, 2002.0, 2003.0, 2003.0, 2003.0, 2003.0, 2003.0, 2003.0, 2003.0, 2003.0, 2003.0, 2003.0, 2004.0, 2004.0, 2004.0, 2004.0, 2004.0, 2004.0, 2004.0, 2004.0, 2004.0, 2004.0, 2005.0, 2005.0, 2005.0, 2005.0, 2005.0, 2005.0, 2005.0, 2005.0, 2005.0, 2005.0, 2006.0, 2006.0, 2006.0, 2006.0, 2006.0, 2006.0, 2006.0, 2006.0, 2006.0, 2006.0, 2007.0, 2007.0, 2007.0, 2007.0, 2007.0, 2007.0, 2007.0, 2007.0, 2007.0, 2007.0, 2008.0, 2008.0, 2008.0, 2008.0, 2008.0, 2008.0, 2008.0, 2008.0, 2008.0, 2008.0, 2009.0, 2009.0, 2009.0, 2009.0, 2009.0, 2009.0, 2009.0, 2009.0, 2009.0, 2009.0, 2010.0, 2010.0, 2010.0, 2010.0, 2010.0, 2010.0, 2010.0, 2010.0, 2010.0, 2010.0, 2011.0, 2011.0, 2011.0, 2011.0, 2011.0, 2011.0, 2011.0, 2011.0, 2011.0, 2011.0, 2012.0, 2012.0, 2012.0, 2012.0, 2012.0, 2012.0, 2012.0, 2012.0, 2012.0, 2012.0, 2013.0, 2013.0, 2013.0, 2013.0, 2013.0, 2013.0, 2013.0, 2013.0, 2013.0, 2013.0, 2014.0, 2014.0, 2014.0, 2014.0, 2014.0, 2014.0, 2014.0, 2014.0, 2014.0, 2014.0, 2015.0, 2015.0, 2015.0, 2015.0, 2015.0, 2015.0, 2015.0, 2015.0, 2015.0, 2015.0, 2016.0, 2016.0, 2016.0, 2016.0, 2016.0, 2016.0, 2016.0, 2016.0, 2016.0, 2016.0, 2017.0, 2017.0, 2017.0, 2017.0, 2017.0, 2017.0, 2017.0, 2017.0, 2017.0, 2017.0, 2018.0, 2018.0, 2018.0, 2018.0, 2018.0, 2018.0, 2018.0, 2018.0, 2018.0, 2018.0, 2019.0, 2019.0, 2019.0, 2019.0, 2019.0, 2019.0, 2019.0, 2019.0, 2019.0, 2019.0, 2020.0, 2020.0, 2020.0, 2020.0, 2020.0, 2020.0, 2020.0, 2020.0, 2020.0, 2020.0, 2021.0, 2021.0, 2021.0, 2021.0, 2021.0, 2021.0, 2021.0, 2021.0, 2021.0, 2021.0, 2022.0, 2022.0, 2022.0, 2022.0, 2022.0, 2022.0, 2022.0, 2022.0, 2022.0, 2022.0]}, {\"name\": \"Nombre_Empresa_clean\", \"type\": \"dimension\", \"values\": [\"LATAM\", \"ACES\", \"SAM\", \"INTER\", \"HELICOL\", \"AVIANCA\", \"AEROTACA\", \"VERTICAL DE AVIACION\", \"APSA\", \"SATENA\", \"AVIANCA\", \"AEROTACA\", \"AEROREPUBLICA\", \"HELICOL\", \"SATENA\", \"VERTICAL DE AVIACION\", \"LATAM\", \"SAM\", \"INTER\", \"ACES\", \"SATENA\", \"HELICOL\", \"AEROTACA\", \"LATAM\", \"AEROREPUBLICA\", \"SAM\", \"INTER\", \"VERTICAL DE AVIACION\", \"ACES\", \"AVIANCA\", \"SAM\", \"ACES\", \"AEROTACA\", \"VERTICAL DE AVIACION\", \"SATENA\", \"AVIANCA\", \"LATAM\", \"INTER\", \"AEROREPUBLICA\", \"HELICOL\", \"AVIANCA\", \"ACES\", \"AEROTACA\", \"VERTICAL DE AVIACION\", \"HELICOL\", \"SATENA\", \"INTER\", \"LATAM\", \"SAM\", \"AEROREPUBLICA\", \"ACES\", \"AEROREPUBLICA\", \"LATAM\", \"SATENA\", \"VERTICAL DE AVIACION\", \"HELICOL\", \"AEROTACA\", \"AVIANCA\", \"INTER\", \"SAM\", \"INTER\", \"VERTICAL DE AVIACION\", \"HELICOL\", \"LATAM\", \"SATENA\", \"AEROTACA\", \"AVIANCA\", \"SAM\", \"ACES\", \"AEROREPUBLICA\", \"AEROTACA\", \"AEROREPUBLICA\", \"SAM\", \"LATAM\", \"INTER\", \"SATENA\", \"VERTICAL DE AVIACION\", \"HELICOL\", \"AVIANCA\", \"ACES\", \"AVIANCA\", \"ACES\", \"AEROREPUBLICA\", \"LATAM\", \"SAM\", \"SATENA\", \"INTER\", \"HELICOL\", \"AEROTACA\", \"SEARCA S.A.\", \"AEROTACA\", \"INTER\", \"WEST CARIBBEAN\", \"HELICOL\", \"ACES\", \"AVIANCA\", \"SAM\", \"LATAM\", \"SATENA\", \"AEROREPUBLICA\", \"INTER\", \"WEST CARIBBEAN\", \"LATAM\", \"SAM\", \"AEROREPUBLICA\", \"AVIANCA\", \"HELICOL\", \"AEROTACA\", \"SATENA\", \"ACES\", \"SATENA\", \"HELICOL\", \"SEARCA S.A.\", \"INTER\", \"WEST CARIBBEAN\", \"LATAM\", \"ACES\", \"SAM\", \"AEROREPUBLICA\", \"AVIANCA\", \"SEARCA S.A.\", \"AVIANCA\", \"AEROREPUBLICA\", \"WEST CARIBBEAN\", \"ADA\", \"LATAM\", \"SAM\", \"INTER\", \"SATENA\", \"REGION AIR\", \"TAC\", \"AVIANCA\", \"AEROREPUBLICA\", \"SAM\", \"SATENA\", \"LATAM\", \"WEST CARIBBEAN\", \"ADA\", \"SEARCA S.A.\", \"SARPA S.A.S\", \"AVIANCA\", \"SAM\", \"AEROREPUBLICA\", \"LATAM\", \"ADA\", \"VIARCO\", \"SARPA S.A.S\", \"TAC\", \"SEARCA S.A.\", \"SATENA\", \"AEROREPUBLICA\", \"SAM\", \"SATENA\", \"LATAM\", \"ADA\", \"SEARCA S.A.\", \"TAC\", \"ALPES S.A.S\", \"AEXPA\", \"AVIANCA\", \"SAM\", \"AEROREPUBLICA\", \"SATENA\", \"LATAM\", \"EASYFLY S.A\", \"AVIANCA\", \"SEARCA S.A.\", \"TAC\", \"SARPA S.A.S\", \"ADA\", \"SADELCA\", \"PETROLEUM\", \"SEARCA S.A.\", \"ADA\", \"EASYFLY S.A\", \"LATAM\", \"AEROREPUBLICA\", \"SAM\", \"SATENA\", \"AVIANCA\", \"TAC\", \"SEARCA S.A.\", \"ADA\", \"PETROLEUM\", \"SATENA\", \"SAM\", \"AEROREPUBLICA\", \"LATAM\", \"EASYFLY S.A\", \"AVIANCA\", \"PETROLEUM\", \"SARPA S.A.S\", \"SEARCA S.A.\", \"TAC\", \"EASYFLY S.A\", \"AEROREPUBLICA\", \"LATAM\", \"AVIANCA\", \"ADA\", \"SATENA\", \"AVIANCA\", \"LATAM\", \"AEROREPUBLICA\", \"SATENA\", \"EASYFLY S.A\", \"VIVA AIR\", \"ADA\", \"SEARCA S.A.\", \"SARPA S.A.S\", \"TAC\", \"LATAM\", \"VIVA AIR\", \"AEROREPUBLICA\", \"SATENA\", \"EASYFLY S.A\", \"ADA\", \"SEARCA S.A.\", \"PETROLEUM\", \"TAC\", \"AVIANCA\", \"AVIANCA\", \"LATAM\", \"VIVA AIR\", \"SATENA\", \"EASYFLY S.A\", \"ADA\", \"SEARCA S.A.\", \"HELICOL\", \"SARPA S.A.S\", \"AEROREPUBLICA\", \"TAC\", \"HELICOL\", \"SEARCA S.A.\", \"AEROREPUBLICA\", \"ADA\", \"EASYFLY S.A\", \"SATENA\", \"VIVA AIR\", \"LATAM\", \"AVIANCA\", \"SELVA\", \"VIVA AIR\", \"LATAM\", \"AVIANCA\", \"SATENA\", \"EASYFLY S.A\", \"ADA\", \"AEROREPUBLICA\", \"ANDES LINEAS AEREAS S.A.\", \"ALIANSA\", \"TAC\", \"SEARCA S.A.\", \"LATAM\", \"AVIANCA\", \"ADA\", \"AEROREPUBLICA\", \"HELICOL\", \"SATENA\", \"VIVA AIR\", \"EASYFLY S.A\", \"SARPA S.A.S\", \"HELICOL\", \"ADA\", \"AEROREPUBLICA\", \"SATENA\", \"EASYFLY S.A\", \"VIVA AIR\", \"LATAM\", \"AVIANCA\", \"SEARCA S.A.\", \"SARPA S.A.S\", \"LATAM\", \"HELICOL\", \"SEARCA S.A.\", \"AEROREPUBLICA\", \"REGIONAL EXPRESS AMERICAS\", \"SATENA\", \"EASYFLY S.A\", \"VIVA AIR\", \"AVIANCA\", \"AVIANCA\", \"LATAM\", \"SATENA\", \"VIVA AIR\", \"EASYFLY S.A\", \"REGIONAL EXPRESS AMERICAS\", \"SEARCA S.A.\", \"HELICOL\", \"GCA AIRLINES\", \"AEROREPUBLICA\", \"AVIANCA\", \"SARPA S.A.S\", \"AEROREPUBLICA\", \"SATENA\", \"SEARCA S.A.\", \"GCA AIRLINES\", \"EASYFLY S.A\", \"VIVA AIR\", \"LATAM\", \"HELICOL\", \"AVIANCA\", \"VIVA AIR\", \"EASYFLY S.A\", \"ULTRA AIR S.A.S.\", \"SATENA\", \"AEROREPUBLICA\", \"SEARCA S.A.\", \"HELICOL\", \"SARPA S.A.S\", \"LATAM\"]}, {\"name\": \"total_pasajeros\", \"type\": \"measure\", \"values\": [281649.0, 1189859.0, 1019539.0, 557442.0, 247727.0, 2584630.0, 106557.0, 91845.0, 36564.0, 245274.0, 2510643.0, 106413.0, 124761.0, 196187.0, 231298.0, 103768.0, 342778.0, 942934.0, 960658.0, 1340969.0, 184990.0, 94073.0, 114942.0, 391935.0, 505870.0, 766831.0, 830161.0, 93986.0, 1489618.0, 3039382.0, 1096570.0, 1543795.0, 109339.0, 117225.0, 246847.0, 3104505.0, 513222.0, 523463.0, 898617.0, 282771.0, 3124019.0, 1783031.0, 119084.0, 214478.0, 236094.0, 244958.0, 500966.0, 548570.0, 917615.0, 1019773.0, 1721058.0, 922609.0, 553367.0, 309122.0, 209467.0, 158735.0, 130126.0, 2859206.0, 489894.0, 1067425.0, 446812.0, 173080.0, 101750.0, 517937.0, 365704.0, 112528.0, 2746597.0, 1081306.0, 1769203.0, 874723.0, 53932.0, 973453.0, 763180.0, 504833.0, 352970.0, 339529.0, 163446.0, 89956.0, 2716037.0, 1893950.0, 2399120.0, 2147384.0, 1071977.0, 532882.0, 473495.0, 431107.0, 275532.0, 82549.0, 72445.0, 54561.0, 41420.0, 318732.0, 82897.0, 77030.0, 2128197.0, 2063974.0, 766289.0, 515118.0, 491044.0, 1144961.0, 339710.0, 172654.0, 548668.0, 740577.0, 1355567.0, 2533882.0, 75377.0, 46981.0, 486694.0, 1555111.0, 561100.0, 40686.0, 67632.0, 285556.0, 307161.0, 550113.0, 652334.0, 800407.0, 1583226.0, 2708883.0, 62000.0, 2823002.0, 2039904.0, 556252.0, 96997.0, 640198.0, 823463.0, 55344.0, 682998.0, 17104.0, 19862.0, 3323832.0, 1957754.0, 851117.0, 712648.0, 636330.0, 176391.0, 145083.0, 101403.0, 15925.0, 3536402.0, 1124550.0, 2079751.0, 633517.0, 184687.0, 13750.0, 21803.0, 26156.0, 92699.0, 873626.0, 1859967.0, 1609722.0, 1018142.0, 695811.0, 189941.0, 120144.0, 17277.0, 11727.0, 11664.0, 3568882.0, 1812034.0, 1594265.0, 999824.0, 832653.0, 171283.0, 3667045.0, 154138.0, 26456.0, 31390.0, 159130.0, 11201.0, 17789.0, 149099.0, 169484.0, 279001.0, 1547828.0, 1820425.0, 1975001.0, 951732.0, 3670996.0, 39224.0, 174687.0, 205833.0, 15993.0, 919281.0, 1566386.0, 2019984.0, 2815373.0, 366855.0, 5710291.0, 23578.0, 26909.0, 210008.0, 37520.0, 534738.0, 1635006.0, 2843988.0, 8098564.0, 243124.0, 827381.0, 9714148.0, 3193908.0, 1346329.0, 751437.0, 632534.0, 558120.0, 260713.0, 215099.0, 36500.0, 53214.0, 3597499.0, 1837135.0, 1135150.0, 790352.0, 742974.0, 274250.0, 179708.0, 67914.0, 58755.0, 10864469.0, 12036707.0, 3696875.0, 2220823.0, 900578.0, 797462.0, 290029.0, 198970.0, 99887.0, 47400.0, 497940.0, 56579.0, 76966.0, 95051.0, 315646.0, 341410.0, 935875.0, 1004541.0, 2670393.0, 4059152.0, 13379823.0, 0.0, 3128588.0, 4266909.0, 13681761.0, 985585.0, 965337.0, 298094.0, 210550.0, 769.0, 19395.0, 43132.0, 117197.0, 4495873.0, 12643114.0, 228555.0, 348688.0, 68010.0, 1039512.0, 3166107.0, 989176.0, 106644.0, 115495.0, 339067.0, 697691.0, 1863716.0, 1979783.0, 5275081.0, 8071003.0, 21938740.0, 130263.0, 49338.0, 5042153.0, 59065.0, 129552.0, 364961.0, 460977.0, 1039739.0, 1790897.0, 3779806.0, 11798224.0, 10068286.0, 5657568.0, 1148877.0, 4819742.0, 2006639.0, 193343.0, 104603.0, 62694.0, 59752.0, 548218.0, 11591137.0, 52709.0, 1196252.0, 1353200.0, 129490.0, 281225.0, 2027622.0, 7128697.0, 8311060.0, 51386.0, 11980650.0, 6629304.0, 1917401.0, 1431408.0, 1040604.0, 881517.0, 124424.0, 50328.0, 42354.0, 8431078.0]}]}} }, undefined);"
     },
     "metadata": {},
     "output_type": "display_data"
    },
    {
     "data": {
      "application/javascript": "window.ipyvizzu.animate(element, 'a189bef', '50072d2', 'begin', false, lib => { return {\"data\": {\"filter\": record => { return (record['año'] == 1992) }}, \"config\": {\"channels\": {\"x\": {\"set\": [\"total_pasajeros\"]}, \"y\": {\"set\": [\"Nombre_Empresa_clean\"]}, \"color\": {\"set\": [\"Nombre_Empresa_clean\"]}, \"label\": {\"set\": [\"total_pasajeros\"]}}, \"sort\": \"byValue\", \"legend\": null, \"title\": \"N\\u00famero de pasajeros por aerol\\u00ednea en 1992\"}, \"style\": {\"plot\": {\"marker\": {\"colorPalette\": \"#d9ed92ff #b5e48cff #99D986 #76c893ff #52b69aff #34a0a4ff #168aadff #1a759fff #1e6091ff #184e77ff\", \"label\": {\"maxFractionDigits\": \"0\"}}, \"paddingLeft\": \"19em\", \"xAxis\": {\"title\": {\"color\": \"#00000000\"}}}}} }, {\"duration\": 0.8, \"x\": {\"easing\": \"linear\", \"delay\": 0}, \"y\": {\"delay\": 0}, \"show\": {\"delay\": 0}, \"hide\": {\"delay\": 0}, \"title\": {\"duration\": 0, \"delay\": 0}});"
     },
     "metadata": {},
     "output_type": "display_data"
    },
    {
     "data": {
      "application/javascript": "window.ipyvizzu.animate(element, 'a189bef', '23a2621', 'begin', false, lib => { return {\"data\": {\"filter\": record => { return (record['año'] == 1993) }}, \"config\": {\"channels\": {\"x\": {\"set\": [\"total_pasajeros\"]}, \"y\": {\"set\": [\"Nombre_Empresa_clean\"]}, \"color\": {\"set\": [\"Nombre_Empresa_clean\"]}, \"label\": {\"set\": [\"total_pasajeros\"]}}, \"sort\": \"byValue\", \"legend\": null, \"title\": \"N\\u00famero de pasajeros por aerol\\u00ednea en 1993\"}, \"style\": {\"plot\": {\"marker\": {\"colorPalette\": \"#d9ed92ff #b5e48cff #99D986 #76c893ff #52b69aff #34a0a4ff #168aadff #1a759fff #1e6091ff #184e77ff\", \"label\": {\"maxFractionDigits\": \"0\"}}, \"paddingLeft\": \"19em\", \"xAxis\": {\"title\": {\"color\": \"#00000000\"}}}}} }, {\"duration\": 0.8, \"x\": {\"easing\": \"linear\", \"delay\": 0}, \"y\": {\"delay\": 0}, \"show\": {\"delay\": 0}, \"hide\": {\"delay\": 0}, \"title\": {\"duration\": 0, \"delay\": 0}});"
     },
     "metadata": {},
     "output_type": "display_data"
    },
    {
     "data": {
      "application/javascript": "window.ipyvizzu.animate(element, 'a189bef', 'e3ea08f', 'begin', false, lib => { return {\"data\": {\"filter\": record => { return (record['año'] == 1994) }}, \"config\": {\"channels\": {\"x\": {\"set\": [\"total_pasajeros\"]}, \"y\": {\"set\": [\"Nombre_Empresa_clean\"]}, \"color\": {\"set\": [\"Nombre_Empresa_clean\"]}, \"label\": {\"set\": [\"total_pasajeros\"]}}, \"sort\": \"byValue\", \"legend\": null, \"title\": \"N\\u00famero de pasajeros por aerol\\u00ednea en 1994\"}, \"style\": {\"plot\": {\"marker\": {\"colorPalette\": \"#d9ed92ff #b5e48cff #99D986 #76c893ff #52b69aff #34a0a4ff #168aadff #1a759fff #1e6091ff #184e77ff\", \"label\": {\"maxFractionDigits\": \"0\"}}, \"paddingLeft\": \"19em\", \"xAxis\": {\"title\": {\"color\": \"#00000000\"}}}}} }, {\"duration\": 0.8, \"x\": {\"easing\": \"linear\", \"delay\": 0}, \"y\": {\"delay\": 0}, \"show\": {\"delay\": 0}, \"hide\": {\"delay\": 0}, \"title\": {\"duration\": 0, \"delay\": 0}});"
     },
     "metadata": {},
     "output_type": "display_data"
    },
    {
     "data": {
      "application/javascript": "window.ipyvizzu.animate(element, 'a189bef', '7fa9b43', 'begin', false, lib => { return {\"data\": {\"filter\": record => { return (record['año'] == 1995) }}, \"config\": {\"channels\": {\"x\": {\"set\": [\"total_pasajeros\"]}, \"y\": {\"set\": [\"Nombre_Empresa_clean\"]}, \"color\": {\"set\": [\"Nombre_Empresa_clean\"]}, \"label\": {\"set\": [\"total_pasajeros\"]}}, \"sort\": \"byValue\", \"legend\": null, \"title\": \"N\\u00famero de pasajeros por aerol\\u00ednea en 1995\"}, \"style\": {\"plot\": {\"marker\": {\"colorPalette\": \"#d9ed92ff #b5e48cff #99D986 #76c893ff #52b69aff #34a0a4ff #168aadff #1a759fff #1e6091ff #184e77ff\", \"label\": {\"maxFractionDigits\": \"0\"}}, \"paddingLeft\": \"19em\", \"xAxis\": {\"title\": {\"color\": \"#00000000\"}}}}} }, {\"duration\": 0.8, \"x\": {\"easing\": \"linear\", \"delay\": 0}, \"y\": {\"delay\": 0}, \"show\": {\"delay\": 0}, \"hide\": {\"delay\": 0}, \"title\": {\"duration\": 0, \"delay\": 0}});"
     },
     "metadata": {},
     "output_type": "display_data"
    },
    {
     "data": {
      "application/javascript": "window.ipyvizzu.animate(element, 'a189bef', '3b80ee7', 'begin', false, lib => { return {\"data\": {\"filter\": record => { return (record['año'] == 1996) }}, \"config\": {\"channels\": {\"x\": {\"set\": [\"total_pasajeros\"]}, \"y\": {\"set\": [\"Nombre_Empresa_clean\"]}, \"color\": {\"set\": [\"Nombre_Empresa_clean\"]}, \"label\": {\"set\": [\"total_pasajeros\"]}}, \"sort\": \"byValue\", \"legend\": null, \"title\": \"N\\u00famero de pasajeros por aerol\\u00ednea en 1996\"}, \"style\": {\"plot\": {\"marker\": {\"colorPalette\": \"#d9ed92ff #b5e48cff #99D986 #76c893ff #52b69aff #34a0a4ff #168aadff #1a759fff #1e6091ff #184e77ff\", \"label\": {\"maxFractionDigits\": \"0\"}}, \"paddingLeft\": \"19em\", \"xAxis\": {\"title\": {\"color\": \"#00000000\"}}}}} }, {\"duration\": 0.8, \"x\": {\"easing\": \"linear\", \"delay\": 0}, \"y\": {\"delay\": 0}, \"show\": {\"delay\": 0}, \"hide\": {\"delay\": 0}, \"title\": {\"duration\": 0, \"delay\": 0}});"
     },
     "metadata": {},
     "output_type": "display_data"
    },
    {
     "data": {
      "application/javascript": "window.ipyvizzu.animate(element, 'a189bef', '079c4dc', 'begin', false, lib => { return {\"data\": {\"filter\": record => { return (record['año'] == 1997) }}, \"config\": {\"channels\": {\"x\": {\"set\": [\"total_pasajeros\"]}, \"y\": {\"set\": [\"Nombre_Empresa_clean\"]}, \"color\": {\"set\": [\"Nombre_Empresa_clean\"]}, \"label\": {\"set\": [\"total_pasajeros\"]}}, \"sort\": \"byValue\", \"legend\": null, \"title\": \"N\\u00famero de pasajeros por aerol\\u00ednea en 1997\"}, \"style\": {\"plot\": {\"marker\": {\"colorPalette\": \"#d9ed92ff #b5e48cff #99D986 #76c893ff #52b69aff #34a0a4ff #168aadff #1a759fff #1e6091ff #184e77ff\", \"label\": {\"maxFractionDigits\": \"0\"}}, \"paddingLeft\": \"19em\", \"xAxis\": {\"title\": {\"color\": \"#00000000\"}}}}} }, {\"duration\": 0.8, \"x\": {\"easing\": \"linear\", \"delay\": 0}, \"y\": {\"delay\": 0}, \"show\": {\"delay\": 0}, \"hide\": {\"delay\": 0}, \"title\": {\"duration\": 0, \"delay\": 0}});"
     },
     "metadata": {},
     "output_type": "display_data"
    },
    {
     "data": {
      "application/javascript": "window.ipyvizzu.animate(element, 'a189bef', '39443b9', 'begin', false, lib => { return {\"data\": {\"filter\": record => { return (record['año'] == 1998) }}, \"config\": {\"channels\": {\"x\": {\"set\": [\"total_pasajeros\"]}, \"y\": {\"set\": [\"Nombre_Empresa_clean\"]}, \"color\": {\"set\": [\"Nombre_Empresa_clean\"]}, \"label\": {\"set\": [\"total_pasajeros\"]}}, \"sort\": \"byValue\", \"legend\": null, \"title\": \"N\\u00famero de pasajeros por aerol\\u00ednea en 1998\"}, \"style\": {\"plot\": {\"marker\": {\"colorPalette\": \"#d9ed92ff #b5e48cff #99D986 #76c893ff #52b69aff #34a0a4ff #168aadff #1a759fff #1e6091ff #184e77ff\", \"label\": {\"maxFractionDigits\": \"0\"}}, \"paddingLeft\": \"19em\", \"xAxis\": {\"title\": {\"color\": \"#00000000\"}}}}} }, {\"duration\": 0.8, \"x\": {\"easing\": \"linear\", \"delay\": 0}, \"y\": {\"delay\": 0}, \"show\": {\"delay\": 0}, \"hide\": {\"delay\": 0}, \"title\": {\"duration\": 0, \"delay\": 0}});"
     },
     "metadata": {},
     "output_type": "display_data"
    },
    {
     "data": {
      "application/javascript": "window.ipyvizzu.animate(element, 'a189bef', 'ed1b6d8', 'begin', false, lib => { return {\"data\": {\"filter\": record => { return (record['año'] == 1999) }}, \"config\": {\"channels\": {\"x\": {\"set\": [\"total_pasajeros\"]}, \"y\": {\"set\": [\"Nombre_Empresa_clean\"]}, \"color\": {\"set\": [\"Nombre_Empresa_clean\"]}, \"label\": {\"set\": [\"total_pasajeros\"]}}, \"sort\": \"byValue\", \"legend\": null, \"title\": \"N\\u00famero de pasajeros por aerol\\u00ednea en 1999\"}, \"style\": {\"plot\": {\"marker\": {\"colorPalette\": \"#d9ed92ff #b5e48cff #99D986 #76c893ff #52b69aff #34a0a4ff #168aadff #1a759fff #1e6091ff #184e77ff\", \"label\": {\"maxFractionDigits\": \"0\"}}, \"paddingLeft\": \"19em\", \"xAxis\": {\"title\": {\"color\": \"#00000000\"}}}}} }, {\"duration\": 0.8, \"x\": {\"easing\": \"linear\", \"delay\": 0}, \"y\": {\"delay\": 0}, \"show\": {\"delay\": 0}, \"hide\": {\"delay\": 0}, \"title\": {\"duration\": 0, \"delay\": 0}});"
     },
     "metadata": {},
     "output_type": "display_data"
    },
    {
     "data": {
      "application/javascript": "window.ipyvizzu.animate(element, 'a189bef', '82cf4da', 'begin', false, lib => { return {\"data\": {\"filter\": record => { return (record['año'] == 2000) }}, \"config\": {\"channels\": {\"x\": {\"set\": [\"total_pasajeros\"]}, \"y\": {\"set\": [\"Nombre_Empresa_clean\"]}, \"color\": {\"set\": [\"Nombre_Empresa_clean\"]}, \"label\": {\"set\": [\"total_pasajeros\"]}}, \"sort\": \"byValue\", \"legend\": null, \"title\": \"N\\u00famero de pasajeros por aerol\\u00ednea en 2000\"}, \"style\": {\"plot\": {\"marker\": {\"colorPalette\": \"#d9ed92ff #b5e48cff #99D986 #76c893ff #52b69aff #34a0a4ff #168aadff #1a759fff #1e6091ff #184e77ff\", \"label\": {\"maxFractionDigits\": \"0\"}}, \"paddingLeft\": \"19em\", \"xAxis\": {\"title\": {\"color\": \"#00000000\"}}}}} }, {\"duration\": 0.8, \"x\": {\"easing\": \"linear\", \"delay\": 0}, \"y\": {\"delay\": 0}, \"show\": {\"delay\": 0}, \"hide\": {\"delay\": 0}, \"title\": {\"duration\": 0, \"delay\": 0}});"
     },
     "metadata": {},
     "output_type": "display_data"
    },
    {
     "data": {
      "application/javascript": "window.ipyvizzu.animate(element, 'a189bef', 'ae3be82', 'begin', false, lib => { return {\"data\": {\"filter\": record => { return (record['año'] == 2001) }}, \"config\": {\"channels\": {\"x\": {\"set\": [\"total_pasajeros\"]}, \"y\": {\"set\": [\"Nombre_Empresa_clean\"]}, \"color\": {\"set\": [\"Nombre_Empresa_clean\"]}, \"label\": {\"set\": [\"total_pasajeros\"]}}, \"sort\": \"byValue\", \"legend\": null, \"title\": \"N\\u00famero de pasajeros por aerol\\u00ednea en 2001\"}, \"style\": {\"plot\": {\"marker\": {\"colorPalette\": \"#d9ed92ff #b5e48cff #99D986 #76c893ff #52b69aff #34a0a4ff #168aadff #1a759fff #1e6091ff #184e77ff\", \"label\": {\"maxFractionDigits\": \"0\"}}, \"paddingLeft\": \"19em\", \"xAxis\": {\"title\": {\"color\": \"#00000000\"}}}}} }, {\"duration\": 0.8, \"x\": {\"easing\": \"linear\", \"delay\": 0}, \"y\": {\"delay\": 0}, \"show\": {\"delay\": 0}, \"hide\": {\"delay\": 0}, \"title\": {\"duration\": 0, \"delay\": 0}});"
     },
     "metadata": {},
     "output_type": "display_data"
    },
    {
     "data": {
      "application/javascript": "window.ipyvizzu.animate(element, 'a189bef', 'a9d464e', 'begin', false, lib => { return {\"data\": {\"filter\": record => { return (record['año'] == 2002) }}, \"config\": {\"channels\": {\"x\": {\"set\": [\"total_pasajeros\"]}, \"y\": {\"set\": [\"Nombre_Empresa_clean\"]}, \"color\": {\"set\": [\"Nombre_Empresa_clean\"]}, \"label\": {\"set\": [\"total_pasajeros\"]}}, \"sort\": \"byValue\", \"legend\": null, \"title\": \"N\\u00famero de pasajeros por aerol\\u00ednea en 2002\"}, \"style\": {\"plot\": {\"marker\": {\"colorPalette\": \"#d9ed92ff #b5e48cff #99D986 #76c893ff #52b69aff #34a0a4ff #168aadff #1a759fff #1e6091ff #184e77ff\", \"label\": {\"maxFractionDigits\": \"0\"}}, \"paddingLeft\": \"19em\", \"xAxis\": {\"title\": {\"color\": \"#00000000\"}}}}} }, {\"duration\": 0.8, \"x\": {\"easing\": \"linear\", \"delay\": 0}, \"y\": {\"delay\": 0}, \"show\": {\"delay\": 0}, \"hide\": {\"delay\": 0}, \"title\": {\"duration\": 0, \"delay\": 0}});"
     },
     "metadata": {},
     "output_type": "display_data"
    },
    {
     "data": {
      "application/javascript": "window.ipyvizzu.animate(element, 'a189bef', 'b7dc150', 'begin', false, lib => { return {\"data\": {\"filter\": record => { return (record['año'] == 2003) }}, \"config\": {\"channels\": {\"x\": {\"set\": [\"total_pasajeros\"]}, \"y\": {\"set\": [\"Nombre_Empresa_clean\"]}, \"color\": {\"set\": [\"Nombre_Empresa_clean\"]}, \"label\": {\"set\": [\"total_pasajeros\"]}}, \"sort\": \"byValue\", \"legend\": null, \"title\": \"N\\u00famero de pasajeros por aerol\\u00ednea en 2003\"}, \"style\": {\"plot\": {\"marker\": {\"colorPalette\": \"#d9ed92ff #b5e48cff #99D986 #76c893ff #52b69aff #34a0a4ff #168aadff #1a759fff #1e6091ff #184e77ff\", \"label\": {\"maxFractionDigits\": \"0\"}}, \"paddingLeft\": \"19em\", \"xAxis\": {\"title\": {\"color\": \"#00000000\"}}}}} }, {\"duration\": 0.8, \"x\": {\"easing\": \"linear\", \"delay\": 0}, \"y\": {\"delay\": 0}, \"show\": {\"delay\": 0}, \"hide\": {\"delay\": 0}, \"title\": {\"duration\": 0, \"delay\": 0}});"
     },
     "metadata": {},
     "output_type": "display_data"
    },
    {
     "data": {
      "application/javascript": "window.ipyvizzu.animate(element, 'a189bef', 'aa9100e', 'begin', false, lib => { return {\"data\": {\"filter\": record => { return (record['año'] == 2004) }}, \"config\": {\"channels\": {\"x\": {\"set\": [\"total_pasajeros\"]}, \"y\": {\"set\": [\"Nombre_Empresa_clean\"]}, \"color\": {\"set\": [\"Nombre_Empresa_clean\"]}, \"label\": {\"set\": [\"total_pasajeros\"]}}, \"sort\": \"byValue\", \"legend\": null, \"title\": \"N\\u00famero de pasajeros por aerol\\u00ednea en 2004\"}, \"style\": {\"plot\": {\"marker\": {\"colorPalette\": \"#d9ed92ff #b5e48cff #99D986 #76c893ff #52b69aff #34a0a4ff #168aadff #1a759fff #1e6091ff #184e77ff\", \"label\": {\"maxFractionDigits\": \"0\"}}, \"paddingLeft\": \"19em\", \"xAxis\": {\"title\": {\"color\": \"#00000000\"}}}}} }, {\"duration\": 0.8, \"x\": {\"easing\": \"linear\", \"delay\": 0}, \"y\": {\"delay\": 0}, \"show\": {\"delay\": 0}, \"hide\": {\"delay\": 0}, \"title\": {\"duration\": 0, \"delay\": 0}});"
     },
     "metadata": {},
     "output_type": "display_data"
    },
    {
     "data": {
      "application/javascript": "window.ipyvizzu.animate(element, 'a189bef', '2f2bdb0', 'begin', false, lib => { return {\"data\": {\"filter\": record => { return (record['año'] == 2005) }}, \"config\": {\"channels\": {\"x\": {\"set\": [\"total_pasajeros\"]}, \"y\": {\"set\": [\"Nombre_Empresa_clean\"]}, \"color\": {\"set\": [\"Nombre_Empresa_clean\"]}, \"label\": {\"set\": [\"total_pasajeros\"]}}, \"sort\": \"byValue\", \"legend\": null, \"title\": \"N\\u00famero de pasajeros por aerol\\u00ednea en 2005\"}, \"style\": {\"plot\": {\"marker\": {\"colorPalette\": \"#d9ed92ff #b5e48cff #99D986 #76c893ff #52b69aff #34a0a4ff #168aadff #1a759fff #1e6091ff #184e77ff\", \"label\": {\"maxFractionDigits\": \"0\"}}, \"paddingLeft\": \"19em\", \"xAxis\": {\"title\": {\"color\": \"#00000000\"}}}}} }, {\"duration\": 0.8, \"x\": {\"easing\": \"linear\", \"delay\": 0}, \"y\": {\"delay\": 0}, \"show\": {\"delay\": 0}, \"hide\": {\"delay\": 0}, \"title\": {\"duration\": 0, \"delay\": 0}});"
     },
     "metadata": {},
     "output_type": "display_data"
    },
    {
     "data": {
      "application/javascript": "window.ipyvizzu.animate(element, 'a189bef', '69a53bc', 'begin', false, lib => { return {\"data\": {\"filter\": record => { return (record['año'] == 2006) }}, \"config\": {\"channels\": {\"x\": {\"set\": [\"total_pasajeros\"]}, \"y\": {\"set\": [\"Nombre_Empresa_clean\"]}, \"color\": {\"set\": [\"Nombre_Empresa_clean\"]}, \"label\": {\"set\": [\"total_pasajeros\"]}}, \"sort\": \"byValue\", \"legend\": null, \"title\": \"N\\u00famero de pasajeros por aerol\\u00ednea en 2006\"}, \"style\": {\"plot\": {\"marker\": {\"colorPalette\": \"#d9ed92ff #b5e48cff #99D986 #76c893ff #52b69aff #34a0a4ff #168aadff #1a759fff #1e6091ff #184e77ff\", \"label\": {\"maxFractionDigits\": \"0\"}}, \"paddingLeft\": \"19em\", \"xAxis\": {\"title\": {\"color\": \"#00000000\"}}}}} }, {\"duration\": 0.8, \"x\": {\"easing\": \"linear\", \"delay\": 0}, \"y\": {\"delay\": 0}, \"show\": {\"delay\": 0}, \"hide\": {\"delay\": 0}, \"title\": {\"duration\": 0, \"delay\": 0}});"
     },
     "metadata": {},
     "output_type": "display_data"
    },
    {
     "data": {
      "application/javascript": "window.ipyvizzu.animate(element, 'a189bef', 'b0172c5', 'begin', false, lib => { return {\"data\": {\"filter\": record => { return (record['año'] == 2007) }}, \"config\": {\"channels\": {\"x\": {\"set\": [\"total_pasajeros\"]}, \"y\": {\"set\": [\"Nombre_Empresa_clean\"]}, \"color\": {\"set\": [\"Nombre_Empresa_clean\"]}, \"label\": {\"set\": [\"total_pasajeros\"]}}, \"sort\": \"byValue\", \"legend\": null, \"title\": \"N\\u00famero de pasajeros por aerol\\u00ednea en 2007\"}, \"style\": {\"plot\": {\"marker\": {\"colorPalette\": \"#d9ed92ff #b5e48cff #99D986 #76c893ff #52b69aff #34a0a4ff #168aadff #1a759fff #1e6091ff #184e77ff\", \"label\": {\"maxFractionDigits\": \"0\"}}, \"paddingLeft\": \"19em\", \"xAxis\": {\"title\": {\"color\": \"#00000000\"}}}}} }, {\"duration\": 0.8, \"x\": {\"easing\": \"linear\", \"delay\": 0}, \"y\": {\"delay\": 0}, \"show\": {\"delay\": 0}, \"hide\": {\"delay\": 0}, \"title\": {\"duration\": 0, \"delay\": 0}});"
     },
     "metadata": {},
     "output_type": "display_data"
    },
    {
     "data": {
      "application/javascript": "window.ipyvizzu.animate(element, 'a189bef', 'fa2cc64', 'begin', false, lib => { return {\"data\": {\"filter\": record => { return (record['año'] == 2008) }}, \"config\": {\"channels\": {\"x\": {\"set\": [\"total_pasajeros\"]}, \"y\": {\"set\": [\"Nombre_Empresa_clean\"]}, \"color\": {\"set\": [\"Nombre_Empresa_clean\"]}, \"label\": {\"set\": [\"total_pasajeros\"]}}, \"sort\": \"byValue\", \"legend\": null, \"title\": \"N\\u00famero de pasajeros por aerol\\u00ednea en 2008\"}, \"style\": {\"plot\": {\"marker\": {\"colorPalette\": \"#d9ed92ff #b5e48cff #99D986 #76c893ff #52b69aff #34a0a4ff #168aadff #1a759fff #1e6091ff #184e77ff\", \"label\": {\"maxFractionDigits\": \"0\"}}, \"paddingLeft\": \"19em\", \"xAxis\": {\"title\": {\"color\": \"#00000000\"}}}}} }, {\"duration\": 0.8, \"x\": {\"easing\": \"linear\", \"delay\": 0}, \"y\": {\"delay\": 0}, \"show\": {\"delay\": 0}, \"hide\": {\"delay\": 0}, \"title\": {\"duration\": 0, \"delay\": 0}});"
     },
     "metadata": {},
     "output_type": "display_data"
    },
    {
     "data": {
      "application/javascript": "window.ipyvizzu.animate(element, 'a189bef', 'c09d158', 'begin', false, lib => { return {\"data\": {\"filter\": record => { return (record['año'] == 2009) }}, \"config\": {\"channels\": {\"x\": {\"set\": [\"total_pasajeros\"]}, \"y\": {\"set\": [\"Nombre_Empresa_clean\"]}, \"color\": {\"set\": [\"Nombre_Empresa_clean\"]}, \"label\": {\"set\": [\"total_pasajeros\"]}}, \"sort\": \"byValue\", \"legend\": null, \"title\": \"N\\u00famero de pasajeros por aerol\\u00ednea en 2009\"}, \"style\": {\"plot\": {\"marker\": {\"colorPalette\": \"#d9ed92ff #b5e48cff #99D986 #76c893ff #52b69aff #34a0a4ff #168aadff #1a759fff #1e6091ff #184e77ff\", \"label\": {\"maxFractionDigits\": \"0\"}}, \"paddingLeft\": \"19em\", \"xAxis\": {\"title\": {\"color\": \"#00000000\"}}}}} }, {\"duration\": 0.8, \"x\": {\"easing\": \"linear\", \"delay\": 0}, \"y\": {\"delay\": 0}, \"show\": {\"delay\": 0}, \"hide\": {\"delay\": 0}, \"title\": {\"duration\": 0, \"delay\": 0}});"
     },
     "metadata": {},
     "output_type": "display_data"
    },
    {
     "data": {
      "application/javascript": "window.ipyvizzu.animate(element, 'a189bef', '7e5fd1f', 'begin', false, lib => { return {\"data\": {\"filter\": record => { return (record['año'] == 2010) }}, \"config\": {\"channels\": {\"x\": {\"set\": [\"total_pasajeros\"]}, \"y\": {\"set\": [\"Nombre_Empresa_clean\"]}, \"color\": {\"set\": [\"Nombre_Empresa_clean\"]}, \"label\": {\"set\": [\"total_pasajeros\"]}}, \"sort\": \"byValue\", \"legend\": null, \"title\": \"N\\u00famero de pasajeros por aerol\\u00ednea en 2010\"}, \"style\": {\"plot\": {\"marker\": {\"colorPalette\": \"#d9ed92ff #b5e48cff #99D986 #76c893ff #52b69aff #34a0a4ff #168aadff #1a759fff #1e6091ff #184e77ff\", \"label\": {\"maxFractionDigits\": \"0\"}}, \"paddingLeft\": \"19em\", \"xAxis\": {\"title\": {\"color\": \"#00000000\"}}}}} }, {\"duration\": 0.8, \"x\": {\"easing\": \"linear\", \"delay\": 0}, \"y\": {\"delay\": 0}, \"show\": {\"delay\": 0}, \"hide\": {\"delay\": 0}, \"title\": {\"duration\": 0, \"delay\": 0}});"
     },
     "metadata": {},
     "output_type": "display_data"
    },
    {
     "data": {
      "application/javascript": "window.ipyvizzu.animate(element, 'a189bef', 'eb70025', 'begin', false, lib => { return {\"data\": {\"filter\": record => { return (record['año'] == 2011) }}, \"config\": {\"channels\": {\"x\": {\"set\": [\"total_pasajeros\"]}, \"y\": {\"set\": [\"Nombre_Empresa_clean\"]}, \"color\": {\"set\": [\"Nombre_Empresa_clean\"]}, \"label\": {\"set\": [\"total_pasajeros\"]}}, \"sort\": \"byValue\", \"legend\": null, \"title\": \"N\\u00famero de pasajeros por aerol\\u00ednea en 2011\"}, \"style\": {\"plot\": {\"marker\": {\"colorPalette\": \"#d9ed92ff #b5e48cff #99D986 #76c893ff #52b69aff #34a0a4ff #168aadff #1a759fff #1e6091ff #184e77ff\", \"label\": {\"maxFractionDigits\": \"0\"}}, \"paddingLeft\": \"19em\", \"xAxis\": {\"title\": {\"color\": \"#00000000\"}}}}} }, {\"duration\": 0.8, \"x\": {\"easing\": \"linear\", \"delay\": 0}, \"y\": {\"delay\": 0}, \"show\": {\"delay\": 0}, \"hide\": {\"delay\": 0}, \"title\": {\"duration\": 0, \"delay\": 0}});"
     },
     "metadata": {},
     "output_type": "display_data"
    },
    {
     "data": {
      "application/javascript": "window.ipyvizzu.animate(element, 'a189bef', '33526b8', 'begin', false, lib => { return {\"data\": {\"filter\": record => { return (record['año'] == 2012) }}, \"config\": {\"channels\": {\"x\": {\"set\": [\"total_pasajeros\"]}, \"y\": {\"set\": [\"Nombre_Empresa_clean\"]}, \"color\": {\"set\": [\"Nombre_Empresa_clean\"]}, \"label\": {\"set\": [\"total_pasajeros\"]}}, \"sort\": \"byValue\", \"legend\": null, \"title\": \"N\\u00famero de pasajeros por aerol\\u00ednea en 2012\"}, \"style\": {\"plot\": {\"marker\": {\"colorPalette\": \"#d9ed92ff #b5e48cff #99D986 #76c893ff #52b69aff #34a0a4ff #168aadff #1a759fff #1e6091ff #184e77ff\", \"label\": {\"maxFractionDigits\": \"0\"}}, \"paddingLeft\": \"19em\", \"xAxis\": {\"title\": {\"color\": \"#00000000\"}}}}} }, {\"duration\": 0.8, \"x\": {\"easing\": \"linear\", \"delay\": 0}, \"y\": {\"delay\": 0}, \"show\": {\"delay\": 0}, \"hide\": {\"delay\": 0}, \"title\": {\"duration\": 0, \"delay\": 0}});"
     },
     "metadata": {},
     "output_type": "display_data"
    },
    {
     "data": {
      "application/javascript": "window.ipyvizzu.animate(element, 'a189bef', '8ebbc6d', 'begin', false, lib => { return {\"data\": {\"filter\": record => { return (record['año'] == 2013) }}, \"config\": {\"channels\": {\"x\": {\"set\": [\"total_pasajeros\"]}, \"y\": {\"set\": [\"Nombre_Empresa_clean\"]}, \"color\": {\"set\": [\"Nombre_Empresa_clean\"]}, \"label\": {\"set\": [\"total_pasajeros\"]}}, \"sort\": \"byValue\", \"legend\": null, \"title\": \"N\\u00famero de pasajeros por aerol\\u00ednea en 2013\"}, \"style\": {\"plot\": {\"marker\": {\"colorPalette\": \"#d9ed92ff #b5e48cff #99D986 #76c893ff #52b69aff #34a0a4ff #168aadff #1a759fff #1e6091ff #184e77ff\", \"label\": {\"maxFractionDigits\": \"0\"}}, \"paddingLeft\": \"19em\", \"xAxis\": {\"title\": {\"color\": \"#00000000\"}}}}} }, {\"duration\": 0.8, \"x\": {\"easing\": \"linear\", \"delay\": 0}, \"y\": {\"delay\": 0}, \"show\": {\"delay\": 0}, \"hide\": {\"delay\": 0}, \"title\": {\"duration\": 0, \"delay\": 0}});"
     },
     "metadata": {},
     "output_type": "display_data"
    },
    {
     "data": {
      "application/javascript": "window.ipyvizzu.animate(element, 'a189bef', '2bcd7ce', 'begin', false, lib => { return {\"data\": {\"filter\": record => { return (record['año'] == 2014) }}, \"config\": {\"channels\": {\"x\": {\"set\": [\"total_pasajeros\"]}, \"y\": {\"set\": [\"Nombre_Empresa_clean\"]}, \"color\": {\"set\": [\"Nombre_Empresa_clean\"]}, \"label\": {\"set\": [\"total_pasajeros\"]}}, \"sort\": \"byValue\", \"legend\": null, \"title\": \"N\\u00famero de pasajeros por aerol\\u00ednea en 2014\"}, \"style\": {\"plot\": {\"marker\": {\"colorPalette\": \"#d9ed92ff #b5e48cff #99D986 #76c893ff #52b69aff #34a0a4ff #168aadff #1a759fff #1e6091ff #184e77ff\", \"label\": {\"maxFractionDigits\": \"0\"}}, \"paddingLeft\": \"19em\", \"xAxis\": {\"title\": {\"color\": \"#00000000\"}}}}} }, {\"duration\": 0.8, \"x\": {\"easing\": \"linear\", \"delay\": 0}, \"y\": {\"delay\": 0}, \"show\": {\"delay\": 0}, \"hide\": {\"delay\": 0}, \"title\": {\"duration\": 0, \"delay\": 0}});"
     },
     "metadata": {},
     "output_type": "display_data"
    },
    {
     "data": {
      "application/javascript": "window.ipyvizzu.animate(element, 'a189bef', '576e836', 'begin', false, lib => { return {\"data\": {\"filter\": record => { return (record['año'] == 2015) }}, \"config\": {\"channels\": {\"x\": {\"set\": [\"total_pasajeros\"]}, \"y\": {\"set\": [\"Nombre_Empresa_clean\"]}, \"color\": {\"set\": [\"Nombre_Empresa_clean\"]}, \"label\": {\"set\": [\"total_pasajeros\"]}}, \"sort\": \"byValue\", \"legend\": null, \"title\": \"N\\u00famero de pasajeros por aerol\\u00ednea en 2015\"}, \"style\": {\"plot\": {\"marker\": {\"colorPalette\": \"#d9ed92ff #b5e48cff #99D986 #76c893ff #52b69aff #34a0a4ff #168aadff #1a759fff #1e6091ff #184e77ff\", \"label\": {\"maxFractionDigits\": \"0\"}}, \"paddingLeft\": \"19em\", \"xAxis\": {\"title\": {\"color\": \"#00000000\"}}}}} }, {\"duration\": 0.8, \"x\": {\"easing\": \"linear\", \"delay\": 0}, \"y\": {\"delay\": 0}, \"show\": {\"delay\": 0}, \"hide\": {\"delay\": 0}, \"title\": {\"duration\": 0, \"delay\": 0}});"
     },
     "metadata": {},
     "output_type": "display_data"
    },
    {
     "data": {
      "application/javascript": "window.ipyvizzu.animate(element, 'a189bef', 'f7f77ea', 'begin', false, lib => { return {\"data\": {\"filter\": record => { return (record['año'] == 2016) }}, \"config\": {\"channels\": {\"x\": {\"set\": [\"total_pasajeros\"]}, \"y\": {\"set\": [\"Nombre_Empresa_clean\"]}, \"color\": {\"set\": [\"Nombre_Empresa_clean\"]}, \"label\": {\"set\": [\"total_pasajeros\"]}}, \"sort\": \"byValue\", \"legend\": null, \"title\": \"N\\u00famero de pasajeros por aerol\\u00ednea en 2016\"}, \"style\": {\"plot\": {\"marker\": {\"colorPalette\": \"#d9ed92ff #b5e48cff #99D986 #76c893ff #52b69aff #34a0a4ff #168aadff #1a759fff #1e6091ff #184e77ff\", \"label\": {\"maxFractionDigits\": \"0\"}}, \"paddingLeft\": \"19em\", \"xAxis\": {\"title\": {\"color\": \"#00000000\"}}}}} }, {\"duration\": 0.8, \"x\": {\"easing\": \"linear\", \"delay\": 0}, \"y\": {\"delay\": 0}, \"show\": {\"delay\": 0}, \"hide\": {\"delay\": 0}, \"title\": {\"duration\": 0, \"delay\": 0}});"
     },
     "metadata": {},
     "output_type": "display_data"
    },
    {
     "data": {
      "application/javascript": "window.ipyvizzu.animate(element, 'a189bef', '9f01f9c', 'begin', false, lib => { return {\"data\": {\"filter\": record => { return (record['año'] == 2017) }}, \"config\": {\"channels\": {\"x\": {\"set\": [\"total_pasajeros\"]}, \"y\": {\"set\": [\"Nombre_Empresa_clean\"]}, \"color\": {\"set\": [\"Nombre_Empresa_clean\"]}, \"label\": {\"set\": [\"total_pasajeros\"]}}, \"sort\": \"byValue\", \"legend\": null, \"title\": \"N\\u00famero de pasajeros por aerol\\u00ednea en 2017\"}, \"style\": {\"plot\": {\"marker\": {\"colorPalette\": \"#d9ed92ff #b5e48cff #99D986 #76c893ff #52b69aff #34a0a4ff #168aadff #1a759fff #1e6091ff #184e77ff\", \"label\": {\"maxFractionDigits\": \"0\"}}, \"paddingLeft\": \"19em\", \"xAxis\": {\"title\": {\"color\": \"#00000000\"}}}}} }, {\"duration\": 0.8, \"x\": {\"easing\": \"linear\", \"delay\": 0}, \"y\": {\"delay\": 0}, \"show\": {\"delay\": 0}, \"hide\": {\"delay\": 0}, \"title\": {\"duration\": 0, \"delay\": 0}});"
     },
     "metadata": {},
     "output_type": "display_data"
    },
    {
     "data": {
      "application/javascript": "window.ipyvizzu.animate(element, 'a189bef', '2f5691d', 'begin', false, lib => { return {\"data\": {\"filter\": record => { return (record['año'] == 2018) }}, \"config\": {\"channels\": {\"x\": {\"set\": [\"total_pasajeros\"]}, \"y\": {\"set\": [\"Nombre_Empresa_clean\"]}, \"color\": {\"set\": [\"Nombre_Empresa_clean\"]}, \"label\": {\"set\": [\"total_pasajeros\"]}}, \"sort\": \"byValue\", \"legend\": null, \"title\": \"N\\u00famero de pasajeros por aerol\\u00ednea en 2018\"}, \"style\": {\"plot\": {\"marker\": {\"colorPalette\": \"#d9ed92ff #b5e48cff #99D986 #76c893ff #52b69aff #34a0a4ff #168aadff #1a759fff #1e6091ff #184e77ff\", \"label\": {\"maxFractionDigits\": \"0\"}}, \"paddingLeft\": \"19em\", \"xAxis\": {\"title\": {\"color\": \"#00000000\"}}}}} }, {\"duration\": 0.8, \"x\": {\"easing\": \"linear\", \"delay\": 0}, \"y\": {\"delay\": 0}, \"show\": {\"delay\": 0}, \"hide\": {\"delay\": 0}, \"title\": {\"duration\": 0, \"delay\": 0}});"
     },
     "metadata": {},
     "output_type": "display_data"
    },
    {
     "data": {
      "application/javascript": "window.ipyvizzu.animate(element, 'a189bef', '39d8d0f', 'begin', false, lib => { return {\"data\": {\"filter\": record => { return (record['año'] == 2019) }}, \"config\": {\"channels\": {\"x\": {\"set\": [\"total_pasajeros\"]}, \"y\": {\"set\": [\"Nombre_Empresa_clean\"]}, \"color\": {\"set\": [\"Nombre_Empresa_clean\"]}, \"label\": {\"set\": [\"total_pasajeros\"]}}, \"sort\": \"byValue\", \"legend\": null, \"title\": \"N\\u00famero de pasajeros por aerol\\u00ednea en 2019\"}, \"style\": {\"plot\": {\"marker\": {\"colorPalette\": \"#d9ed92ff #b5e48cff #99D986 #76c893ff #52b69aff #34a0a4ff #168aadff #1a759fff #1e6091ff #184e77ff\", \"label\": {\"maxFractionDigits\": \"0\"}}, \"paddingLeft\": \"19em\", \"xAxis\": {\"title\": {\"color\": \"#00000000\"}}}}} }, {\"duration\": 0.8, \"x\": {\"easing\": \"linear\", \"delay\": 0}, \"y\": {\"delay\": 0}, \"show\": {\"delay\": 0}, \"hide\": {\"delay\": 0}, \"title\": {\"duration\": 0, \"delay\": 0}});"
     },
     "metadata": {},
     "output_type": "display_data"
    },
    {
     "data": {
      "application/javascript": "window.ipyvizzu.animate(element, 'a189bef', 'f9532f6', 'begin', false, lib => { return {\"data\": {\"filter\": record => { return (record['año'] == 2020) }}, \"config\": {\"channels\": {\"x\": {\"set\": [\"total_pasajeros\"]}, \"y\": {\"set\": [\"Nombre_Empresa_clean\"]}, \"color\": {\"set\": [\"Nombre_Empresa_clean\"]}, \"label\": {\"set\": [\"total_pasajeros\"]}}, \"sort\": \"byValue\", \"legend\": null, \"title\": \"N\\u00famero de pasajeros por aerol\\u00ednea en 2020\"}, \"style\": {\"plot\": {\"marker\": {\"colorPalette\": \"#d9ed92ff #b5e48cff #99D986 #76c893ff #52b69aff #34a0a4ff #168aadff #1a759fff #1e6091ff #184e77ff\", \"label\": {\"maxFractionDigits\": \"0\"}}, \"paddingLeft\": \"19em\", \"xAxis\": {\"title\": {\"color\": \"#00000000\"}}}}} }, {\"duration\": 0.8, \"x\": {\"easing\": \"linear\", \"delay\": 0}, \"y\": {\"delay\": 0}, \"show\": {\"delay\": 0}, \"hide\": {\"delay\": 0}, \"title\": {\"duration\": 0, \"delay\": 0}});"
     },
     "metadata": {},
     "output_type": "display_data"
    },
    {
     "data": {
      "application/javascript": "window.ipyvizzu.animate(element, 'a189bef', 'cf3e20f', 'begin', false, lib => { return {\"data\": {\"filter\": record => { return (record['año'] == 2021) }}, \"config\": {\"channels\": {\"x\": {\"set\": [\"total_pasajeros\"]}, \"y\": {\"set\": [\"Nombre_Empresa_clean\"]}, \"color\": {\"set\": [\"Nombre_Empresa_clean\"]}, \"label\": {\"set\": [\"total_pasajeros\"]}}, \"sort\": \"byValue\", \"legend\": null, \"title\": \"N\\u00famero de pasajeros por aerol\\u00ednea en 2021\"}, \"style\": {\"plot\": {\"marker\": {\"colorPalette\": \"#d9ed92ff #b5e48cff #99D986 #76c893ff #52b69aff #34a0a4ff #168aadff #1a759fff #1e6091ff #184e77ff\", \"label\": {\"maxFractionDigits\": \"0\"}}, \"paddingLeft\": \"19em\", \"xAxis\": {\"title\": {\"color\": \"#00000000\"}}}}} }, {\"duration\": 0.8, \"x\": {\"easing\": \"linear\", \"delay\": 0}, \"y\": {\"delay\": 0}, \"show\": {\"delay\": 0}, \"hide\": {\"delay\": 0}, \"title\": {\"duration\": 0, \"delay\": 0}});"
     },
     "metadata": {},
     "output_type": "display_data"
    },
    {
     "data": {
      "application/javascript": "window.ipyvizzu.animate(element, 'a189bef', '584224c', 'begin', false, lib => { return {\"data\": {\"filter\": record => { return (record['año'] == 2022) }}, \"config\": {\"channels\": {\"x\": {\"set\": [\"total_pasajeros\"]}, \"y\": {\"set\": [\"Nombre_Empresa_clean\"]}, \"color\": {\"set\": [\"Nombre_Empresa_clean\"]}, \"label\": {\"set\": [\"total_pasajeros\"]}}, \"sort\": \"byValue\", \"legend\": null, \"title\": \"N\\u00famero de pasajeros por aerol\\u00ednea en 2022\"}, \"style\": {\"plot\": {\"marker\": {\"colorPalette\": \"#d9ed92ff #b5e48cff #99D986 #76c893ff #52b69aff #34a0a4ff #168aadff #1a759fff #1e6091ff #184e77ff\", \"label\": {\"maxFractionDigits\": \"0\"}}, \"paddingLeft\": \"19em\", \"xAxis\": {\"title\": {\"color\": \"#00000000\"}}}}} }, {\"duration\": 0.8, \"x\": {\"easing\": \"linear\", \"delay\": 0}, \"y\": {\"delay\": 0}, \"show\": {\"delay\": 0}, \"hide\": {\"delay\": 0}, \"title\": {\"duration\": 0, \"delay\": 0}});"
     },
     "metadata": {},
     "output_type": "display_data"
    }
   ],
   "source": [
    "char_data = Data()\n",
    "char_data.add_data_frame(top_empresas_nacional) \n",
    "chart = Chart(display = \"begin\")\n",
    "chart.scroll_into_view = False\n",
    "\n",
    "\n",
    "chart.animate(char_data)\n",
    "config = {\n",
    "    \"channels\": {\n",
    "        \"x\": {\"set\": [\"total_pasajeros\"]},\n",
    "        \"y\": {\"set\": [\"Nombre_Empresa_clean\"]},\n",
    "        \"color\": {\"set\": [\"Nombre_Empresa_clean\"]},\n",
    "        \"label\": { \"set\": [\"total_pasajeros\"] }\n",
    "    },\n",
    "    \"sort\": 'byValue',\n",
    "    \"legend\": None,\n",
    "}\n",
    "\n",
    "style= Style({\"plot\": \n",
    "    {\"marker\": {\"colorPalette\": \"#d9ed92ff #b5e48cff #99D986 #76c893ff #52b69aff\"\n",
    "                + \" #34a0a4ff #168aadff #1a759fff #1e6091ff #184e77ff\",\n",
    "                \"label\": {\"maxFractionDigits\": \"0\"}}, #cutting off unnecessary digits when animating the labels\n",
    "      \"paddingLeft\":\"19em\", #add padding on the left side of the plot so that long country names are visible\n",
    "      \"xAxis\": { \"title\": { \"color\" : \"#00000000\" }} #hiding the axis title on the x-axis\n",
    "    }})\n",
    "\n",
    "\n",
    "for anho in range(1992, 2023):\n",
    "    config[\"title\"] = f\"Número de pasajeros por aerolínea en {anho}\"\n",
    "    chart.animate(\n",
    "        Data.filter(\"record['año'] == {}\".format(anho)), \n",
    "        Config(config),\n",
    "        style,\n",
    "        # Animation options:\n",
    "        duration = .8,        \n",
    "        x = { \"easing\": \"linear\", \"delay\": 0 },\n",
    "        y = { \"delay\": 0 },\n",
    "        show = { \"delay\": 0 },\n",
    "        hide = { \"delay\": 0 },\n",
    "        title = { \"duration\": 0, \"delay\": 0 })\n",
    " \n",
    " \n",
    "\n",
    "\n"
   ]
  },
  {
   "attachments": {},
   "cell_type": "markdown",
   "metadata": {},
   "source": [
    "*Export Data*"
   ]
  },
  {
   "cell_type": "code",
   "execution_count": 31,
   "metadata": {},
   "outputs": [
    {
     "data": {
      "application/javascript": "if (window.IpyVizzu) { window.IpyVizzu.clearInhibitScroll(element); }"
     },
     "metadata": {},
     "output_type": "display_data"
    },
    {
     "data": {
      "application/javascript": "if (window.IpyVizzu) { window.IpyVizzu.clearInhibitScroll(element); }"
     },
     "metadata": {},
     "output_type": "display_data"
    },
    {
     "data": {
      "application/javascript": "if (window.IpyVizzu) { window.IpyVizzu.clearInhibitScroll(element); }"
     },
     "metadata": {},
     "output_type": "display_data"
    },
    {
     "data": {
      "text/plain": [
       "['Fecha',\n",
       " 'Sigla Empresa',\n",
       " 'Origen',\n",
       " 'Destino',\n",
       " 'Pasajeros',\n",
       " 'Trafico',\n",
       " 'TipoVuelo',\n",
       " 'Ciudad Origen',\n",
       " 'Ciudad Destino',\n",
       " 'Pais Origen',\n",
       " 'Pais Destino',\n",
       " 'Nombre Empresa',\n",
       " 'Apto_Origen',\n",
       " 'Apto_Destino',\n",
       " 'Nombre_Empresa_clean']"
      ]
     },
     "execution_count": 31,
     "metadata": {},
     "output_type": "execute_result"
    }
   ],
   "source": [
    "df.columns"
   ]
  },
  {
   "cell_type": "code",
   "execution_count": 32,
   "metadata": {},
   "outputs": [
    {
     "data": {
      "application/javascript": "if (window.IpyVizzu) { window.IpyVizzu.clearInhibitScroll(element); }"
     },
     "metadata": {},
     "output_type": "display_data"
    },
    {
     "data": {
      "application/javascript": "if (window.IpyVizzu) { window.IpyVizzu.clearInhibitScroll(element); }"
     },
     "metadata": {},
     "output_type": "display_data"
    },
    {
     "data": {
      "application/javascript": "if (window.IpyVizzu) { window.IpyVizzu.clearInhibitScroll(element); }"
     },
     "metadata": {},
     "output_type": "display_data"
    }
   ],
   "source": [
    "trafico_historico = df.groupBy([\"Sigla Empresa\", \"Origen\",\"Destino\", \"Trafico\", \"TipoVuelo\",\"Ciudad Origen\",\n",
    "            'Ciudad Destino',\n",
    " 'Pais Origen',\n",
    " 'Pais Destino','Apto_Origen',\n",
    " 'Apto_Destino',\n",
    " 'Nombre_Empresa_clean']).agg(sum(\"Pasajeros\").alias(\"pasajeros\")).toPandas()"
   ]
  },
  {
   "cell_type": "code",
   "execution_count": 33,
   "metadata": {},
   "outputs": [
    {
     "data": {
      "application/javascript": "if (window.IpyVizzu) { window.IpyVizzu.clearInhibitScroll(element); }"
     },
     "metadata": {},
     "output_type": "display_data"
    },
    {
     "data": {
      "application/javascript": "if (window.IpyVizzu) { window.IpyVizzu.clearInhibitScroll(element); }"
     },
     "metadata": {},
     "output_type": "display_data"
    },
    {
     "data": {
      "application/javascript": "if (window.IpyVizzu) { window.IpyVizzu.clearInhibitScroll(element); }"
     },
     "metadata": {},
     "output_type": "display_data"
    },
    {
     "data": {
      "text/plain": [
       "Sigla Empresa              0\n",
       "Origen                     0\n",
       "Destino                    0\n",
       "Trafico                    0\n",
       "TipoVuelo                  0\n",
       "Ciudad Origen           1475\n",
       "Ciudad Destino          1589\n",
       "Pais Origen             1475\n",
       "Pais Destino              16\n",
       "Apto_Origen                0\n",
       "Apto_Destino               2\n",
       "Nombre_Empresa_clean       0\n",
       "pasajeros                  0\n",
       "dtype: int64"
      ]
     },
     "execution_count": 33,
     "metadata": {},
     "output_type": "execute_result"
    }
   ],
   "source": [
    "trafico_historico.isnull().sum()"
   ]
  },
  {
   "cell_type": "code",
   "execution_count": 34,
   "metadata": {},
   "outputs": [
    {
     "data": {
      "application/javascript": "if (window.IpyVizzu) { window.IpyVizzu.clearInhibitScroll(element); }"
     },
     "metadata": {},
     "output_type": "display_data"
    },
    {
     "data": {
      "application/javascript": "if (window.IpyVizzu) { window.IpyVizzu.clearInhibitScroll(element); }"
     },
     "metadata": {},
     "output_type": "display_data"
    },
    {
     "data": {
      "application/javascript": "if (window.IpyVizzu) { window.IpyVizzu.clearInhibitScroll(element); }"
     },
     "metadata": {},
     "output_type": "display_data"
    }
   ],
   "source": [
    "trafico_historico.to_excel(\"trafico_aerolineas.xlsx\")"
   ]
  }
 ],
 "metadata": {
  "kernelspec": {
   "display_name": "Python 3 (ipykernel)",
   "language": "python",
   "name": "python3"
  },
  "language_info": {
   "codemirror_mode": {
    "name": "ipython",
    "version": 3
   },
   "file_extension": ".py",
   "mimetype": "text/x-python",
   "name": "python",
   "nbconvert_exporter": "python",
   "pygments_lexer": "ipython3",
   "version": "3.9.16"
  }
 },
 "nbformat": 4,
 "nbformat_minor": 2
}
