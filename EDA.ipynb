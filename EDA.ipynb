{
 "cells": [
  {
   "cell_type": "markdown",
   "metadata": {},
   "source": [
    "### **Análisis Exploratorio de Datos**"
   ]
  },
  {
   "cell_type": "code",
   "execution_count": 13,
   "metadata": {},
   "outputs": [],
   "source": [
    "#Se importan las librerias correspondientes\n",
    "import os\n",
    "import pyspark\n",
    "from pyspark.ml.feature import BucketedRandomProjectionLSH\n",
    "from pyspark.sql import *\n",
    "from pyspark.sql.functions import *\n",
    "from pyspark import SparkContext, SparkConf\n",
    "from pyspark.sql.functions import year\n",
    "from pyspark.sql.types import StructType, StructField\n",
    "from pyspark.sql.types import  IntegerType, StringType, DateType\n",
    "import matplotlib\n",
    "import matplotlib.pyplot as plt\n",
    "matplotlib.style.use('ggplot')\n",
    "import pandas as pd\n"
   ]
  },
  {
   "cell_type": "code",
   "execution_count": 14,
   "metadata": {},
   "outputs": [
    {
     "ename": "ValueError",
     "evalue": "Cannot run multiple SparkContexts at once; existing SparkContext(app=pyspark-shell, master=local[*]) created by __init__ at C:\\Users\\franc\\AppData\\Local\\Temp\\ipykernel_12548\\568094807.py:2 ",
     "output_type": "error",
     "traceback": [
      "\u001b[1;31m---------------------------------------------------------------------------\u001b[0m",
      "\u001b[1;31mValueError\u001b[0m                                Traceback (most recent call last)",
      "Cell \u001b[1;32mIn[14], line 2\u001b[0m\n\u001b[0;32m      1\u001b[0m \u001b[39m# creamos el contexto y la sesión\u001b[39;00m\n\u001b[1;32m----> 2\u001b[0m sc \u001b[39m=\u001b[39m pyspark\u001b[39m.\u001b[39;49mSparkContext()\n\u001b[0;32m      3\u001b[0m spark \u001b[39m=\u001b[39m SparkSession\u001b[39m.\u001b[39mbuilder\u001b[39m.\u001b[39mgetOrCreate()\n\u001b[0;32m      4\u001b[0m spark\n",
      "File \u001b[1;32mc:\\Users\\franc\\miniconda3\\envs\\ta\\lib\\site-packages\\pyspark\\context.py:195\u001b[0m, in \u001b[0;36mSparkContext.__init__\u001b[1;34m(self, master, appName, sparkHome, pyFiles, environment, batchSize, serializer, conf, gateway, jsc, profiler_cls, udf_profiler_cls)\u001b[0m\n\u001b[0;32m    189\u001b[0m \u001b[39mif\u001b[39;00m gateway \u001b[39mis\u001b[39;00m \u001b[39mnot\u001b[39;00m \u001b[39mNone\u001b[39;00m \u001b[39mand\u001b[39;00m gateway\u001b[39m.\u001b[39mgateway_parameters\u001b[39m.\u001b[39mauth_token \u001b[39mis\u001b[39;00m \u001b[39mNone\u001b[39;00m:\n\u001b[0;32m    190\u001b[0m     \u001b[39mraise\u001b[39;00m \u001b[39mValueError\u001b[39;00m(\n\u001b[0;32m    191\u001b[0m         \u001b[39m\"\u001b[39m\u001b[39mYou are trying to pass an insecure Py4j gateway to Spark. This\u001b[39m\u001b[39m\"\u001b[39m\n\u001b[0;32m    192\u001b[0m         \u001b[39m\"\u001b[39m\u001b[39m is not allowed as it is a security risk.\u001b[39m\u001b[39m\"\u001b[39m\n\u001b[0;32m    193\u001b[0m     )\n\u001b[1;32m--> 195\u001b[0m SparkContext\u001b[39m.\u001b[39;49m_ensure_initialized(\u001b[39mself\u001b[39;49m, gateway\u001b[39m=\u001b[39;49mgateway, conf\u001b[39m=\u001b[39;49mconf)\n\u001b[0;32m    196\u001b[0m \u001b[39mtry\u001b[39;00m:\n\u001b[0;32m    197\u001b[0m     \u001b[39mself\u001b[39m\u001b[39m.\u001b[39m_do_init(\n\u001b[0;32m    198\u001b[0m         master,\n\u001b[0;32m    199\u001b[0m         appName,\n\u001b[1;32m   (...)\u001b[0m\n\u001b[0;32m    208\u001b[0m         udf_profiler_cls,\n\u001b[0;32m    209\u001b[0m     )\n",
      "File \u001b[1;32mc:\\Users\\franc\\miniconda3\\envs\\ta\\lib\\site-packages\\pyspark\\context.py:430\u001b[0m, in \u001b[0;36mSparkContext._ensure_initialized\u001b[1;34m(cls, instance, gateway, conf)\u001b[0m\n\u001b[0;32m    427\u001b[0m     callsite \u001b[39m=\u001b[39m SparkContext\u001b[39m.\u001b[39m_active_spark_context\u001b[39m.\u001b[39m_callsite\n\u001b[0;32m    429\u001b[0m     \u001b[39m# Raise error if there is already a running Spark context\u001b[39;00m\n\u001b[1;32m--> 430\u001b[0m     \u001b[39mraise\u001b[39;00m \u001b[39mValueError\u001b[39;00m(\n\u001b[0;32m    431\u001b[0m         \u001b[39m\"\u001b[39m\u001b[39mCannot run multiple SparkContexts at once; \u001b[39m\u001b[39m\"\u001b[39m\n\u001b[0;32m    432\u001b[0m         \u001b[39m\"\u001b[39m\u001b[39mexisting SparkContext(app=\u001b[39m\u001b[39m%s\u001b[39;00m\u001b[39m, master=\u001b[39m\u001b[39m%s\u001b[39;00m\u001b[39m)\u001b[39m\u001b[39m\"\u001b[39m\n\u001b[0;32m    433\u001b[0m         \u001b[39m\"\u001b[39m\u001b[39m created by \u001b[39m\u001b[39m%s\u001b[39;00m\u001b[39m at \u001b[39m\u001b[39m%s\u001b[39;00m\u001b[39m:\u001b[39m\u001b[39m%s\u001b[39;00m\u001b[39m \u001b[39m\u001b[39m\"\u001b[39m\n\u001b[0;32m    434\u001b[0m         \u001b[39m%\u001b[39m (\n\u001b[0;32m    435\u001b[0m             currentAppName,\n\u001b[0;32m    436\u001b[0m             currentMaster,\n\u001b[0;32m    437\u001b[0m             callsite\u001b[39m.\u001b[39mfunction,\n\u001b[0;32m    438\u001b[0m             callsite\u001b[39m.\u001b[39mfile,\n\u001b[0;32m    439\u001b[0m             callsite\u001b[39m.\u001b[39mlinenum,\n\u001b[0;32m    440\u001b[0m         )\n\u001b[0;32m    441\u001b[0m     )\n\u001b[0;32m    442\u001b[0m \u001b[39melse\u001b[39;00m:\n\u001b[0;32m    443\u001b[0m     SparkContext\u001b[39m.\u001b[39m_active_spark_context \u001b[39m=\u001b[39m instance\n",
      "\u001b[1;31mValueError\u001b[0m: Cannot run multiple SparkContexts at once; existing SparkContext(app=pyspark-shell, master=local[*]) created by __init__ at C:\\Users\\franc\\AppData\\Local\\Temp\\ipykernel_12548\\568094807.py:2 "
     ]
    }
   ],
   "source": [
    "# creamos el contexto y la sesión\n",
    "sc = pyspark.SparkContext()\n",
    "spark = SparkSession.builder.getOrCreate()\n",
    "spark"
   ]
  },
  {
   "cell_type": "code",
   "execution_count": 15,
   "metadata": {},
   "outputs": [],
   "source": [
    "\n",
    "#Se define el esquema de la tabla\n",
    "schema = StructType([\n",
    "    StructField('Fecha', DateType()),\n",
    "    StructField('Sigla Empresa', StringType()),\n",
    "    StructField('Origen', StringType()),\n",
    "    StructField('Destino', StringType()),\n",
    "    StructField('Pasajeros', IntegerType()),\n",
    "    StructField('Trafico', StringType()),\n",
    "    StructField('TipoVuelo', StringType()),\n",
    "    StructField('Ciudad Origen', StringType()),\n",
    "    StructField('Ciudad Destino', StringType()),\n",
    "    StructField('Pais Origen', StringType()),\n",
    "    StructField('Pais Destino', StringType()),\n",
    "    StructField('Nombre Empresa', StringType()),\n",
    "    StructField('Apto_Origen', StringType()),\n",
    "    StructField('Apto_Destino', StringType()),\n",
    "    StructField('Nombre_Empresa_clean', StringType()),\n",
    "])\n",
    "\n",
    "\n",
    "schema2 = StructType([\n",
    "    StructField('Fecha', DateType()),\n",
    "    StructField('Sigla Empresa', StringType()),\n",
    "    StructField('Origen', StringType()),\n",
    "    StructField('Destino', StringType()),\n",
    "    StructField('Pasajeros', IntegerType()),\n",
    "    StructField('Trafico', StringType()),\n",
    "    StructField('TipoVuelo', StringType()),\n",
    "    StructField('Ciudad Origen', StringType()),\n",
    "    StructField('Ciudad Destino', StringType()),\n",
    "    StructField('Pais Origen', StringType()),\n",
    "    StructField('Pais Destino', StringType()),\n",
    "    StructField('Nombre Empresa', StringType()),\n",
    "    StructField('Apto_Origen', StringType()),\n",
    "    StructField('Apto_Destino', StringType()),\n",
    "])"
   ]
  },
  {
   "cell_type": "code",
   "execution_count": 16,
   "metadata": {},
   "outputs": [
    {
     "name": "stdout",
     "output_type": "stream",
     "text": [
      "+----------+-------------+------+-------+---------+-------+---------+-------------+--------------+--------------+------------+--------------+--------------------+--------------------+--------------------+\n",
      "|     Fecha|Sigla Empresa|Origen|Destino|Pasajeros|Trafico|TipoVuelo|Ciudad Origen|Ciudad Destino|   Pais Origen|Pais Destino|Nombre Empresa|         Apto_Origen|        Apto_Destino|Nombre_Empresa_clean|\n",
      "+----------+-------------+------+-------+---------+-------+---------+-------------+--------------+--------------+------------+--------------+--------------------+--------------------+--------------------+\n",
      "|2019-04-01|          AAL|   ABQ|    BOG|       37|      I|        R| NUEVO MEXICO|        BOGOTA|ESTADOS UNIDOS|    COLOMBIA|      AMERICAN|ALBUQUERQUE INTL ...|   BOGOTA - ELDORADO|            AMERICAN|\n",
      "|2019-04-01|          AAL|   ABZ|    CLO|        1|      I|        R|     ABENDEEN|          CALI|    INGLATERRA|    COLOMBIA|      AMERICAN|                CYDE|CALI - ALFONSO BO...|            AMERICAN|\n",
      "|2019-04-01|          AAL|   AMS|    CTG|        2|      I|        R|    AMSTERDAM|     CARTAGENA|       HOLANDA|    COLOMBIA|      AMERICAN|            SCHIPHOL|CARTAGENA - RAFAE...|            AMERICAN|\n",
      "+----------+-------------+------+-------+---------+-------+---------+-------------+--------------+--------------+------------+--------------+--------------------+--------------------+--------------------+\n",
      "only showing top 3 rows\n",
      "\n"
     ]
    }
   ],
   "source": [
    "#Se lee el archivo de trusted\n",
    "filepath = os.path.join(\"trusted\", 'trafico_aereo_process.csv')\n",
    "df = spark.read.csv(filepath, header=True, schema=schema)\n",
    "df.show(n=3)"
   ]
  },
  {
   "cell_type": "code",
   "execution_count": 17,
   "metadata": {},
   "outputs": [
    {
     "name": "stdout",
     "output_type": "stream",
     "text": [
      "+----------+-------------+------+-------+---------+-------+---------+-------------+--------------+--------------+------------+--------------+--------------------+--------------------+--------------------+\n",
      "|     Fecha|Sigla Empresa|Origen|Destino|Pasajeros|Trafico|TipoVuelo|Ciudad Origen|Ciudad Destino|   Pais Origen|Pais Destino|Nombre Empresa|         Apto_Origen|        Apto_Destino|Nombre_Empresa_clean|\n",
      "+----------+-------------+------+-------+---------+-------+---------+-------------+--------------+--------------+------------+--------------+--------------------+--------------------+--------------------+\n",
      "|2019-04-01|          AAL|   ABQ|    BOG|       37|      I|        R| NUEVO MEXICO|        BOGOTA|ESTADOS UNIDOS|    COLOMBIA|      AMERICAN|ALBUQUERQUE INTL ...|   BOGOTA - ELDORADO|                null|\n",
      "|2019-04-01|          AAL|   ABZ|    CLO|        1|      I|        R|     ABENDEEN|          CALI|    INGLATERRA|    COLOMBIA|      AMERICAN|                CYDE|CALI - ALFONSO BO...|                null|\n",
      "|2019-04-01|          AAL|   AMS|    CTG|        2|      I|        R|    AMSTERDAM|     CARTAGENA|       HOLANDA|    COLOMBIA|      AMERICAN|            SCHIPHOL|CARTAGENA - RAFAE...|                null|\n",
      "+----------+-------------+------+-------+---------+-------+---------+-------------+--------------+--------------+------------+--------------+--------------------+--------------------+--------------------+\n",
      "only showing top 3 rows\n",
      "\n"
     ]
    }
   ],
   "source": [
    "#Se lee el archivo de trusted\n",
    "filepath = os.path.join(\"trusted\", 'trafico_aereo_1992_2022.csv')\n",
    "df_2 = spark.read.csv(filepath, header=True, schema=schema)\n",
    "df_2.show(n=3)"
   ]
  },
  {
   "cell_type": "markdown",
   "metadata": {},
   "source": [
    "**¿Cómo ha evolucionado el tráfico aéreo, visto como el número de pasajeros, a través de los años?**"
   ]
  },
  {
   "cell_type": "code",
   "execution_count": 18,
   "metadata": {},
   "outputs": [],
   "source": [
    "pasajeros_anho = df.select(\n",
    "                \"Fecha\",\n",
    "                \"Pasajeros\", \n",
    "                year(\"Fecha\").alias(\"año\")\n",
    "                ).groupBy(\"año\").agg(\n",
    "                    sum(\"Pasajeros\").alias(\"total_pasajeros\")).toPandas()"
   ]
  },
  {
   "cell_type": "code",
   "execution_count": 19,
   "metadata": {},
   "outputs": [],
   "source": [
    "pasajeros_anho_empresa = df.select(\n",
    "                        \"Pasajeros\",\n",
    "                        \"Nombre_Empresa_clean\",\n",
    "                        year(\"Fecha\").alias(\"año\")\n",
    "                        ).groupBy([\"año\", \"Nombre_Empresa_clean\"]).agg(\n",
    "                        sum(\"Pasajeros\").alias(\"total_pasajeros\")).toPandas()"
   ]
  },
  {
   "cell_type": "code",
   "execution_count": 20,
   "metadata": {},
   "outputs": [],
   "source": [
    "pasajeros_empresa = df.select(\n",
    "                        \"Pasajeros\",\n",
    "                        \"Nombre_Empresa_clean\",\n",
    "                        ).groupBy(\"Nombre_Empresa_clean\").agg(\n",
    "                        sum(\"Pasajeros\").alias(\"total_pasajeros\")).toPandas()"
   ]
  },
  {
   "cell_type": "code",
   "execution_count": 21,
   "metadata": {},
   "outputs": [],
   "source": [
    "pasajeros_anho_empresa_nacional = df.select(\n",
    "                        \"Pasajeros\",\n",
    "                        \"Nombre_Empresa_clean\",\n",
    "                        year(\"Fecha\").alias(\"año\")\n",
    "                        ).filter(df.Trafico==\"N\").groupBy([\"año\", \"Nombre_Empresa_clean\"]).agg(\n",
    "                        sum(\"Pasajeros\").alias(\"total_pasajeros\")).toPandas()"
   ]
  },
  {
   "cell_type": "code",
   "execution_count": 34,
   "metadata": {},
   "outputs": [
    {
     "data": {
      "application/javascript": "if (window.IpyVizzu) { window.IpyVizzu.clearInhibitScroll(element); }"
     },
     "metadata": {},
     "output_type": "display_data"
    },
    {
     "data": {
      "application/javascript": "if (window.IpyVizzu) { window.IpyVizzu.clearInhibitScroll(element); }"
     },
     "metadata": {},
     "output_type": "display_data"
    },
    {
     "data": {
      "text/plain": [
       "<Figure size 1200x2000 with 0 Axes>"
      ]
     },
     "metadata": {},
     "output_type": "display_data"
    },
    {
     "data": {
      "image/png": "[encoded data removed]",
      "text/plain": [
       "<Figure size 640x480 with 1 Axes>"
      ]
     },
     "metadata": {},
     "output_type": "display_data"
    }
   ],
   "source": [
    "pasajeros_anho[\"año\"] = pasajeros_anho[\"año\"].astype(\"Int64\")\n",
    "pasajeros_anho.dropna(inplace=True)\n",
    "plt.figure(figsize=(12,20))\n",
    "pasajeros_anho.set_index(\"año\").sort_index().plot(kind=\"bar\")\n",
    "plt.ylabel(\"Número de pasajeros\")\n",
    "plt.xticks(rotation=45);"
   ]
  },
  {
   "cell_type": "code",
   "execution_count": 35,
   "metadata": {},
   "outputs": [
    {
     "data": {
      "application/javascript": "if (window.IpyVizzu) { window.IpyVizzu.clearInhibitScroll(element); }"
     },
     "metadata": {},
     "output_type": "display_data"
    },
    {
     "data": {
      "application/javascript": "if (window.IpyVizzu) { window.IpyVizzu.clearInhibitScroll(element); }"
     },
     "metadata": {},
     "output_type": "display_data"
    },
    {
     "data": {
      "text/plain": [
       "Text(0, 0.5, 'Nombre empresa')"
      ]
     },
     "execution_count": 35,
     "metadata": {},
     "output_type": "execute_result"
    },
    {
     "data": {
      "image/png": "[encoded data removed]",
      "text/plain": [
       "<Figure size 640x480 with 1 Axes>"
      ]
     },
     "metadata": {},
     "output_type": "display_data"
    }
   ],
   "source": [
    "pasajeros_empresa.dropna(inplace=True)\n",
    "\n",
    "pasajeros_empresa.sort_values(\"total_pasajeros\", ascending=False)[:10].sort_values(\"total_pasajeros\").set_index(\"Nombre_Empresa_clean\").plot(kind=\"barh\")\n",
    "plt.ylabel(\"Nombre empresa\")"
   ]
  },
  {
   "cell_type": "code",
   "execution_count": 24,
   "metadata": {},
   "outputs": [],
   "source": [
    "top_empresas =pd.DataFrame()\n",
    "tot_anhos = pasajeros_anho_empresa[\"año\"].unique()\n",
    "for anho in tot_anhos:\n",
    "    ind = pasajeros_anho_empresa[\"año\"] ==anho\n",
    "    tmp = pasajeros_anho_empresa.loc[ind,:].sort_values(\"total_pasajeros\", ascending=False).iloc[:10,:]\n",
    "    top_empresas = pd.concat([top_empresas,tmp ])\n",
    "top_empresas = top_empresas.sort_values(\"año\")"
   ]
  },
  {
   "cell_type": "code",
   "execution_count": 25,
   "metadata": {},
   "outputs": [],
   "source": [
    "top_empresas_nacional =pd.DataFrame()\n",
    "tot_anhos_nacional = pasajeros_anho_empresa_nacional[\"año\"].unique()\n",
    "for anho in tot_anhos_nacional:\n",
    "    ind = pasajeros_anho_empresa_nacional[\"año\"] ==anho\n",
    "    tmp = pasajeros_anho_empresa_nacional.loc[ind,:].sort_values(\"total_pasajeros\", ascending=False).iloc[:10,:]\n",
    "    top_empresas_nacional = pd.concat([top_empresas_nacional,tmp ])\n",
    "top_empresas_nacional = top_empresas_nacional.sort_values(\"año\")"
   ]
  },
  {
   "cell_type": "markdown",
   "metadata": {},
   "source": [
    "**IpyVizzu**"
   ]
  },
  {
   "cell_type": "code",
   "execution_count": 26,
   "metadata": {},
   "outputs": [
    {
     "data": {
      "application/javascript": "if (!window.IpyVizzu) {\n  class IpyVizzu {\n    constructor() {\n      IpyVizzu.inhibitScroll = false;\n      IpyVizzu.nbconvert = false;\n      document.addEventListener(\n        \"wheel\",\n        (evt) => {\n          IpyVizzu.inhibitScroll = true;\n        },\n        true\n      );\n      document.addEventListener(\n        \"keydown\",\n        (evt) => {\n          IpyVizzu.inhibitScroll = true;\n        },\n        true\n      );\n      document.addEventListener(\n        \"touchstart\",\n        (evt) => {\n          IpyVizzu.inhibitScroll = true;\n        },\n        true\n      );\n\n      this.elements = {};\n      this.charts = {};\n      this.controls = {};\n\n      this.storage = {};\n      this.displays = {};\n\n      this.events = {};\n      this.loaded = {};\n      this.libs = {};\n    }\n\n    static clearInhibitScroll(element) {\n      if (IpyVizzu.nbconvert) IpyVizzu._hide(element);\n      IpyVizzu.inhibitScroll = false;\n    }\n\n    createChart(element, chartId, vizzulib, divWidth, divHeight) {\n      this.elements[chartId] = document.createElement(\"div\");\n      this.elements[\n        chartId\n      ].style.cssText = `width: ${divWidth}; height: ${divHeight};`;\n      this.loaded[chartId] = import(vizzulib);\n      this.charts[chartId] = this.loaded[chartId].then((Vizzu) => {\n        this.libs[chartId] = Vizzu.default;\n        const VizzuConstructor = Vizzu.default;\n        return new VizzuConstructor(this.elements[chartId]).initializing;\n      });\n      this._moveHere(chartId, element);\n    }\n\n    animate(\n      element,\n      chartId,\n      animId,\n      displayTarget,\n      scrollEnabled,\n      getChartTarget,\n      chartAnimOpts\n    ) {\n      if (IpyVizzu.nbconvert) IpyVizzu._hide(element);\n      if (displayTarget === \"end\") this._moveHere(chartId, element);\n      this.controls[chartId] = this.charts[chartId];\n      this.charts[chartId] = this.charts[chartId].then((chart) => {\n        if (displayTarget === \"actual\") this._moveHere(chartId, element);\n        this._scroll(chartId, scrollEnabled);\n        let chartTarget = getChartTarget(this.libs[chartId]);\n        if (typeof chartTarget === \"string\") {\n          chartTarget = this.storage[chartTarget];\n        } else if (Array.isArray(chartTarget)) {\n          for (let i = 0; i < chartTarget.length; i++) {\n            const target = chartTarget[i].target;\n            if (typeof target === \"string\") {\n              chartTarget[i].target = this.storage[target];\n            }\n          }\n        }\n        chart = chart.animate(chartTarget, chartAnimOpts);\n        this.controls[animId] = chart;\n        return chart;\n      });\n    }\n\n    store(element, chartId, id) {\n      if (IpyVizzu.nbconvert) IpyVizzu._hide(element);\n      this.charts[chartId] = this.charts[chartId].then((chart) => {\n        this.storage[id] = chart.store();\n        return chart;\n      });\n    }\n\n    feature(element, chartId, name, enabled) {\n      if (IpyVizzu.nbconvert) IpyVizzu._hide(element);\n      this.charts[chartId] = this.charts[chartId].then((chart) => {\n        chart.feature(name, enabled);\n        return chart;\n      });\n    }\n\n    setEvent(element, chartId, id, event, handler) {\n      if (IpyVizzu.nbconvert) IpyVizzu._hide(element);\n      this.charts[chartId] = this.charts[chartId].then((chart) => {\n        this.events[id] = handler;\n        chart.on(event, this.events[id]);\n        return chart;\n      });\n    }\n\n    clearEvent(element, chartId, id, event) {\n      if (IpyVizzu.nbconvert) IpyVizzu._hide(element);\n      this.charts[chartId] = this.charts[chartId].then((chart) => {\n        chart.off(event, this.events[id]);\n        return chart;\n      });\n    }\n\n    log(element, chartId, chartProperty) {\n      if (IpyVizzu.nbconvert) IpyVizzu._hide(element);\n      this.charts[chartId] = this.charts[chartId].then((chart) => {\n        console.log(chart[chartProperty]);\n        return chart;\n      });\n    }\n\n    control(element, method, prevId, lastId, ...params) {\n      if (IpyVizzu.nbconvert) IpyVizzu._hide(element);\n      this.controls[prevId].then(() => {\n        this.controls[lastId].activated.then((control) => {\n          if (method === \"seek\") {\n            const value = params[0];\n            control[method](value);\n            return;\n          }\n          if (method === \"store\") {\n            const id = params[0];\n            this.storage[id] = control[method]();\n            return;\n          }\n          control[method]();\n        });\n      });\n    }\n\n    _moveHere(chartId, element) {\n      if (IpyVizzu.nbconvert)\n        IpyVizzu._display(this.elements[chartId], element);\n      element.append(this.elements[chartId]);\n    }\n\n    _scroll(chartId, enabled) {\n      if (!IpyVizzu.inhibitScroll && enabled) {\n        this.elements[chartId].scrollIntoView({\n          behavior: \"auto\",\n          block: \"center\",\n        });\n      }\n    }\n\n    static _hide(element) {\n      document.getElementById(\n        element.selector.substring(1)\n      ).parentNode.style.display = \"none\";\n    }\n\n    static _display(prevElement, element) {\n      if (prevElement.parentNode) {\n        prevElement.parentNode.style.display = \"none\";\n      }\n      document.getElementById(\n        element.selector.substring(1)\n      ).parentNode.style.display = \"flex\";\n      document.getElementById(\n        element.selector.substring(1)\n      ).parentNode.style.margin = \"auto\";\n    }\n  }\n\n  window.IpyVizzu = IpyVizzu;\n  window.ipyvizzu = new window.IpyVizzu();\n}\n"
     },
     "metadata": {},
     "output_type": "display_data"
    },
    {
     "data": {
      "application/javascript": "window.ipyvizzu.createChart(element, 'e3a40af', 'https://cdn.jsdelivr.net/npm/vizzu@0.7/dist/vizzu.min.js', '800px', '480px');"
     },
     "metadata": {},
     "output_type": "display_data"
    },
    {
     "data": {
      "application/javascript": "window.ipyvizzu.animate(element, 'e3a40af', 'f64be53', 'begin', false, lib => { return {\"data\": {\"series\": [{\"name\": \"a\\u00f1o\", \"type\": \"measure\", \"values\": [1992.0, 1992.0, 1992.0, 1992.0, 1992.0, 1992.0, 1992.0, 1992.0, 1992.0, 1992.0, 1993.0, 1993.0, 1993.0, 1993.0, 1993.0, 1993.0, 1993.0, 1993.0, 1993.0, 1993.0, 1994.0, 1994.0, 1994.0, 1994.0, 1994.0, 1994.0, 1994.0, 1994.0, 1994.0, 1994.0, 1995.0, 1995.0, 1995.0, 1995.0, 1995.0, 1995.0, 1995.0, 1995.0, 1995.0, 1995.0, 1996.0, 1996.0, 1996.0, 1996.0, 1996.0, 1996.0, 1996.0, 1996.0, 1996.0, 1996.0, 1997.0, 1997.0, 1997.0, 1997.0, 1997.0, 1997.0, 1997.0, 1997.0, 1997.0, 1997.0, 1998.0, 1998.0, 1998.0, 1998.0, 1998.0, 1998.0, 1998.0, 1998.0, 1998.0, 1998.0, 1999.0, 1999.0, 1999.0, 1999.0, 1999.0, 1999.0, 1999.0, 1999.0, 1999.0, 1999.0, 2000.0, 2000.0, 2000.0, 2000.0, 2000.0, 2000.0, 2000.0, 2000.0, 2000.0, 2000.0, 2001.0, 2001.0, 2001.0, 2001.0, 2001.0, 2001.0, 2001.0, 2001.0, 2001.0, 2001.0, 2002.0, 2002.0, 2002.0, 2002.0, 2002.0, 2002.0, 2002.0, 2002.0, 2002.0, 2002.0, 2003.0, 2003.0, 2003.0, 2003.0, 2003.0, 2003.0, 2003.0, 2003.0, 2003.0, 2003.0, 2004.0, 2004.0, 2004.0, 2004.0, 2004.0, 2004.0, 2004.0, 2004.0, 2004.0, 2004.0, 2005.0, 2005.0, 2005.0, 2005.0, 2005.0, 2005.0, 2005.0, 2005.0, 2005.0, 2005.0, 2006.0, 2006.0, 2006.0, 2006.0, 2006.0, 2006.0, 2006.0, 2006.0, 2006.0, 2006.0, 2007.0, 2007.0, 2007.0, 2007.0, 2007.0, 2007.0, 2007.0, 2007.0, 2007.0, 2007.0, 2008.0, 2008.0, 2008.0, 2008.0, 2008.0, 2008.0, 2008.0, 2008.0, 2008.0, 2008.0, 2009.0, 2009.0, 2009.0, 2009.0, 2009.0, 2009.0, 2009.0, 2009.0, 2009.0, 2009.0, 2010.0, 2010.0, 2010.0, 2010.0, 2010.0, 2010.0, 2010.0, 2010.0, 2010.0, 2010.0, 2011.0, 2011.0, 2011.0, 2011.0, 2011.0, 2011.0, 2011.0, 2011.0, 2011.0, 2011.0, 2012.0, 2012.0, 2012.0, 2012.0, 2012.0, 2012.0, 2012.0, 2012.0, 2012.0, 2012.0, 2013.0, 2013.0, 2013.0, 2013.0, 2013.0, 2013.0, 2013.0, 2013.0, 2013.0, 2013.0, 2014.0, 2014.0, 2014.0, 2014.0, 2014.0, 2014.0, 2014.0, 2014.0, 2014.0, 2014.0, 2015.0, 2015.0, 2015.0, 2015.0, 2015.0, 2015.0, 2015.0, 2015.0, 2015.0, 2015.0, 2016.0, 2016.0, 2016.0, 2016.0, 2016.0, 2016.0, 2016.0, 2016.0, 2016.0, 2016.0, 2017.0, 2017.0, 2017.0, 2017.0, 2017.0, 2017.0, 2017.0, 2017.0, 2017.0, 2017.0, 2018.0, 2018.0, 2018.0, 2018.0, 2018.0, 2018.0, 2018.0, 2018.0, 2018.0, 2018.0, 2019.0, 2019.0, 2019.0, 2019.0, 2019.0, 2019.0, 2019.0, 2019.0, 2019.0, 2019.0, 2020.0, 2020.0, 2020.0, 2020.0, 2020.0, 2020.0, 2020.0, 2020.0, 2020.0, 2020.0, 2021.0, 2021.0, 2021.0, 2021.0, 2021.0, 2021.0, 2021.0, 2021.0, 2021.0, 2021.0, 2022.0, 2022.0, 2022.0, 2022.0, 2022.0, 2022.0, 2022.0, 2022.0, 2022.0, 2022.0]}, {\"name\": \"Nombre_Empresa_clean\", \"type\": \"dimension\", \"values\": [\"LATAM\", \"ACES\", \"SAM\", \"INTER\", \"HELICOL\", \"AVIANCA\", \"AEROTACA\", \"VERTICAL DE AVIACION\", \"APSA\", \"SATENA\", \"AVIANCA\", \"AEROTACA\", \"AEROREPUBLICA\", \"HELICOL\", \"SATENA\", \"VERTICAL DE AVIACION\", \"LATAM\", \"SAM\", \"INTER\", \"ACES\", \"SATENA\", \"HELICOL\", \"AEROTACA\", \"LATAM\", \"AEROREPUBLICA\", \"SAM\", \"INTER\", \"VERTICAL DE AVIACION\", \"ACES\", \"AVIANCA\", \"SAM\", \"ACES\", \"AEROTACA\", \"VERTICAL DE AVIACION\", \"SATENA\", \"AVIANCA\", \"LATAM\", \"INTER\", \"AEROREPUBLICA\", \"HELICOL\", \"AVIANCA\", \"ACES\", \"AEROTACA\", \"VERTICAL DE AVIACION\", \"HELICOL\", \"SATENA\", \"INTER\", \"LATAM\", \"SAM\", \"AEROREPUBLICA\", \"ACES\", \"AEROREPUBLICA\", \"LATAM\", \"SATENA\", \"VERTICAL DE AVIACION\", \"HELICOL\", \"AEROTACA\", \"AVIANCA\", \"INTER\", \"SAM\", \"INTER\", \"VERTICAL DE AVIACION\", \"HELICOL\", \"LATAM\", \"SATENA\", \"AEROTACA\", \"AVIANCA\", \"SAM\", \"ACES\", \"AEROREPUBLICA\", \"AEROTACA\", \"AEROREPUBLICA\", \"SAM\", \"LATAM\", \"INTER\", \"SATENA\", \"VERTICAL DE AVIACION\", \"HELICOL\", \"AVIANCA\", \"ACES\", \"AVIANCA\", \"ACES\", \"AEROREPUBLICA\", \"LATAM\", \"SAM\", \"SATENA\", \"INTER\", \"HELICOL\", \"AEROTACA\", \"SEARCA S.A.\", \"AEROTACA\", \"INTER\", \"WEST CARIBBEAN\", \"HELICOL\", \"ACES\", \"AVIANCA\", \"SAM\", \"LATAM\", \"SATENA\", \"AEROREPUBLICA\", \"INTER\", \"WEST CARIBBEAN\", \"LATAM\", \"SAM\", \"AEROREPUBLICA\", \"AVIANCA\", \"HELICOL\", \"AEROTACA\", \"SATENA\", \"ACES\", \"SATENA\", \"HELICOL\", \"SEARCA S.A.\", \"INTER\", \"WEST CARIBBEAN\", \"LATAM\", \"ACES\", \"SAM\", \"AEROREPUBLICA\", \"AVIANCA\", \"SEARCA S.A.\", \"AVIANCA\", \"AEROREPUBLICA\", \"WEST CARIBBEAN\", \"ADA\", \"LATAM\", \"SAM\", \"INTER\", \"SATENA\", \"REGION AIR\", \"TAC\", \"AVIANCA\", \"AEROREPUBLICA\", \"SAM\", \"SATENA\", \"LATAM\", \"WEST CARIBBEAN\", \"ADA\", \"SEARCA S.A.\", \"SARPA S.A.S\", \"AVIANCA\", \"SAM\", \"AEROREPUBLICA\", \"LATAM\", \"ADA\", \"VIARCO\", \"SARPA S.A.S\", \"TAC\", \"SEARCA S.A.\", \"SATENA\", \"AEROREPUBLICA\", \"SAM\", \"SATENA\", \"LATAM\", \"ADA\", \"SEARCA S.A.\", \"TAC\", \"ALPES S.A.S\", \"AEXPA\", \"AVIANCA\", \"SAM\", \"AEROREPUBLICA\", \"SATENA\", \"LATAM\", \"EASYFLY S.A\", \"AVIANCA\", \"SEARCA S.A.\", \"TAC\", \"SARPA S.A.S\", \"ADA\", \"SADELCA\", \"PETROLEUM\", \"SEARCA S.A.\", \"ADA\", \"EASYFLY S.A\", \"LATAM\", \"AEROREPUBLICA\", \"SAM\", \"SATENA\", \"AVIANCA\", \"TAC\", \"SEARCA S.A.\", \"ADA\", \"PETROLEUM\", \"SATENA\", \"SAM\", \"AEROREPUBLICA\", \"LATAM\", \"EASYFLY S.A\", \"AVIANCA\", \"PETROLEUM\", \"SARPA S.A.S\", \"SEARCA S.A.\", \"TAC\", \"EASYFLY S.A\", \"AEROREPUBLICA\", \"LATAM\", \"AVIANCA\", \"ADA\", \"SATENA\", \"AVIANCA\", \"LATAM\", \"AEROREPUBLICA\", \"SATENA\", \"EASYFLY S.A\", \"VIVA AIR\", \"ADA\", \"SEARCA S.A.\", \"SARPA S.A.S\", \"TAC\", \"LATAM\", \"VIVA AIR\", \"AEROREPUBLICA\", \"SATENA\", \"EASYFLY S.A\", \"ADA\", \"SEARCA S.A.\", \"PETROLEUM\", \"TAC\", \"AVIANCA\", \"AVIANCA\", \"LATAM\", \"VIVA AIR\", \"SATENA\", \"EASYFLY S.A\", \"ADA\", \"SEARCA S.A.\", \"HELICOL\", \"SARPA S.A.S\", \"AEROREPUBLICA\", \"TAC\", \"HELICOL\", \"SEARCA S.A.\", \"AEROREPUBLICA\", \"ADA\", \"EASYFLY S.A\", \"SATENA\", \"VIVA AIR\", \"LATAM\", \"AVIANCA\", \"SELVA\", \"VIVA AIR\", \"LATAM\", \"AVIANCA\", \"SATENA\", \"EASYFLY S.A\", \"ADA\", \"AEROREPUBLICA\", \"ANDES LINEAS AEREAS S.A.\", \"ALIANSA\", \"TAC\", \"SEARCA S.A.\", \"LATAM\", \"AVIANCA\", \"ADA\", \"AEROREPUBLICA\", \"HELICOL\", \"SATENA\", \"VIVA AIR\", \"EASYFLY S.A\", \"SARPA S.A.S\", \"HELICOL\", \"ADA\", \"AEROREPUBLICA\", \"SATENA\", \"EASYFLY S.A\", \"VIVA AIR\", \"LATAM\", \"AVIANCA\", \"SEARCA S.A.\", \"SARPA S.A.S\", \"LATAM\", \"HELICOL\", \"SEARCA S.A.\", \"AEROREPUBLICA\", \"REGIONAL EXPRESS AMERICAS\", \"SATENA\", \"EASYFLY S.A\", \"VIVA AIR\", \"AVIANCA\", \"AVIANCA\", \"LATAM\", \"SATENA\", \"VIVA AIR\", \"EASYFLY S.A\", \"REGIONAL EXPRESS AMERICAS\", \"SEARCA S.A.\", \"HELICOL\", \"GCA AIRLINES\", \"AEROREPUBLICA\", \"AVIANCA\", \"SARPA S.A.S\", \"AEROREPUBLICA\", \"SATENA\", \"SEARCA S.A.\", \"GCA AIRLINES\", \"EASYFLY S.A\", \"VIVA AIR\", \"LATAM\", \"HELICOL\", \"AVIANCA\", \"VIVA AIR\", \"EASYFLY S.A\", \"ULTRA AIR S.A.S.\", \"SATENA\", \"AEROREPUBLICA\", \"SEARCA S.A.\", \"HELICOL\", \"SARPA S.A.S\", \"LATAM\"]}, {\"name\": \"total_pasajeros\", \"type\": \"measure\", \"values\": [281649.0, 1189859.0, 1019539.0, 557442.0, 247727.0, 2584630.0, 106557.0, 91845.0, 36564.0, 245274.0, 2510643.0, 106413.0, 124761.0, 196187.0, 231298.0, 103768.0, 342778.0, 942934.0, 960658.0, 1340969.0, 184990.0, 94073.0, 114942.0, 391935.0, 505870.0, 766831.0, 830161.0, 93986.0, 1489618.0, 3039382.0, 1096570.0, 1543795.0, 109339.0, 117225.0, 246847.0, 3104505.0, 513222.0, 523463.0, 898617.0, 282771.0, 3124019.0, 1783031.0, 119084.0, 214478.0, 236094.0, 244958.0, 500966.0, 548570.0, 917615.0, 1019773.0, 1721058.0, 922609.0, 553367.0, 309122.0, 209467.0, 158735.0, 130126.0, 2859206.0, 489894.0, 1067425.0, 446812.0, 173080.0, 101750.0, 517937.0, 365704.0, 112528.0, 2746597.0, 1081306.0, 1769203.0, 874723.0, 53932.0, 973453.0, 763180.0, 504833.0, 352970.0, 339529.0, 163446.0, 89956.0, 2716037.0, 1893950.0, 2399120.0, 2147384.0, 1071977.0, 532882.0, 473495.0, 431107.0, 275532.0, 82549.0, 72445.0, 54561.0, 41420.0, 318732.0, 82897.0, 77030.0, 2128197.0, 2063974.0, 766289.0, 515118.0, 491044.0, 1144961.0, 339710.0, 172654.0, 548668.0, 740577.0, 1355567.0, 2533882.0, 75377.0, 46981.0, 486694.0, 1555111.0, 561100.0, 40686.0, 67632.0, 285556.0, 307161.0, 550113.0, 652334.0, 800407.0, 1583226.0, 2708883.0, 62000.0, 2823002.0, 2039904.0, 556252.0, 96997.0, 640198.0, 823463.0, 55344.0, 682998.0, 17104.0, 19862.0, 3323832.0, 1957754.0, 851117.0, 712648.0, 636330.0, 176391.0, 145083.0, 101403.0, 15925.0, 3536402.0, 1124550.0, 2079751.0, 633517.0, 184687.0, 13750.0, 21803.0, 26156.0, 92699.0, 873626.0, 1859967.0, 1609722.0, 1018142.0, 695811.0, 189941.0, 120144.0, 17277.0, 11727.0, 11664.0, 3568882.0, 1812034.0, 1594265.0, 999824.0, 832653.0, 171283.0, 3667045.0, 154138.0, 26456.0, 31390.0, 159130.0, 11201.0, 17789.0, 149099.0, 169484.0, 279001.0, 1547828.0, 1820425.0, 1975001.0, 951732.0, 3670996.0, 39224.0, 174687.0, 205833.0, 15993.0, 919281.0, 1566386.0, 2019984.0, 2815373.0, 366855.0, 5710291.0, 23578.0, 26909.0, 210008.0, 37520.0, 534738.0, 1635006.0, 2843988.0, 8098564.0, 243124.0, 827381.0, 9714148.0, 3193908.0, 1346329.0, 751437.0, 632534.0, 558120.0, 260713.0, 215099.0, 36500.0, 53214.0, 3597499.0, 1837135.0, 1135150.0, 790352.0, 742974.0, 274250.0, 179708.0, 67914.0, 58755.0, 10864469.0, 12036707.0, 3696875.0, 2220823.0, 900578.0, 797462.0, 290029.0, 198970.0, 99887.0, 47400.0, 497940.0, 56579.0, 76966.0, 95051.0, 315646.0, 341410.0, 935875.0, 1004541.0, 2670393.0, 4059152.0, 13379823.0, 0.0, 3128588.0, 4266909.0, 13681761.0, 985585.0, 965337.0, 298094.0, 210550.0, 769.0, 19395.0, 43132.0, 117197.0, 4495873.0, 12643114.0, 228555.0, 348688.0, 68010.0, 1039512.0, 3166107.0, 989176.0, 106644.0, 115495.0, 339067.0, 697691.0, 1863716.0, 1979783.0, 5275081.0, 8071003.0, 21938740.0, 130263.0, 49338.0, 5042153.0, 59065.0, 129552.0, 364961.0, 460977.0, 1039739.0, 1790897.0, 3779806.0, 11798224.0, 10068286.0, 5657568.0, 1148877.0, 4819742.0, 2006639.0, 193343.0, 104603.0, 62694.0, 59752.0, 548218.0, 11591137.0, 52709.0, 1196252.0, 1353200.0, 129490.0, 281225.0, 2027622.0, 7128697.0, 8311060.0, 51386.0, 11980650.0, 6629304.0, 1917401.0, 1431408.0, 1040604.0, 881517.0, 124424.0, 50328.0, 42354.0, 8431078.0]}]}} }, undefined);"
     },
     "metadata": {},
     "output_type": "display_data"
    },
    {
     "data": {
      "application/javascript": "window.ipyvizzu.animate(element, 'e3a40af', 'a3eb704', 'begin', false, lib => { return {\"data\": {\"filter\": record => { return (record['año'] == 1992) }}, \"config\": {\"channels\": {\"x\": {\"set\": [\"total_pasajeros\"]}, \"y\": {\"set\": [\"Nombre_Empresa_clean\"]}, \"color\": {\"set\": [\"Nombre_Empresa_clean\"]}, \"label\": {\"set\": [\"total_pasajeros\"]}}, \"sort\": \"byValue\", \"legend\": null, \"title\": \"N\\u00famero de pasajeros por aerol\\u00ednea en 1992\"}, \"style\": {\"plot\": {\"marker\": {\"colorPalette\": \"#008080 #b5e48cff #99D986 #76c893ff #52b69aff #34a0a4ff #168aadff #1a759fff #1e6091ff #184e77ff\", \"label\": {\"maxFractionDigits\": \"0\"}}, \"paddingLeft\": \"18em\", \"xAxis\": {\"title\": {\"color\": \"#00000000\"}}}}} }, {\"duration\": 0.9, \"x\": {\"easing\": \"linear\", \"delay\": 0}, \"y\": {\"delay\": 0}, \"show\": {\"delay\": 0}, \"hide\": {\"delay\": 0}, \"title\": {\"duration\": 0, \"delay\": 0}});"
     },
     "metadata": {},
     "output_type": "display_data"
    },
    {
     "data": {
      "application/javascript": "window.ipyvizzu.animate(element, 'e3a40af', '9b5d8aa', 'begin', false, lib => { return {\"data\": {\"filter\": record => { return (record['año'] == 1993) }}, \"config\": {\"channels\": {\"x\": {\"set\": [\"total_pasajeros\"]}, \"y\": {\"set\": [\"Nombre_Empresa_clean\"]}, \"color\": {\"set\": [\"Nombre_Empresa_clean\"]}, \"label\": {\"set\": [\"total_pasajeros\"]}}, \"sort\": \"byValue\", \"legend\": null, \"title\": \"N\\u00famero de pasajeros por aerol\\u00ednea en 1993\"}, \"style\": {\"plot\": {\"marker\": {\"colorPalette\": \"#008080 #b5e48cff #99D986 #76c893ff #52b69aff #34a0a4ff #168aadff #1a759fff #1e6091ff #184e77ff\", \"label\": {\"maxFractionDigits\": \"0\"}}, \"paddingLeft\": \"18em\", \"xAxis\": {\"title\": {\"color\": \"#00000000\"}}}}} }, {\"duration\": 0.9, \"x\": {\"easing\": \"linear\", \"delay\": 0}, \"y\": {\"delay\": 0}, \"show\": {\"delay\": 0}, \"hide\": {\"delay\": 0}, \"title\": {\"duration\": 0, \"delay\": 0}});"
     },
     "metadata": {},
     "output_type": "display_data"
    },
    {
     "data": {
      "application/javascript": "window.ipyvizzu.animate(element, 'e3a40af', '6f05d96', 'begin', false, lib => { return {\"data\": {\"filter\": record => { return (record['año'] == 1994) }}, \"config\": {\"channels\": {\"x\": {\"set\": [\"total_pasajeros\"]}, \"y\": {\"set\": [\"Nombre_Empresa_clean\"]}, \"color\": {\"set\": [\"Nombre_Empresa_clean\"]}, \"label\": {\"set\": [\"total_pasajeros\"]}}, \"sort\": \"byValue\", \"legend\": null, \"title\": \"N\\u00famero de pasajeros por aerol\\u00ednea en 1994\"}, \"style\": {\"plot\": {\"marker\": {\"colorPalette\": \"#008080 #b5e48cff #99D986 #76c893ff #52b69aff #34a0a4ff #168aadff #1a759fff #1e6091ff #184e77ff\", \"label\": {\"maxFractionDigits\": \"0\"}}, \"paddingLeft\": \"18em\", \"xAxis\": {\"title\": {\"color\": \"#00000000\"}}}}} }, {\"duration\": 0.9, \"x\": {\"easing\": \"linear\", \"delay\": 0}, \"y\": {\"delay\": 0}, \"show\": {\"delay\": 0}, \"hide\": {\"delay\": 0}, \"title\": {\"duration\": 0, \"delay\": 0}});"
     },
     "metadata": {},
     "output_type": "display_data"
    },
    {
     "data": {
      "application/javascript": "window.ipyvizzu.animate(element, 'e3a40af', 'baeb3e6', 'begin', false, lib => { return {\"data\": {\"filter\": record => { return (record['año'] == 1995) }}, \"config\": {\"channels\": {\"x\": {\"set\": [\"total_pasajeros\"]}, \"y\": {\"set\": [\"Nombre_Empresa_clean\"]}, \"color\": {\"set\": [\"Nombre_Empresa_clean\"]}, \"label\": {\"set\": [\"total_pasajeros\"]}}, \"sort\": \"byValue\", \"legend\": null, \"title\": \"N\\u00famero de pasajeros por aerol\\u00ednea en 1995\"}, \"style\": {\"plot\": {\"marker\": {\"colorPalette\": \"#008080 #b5e48cff #99D986 #76c893ff #52b69aff #34a0a4ff #168aadff #1a759fff #1e6091ff #184e77ff\", \"label\": {\"maxFractionDigits\": \"0\"}}, \"paddingLeft\": \"18em\", \"xAxis\": {\"title\": {\"color\": \"#00000000\"}}}}} }, {\"duration\": 0.9, \"x\": {\"easing\": \"linear\", \"delay\": 0}, \"y\": {\"delay\": 0}, \"show\": {\"delay\": 0}, \"hide\": {\"delay\": 0}, \"title\": {\"duration\": 0, \"delay\": 0}});"
     },
     "metadata": {},
     "output_type": "display_data"
    },
    {
     "data": {
      "application/javascript": "window.ipyvizzu.animate(element, 'e3a40af', 'bcd5a2d', 'begin', false, lib => { return {\"data\": {\"filter\": record => { return (record['año'] == 1996) }}, \"config\": {\"channels\": {\"x\": {\"set\": [\"total_pasajeros\"]}, \"y\": {\"set\": [\"Nombre_Empresa_clean\"]}, \"color\": {\"set\": [\"Nombre_Empresa_clean\"]}, \"label\": {\"set\": [\"total_pasajeros\"]}}, \"sort\": \"byValue\", \"legend\": null, \"title\": \"N\\u00famero de pasajeros por aerol\\u00ednea en 1996\"}, \"style\": {\"plot\": {\"marker\": {\"colorPalette\": \"#008080 #b5e48cff #99D986 #76c893ff #52b69aff #34a0a4ff #168aadff #1a759fff #1e6091ff #184e77ff\", \"label\": {\"maxFractionDigits\": \"0\"}}, \"paddingLeft\": \"18em\", \"xAxis\": {\"title\": {\"color\": \"#00000000\"}}}}} }, {\"duration\": 0.9, \"x\": {\"easing\": \"linear\", \"delay\": 0}, \"y\": {\"delay\": 0}, \"show\": {\"delay\": 0}, \"hide\": {\"delay\": 0}, \"title\": {\"duration\": 0, \"delay\": 0}});"
     },
     "metadata": {},
     "output_type": "display_data"
    },
    {
     "data": {
      "application/javascript": "window.ipyvizzu.animate(element, 'e3a40af', 'ab9468d', 'begin', false, lib => { return {\"data\": {\"filter\": record => { return (record['año'] == 1997) }}, \"config\": {\"channels\": {\"x\": {\"set\": [\"total_pasajeros\"]}, \"y\": {\"set\": [\"Nombre_Empresa_clean\"]}, \"color\": {\"set\": [\"Nombre_Empresa_clean\"]}, \"label\": {\"set\": [\"total_pasajeros\"]}}, \"sort\": \"byValue\", \"legend\": null, \"title\": \"N\\u00famero de pasajeros por aerol\\u00ednea en 1997\"}, \"style\": {\"plot\": {\"marker\": {\"colorPalette\": \"#008080 #b5e48cff #99D986 #76c893ff #52b69aff #34a0a4ff #168aadff #1a759fff #1e6091ff #184e77ff\", \"label\": {\"maxFractionDigits\": \"0\"}}, \"paddingLeft\": \"18em\", \"xAxis\": {\"title\": {\"color\": \"#00000000\"}}}}} }, {\"duration\": 0.9, \"x\": {\"easing\": \"linear\", \"delay\": 0}, \"y\": {\"delay\": 0}, \"show\": {\"delay\": 0}, \"hide\": {\"delay\": 0}, \"title\": {\"duration\": 0, \"delay\": 0}});"
     },
     "metadata": {},
     "output_type": "display_data"
    },
    {
     "data": {
      "application/javascript": "window.ipyvizzu.animate(element, 'e3a40af', '5ebda8a', 'begin', false, lib => { return {\"data\": {\"filter\": record => { return (record['año'] == 1998) }}, \"config\": {\"channels\": {\"x\": {\"set\": [\"total_pasajeros\"]}, \"y\": {\"set\": [\"Nombre_Empresa_clean\"]}, \"color\": {\"set\": [\"Nombre_Empresa_clean\"]}, \"label\": {\"set\": [\"total_pasajeros\"]}}, \"sort\": \"byValue\", \"legend\": null, \"title\": \"N\\u00famero de pasajeros por aerol\\u00ednea en 1998\"}, \"style\": {\"plot\": {\"marker\": {\"colorPalette\": \"#008080 #b5e48cff #99D986 #76c893ff #52b69aff #34a0a4ff #168aadff #1a759fff #1e6091ff #184e77ff\", \"label\": {\"maxFractionDigits\": \"0\"}}, \"paddingLeft\": \"18em\", \"xAxis\": {\"title\": {\"color\": \"#00000000\"}}}}} }, {\"duration\": 0.9, \"x\": {\"easing\": \"linear\", \"delay\": 0}, \"y\": {\"delay\": 0}, \"show\": {\"delay\": 0}, \"hide\": {\"delay\": 0}, \"title\": {\"duration\": 0, \"delay\": 0}});"
     },
     "metadata": {},
     "output_type": "display_data"
    },
    {
     "data": {
      "application/javascript": "window.ipyvizzu.animate(element, 'e3a40af', '67d9343', 'begin', false, lib => { return {\"data\": {\"filter\": record => { return (record['año'] == 1999) }}, \"config\": {\"channels\": {\"x\": {\"set\": [\"total_pasajeros\"]}, \"y\": {\"set\": [\"Nombre_Empresa_clean\"]}, \"color\": {\"set\": [\"Nombre_Empresa_clean\"]}, \"label\": {\"set\": [\"total_pasajeros\"]}}, \"sort\": \"byValue\", \"legend\": null, \"title\": \"N\\u00famero de pasajeros por aerol\\u00ednea en 1999\"}, \"style\": {\"plot\": {\"marker\": {\"colorPalette\": \"#008080 #b5e48cff #99D986 #76c893ff #52b69aff #34a0a4ff #168aadff #1a759fff #1e6091ff #184e77ff\", \"label\": {\"maxFractionDigits\": \"0\"}}, \"paddingLeft\": \"18em\", \"xAxis\": {\"title\": {\"color\": \"#00000000\"}}}}} }, {\"duration\": 0.9, \"x\": {\"easing\": \"linear\", \"delay\": 0}, \"y\": {\"delay\": 0}, \"show\": {\"delay\": 0}, \"hide\": {\"delay\": 0}, \"title\": {\"duration\": 0, \"delay\": 0}});"
     },
     "metadata": {},
     "output_type": "display_data"
    },
    {
     "data": {
      "application/javascript": "window.ipyvizzu.animate(element, 'e3a40af', '36166bd', 'begin', false, lib => { return {\"data\": {\"filter\": record => { return (record['año'] == 2000) }}, \"config\": {\"channels\": {\"x\": {\"set\": [\"total_pasajeros\"]}, \"y\": {\"set\": [\"Nombre_Empresa_clean\"]}, \"color\": {\"set\": [\"Nombre_Empresa_clean\"]}, \"label\": {\"set\": [\"total_pasajeros\"]}}, \"sort\": \"byValue\", \"legend\": null, \"title\": \"N\\u00famero de pasajeros por aerol\\u00ednea en 2000\"}, \"style\": {\"plot\": {\"marker\": {\"colorPalette\": \"#008080 #b5e48cff #99D986 #76c893ff #52b69aff #34a0a4ff #168aadff #1a759fff #1e6091ff #184e77ff\", \"label\": {\"maxFractionDigits\": \"0\"}}, \"paddingLeft\": \"18em\", \"xAxis\": {\"title\": {\"color\": \"#00000000\"}}}}} }, {\"duration\": 0.9, \"x\": {\"easing\": \"linear\", \"delay\": 0}, \"y\": {\"delay\": 0}, \"show\": {\"delay\": 0}, \"hide\": {\"delay\": 0}, \"title\": {\"duration\": 0, \"delay\": 0}});"
     },
     "metadata": {},
     "output_type": "display_data"
    },
    {
     "data": {
      "application/javascript": "window.ipyvizzu.animate(element, 'e3a40af', '30ff451', 'begin', false, lib => { return {\"data\": {\"filter\": record => { return (record['año'] == 2001) }}, \"config\": {\"channels\": {\"x\": {\"set\": [\"total_pasajeros\"]}, \"y\": {\"set\": [\"Nombre_Empresa_clean\"]}, \"color\": {\"set\": [\"Nombre_Empresa_clean\"]}, \"label\": {\"set\": [\"total_pasajeros\"]}}, \"sort\": \"byValue\", \"legend\": null, \"title\": \"N\\u00famero de pasajeros por aerol\\u00ednea en 2001\"}, \"style\": {\"plot\": {\"marker\": {\"colorPalette\": \"#008080 #b5e48cff #99D986 #76c893ff #52b69aff #34a0a4ff #168aadff #1a759fff #1e6091ff #184e77ff\", \"label\": {\"maxFractionDigits\": \"0\"}}, \"paddingLeft\": \"18em\", \"xAxis\": {\"title\": {\"color\": \"#00000000\"}}}}} }, {\"duration\": 0.9, \"x\": {\"easing\": \"linear\", \"delay\": 0}, \"y\": {\"delay\": 0}, \"show\": {\"delay\": 0}, \"hide\": {\"delay\": 0}, \"title\": {\"duration\": 0, \"delay\": 0}});"
     },
     "metadata": {},
     "output_type": "display_data"
    },
    {
     "data": {
      "application/javascript": "window.ipyvizzu.animate(element, 'e3a40af', '8f5ebb5', 'begin', false, lib => { return {\"data\": {\"filter\": record => { return (record['año'] == 2002) }}, \"config\": {\"channels\": {\"x\": {\"set\": [\"total_pasajeros\"]}, \"y\": {\"set\": [\"Nombre_Empresa_clean\"]}, \"color\": {\"set\": [\"Nombre_Empresa_clean\"]}, \"label\": {\"set\": [\"total_pasajeros\"]}}, \"sort\": \"byValue\", \"legend\": null, \"title\": \"N\\u00famero de pasajeros por aerol\\u00ednea en 2002\"}, \"style\": {\"plot\": {\"marker\": {\"colorPalette\": \"#008080 #b5e48cff #99D986 #76c893ff #52b69aff #34a0a4ff #168aadff #1a759fff #1e6091ff #184e77ff\", \"label\": {\"maxFractionDigits\": \"0\"}}, \"paddingLeft\": \"18em\", \"xAxis\": {\"title\": {\"color\": \"#00000000\"}}}}} }, {\"duration\": 0.9, \"x\": {\"easing\": \"linear\", \"delay\": 0}, \"y\": {\"delay\": 0}, \"show\": {\"delay\": 0}, \"hide\": {\"delay\": 0}, \"title\": {\"duration\": 0, \"delay\": 0}});"
     },
     "metadata": {},
     "output_type": "display_data"
    },
    {
     "data": {
      "application/javascript": "window.ipyvizzu.animate(element, 'e3a40af', '6f622ef', 'begin', false, lib => { return {\"data\": {\"filter\": record => { return (record['año'] == 2003) }}, \"config\": {\"channels\": {\"x\": {\"set\": [\"total_pasajeros\"]}, \"y\": {\"set\": [\"Nombre_Empresa_clean\"]}, \"color\": {\"set\": [\"Nombre_Empresa_clean\"]}, \"label\": {\"set\": [\"total_pasajeros\"]}}, \"sort\": \"byValue\", \"legend\": null, \"title\": \"N\\u00famero de pasajeros por aerol\\u00ednea en 2003\"}, \"style\": {\"plot\": {\"marker\": {\"colorPalette\": \"#008080 #b5e48cff #99D986 #76c893ff #52b69aff #34a0a4ff #168aadff #1a759fff #1e6091ff #184e77ff\", \"label\": {\"maxFractionDigits\": \"0\"}}, \"paddingLeft\": \"18em\", \"xAxis\": {\"title\": {\"color\": \"#00000000\"}}}}} }, {\"duration\": 0.9, \"x\": {\"easing\": \"linear\", \"delay\": 0}, \"y\": {\"delay\": 0}, \"show\": {\"delay\": 0}, \"hide\": {\"delay\": 0}, \"title\": {\"duration\": 0, \"delay\": 0}});"
     },
     "metadata": {},
     "output_type": "display_data"
    },
    {
     "data": {
      "application/javascript": "window.ipyvizzu.animate(element, 'e3a40af', 'd45d1f3', 'begin', false, lib => { return {\"data\": {\"filter\": record => { return (record['año'] == 2004) }}, \"config\": {\"channels\": {\"x\": {\"set\": [\"total_pasajeros\"]}, \"y\": {\"set\": [\"Nombre_Empresa_clean\"]}, \"color\": {\"set\": [\"Nombre_Empresa_clean\"]}, \"label\": {\"set\": [\"total_pasajeros\"]}}, \"sort\": \"byValue\", \"legend\": null, \"title\": \"N\\u00famero de pasajeros por aerol\\u00ednea en 2004\"}, \"style\": {\"plot\": {\"marker\": {\"colorPalette\": \"#008080 #b5e48cff #99D986 #76c893ff #52b69aff #34a0a4ff #168aadff #1a759fff #1e6091ff #184e77ff\", \"label\": {\"maxFractionDigits\": \"0\"}}, \"paddingLeft\": \"18em\", \"xAxis\": {\"title\": {\"color\": \"#00000000\"}}}}} }, {\"duration\": 0.9, \"x\": {\"easing\": \"linear\", \"delay\": 0}, \"y\": {\"delay\": 0}, \"show\": {\"delay\": 0}, \"hide\": {\"delay\": 0}, \"title\": {\"duration\": 0, \"delay\": 0}});"
     },
     "metadata": {},
     "output_type": "display_data"
    },
    {
     "data": {
      "application/javascript": "window.ipyvizzu.animate(element, 'e3a40af', 'f328aeb', 'begin', false, lib => { return {\"data\": {\"filter\": record => { return (record['año'] == 2005) }}, \"config\": {\"channels\": {\"x\": {\"set\": [\"total_pasajeros\"]}, \"y\": {\"set\": [\"Nombre_Empresa_clean\"]}, \"color\": {\"set\": [\"Nombre_Empresa_clean\"]}, \"label\": {\"set\": [\"total_pasajeros\"]}}, \"sort\": \"byValue\", \"legend\": null, \"title\": \"N\\u00famero de pasajeros por aerol\\u00ednea en 2005\"}, \"style\": {\"plot\": {\"marker\": {\"colorPalette\": \"#008080 #b5e48cff #99D986 #76c893ff #52b69aff #34a0a4ff #168aadff #1a759fff #1e6091ff #184e77ff\", \"label\": {\"maxFractionDigits\": \"0\"}}, \"paddingLeft\": \"18em\", \"xAxis\": {\"title\": {\"color\": \"#00000000\"}}}}} }, {\"duration\": 0.9, \"x\": {\"easing\": \"linear\", \"delay\": 0}, \"y\": {\"delay\": 0}, \"show\": {\"delay\": 0}, \"hide\": {\"delay\": 0}, \"title\": {\"duration\": 0, \"delay\": 0}});"
     },
     "metadata": {},
     "output_type": "display_data"
    },
    {
     "data": {
      "application/javascript": "window.ipyvizzu.animate(element, 'e3a40af', 'd608760', 'begin', false, lib => { return {\"data\": {\"filter\": record => { return (record['año'] == 2006) }}, \"config\": {\"channels\": {\"x\": {\"set\": [\"total_pasajeros\"]}, \"y\": {\"set\": [\"Nombre_Empresa_clean\"]}, \"color\": {\"set\": [\"Nombre_Empresa_clean\"]}, \"label\": {\"set\": [\"total_pasajeros\"]}}, \"sort\": \"byValue\", \"legend\": null, \"title\": \"N\\u00famero de pasajeros por aerol\\u00ednea en 2006\"}, \"style\": {\"plot\": {\"marker\": {\"colorPalette\": \"#008080 #b5e48cff #99D986 #76c893ff #52b69aff #34a0a4ff #168aadff #1a759fff #1e6091ff #184e77ff\", \"label\": {\"maxFractionDigits\": \"0\"}}, \"paddingLeft\": \"18em\", \"xAxis\": {\"title\": {\"color\": \"#00000000\"}}}}} }, {\"duration\": 0.9, \"x\": {\"easing\": \"linear\", \"delay\": 0}, \"y\": {\"delay\": 0}, \"show\": {\"delay\": 0}, \"hide\": {\"delay\": 0}, \"title\": {\"duration\": 0, \"delay\": 0}});"
     },
     "metadata": {},
     "output_type": "display_data"
    },
    {
     "data": {
      "application/javascript": "window.ipyvizzu.animate(element, 'e3a40af', 'e1df960', 'begin', false, lib => { return {\"data\": {\"filter\": record => { return (record['año'] == 2007) }}, \"config\": {\"channels\": {\"x\": {\"set\": [\"total_pasajeros\"]}, \"y\": {\"set\": [\"Nombre_Empresa_clean\"]}, \"color\": {\"set\": [\"Nombre_Empresa_clean\"]}, \"label\": {\"set\": [\"total_pasajeros\"]}}, \"sort\": \"byValue\", \"legend\": null, \"title\": \"N\\u00famero de pasajeros por aerol\\u00ednea en 2007\"}, \"style\": {\"plot\": {\"marker\": {\"colorPalette\": \"#008080 #b5e48cff #99D986 #76c893ff #52b69aff #34a0a4ff #168aadff #1a759fff #1e6091ff #184e77ff\", \"label\": {\"maxFractionDigits\": \"0\"}}, \"paddingLeft\": \"18em\", \"xAxis\": {\"title\": {\"color\": \"#00000000\"}}}}} }, {\"duration\": 0.9, \"x\": {\"easing\": \"linear\", \"delay\": 0}, \"y\": {\"delay\": 0}, \"show\": {\"delay\": 0}, \"hide\": {\"delay\": 0}, \"title\": {\"duration\": 0, \"delay\": 0}});"
     },
     "metadata": {},
     "output_type": "display_data"
    },
    {
     "data": {
      "application/javascript": "window.ipyvizzu.animate(element, 'e3a40af', 'b7f712b', 'begin', false, lib => { return {\"data\": {\"filter\": record => { return (record['año'] == 2008) }}, \"config\": {\"channels\": {\"x\": {\"set\": [\"total_pasajeros\"]}, \"y\": {\"set\": [\"Nombre_Empresa_clean\"]}, \"color\": {\"set\": [\"Nombre_Empresa_clean\"]}, \"label\": {\"set\": [\"total_pasajeros\"]}}, \"sort\": \"byValue\", \"legend\": null, \"title\": \"N\\u00famero de pasajeros por aerol\\u00ednea en 2008\"}, \"style\": {\"plot\": {\"marker\": {\"colorPalette\": \"#008080 #b5e48cff #99D986 #76c893ff #52b69aff #34a0a4ff #168aadff #1a759fff #1e6091ff #184e77ff\", \"label\": {\"maxFractionDigits\": \"0\"}}, \"paddingLeft\": \"18em\", \"xAxis\": {\"title\": {\"color\": \"#00000000\"}}}}} }, {\"duration\": 0.9, \"x\": {\"easing\": \"linear\", \"delay\": 0}, \"y\": {\"delay\": 0}, \"show\": {\"delay\": 0}, \"hide\": {\"delay\": 0}, \"title\": {\"duration\": 0, \"delay\": 0}});"
     },
     "metadata": {},
     "output_type": "display_data"
    },
    {
     "data": {
      "application/javascript": "window.ipyvizzu.animate(element, 'e3a40af', 'a888d1a', 'begin', false, lib => { return {\"data\": {\"filter\": record => { return (record['año'] == 2009) }}, \"config\": {\"channels\": {\"x\": {\"set\": [\"total_pasajeros\"]}, \"y\": {\"set\": [\"Nombre_Empresa_clean\"]}, \"color\": {\"set\": [\"Nombre_Empresa_clean\"]}, \"label\": {\"set\": [\"total_pasajeros\"]}}, \"sort\": \"byValue\", \"legend\": null, \"title\": \"N\\u00famero de pasajeros por aerol\\u00ednea en 2009\"}, \"style\": {\"plot\": {\"marker\": {\"colorPalette\": \"#008080 #b5e48cff #99D986 #76c893ff #52b69aff #34a0a4ff #168aadff #1a759fff #1e6091ff #184e77ff\", \"label\": {\"maxFractionDigits\": \"0\"}}, \"paddingLeft\": \"18em\", \"xAxis\": {\"title\": {\"color\": \"#00000000\"}}}}} }, {\"duration\": 0.9, \"x\": {\"easing\": \"linear\", \"delay\": 0}, \"y\": {\"delay\": 0}, \"show\": {\"delay\": 0}, \"hide\": {\"delay\": 0}, \"title\": {\"duration\": 0, \"delay\": 0}});"
     },
     "metadata": {},
     "output_type": "display_data"
    },
    {
     "data": {
      "application/javascript": "window.ipyvizzu.animate(element, 'e3a40af', '5d3f969', 'begin', false, lib => { return {\"data\": {\"filter\": record => { return (record['año'] == 2010) }}, \"config\": {\"channels\": {\"x\": {\"set\": [\"total_pasajeros\"]}, \"y\": {\"set\": [\"Nombre_Empresa_clean\"]}, \"color\": {\"set\": [\"Nombre_Empresa_clean\"]}, \"label\": {\"set\": [\"total_pasajeros\"]}}, \"sort\": \"byValue\", \"legend\": null, \"title\": \"N\\u00famero de pasajeros por aerol\\u00ednea en 2010\"}, \"style\": {\"plot\": {\"marker\": {\"colorPalette\": \"#008080 #b5e48cff #99D986 #76c893ff #52b69aff #34a0a4ff #168aadff #1a759fff #1e6091ff #184e77ff\", \"label\": {\"maxFractionDigits\": \"0\"}}, \"paddingLeft\": \"18em\", \"xAxis\": {\"title\": {\"color\": \"#00000000\"}}}}} }, {\"duration\": 0.9, \"x\": {\"easing\": \"linear\", \"delay\": 0}, \"y\": {\"delay\": 0}, \"show\": {\"delay\": 0}, \"hide\": {\"delay\": 0}, \"title\": {\"duration\": 0, \"delay\": 0}});"
     },
     "metadata": {},
     "output_type": "display_data"
    },
    {
     "data": {
      "application/javascript": "window.ipyvizzu.animate(element, 'e3a40af', 'b4e339d', 'begin', false, lib => { return {\"data\": {\"filter\": record => { return (record['año'] == 2011) }}, \"config\": {\"channels\": {\"x\": {\"set\": [\"total_pasajeros\"]}, \"y\": {\"set\": [\"Nombre_Empresa_clean\"]}, \"color\": {\"set\": [\"Nombre_Empresa_clean\"]}, \"label\": {\"set\": [\"total_pasajeros\"]}}, \"sort\": \"byValue\", \"legend\": null, \"title\": \"N\\u00famero de pasajeros por aerol\\u00ednea en 2011\"}, \"style\": {\"plot\": {\"marker\": {\"colorPalette\": \"#008080 #b5e48cff #99D986 #76c893ff #52b69aff #34a0a4ff #168aadff #1a759fff #1e6091ff #184e77ff\", \"label\": {\"maxFractionDigits\": \"0\"}}, \"paddingLeft\": \"18em\", \"xAxis\": {\"title\": {\"color\": \"#00000000\"}}}}} }, {\"duration\": 0.9, \"x\": {\"easing\": \"linear\", \"delay\": 0}, \"y\": {\"delay\": 0}, \"show\": {\"delay\": 0}, \"hide\": {\"delay\": 0}, \"title\": {\"duration\": 0, \"delay\": 0}});"
     },
     "metadata": {},
     "output_type": "display_data"
    },
    {
     "data": {
      "application/javascript": "window.ipyvizzu.animate(element, 'e3a40af', 'd05f86d', 'begin', false, lib => { return {\"data\": {\"filter\": record => { return (record['año'] == 2012) }}, \"config\": {\"channels\": {\"x\": {\"set\": [\"total_pasajeros\"]}, \"y\": {\"set\": [\"Nombre_Empresa_clean\"]}, \"color\": {\"set\": [\"Nombre_Empresa_clean\"]}, \"label\": {\"set\": [\"total_pasajeros\"]}}, \"sort\": \"byValue\", \"legend\": null, \"title\": \"N\\u00famero de pasajeros por aerol\\u00ednea en 2012\"}, \"style\": {\"plot\": {\"marker\": {\"colorPalette\": \"#008080 #b5e48cff #99D986 #76c893ff #52b69aff #34a0a4ff #168aadff #1a759fff #1e6091ff #184e77ff\", \"label\": {\"maxFractionDigits\": \"0\"}}, \"paddingLeft\": \"18em\", \"xAxis\": {\"title\": {\"color\": \"#00000000\"}}}}} }, {\"duration\": 0.9, \"x\": {\"easing\": \"linear\", \"delay\": 0}, \"y\": {\"delay\": 0}, \"show\": {\"delay\": 0}, \"hide\": {\"delay\": 0}, \"title\": {\"duration\": 0, \"delay\": 0}});"
     },
     "metadata": {},
     "output_type": "display_data"
    },
    {
     "data": {
      "application/javascript": "window.ipyvizzu.animate(element, 'e3a40af', 'ccda560', 'begin', false, lib => { return {\"data\": {\"filter\": record => { return (record['año'] == 2013) }}, \"config\": {\"channels\": {\"x\": {\"set\": [\"total_pasajeros\"]}, \"y\": {\"set\": [\"Nombre_Empresa_clean\"]}, \"color\": {\"set\": [\"Nombre_Empresa_clean\"]}, \"label\": {\"set\": [\"total_pasajeros\"]}}, \"sort\": \"byValue\", \"legend\": null, \"title\": \"N\\u00famero de pasajeros por aerol\\u00ednea en 2013\"}, \"style\": {\"plot\": {\"marker\": {\"colorPalette\": \"#008080 #b5e48cff #99D986 #76c893ff #52b69aff #34a0a4ff #168aadff #1a759fff #1e6091ff #184e77ff\", \"label\": {\"maxFractionDigits\": \"0\"}}, \"paddingLeft\": \"18em\", \"xAxis\": {\"title\": {\"color\": \"#00000000\"}}}}} }, {\"duration\": 0.9, \"x\": {\"easing\": \"linear\", \"delay\": 0}, \"y\": {\"delay\": 0}, \"show\": {\"delay\": 0}, \"hide\": {\"delay\": 0}, \"title\": {\"duration\": 0, \"delay\": 0}});"
     },
     "metadata": {},
     "output_type": "display_data"
    },
    {
     "data": {
      "application/javascript": "window.ipyvizzu.animate(element, 'e3a40af', 'b0f7af4', 'begin', false, lib => { return {\"data\": {\"filter\": record => { return (record['año'] == 2014) }}, \"config\": {\"channels\": {\"x\": {\"set\": [\"total_pasajeros\"]}, \"y\": {\"set\": [\"Nombre_Empresa_clean\"]}, \"color\": {\"set\": [\"Nombre_Empresa_clean\"]}, \"label\": {\"set\": [\"total_pasajeros\"]}}, \"sort\": \"byValue\", \"legend\": null, \"title\": \"N\\u00famero de pasajeros por aerol\\u00ednea en 2014\"}, \"style\": {\"plot\": {\"marker\": {\"colorPalette\": \"#008080 #b5e48cff #99D986 #76c893ff #52b69aff #34a0a4ff #168aadff #1a759fff #1e6091ff #184e77ff\", \"label\": {\"maxFractionDigits\": \"0\"}}, \"paddingLeft\": \"18em\", \"xAxis\": {\"title\": {\"color\": \"#00000000\"}}}}} }, {\"duration\": 0.9, \"x\": {\"easing\": \"linear\", \"delay\": 0}, \"y\": {\"delay\": 0}, \"show\": {\"delay\": 0}, \"hide\": {\"delay\": 0}, \"title\": {\"duration\": 0, \"delay\": 0}});"
     },
     "metadata": {},
     "output_type": "display_data"
    },
    {
     "data": {
      "application/javascript": "window.ipyvizzu.animate(element, 'e3a40af', '02e1898', 'begin', false, lib => { return {\"data\": {\"filter\": record => { return (record['año'] == 2015) }}, \"config\": {\"channels\": {\"x\": {\"set\": [\"total_pasajeros\"]}, \"y\": {\"set\": [\"Nombre_Empresa_clean\"]}, \"color\": {\"set\": [\"Nombre_Empresa_clean\"]}, \"label\": {\"set\": [\"total_pasajeros\"]}}, \"sort\": \"byValue\", \"legend\": null, \"title\": \"N\\u00famero de pasajeros por aerol\\u00ednea en 2015\"}, \"style\": {\"plot\": {\"marker\": {\"colorPalette\": \"#008080 #b5e48cff #99D986 #76c893ff #52b69aff #34a0a4ff #168aadff #1a759fff #1e6091ff #184e77ff\", \"label\": {\"maxFractionDigits\": \"0\"}}, \"paddingLeft\": \"18em\", \"xAxis\": {\"title\": {\"color\": \"#00000000\"}}}}} }, {\"duration\": 0.9, \"x\": {\"easing\": \"linear\", \"delay\": 0}, \"y\": {\"delay\": 0}, \"show\": {\"delay\": 0}, \"hide\": {\"delay\": 0}, \"title\": {\"duration\": 0, \"delay\": 0}});"
     },
     "metadata": {},
     "output_type": "display_data"
    },
    {
     "data": {
      "application/javascript": "window.ipyvizzu.animate(element, 'e3a40af', '1e34864', 'begin', false, lib => { return {\"data\": {\"filter\": record => { return (record['año'] == 2016) }}, \"config\": {\"channels\": {\"x\": {\"set\": [\"total_pasajeros\"]}, \"y\": {\"set\": [\"Nombre_Empresa_clean\"]}, \"color\": {\"set\": [\"Nombre_Empresa_clean\"]}, \"label\": {\"set\": [\"total_pasajeros\"]}}, \"sort\": \"byValue\", \"legend\": null, \"title\": \"N\\u00famero de pasajeros por aerol\\u00ednea en 2016\"}, \"style\": {\"plot\": {\"marker\": {\"colorPalette\": \"#008080 #b5e48cff #99D986 #76c893ff #52b69aff #34a0a4ff #168aadff #1a759fff #1e6091ff #184e77ff\", \"label\": {\"maxFractionDigits\": \"0\"}}, \"paddingLeft\": \"18em\", \"xAxis\": {\"title\": {\"color\": \"#00000000\"}}}}} }, {\"duration\": 0.9, \"x\": {\"easing\": \"linear\", \"delay\": 0}, \"y\": {\"delay\": 0}, \"show\": {\"delay\": 0}, \"hide\": {\"delay\": 0}, \"title\": {\"duration\": 0, \"delay\": 0}});"
     },
     "metadata": {},
     "output_type": "display_data"
    },
    {
     "data": {
      "application/javascript": "window.ipyvizzu.animate(element, 'e3a40af', 'f487fcf', 'begin', false, lib => { return {\"data\": {\"filter\": record => { return (record['año'] == 2017) }}, \"config\": {\"channels\": {\"x\": {\"set\": [\"total_pasajeros\"]}, \"y\": {\"set\": [\"Nombre_Empresa_clean\"]}, \"color\": {\"set\": [\"Nombre_Empresa_clean\"]}, \"label\": {\"set\": [\"total_pasajeros\"]}}, \"sort\": \"byValue\", \"legend\": null, \"title\": \"N\\u00famero de pasajeros por aerol\\u00ednea en 2017\"}, \"style\": {\"plot\": {\"marker\": {\"colorPalette\": \"#008080 #b5e48cff #99D986 #76c893ff #52b69aff #34a0a4ff #168aadff #1a759fff #1e6091ff #184e77ff\", \"label\": {\"maxFractionDigits\": \"0\"}}, \"paddingLeft\": \"18em\", \"xAxis\": {\"title\": {\"color\": \"#00000000\"}}}}} }, {\"duration\": 0.9, \"x\": {\"easing\": \"linear\", \"delay\": 0}, \"y\": {\"delay\": 0}, \"show\": {\"delay\": 0}, \"hide\": {\"delay\": 0}, \"title\": {\"duration\": 0, \"delay\": 0}});"
     },
     "metadata": {},
     "output_type": "display_data"
    },
    {
     "data": {
      "application/javascript": "window.ipyvizzu.animate(element, 'e3a40af', 'a4eaf9b', 'begin', false, lib => { return {\"data\": {\"filter\": record => { return (record['año'] == 2018) }}, \"config\": {\"channels\": {\"x\": {\"set\": [\"total_pasajeros\"]}, \"y\": {\"set\": [\"Nombre_Empresa_clean\"]}, \"color\": {\"set\": [\"Nombre_Empresa_clean\"]}, \"label\": {\"set\": [\"total_pasajeros\"]}}, \"sort\": \"byValue\", \"legend\": null, \"title\": \"N\\u00famero de pasajeros por aerol\\u00ednea en 2018\"}, \"style\": {\"plot\": {\"marker\": {\"colorPalette\": \"#008080 #b5e48cff #99D986 #76c893ff #52b69aff #34a0a4ff #168aadff #1a759fff #1e6091ff #184e77ff\", \"label\": {\"maxFractionDigits\": \"0\"}}, \"paddingLeft\": \"18em\", \"xAxis\": {\"title\": {\"color\": \"#00000000\"}}}}} }, {\"duration\": 0.9, \"x\": {\"easing\": \"linear\", \"delay\": 0}, \"y\": {\"delay\": 0}, \"show\": {\"delay\": 0}, \"hide\": {\"delay\": 0}, \"title\": {\"duration\": 0, \"delay\": 0}});"
     },
     "metadata": {},
     "output_type": "display_data"
    },
    {
     "data": {
      "application/javascript": "window.ipyvizzu.animate(element, 'e3a40af', 'b2816ce', 'begin', false, lib => { return {\"data\": {\"filter\": record => { return (record['año'] == 2019) }}, \"config\": {\"channels\": {\"x\": {\"set\": [\"total_pasajeros\"]}, \"y\": {\"set\": [\"Nombre_Empresa_clean\"]}, \"color\": {\"set\": [\"Nombre_Empresa_clean\"]}, \"label\": {\"set\": [\"total_pasajeros\"]}}, \"sort\": \"byValue\", \"legend\": null, \"title\": \"N\\u00famero de pasajeros por aerol\\u00ednea en 2019\"}, \"style\": {\"plot\": {\"marker\": {\"colorPalette\": \"#008080 #b5e48cff #99D986 #76c893ff #52b69aff #34a0a4ff #168aadff #1a759fff #1e6091ff #184e77ff\", \"label\": {\"maxFractionDigits\": \"0\"}}, \"paddingLeft\": \"18em\", \"xAxis\": {\"title\": {\"color\": \"#00000000\"}}}}} }, {\"duration\": 0.9, \"x\": {\"easing\": \"linear\", \"delay\": 0}, \"y\": {\"delay\": 0}, \"show\": {\"delay\": 0}, \"hide\": {\"delay\": 0}, \"title\": {\"duration\": 0, \"delay\": 0}});"
     },
     "metadata": {},
     "output_type": "display_data"
    },
    {
     "data": {
      "application/javascript": "window.ipyvizzu.animate(element, 'e3a40af', '70c620b', 'begin', false, lib => { return {\"data\": {\"filter\": record => { return (record['año'] == 2020) }}, \"config\": {\"channels\": {\"x\": {\"set\": [\"total_pasajeros\"]}, \"y\": {\"set\": [\"Nombre_Empresa_clean\"]}, \"color\": {\"set\": [\"Nombre_Empresa_clean\"]}, \"label\": {\"set\": [\"total_pasajeros\"]}}, \"sort\": \"byValue\", \"legend\": null, \"title\": \"N\\u00famero de pasajeros por aerol\\u00ednea en 2020\"}, \"style\": {\"plot\": {\"marker\": {\"colorPalette\": \"#008080 #b5e48cff #99D986 #76c893ff #52b69aff #34a0a4ff #168aadff #1a759fff #1e6091ff #184e77ff\", \"label\": {\"maxFractionDigits\": \"0\"}}, \"paddingLeft\": \"18em\", \"xAxis\": {\"title\": {\"color\": \"#00000000\"}}}}} }, {\"duration\": 0.9, \"x\": {\"easing\": \"linear\", \"delay\": 0}, \"y\": {\"delay\": 0}, \"show\": {\"delay\": 0}, \"hide\": {\"delay\": 0}, \"title\": {\"duration\": 0, \"delay\": 0}});"
     },
     "metadata": {},
     "output_type": "display_data"
    },
    {
     "data": {
      "application/javascript": "window.ipyvizzu.animate(element, 'e3a40af', '6fe31ce', 'begin', false, lib => { return {\"data\": {\"filter\": record => { return (record['año'] == 2021) }}, \"config\": {\"channels\": {\"x\": {\"set\": [\"total_pasajeros\"]}, \"y\": {\"set\": [\"Nombre_Empresa_clean\"]}, \"color\": {\"set\": [\"Nombre_Empresa_clean\"]}, \"label\": {\"set\": [\"total_pasajeros\"]}}, \"sort\": \"byValue\", \"legend\": null, \"title\": \"N\\u00famero de pasajeros por aerol\\u00ednea en 2021\"}, \"style\": {\"plot\": {\"marker\": {\"colorPalette\": \"#008080 #b5e48cff #99D986 #76c893ff #52b69aff #34a0a4ff #168aadff #1a759fff #1e6091ff #184e77ff\", \"label\": {\"maxFractionDigits\": \"0\"}}, \"paddingLeft\": \"18em\", \"xAxis\": {\"title\": {\"color\": \"#00000000\"}}}}} }, {\"duration\": 0.9, \"x\": {\"easing\": \"linear\", \"delay\": 0}, \"y\": {\"delay\": 0}, \"show\": {\"delay\": 0}, \"hide\": {\"delay\": 0}, \"title\": {\"duration\": 0, \"delay\": 0}});"
     },
     "metadata": {},
     "output_type": "display_data"
    },
    {
     "data": {
      "application/javascript": "window.ipyvizzu.animate(element, 'e3a40af', 'fb86792', 'begin', false, lib => { return {\"data\": {\"filter\": record => { return (record['año'] == 2022) }}, \"config\": {\"channels\": {\"x\": {\"set\": [\"total_pasajeros\"]}, \"y\": {\"set\": [\"Nombre_Empresa_clean\"]}, \"color\": {\"set\": [\"Nombre_Empresa_clean\"]}, \"label\": {\"set\": [\"total_pasajeros\"]}}, \"sort\": \"byValue\", \"legend\": null, \"title\": \"N\\u00famero de pasajeros por aerol\\u00ednea en 2022\"}, \"style\": {\"plot\": {\"marker\": {\"colorPalette\": \"#008080 #b5e48cff #99D986 #76c893ff #52b69aff #34a0a4ff #168aadff #1a759fff #1e6091ff #184e77ff\", \"label\": {\"maxFractionDigits\": \"0\"}}, \"paddingLeft\": \"18em\", \"xAxis\": {\"title\": {\"color\": \"#00000000\"}}}}} }, {\"duration\": 0.9, \"x\": {\"easing\": \"linear\", \"delay\": 0}, \"y\": {\"delay\": 0}, \"show\": {\"delay\": 0}, \"hide\": {\"delay\": 0}, \"title\": {\"duration\": 0, \"delay\": 0}});"
     },
     "metadata": {},
     "output_type": "display_data"
    }
   ],
   "source": [
    " # data processing, CSV file I/O (e.g. pd.read_csv)\n",
    "from ipyvizzu import Chart, Data, Config, Style\n",
    "char_data = Data()\n",
    "char_data.add_data_frame(top_empresas_nacional) #Adds data to chart\n",
    "chart = Chart(display = \"begin\")\n",
    "chart.scroll_into_view = False\n",
    "\n",
    "\n",
    "chart.animate(char_data)\n",
    "config = {\n",
    "    \"channels\": {\n",
    "        \"x\": {\"set\": [\"total_pasajeros\"]},\n",
    "        \"y\": {\"set\": [\"Nombre_Empresa_clean\"]},\n",
    "        \"color\": {\"set\": [\"Nombre_Empresa_clean\"]},\n",
    "        \"label\": { \"set\": [\"total_pasajeros\"] }\n",
    "    },\n",
    "    \"sort\": 'byValue',\n",
    "    \"legend\": None,\n",
    "}\n",
    "\n",
    "style= Style({\"plot\": \n",
    "    {\"marker\": {\"colorPalette\": \"#008080 #b5e48cff #99D986 #76c893ff #52b69aff\"\n",
    "                + \" #34a0a4ff #168aadff #1a759fff #1e6091ff #184e77ff\",\n",
    "                \"label\": {\"maxFractionDigits\": \"0\"}}, #cutting off unnecessary digits when animating the labels\n",
    "      \"paddingLeft\":\"18em\", #add padding on the left side of the plot so that long country names are visible\n",
    "      \"xAxis\": { \"title\": { \"color\" : \"#00000000\" }} #hiding the axis title on the x-axis\n",
    "    }})\n",
    "\n",
    "#Renders the animation for each year\n",
    "for anho in range(1992, 2023):\n",
    "    config[\"title\"] = f\"Número de pasajeros por aerolínea en {anho}\"\n",
    "    chart.animate(\n",
    "        Data.filter(\"record['año'] == {}\".format(anho)), \n",
    "        Config(config),\n",
    "        style,\n",
    "        # Animation options:\n",
    "        duration = .9,        \n",
    "        x = { \"easing\": \"linear\", \"delay\": 0 },\n",
    "        y = { \"delay\": 0 },\n",
    "        show = { \"delay\": 0 },\n",
    "        hide = { \"delay\": 0 },\n",
    "        title = { \"duration\": 0, \"delay\": 0 })\n",
    " \n"
   ]
  },
  {
   "cell_type": "code",
   "execution_count": 27,
   "metadata": {},
   "outputs": [
    {
     "data": {
      "application/javascript": "if (window.IpyVizzu) { window.IpyVizzu.clearInhibitScroll(element); }"
     },
     "metadata": {},
     "output_type": "display_data"
    },
    {
     "data": {
      "application/javascript": "if (!window.IpyVizzu) {\n  class IpyVizzu {\n    constructor() {\n      IpyVizzu.inhibitScroll = false;\n      IpyVizzu.nbconvert = false;\n      document.addEventListener(\n        \"wheel\",\n        (evt) => {\n          IpyVizzu.inhibitScroll = true;\n        },\n        true\n      );\n      document.addEventListener(\n        \"keydown\",\n        (evt) => {\n          IpyVizzu.inhibitScroll = true;\n        },\n        true\n      );\n      document.addEventListener(\n        \"touchstart\",\n        (evt) => {\n          IpyVizzu.inhibitScroll = true;\n        },\n        true\n      );\n\n      this.elements = {};\n      this.charts = {};\n      this.controls = {};\n\n      this.storage = {};\n      this.displays = {};\n\n      this.events = {};\n      this.loaded = {};\n      this.libs = {};\n    }\n\n    static clearInhibitScroll(element) {\n      if (IpyVizzu.nbconvert) IpyVizzu._hide(element);\n      IpyVizzu.inhibitScroll = false;\n    }\n\n    createChart(element, chartId, vizzulib, divWidth, divHeight) {\n      this.elements[chartId] = document.createElement(\"div\");\n      this.elements[\n        chartId\n      ].style.cssText = `width: ${divWidth}; height: ${divHeight};`;\n      this.loaded[chartId] = import(vizzulib);\n      this.charts[chartId] = this.loaded[chartId].then((Vizzu) => {\n        this.libs[chartId] = Vizzu.default;\n        const VizzuConstructor = Vizzu.default;\n        return new VizzuConstructor(this.elements[chartId]).initializing;\n      });\n      this._moveHere(chartId, element);\n    }\n\n    animate(\n      element,\n      chartId,\n      animId,\n      displayTarget,\n      scrollEnabled,\n      getChartTarget,\n      chartAnimOpts\n    ) {\n      if (IpyVizzu.nbconvert) IpyVizzu._hide(element);\n      if (displayTarget === \"end\") this._moveHere(chartId, element);\n      this.controls[chartId] = this.charts[chartId];\n      this.charts[chartId] = this.charts[chartId].then((chart) => {\n        if (displayTarget === \"actual\") this._moveHere(chartId, element);\n        this._scroll(chartId, scrollEnabled);\n        let chartTarget = getChartTarget(this.libs[chartId]);\n        if (typeof chartTarget === \"string\") {\n          chartTarget = this.storage[chartTarget];\n        } else if (Array.isArray(chartTarget)) {\n          for (let i = 0; i < chartTarget.length; i++) {\n            const target = chartTarget[i].target;\n            if (typeof target === \"string\") {\n              chartTarget[i].target = this.storage[target];\n            }\n          }\n        }\n        chart = chart.animate(chartTarget, chartAnimOpts);\n        this.controls[animId] = chart;\n        return chart;\n      });\n    }\n\n    store(element, chartId, id) {\n      if (IpyVizzu.nbconvert) IpyVizzu._hide(element);\n      this.charts[chartId] = this.charts[chartId].then((chart) => {\n        this.storage[id] = chart.store();\n        return chart;\n      });\n    }\n\n    feature(element, chartId, name, enabled) {\n      if (IpyVizzu.nbconvert) IpyVizzu._hide(element);\n      this.charts[chartId] = this.charts[chartId].then((chart) => {\n        chart.feature(name, enabled);\n        return chart;\n      });\n    }\n\n    setEvent(element, chartId, id, event, handler) {\n      if (IpyVizzu.nbconvert) IpyVizzu._hide(element);\n      this.charts[chartId] = this.charts[chartId].then((chart) => {\n        this.events[id] = handler;\n        chart.on(event, this.events[id]);\n        return chart;\n      });\n    }\n\n    clearEvent(element, chartId, id, event) {\n      if (IpyVizzu.nbconvert) IpyVizzu._hide(element);\n      this.charts[chartId] = this.charts[chartId].then((chart) => {\n        chart.off(event, this.events[id]);\n        return chart;\n      });\n    }\n\n    log(element, chartId, chartProperty) {\n      if (IpyVizzu.nbconvert) IpyVizzu._hide(element);\n      this.charts[chartId] = this.charts[chartId].then((chart) => {\n        console.log(chart[chartProperty]);\n        return chart;\n      });\n    }\n\n    control(element, method, prevId, lastId, ...params) {\n      if (IpyVizzu.nbconvert) IpyVizzu._hide(element);\n      this.controls[prevId].then(() => {\n        this.controls[lastId].activated.then((control) => {\n          if (method === \"seek\") {\n            const value = params[0];\n            control[method](value);\n            return;\n          }\n          if (method === \"store\") {\n            const id = params[0];\n            this.storage[id] = control[method]();\n            return;\n          }\n          control[method]();\n        });\n      });\n    }\n\n    _moveHere(chartId, element) {\n      if (IpyVizzu.nbconvert)\n        IpyVizzu._display(this.elements[chartId], element);\n      element.append(this.elements[chartId]);\n    }\n\n    _scroll(chartId, enabled) {\n      if (!IpyVizzu.inhibitScroll && enabled) {\n        this.elements[chartId].scrollIntoView({\n          behavior: \"auto\",\n          block: \"center\",\n        });\n      }\n    }\n\n    static _hide(element) {\n      document.getElementById(\n        element.selector.substring(1)\n      ).parentNode.style.display = \"none\";\n    }\n\n    static _display(prevElement, element) {\n      if (prevElement.parentNode) {\n        prevElement.parentNode.style.display = \"none\";\n      }\n      document.getElementById(\n        element.selector.substring(1)\n      ).parentNode.style.display = \"flex\";\n      document.getElementById(\n        element.selector.substring(1)\n      ).parentNode.style.margin = \"auto\";\n    }\n  }\n\n  window.IpyVizzu = IpyVizzu;\n  window.ipyvizzu = new window.IpyVizzu();\n}\n"
     },
     "metadata": {},
     "output_type": "display_data"
    },
    {
     "data": {
      "application/javascript": "window.ipyvizzu.createChart(element, '229c9b3', 'https://cdn.jsdelivr.net/npm/vizzu@0.7/dist/vizzu.min.js', '800px', '480px');"
     },
     "metadata": {},
     "output_type": "display_data"
    },
    {
     "data": {
      "application/javascript": "window.ipyvizzu.animate(element, '229c9b3', 'a5691da', 'begin', false, lib => { return {\"data\": {\"series\": [{\"name\": \"a\\u00f1o\", \"type\": \"measure\", \"values\": [1992.0, 1992.0, 1992.0, 1992.0, 1992.0, 1992.0, 1992.0, 1992.0, 1992.0, 1992.0, 1993.0, 1993.0, 1993.0, 1993.0, 1993.0, 1993.0, 1993.0, 1993.0, 1993.0, 1993.0, 1994.0, 1994.0, 1994.0, 1994.0, 1994.0, 1994.0, 1994.0, 1994.0, 1994.0, 1994.0, 1995.0, 1995.0, 1995.0, 1995.0, 1995.0, 1995.0, 1995.0, 1995.0, 1995.0, 1995.0, 1996.0, 1996.0, 1996.0, 1996.0, 1996.0, 1996.0, 1996.0, 1996.0, 1996.0, 1996.0, 1997.0, 1997.0, 1997.0, 1997.0, 1997.0, 1997.0, 1997.0, 1997.0, 1997.0, 1997.0, 1998.0, 1998.0, 1998.0, 1998.0, 1998.0, 1998.0, 1998.0, 1998.0, 1998.0, 1998.0, 1999.0, 1999.0, 1999.0, 1999.0, 1999.0, 1999.0, 1999.0, 1999.0, 1999.0, 1999.0, 2000.0, 2000.0, 2000.0, 2000.0, 2000.0, 2000.0, 2000.0, 2000.0, 2000.0, 2000.0, 2001.0, 2001.0, 2001.0, 2001.0, 2001.0, 2001.0, 2001.0, 2001.0, 2001.0, 2001.0, 2002.0, 2002.0, 2002.0, 2002.0, 2002.0, 2002.0, 2002.0, 2002.0, 2002.0, 2002.0, 2003.0, 2003.0, 2003.0, 2003.0, 2003.0, 2003.0, 2003.0, 2003.0, 2003.0, 2003.0, 2004.0, 2004.0, 2004.0, 2004.0, 2004.0, 2004.0, 2004.0, 2004.0, 2004.0, 2004.0, 2005.0, 2005.0, 2005.0, 2005.0, 2005.0, 2005.0, 2005.0, 2005.0, 2005.0, 2005.0, 2006.0, 2006.0, 2006.0, 2006.0, 2006.0, 2006.0, 2006.0, 2006.0, 2006.0, 2006.0, 2007.0, 2007.0, 2007.0, 2007.0, 2007.0, 2007.0, 2007.0, 2007.0, 2007.0, 2007.0, 2008.0, 2008.0, 2008.0, 2008.0, 2008.0, 2008.0, 2008.0, 2008.0, 2008.0, 2008.0, 2009.0, 2009.0, 2009.0, 2009.0, 2009.0, 2009.0, 2009.0, 2009.0, 2009.0, 2009.0, 2010.0, 2010.0, 2010.0, 2010.0, 2010.0, 2010.0, 2010.0, 2010.0, 2010.0, 2010.0, 2011.0, 2011.0, 2011.0, 2011.0, 2011.0, 2011.0, 2011.0, 2011.0, 2011.0, 2011.0, 2012.0, 2012.0, 2012.0, 2012.0, 2012.0, 2012.0, 2012.0, 2012.0, 2012.0, 2012.0, 2013.0, 2013.0, 2013.0, 2013.0, 2013.0, 2013.0, 2013.0, 2013.0, 2013.0, 2013.0, 2014.0, 2014.0, 2014.0, 2014.0, 2014.0, 2014.0, 2014.0, 2014.0, 2014.0, 2014.0, 2015.0, 2015.0, 2015.0, 2015.0, 2015.0, 2015.0, 2015.0, 2015.0, 2015.0, 2015.0, 2016.0, 2016.0, 2016.0, 2016.0, 2016.0, 2016.0, 2016.0, 2016.0, 2016.0, 2016.0, 2017.0, 2017.0, 2017.0, 2017.0, 2017.0, 2017.0, 2017.0, 2017.0, 2017.0, 2017.0, 2018.0, 2018.0, 2018.0, 2018.0, 2018.0, 2018.0, 2018.0, 2018.0, 2018.0, 2018.0, 2019.0, 2019.0, 2019.0, 2019.0, 2019.0, 2019.0, 2019.0, 2019.0, 2019.0, 2019.0, 2020.0, 2020.0, 2020.0, 2020.0, 2020.0, 2020.0, 2020.0, 2020.0, 2020.0, 2020.0, 2021.0, 2021.0, 2021.0, 2021.0, 2021.0, 2021.0, 2021.0, 2021.0, 2021.0, 2021.0, 2022.0, 2022.0, 2022.0, 2022.0, 2022.0, 2022.0, 2022.0, 2022.0, 2022.0, 2022.0]}, {\"name\": \"Nombre_Empresa_clean\", \"type\": \"dimension\", \"values\": [\"LATAM\", \"ACES\", \"SAM\", \"INTER\", \"HELICOL\", \"AVIANCA\", \"AEROTACA\", \"VERTICAL DE AVIACION\", \"APSA\", \"SATENA\", \"AVIANCA\", \"AEROTACA\", \"AEROREPUBLICA\", \"HELICOL\", \"SATENA\", \"VERTICAL DE AVIACION\", \"LATAM\", \"SAM\", \"INTER\", \"ACES\", \"SATENA\", \"HELICOL\", \"AEROTACA\", \"LATAM\", \"AEROREPUBLICA\", \"SAM\", \"INTER\", \"VERTICAL DE AVIACION\", \"ACES\", \"AVIANCA\", \"SAM\", \"ACES\", \"AEROTACA\", \"VERTICAL DE AVIACION\", \"SATENA\", \"AVIANCA\", \"LATAM\", \"INTER\", \"AEROREPUBLICA\", \"HELICOL\", \"AVIANCA\", \"ACES\", \"AEROTACA\", \"VERTICAL DE AVIACION\", \"HELICOL\", \"SATENA\", \"INTER\", \"LATAM\", \"SAM\", \"AEROREPUBLICA\", \"ACES\", \"AEROREPUBLICA\", \"LATAM\", \"SATENA\", \"VERTICAL DE AVIACION\", \"HELICOL\", \"AEROTACA\", \"AVIANCA\", \"INTER\", \"SAM\", \"INTER\", \"VERTICAL DE AVIACION\", \"HELICOL\", \"LATAM\", \"SATENA\", \"AEROTACA\", \"AVIANCA\", \"SAM\", \"ACES\", \"AEROREPUBLICA\", \"AEROTACA\", \"AEROREPUBLICA\", \"SAM\", \"LATAM\", \"INTER\", \"SATENA\", \"VERTICAL DE AVIACION\", \"HELICOL\", \"AVIANCA\", \"ACES\", \"AVIANCA\", \"ACES\", \"AEROREPUBLICA\", \"LATAM\", \"SAM\", \"SATENA\", \"INTER\", \"HELICOL\", \"AEROTACA\", \"SEARCA S.A.\", \"AEROTACA\", \"INTER\", \"WEST CARIBBEAN\", \"HELICOL\", \"ACES\", \"AVIANCA\", \"SAM\", \"LATAM\", \"SATENA\", \"AEROREPUBLICA\", \"INTER\", \"WEST CARIBBEAN\", \"LATAM\", \"SAM\", \"AEROREPUBLICA\", \"AVIANCA\", \"HELICOL\", \"AEROTACA\", \"SATENA\", \"ACES\", \"SATENA\", \"HELICOL\", \"SEARCA S.A.\", \"INTER\", \"WEST CARIBBEAN\", \"LATAM\", \"ACES\", \"SAM\", \"AEROREPUBLICA\", \"AVIANCA\", \"SEARCA S.A.\", \"AVIANCA\", \"AEROREPUBLICA\", \"WEST CARIBBEAN\", \"ADA\", \"LATAM\", \"SAM\", \"INTER\", \"SATENA\", \"REGION AIR\", \"TAC\", \"AVIANCA\", \"AEROREPUBLICA\", \"SAM\", \"SATENA\", \"LATAM\", \"WEST CARIBBEAN\", \"ADA\", \"SEARCA S.A.\", \"SARPA S.A.S\", \"AVIANCA\", \"SAM\", \"AEROREPUBLICA\", \"LATAM\", \"ADA\", \"VIARCO\", \"SARPA S.A.S\", \"TAC\", \"SEARCA S.A.\", \"SATENA\", \"AEROREPUBLICA\", \"SAM\", \"SATENA\", \"LATAM\", \"ADA\", \"SEARCA S.A.\", \"TAC\", \"ALPES S.A.S\", \"AEXPA\", \"AVIANCA\", \"SAM\", \"AEROREPUBLICA\", \"SATENA\", \"LATAM\", \"EASYFLY S.A\", \"AVIANCA\", \"SEARCA S.A.\", \"TAC\", \"SARPA S.A.S\", \"ADA\", \"SADELCA\", \"PETROLEUM\", \"SEARCA S.A.\", \"ADA\", \"EASYFLY S.A\", \"LATAM\", \"AEROREPUBLICA\", \"SAM\", \"SATENA\", \"AVIANCA\", \"TAC\", \"SEARCA S.A.\", \"ADA\", \"PETROLEUM\", \"SATENA\", \"SAM\", \"AEROREPUBLICA\", \"LATAM\", \"EASYFLY S.A\", \"AVIANCA\", \"PETROLEUM\", \"SARPA S.A.S\", \"SEARCA S.A.\", \"TAC\", \"EASYFLY S.A\", \"AEROREPUBLICA\", \"LATAM\", \"AVIANCA\", \"ADA\", \"SATENA\", \"AVIANCA\", \"LATAM\", \"AEROREPUBLICA\", \"SATENA\", \"EASYFLY S.A\", \"VIVA AIR\", \"ADA\", \"SEARCA S.A.\", \"SARPA S.A.S\", \"TAC\", \"LATAM\", \"VIVA AIR\", \"AEROREPUBLICA\", \"SATENA\", \"EASYFLY S.A\", \"ADA\", \"SEARCA S.A.\", \"PETROLEUM\", \"TAC\", \"AVIANCA\", \"AVIANCA\", \"LATAM\", \"VIVA AIR\", \"SATENA\", \"EASYFLY S.A\", \"ADA\", \"SEARCA S.A.\", \"HELICOL\", \"SARPA S.A.S\", \"AEROREPUBLICA\", \"TAC\", \"HELICOL\", \"SEARCA S.A.\", \"AEROREPUBLICA\", \"ADA\", \"EASYFLY S.A\", \"SATENA\", \"VIVA AIR\", \"LATAM\", \"AVIANCA\", \"SELVA\", \"VIVA AIR\", \"LATAM\", \"AVIANCA\", \"SATENA\", \"EASYFLY S.A\", \"ADA\", \"AEROREPUBLICA\", \"ANDES LINEAS AEREAS S.A.\", \"ALIANSA\", \"TAC\", \"SEARCA S.A.\", \"LATAM\", \"AVIANCA\", \"ADA\", \"AEROREPUBLICA\", \"HELICOL\", \"SATENA\", \"VIVA AIR\", \"EASYFLY S.A\", \"SARPA S.A.S\", \"HELICOL\", \"ADA\", \"AEROREPUBLICA\", \"SATENA\", \"EASYFLY S.A\", \"VIVA AIR\", \"LATAM\", \"AVIANCA\", \"SEARCA S.A.\", \"SARPA S.A.S\", \"LATAM\", \"HELICOL\", \"SEARCA S.A.\", \"AEROREPUBLICA\", \"REGIONAL EXPRESS AMERICAS\", \"SATENA\", \"EASYFLY S.A\", \"VIVA AIR\", \"AVIANCA\", \"AVIANCA\", \"LATAM\", \"SATENA\", \"VIVA AIR\", \"EASYFLY S.A\", \"REGIONAL EXPRESS AMERICAS\", \"SEARCA S.A.\", \"HELICOL\", \"GCA AIRLINES\", \"AEROREPUBLICA\", \"AVIANCA\", \"SARPA S.A.S\", \"AEROREPUBLICA\", \"SATENA\", \"SEARCA S.A.\", \"GCA AIRLINES\", \"EASYFLY S.A\", \"VIVA AIR\", \"LATAM\", \"HELICOL\", \"AVIANCA\", \"VIVA AIR\", \"EASYFLY S.A\", \"ULTRA AIR S.A.S.\", \"SATENA\", \"AEROREPUBLICA\", \"SEARCA S.A.\", \"HELICOL\", \"SARPA S.A.S\", \"LATAM\"]}, {\"name\": \"total_pasajeros\", \"type\": \"measure\", \"values\": [281649.0, 1189859.0, 1019539.0, 557442.0, 247727.0, 2584630.0, 106557.0, 91845.0, 36564.0, 245274.0, 2510643.0, 106413.0, 124761.0, 196187.0, 231298.0, 103768.0, 342778.0, 942934.0, 960658.0, 1340969.0, 184990.0, 94073.0, 114942.0, 391935.0, 505870.0, 766831.0, 830161.0, 93986.0, 1489618.0, 3039382.0, 1096570.0, 1543795.0, 109339.0, 117225.0, 246847.0, 3104505.0, 513222.0, 523463.0, 898617.0, 282771.0, 3124019.0, 1783031.0, 119084.0, 214478.0, 236094.0, 244958.0, 500966.0, 548570.0, 917615.0, 1019773.0, 1721058.0, 922609.0, 553367.0, 309122.0, 209467.0, 158735.0, 130126.0, 2859206.0, 489894.0, 1067425.0, 446812.0, 173080.0, 101750.0, 517937.0, 365704.0, 112528.0, 2746597.0, 1081306.0, 1769203.0, 874723.0, 53932.0, 973453.0, 763180.0, 504833.0, 352970.0, 339529.0, 163446.0, 89956.0, 2716037.0, 1893950.0, 2399120.0, 2147384.0, 1071977.0, 532882.0, 473495.0, 431107.0, 275532.0, 82549.0, 72445.0, 54561.0, 41420.0, 318732.0, 82897.0, 77030.0, 2128197.0, 2063974.0, 766289.0, 515118.0, 491044.0, 1144961.0, 339710.0, 172654.0, 548668.0, 740577.0, 1355567.0, 2533882.0, 75377.0, 46981.0, 486694.0, 1555111.0, 561100.0, 40686.0, 67632.0, 285556.0, 307161.0, 550113.0, 652334.0, 800407.0, 1583226.0, 2708883.0, 62000.0, 2823002.0, 2039904.0, 556252.0, 96997.0, 640198.0, 823463.0, 55344.0, 682998.0, 17104.0, 19862.0, 3323832.0, 1957754.0, 851117.0, 712648.0, 636330.0, 176391.0, 145083.0, 101403.0, 15925.0, 3536402.0, 1124550.0, 2079751.0, 633517.0, 184687.0, 13750.0, 21803.0, 26156.0, 92699.0, 873626.0, 1859967.0, 1609722.0, 1018142.0, 695811.0, 189941.0, 120144.0, 17277.0, 11727.0, 11664.0, 3568882.0, 1812034.0, 1594265.0, 999824.0, 832653.0, 171283.0, 3667045.0, 154138.0, 26456.0, 31390.0, 159130.0, 11201.0, 17789.0, 149099.0, 169484.0, 279001.0, 1547828.0, 1820425.0, 1975001.0, 951732.0, 3670996.0, 39224.0, 174687.0, 205833.0, 15993.0, 919281.0, 1566386.0, 2019984.0, 2815373.0, 366855.0, 5710291.0, 23578.0, 26909.0, 210008.0, 37520.0, 534738.0, 1635006.0, 2843988.0, 8098564.0, 243124.0, 827381.0, 9714148.0, 3193908.0, 1346329.0, 751437.0, 632534.0, 558120.0, 260713.0, 215099.0, 36500.0, 53214.0, 3597499.0, 1837135.0, 1135150.0, 790352.0, 742974.0, 274250.0, 179708.0, 67914.0, 58755.0, 10864469.0, 12036707.0, 3696875.0, 2220823.0, 900578.0, 797462.0, 290029.0, 198970.0, 99887.0, 47400.0, 497940.0, 56579.0, 76966.0, 95051.0, 315646.0, 341410.0, 935875.0, 1004541.0, 2670393.0, 4059152.0, 13379823.0, 0.0, 3128588.0, 4266909.0, 13681761.0, 985585.0, 965337.0, 298094.0, 210550.0, 769.0, 19395.0, 43132.0, 117197.0, 4495873.0, 12643114.0, 228555.0, 348688.0, 68010.0, 1039512.0, 3166107.0, 989176.0, 106644.0, 115495.0, 339067.0, 697691.0, 1863716.0, 1979783.0, 5275081.0, 8071003.0, 21938740.0, 130263.0, 49338.0, 5042153.0, 59065.0, 129552.0, 364961.0, 460977.0, 1039739.0, 1790897.0, 3779806.0, 11798224.0, 10068286.0, 5657568.0, 1148877.0, 4819742.0, 2006639.0, 193343.0, 104603.0, 62694.0, 59752.0, 548218.0, 11591137.0, 52709.0, 1196252.0, 1353200.0, 129490.0, 281225.0, 2027622.0, 7128697.0, 8311060.0, 51386.0, 11980650.0, 6629304.0, 1917401.0, 1431408.0, 1040604.0, 881517.0, 124424.0, 50328.0, 42354.0, 8431078.0]}]}} }, undefined);"
     },
     "metadata": {},
     "output_type": "display_data"
    },
    {
     "data": {
      "application/javascript": "window.ipyvizzu.animate(element, '229c9b3', 'e81e444', 'begin', false, lib => { return {\"data\": {\"filter\": record => { return (record['año'] == 1992) }}, \"config\": {\"channels\": {\"x\": {\"set\": [\"total_pasajeros\"]}, \"y\": {\"set\": [\"Nombre_Empresa_clean\"]}, \"color\": {\"set\": [\"Nombre_Empresa_clean\"]}, \"label\": {\"set\": [\"total_pasajeros\"]}}, \"sort\": \"byValue\", \"legend\": null, \"title\": \"N\\u00famero de pasajeros por aerol\\u00ednea en 1992\"}, \"style\": {\"plot\": {\"marker\": {\"colorPalette\": \"#d9ed92ff #b5e48cff #99D986 #76c893ff #52b69aff #34a0a4ff #168aadff #1a759fff #1e6091ff #184e77ff\", \"label\": {\"maxFractionDigits\": \"0\"}}, \"paddingLeft\": \"19em\", \"xAxis\": {\"title\": {\"color\": \"#00000000\"}}}}} }, {\"duration\": 0.8, \"x\": {\"easing\": \"linear\", \"delay\": 0}, \"y\": {\"delay\": 0}, \"show\": {\"delay\": 0}, \"hide\": {\"delay\": 0}, \"title\": {\"duration\": 0, \"delay\": 0}});"
     },
     "metadata": {},
     "output_type": "display_data"
    },
    {
     "data": {
      "application/javascript": "window.ipyvizzu.animate(element, '229c9b3', '2554e75', 'begin', false, lib => { return {\"data\": {\"filter\": record => { return (record['año'] == 1993) }}, \"config\": {\"channels\": {\"x\": {\"set\": [\"total_pasajeros\"]}, \"y\": {\"set\": [\"Nombre_Empresa_clean\"]}, \"color\": {\"set\": [\"Nombre_Empresa_clean\"]}, \"label\": {\"set\": [\"total_pasajeros\"]}}, \"sort\": \"byValue\", \"legend\": null, \"title\": \"N\\u00famero de pasajeros por aerol\\u00ednea en 1993\"}, \"style\": {\"plot\": {\"marker\": {\"colorPalette\": \"#d9ed92ff #b5e48cff #99D986 #76c893ff #52b69aff #34a0a4ff #168aadff #1a759fff #1e6091ff #184e77ff\", \"label\": {\"maxFractionDigits\": \"0\"}}, \"paddingLeft\": \"19em\", \"xAxis\": {\"title\": {\"color\": \"#00000000\"}}}}} }, {\"duration\": 0.8, \"x\": {\"easing\": \"linear\", \"delay\": 0}, \"y\": {\"delay\": 0}, \"show\": {\"delay\": 0}, \"hide\": {\"delay\": 0}, \"title\": {\"duration\": 0, \"delay\": 0}});"
     },
     "metadata": {},
     "output_type": "display_data"
    },
    {
     "data": {
      "application/javascript": "window.ipyvizzu.animate(element, '229c9b3', 'a2c2117', 'begin', false, lib => { return {\"data\": {\"filter\": record => { return (record['año'] == 1994) }}, \"config\": {\"channels\": {\"x\": {\"set\": [\"total_pasajeros\"]}, \"y\": {\"set\": [\"Nombre_Empresa_clean\"]}, \"color\": {\"set\": [\"Nombre_Empresa_clean\"]}, \"label\": {\"set\": [\"total_pasajeros\"]}}, \"sort\": \"byValue\", \"legend\": null, \"title\": \"N\\u00famero de pasajeros por aerol\\u00ednea en 1994\"}, \"style\": {\"plot\": {\"marker\": {\"colorPalette\": \"#d9ed92ff #b5e48cff #99D986 #76c893ff #52b69aff #34a0a4ff #168aadff #1a759fff #1e6091ff #184e77ff\", \"label\": {\"maxFractionDigits\": \"0\"}}, \"paddingLeft\": \"19em\", \"xAxis\": {\"title\": {\"color\": \"#00000000\"}}}}} }, {\"duration\": 0.8, \"x\": {\"easing\": \"linear\", \"delay\": 0}, \"y\": {\"delay\": 0}, \"show\": {\"delay\": 0}, \"hide\": {\"delay\": 0}, \"title\": {\"duration\": 0, \"delay\": 0}});"
     },
     "metadata": {},
     "output_type": "display_data"
    },
    {
     "data": {
      "application/javascript": "window.ipyvizzu.animate(element, '229c9b3', 'b29f6bc', 'begin', false, lib => { return {\"data\": {\"filter\": record => { return (record['año'] == 1995) }}, \"config\": {\"channels\": {\"x\": {\"set\": [\"total_pasajeros\"]}, \"y\": {\"set\": [\"Nombre_Empresa_clean\"]}, \"color\": {\"set\": [\"Nombre_Empresa_clean\"]}, \"label\": {\"set\": [\"total_pasajeros\"]}}, \"sort\": \"byValue\", \"legend\": null, \"title\": \"N\\u00famero de pasajeros por aerol\\u00ednea en 1995\"}, \"style\": {\"plot\": {\"marker\": {\"colorPalette\": \"#d9ed92ff #b5e48cff #99D986 #76c893ff #52b69aff #34a0a4ff #168aadff #1a759fff #1e6091ff #184e77ff\", \"label\": {\"maxFractionDigits\": \"0\"}}, \"paddingLeft\": \"19em\", \"xAxis\": {\"title\": {\"color\": \"#00000000\"}}}}} }, {\"duration\": 0.8, \"x\": {\"easing\": \"linear\", \"delay\": 0}, \"y\": {\"delay\": 0}, \"show\": {\"delay\": 0}, \"hide\": {\"delay\": 0}, \"title\": {\"duration\": 0, \"delay\": 0}});"
     },
     "metadata": {},
     "output_type": "display_data"
    },
    {
     "data": {
      "application/javascript": "window.ipyvizzu.animate(element, '229c9b3', 'abcb756', 'begin', false, lib => { return {\"data\": {\"filter\": record => { return (record['año'] == 1996) }}, \"config\": {\"channels\": {\"x\": {\"set\": [\"total_pasajeros\"]}, \"y\": {\"set\": [\"Nombre_Empresa_clean\"]}, \"color\": {\"set\": [\"Nombre_Empresa_clean\"]}, \"label\": {\"set\": [\"total_pasajeros\"]}}, \"sort\": \"byValue\", \"legend\": null, \"title\": \"N\\u00famero de pasajeros por aerol\\u00ednea en 1996\"}, \"style\": {\"plot\": {\"marker\": {\"colorPalette\": \"#d9ed92ff #b5e48cff #99D986 #76c893ff #52b69aff #34a0a4ff #168aadff #1a759fff #1e6091ff #184e77ff\", \"label\": {\"maxFractionDigits\": \"0\"}}, \"paddingLeft\": \"19em\", \"xAxis\": {\"title\": {\"color\": \"#00000000\"}}}}} }, {\"duration\": 0.8, \"x\": {\"easing\": \"linear\", \"delay\": 0}, \"y\": {\"delay\": 0}, \"show\": {\"delay\": 0}, \"hide\": {\"delay\": 0}, \"title\": {\"duration\": 0, \"delay\": 0}});"
     },
     "metadata": {},
     "output_type": "display_data"
    },
    {
     "data": {
      "application/javascript": "window.ipyvizzu.animate(element, '229c9b3', '6d6a800', 'begin', false, lib => { return {\"data\": {\"filter\": record => { return (record['año'] == 1997) }}, \"config\": {\"channels\": {\"x\": {\"set\": [\"total_pasajeros\"]}, \"y\": {\"set\": [\"Nombre_Empresa_clean\"]}, \"color\": {\"set\": [\"Nombre_Empresa_clean\"]}, \"label\": {\"set\": [\"total_pasajeros\"]}}, \"sort\": \"byValue\", \"legend\": null, \"title\": \"N\\u00famero de pasajeros por aerol\\u00ednea en 1997\"}, \"style\": {\"plot\": {\"marker\": {\"colorPalette\": \"#d9ed92ff #b5e48cff #99D986 #76c893ff #52b69aff #34a0a4ff #168aadff #1a759fff #1e6091ff #184e77ff\", \"label\": {\"maxFractionDigits\": \"0\"}}, \"paddingLeft\": \"19em\", \"xAxis\": {\"title\": {\"color\": \"#00000000\"}}}}} }, {\"duration\": 0.8, \"x\": {\"easing\": \"linear\", \"delay\": 0}, \"y\": {\"delay\": 0}, \"show\": {\"delay\": 0}, \"hide\": {\"delay\": 0}, \"title\": {\"duration\": 0, \"delay\": 0}});"
     },
     "metadata": {},
     "output_type": "display_data"
    },
    {
     "data": {
      "application/javascript": "window.ipyvizzu.animate(element, '229c9b3', '875b74d', 'begin', false, lib => { return {\"data\": {\"filter\": record => { return (record['año'] == 1998) }}, \"config\": {\"channels\": {\"x\": {\"set\": [\"total_pasajeros\"]}, \"y\": {\"set\": [\"Nombre_Empresa_clean\"]}, \"color\": {\"set\": [\"Nombre_Empresa_clean\"]}, \"label\": {\"set\": [\"total_pasajeros\"]}}, \"sort\": \"byValue\", \"legend\": null, \"title\": \"N\\u00famero de pasajeros por aerol\\u00ednea en 1998\"}, \"style\": {\"plot\": {\"marker\": {\"colorPalette\": \"#d9ed92ff #b5e48cff #99D986 #76c893ff #52b69aff #34a0a4ff #168aadff #1a759fff #1e6091ff #184e77ff\", \"label\": {\"maxFractionDigits\": \"0\"}}, \"paddingLeft\": \"19em\", \"xAxis\": {\"title\": {\"color\": \"#00000000\"}}}}} }, {\"duration\": 0.8, \"x\": {\"easing\": \"linear\", \"delay\": 0}, \"y\": {\"delay\": 0}, \"show\": {\"delay\": 0}, \"hide\": {\"delay\": 0}, \"title\": {\"duration\": 0, \"delay\": 0}});"
     },
     "metadata": {},
     "output_type": "display_data"
    },
    {
     "data": {
      "application/javascript": "window.ipyvizzu.animate(element, '229c9b3', '5fe88e8', 'begin', false, lib => { return {\"data\": {\"filter\": record => { return (record['año'] == 1999) }}, \"config\": {\"channels\": {\"x\": {\"set\": [\"total_pasajeros\"]}, \"y\": {\"set\": [\"Nombre_Empresa_clean\"]}, \"color\": {\"set\": [\"Nombre_Empresa_clean\"]}, \"label\": {\"set\": [\"total_pasajeros\"]}}, \"sort\": \"byValue\", \"legend\": null, \"title\": \"N\\u00famero de pasajeros por aerol\\u00ednea en 1999\"}, \"style\": {\"plot\": {\"marker\": {\"colorPalette\": \"#d9ed92ff #b5e48cff #99D986 #76c893ff #52b69aff #34a0a4ff #168aadff #1a759fff #1e6091ff #184e77ff\", \"label\": {\"maxFractionDigits\": \"0\"}}, \"paddingLeft\": \"19em\", \"xAxis\": {\"title\": {\"color\": \"#00000000\"}}}}} }, {\"duration\": 0.8, \"x\": {\"easing\": \"linear\", \"delay\": 0}, \"y\": {\"delay\": 0}, \"show\": {\"delay\": 0}, \"hide\": {\"delay\": 0}, \"title\": {\"duration\": 0, \"delay\": 0}});"
     },
     "metadata": {},
     "output_type": "display_data"
    },
    {
     "data": {
      "application/javascript": "window.ipyvizzu.animate(element, '229c9b3', '69a937c', 'begin', false, lib => { return {\"data\": {\"filter\": record => { return (record['año'] == 2000) }}, \"config\": {\"channels\": {\"x\": {\"set\": [\"total_pasajeros\"]}, \"y\": {\"set\": [\"Nombre_Empresa_clean\"]}, \"color\": {\"set\": [\"Nombre_Empresa_clean\"]}, \"label\": {\"set\": [\"total_pasajeros\"]}}, \"sort\": \"byValue\", \"legend\": null, \"title\": \"N\\u00famero de pasajeros por aerol\\u00ednea en 2000\"}, \"style\": {\"plot\": {\"marker\": {\"colorPalette\": \"#d9ed92ff #b5e48cff #99D986 #76c893ff #52b69aff #34a0a4ff #168aadff #1a759fff #1e6091ff #184e77ff\", \"label\": {\"maxFractionDigits\": \"0\"}}, \"paddingLeft\": \"19em\", \"xAxis\": {\"title\": {\"color\": \"#00000000\"}}}}} }, {\"duration\": 0.8, \"x\": {\"easing\": \"linear\", \"delay\": 0}, \"y\": {\"delay\": 0}, \"show\": {\"delay\": 0}, \"hide\": {\"delay\": 0}, \"title\": {\"duration\": 0, \"delay\": 0}});"
     },
     "metadata": {},
     "output_type": "display_data"
    },
    {
     "data": {
      "application/javascript": "window.ipyvizzu.animate(element, '229c9b3', 'e74d280', 'begin', false, lib => { return {\"data\": {\"filter\": record => { return (record['año'] == 2001) }}, \"config\": {\"channels\": {\"x\": {\"set\": [\"total_pasajeros\"]}, \"y\": {\"set\": [\"Nombre_Empresa_clean\"]}, \"color\": {\"set\": [\"Nombre_Empresa_clean\"]}, \"label\": {\"set\": [\"total_pasajeros\"]}}, \"sort\": \"byValue\", \"legend\": null, \"title\": \"N\\u00famero de pasajeros por aerol\\u00ednea en 2001\"}, \"style\": {\"plot\": {\"marker\": {\"colorPalette\": \"#d9ed92ff #b5e48cff #99D986 #76c893ff #52b69aff #34a0a4ff #168aadff #1a759fff #1e6091ff #184e77ff\", \"label\": {\"maxFractionDigits\": \"0\"}}, \"paddingLeft\": \"19em\", \"xAxis\": {\"title\": {\"color\": \"#00000000\"}}}}} }, {\"duration\": 0.8, \"x\": {\"easing\": \"linear\", \"delay\": 0}, \"y\": {\"delay\": 0}, \"show\": {\"delay\": 0}, \"hide\": {\"delay\": 0}, \"title\": {\"duration\": 0, \"delay\": 0}});"
     },
     "metadata": {},
     "output_type": "display_data"
    },
    {
     "data": {
      "application/javascript": "window.ipyvizzu.animate(element, '229c9b3', '6f5a7b5', 'begin', false, lib => { return {\"data\": {\"filter\": record => { return (record['año'] == 2002) }}, \"config\": {\"channels\": {\"x\": {\"set\": [\"total_pasajeros\"]}, \"y\": {\"set\": [\"Nombre_Empresa_clean\"]}, \"color\": {\"set\": [\"Nombre_Empresa_clean\"]}, \"label\": {\"set\": [\"total_pasajeros\"]}}, \"sort\": \"byValue\", \"legend\": null, \"title\": \"N\\u00famero de pasajeros por aerol\\u00ednea en 2002\"}, \"style\": {\"plot\": {\"marker\": {\"colorPalette\": \"#d9ed92ff #b5e48cff #99D986 #76c893ff #52b69aff #34a0a4ff #168aadff #1a759fff #1e6091ff #184e77ff\", \"label\": {\"maxFractionDigits\": \"0\"}}, \"paddingLeft\": \"19em\", \"xAxis\": {\"title\": {\"color\": \"#00000000\"}}}}} }, {\"duration\": 0.8, \"x\": {\"easing\": \"linear\", \"delay\": 0}, \"y\": {\"delay\": 0}, \"show\": {\"delay\": 0}, \"hide\": {\"delay\": 0}, \"title\": {\"duration\": 0, \"delay\": 0}});"
     },
     "metadata": {},
     "output_type": "display_data"
    },
    {
     "data": {
      "application/javascript": "window.ipyvizzu.animate(element, '229c9b3', 'babb10d', 'begin', false, lib => { return {\"data\": {\"filter\": record => { return (record['año'] == 2003) }}, \"config\": {\"channels\": {\"x\": {\"set\": [\"total_pasajeros\"]}, \"y\": {\"set\": [\"Nombre_Empresa_clean\"]}, \"color\": {\"set\": [\"Nombre_Empresa_clean\"]}, \"label\": {\"set\": [\"total_pasajeros\"]}}, \"sort\": \"byValue\", \"legend\": null, \"title\": \"N\\u00famero de pasajeros por aerol\\u00ednea en 2003\"}, \"style\": {\"plot\": {\"marker\": {\"colorPalette\": \"#d9ed92ff #b5e48cff #99D986 #76c893ff #52b69aff #34a0a4ff #168aadff #1a759fff #1e6091ff #184e77ff\", \"label\": {\"maxFractionDigits\": \"0\"}}, \"paddingLeft\": \"19em\", \"xAxis\": {\"title\": {\"color\": \"#00000000\"}}}}} }, {\"duration\": 0.8, \"x\": {\"easing\": \"linear\", \"delay\": 0}, \"y\": {\"delay\": 0}, \"show\": {\"delay\": 0}, \"hide\": {\"delay\": 0}, \"title\": {\"duration\": 0, \"delay\": 0}});"
     },
     "metadata": {},
     "output_type": "display_data"
    },
    {
     "data": {
      "application/javascript": "window.ipyvizzu.animate(element, '229c9b3', 'c2ca97f', 'begin', false, lib => { return {\"data\": {\"filter\": record => { return (record['año'] == 2004) }}, \"config\": {\"channels\": {\"x\": {\"set\": [\"total_pasajeros\"]}, \"y\": {\"set\": [\"Nombre_Empresa_clean\"]}, \"color\": {\"set\": [\"Nombre_Empresa_clean\"]}, \"label\": {\"set\": [\"total_pasajeros\"]}}, \"sort\": \"byValue\", \"legend\": null, \"title\": \"N\\u00famero de pasajeros por aerol\\u00ednea en 2004\"}, \"style\": {\"plot\": {\"marker\": {\"colorPalette\": \"#d9ed92ff #b5e48cff #99D986 #76c893ff #52b69aff #34a0a4ff #168aadff #1a759fff #1e6091ff #184e77ff\", \"label\": {\"maxFractionDigits\": \"0\"}}, \"paddingLeft\": \"19em\", \"xAxis\": {\"title\": {\"color\": \"#00000000\"}}}}} }, {\"duration\": 0.8, \"x\": {\"easing\": \"linear\", \"delay\": 0}, \"y\": {\"delay\": 0}, \"show\": {\"delay\": 0}, \"hide\": {\"delay\": 0}, \"title\": {\"duration\": 0, \"delay\": 0}});"
     },
     "metadata": {},
     "output_type": "display_data"
    },
    {
     "data": {
      "application/javascript": "window.ipyvizzu.animate(element, '229c9b3', '256b0be', 'begin', false, lib => { return {\"data\": {\"filter\": record => { return (record['año'] == 2005) }}, \"config\": {\"channels\": {\"x\": {\"set\": [\"total_pasajeros\"]}, \"y\": {\"set\": [\"Nombre_Empresa_clean\"]}, \"color\": {\"set\": [\"Nombre_Empresa_clean\"]}, \"label\": {\"set\": [\"total_pasajeros\"]}}, \"sort\": \"byValue\", \"legend\": null, \"title\": \"N\\u00famero de pasajeros por aerol\\u00ednea en 2005\"}, \"style\": {\"plot\": {\"marker\": {\"colorPalette\": \"#d9ed92ff #b5e48cff #99D986 #76c893ff #52b69aff #34a0a4ff #168aadff #1a759fff #1e6091ff #184e77ff\", \"label\": {\"maxFractionDigits\": \"0\"}}, \"paddingLeft\": \"19em\", \"xAxis\": {\"title\": {\"color\": \"#00000000\"}}}}} }, {\"duration\": 0.8, \"x\": {\"easing\": \"linear\", \"delay\": 0}, \"y\": {\"delay\": 0}, \"show\": {\"delay\": 0}, \"hide\": {\"delay\": 0}, \"title\": {\"duration\": 0, \"delay\": 0}});"
     },
     "metadata": {},
     "output_type": "display_data"
    },
    {
     "data": {
      "application/javascript": "window.ipyvizzu.animate(element, '229c9b3', 'e664f7a', 'begin', false, lib => { return {\"data\": {\"filter\": record => { return (record['año'] == 2006) }}, \"config\": {\"channels\": {\"x\": {\"set\": [\"total_pasajeros\"]}, \"y\": {\"set\": [\"Nombre_Empresa_clean\"]}, \"color\": {\"set\": [\"Nombre_Empresa_clean\"]}, \"label\": {\"set\": [\"total_pasajeros\"]}}, \"sort\": \"byValue\", \"legend\": null, \"title\": \"N\\u00famero de pasajeros por aerol\\u00ednea en 2006\"}, \"style\": {\"plot\": {\"marker\": {\"colorPalette\": \"#d9ed92ff #b5e48cff #99D986 #76c893ff #52b69aff #34a0a4ff #168aadff #1a759fff #1e6091ff #184e77ff\", \"label\": {\"maxFractionDigits\": \"0\"}}, \"paddingLeft\": \"19em\", \"xAxis\": {\"title\": {\"color\": \"#00000000\"}}}}} }, {\"duration\": 0.8, \"x\": {\"easing\": \"linear\", \"delay\": 0}, \"y\": {\"delay\": 0}, \"show\": {\"delay\": 0}, \"hide\": {\"delay\": 0}, \"title\": {\"duration\": 0, \"delay\": 0}});"
     },
     "metadata": {},
     "output_type": "display_data"
    },
    {
     "data": {
      "application/javascript": "window.ipyvizzu.animate(element, '229c9b3', '50c3e7e', 'begin', false, lib => { return {\"data\": {\"filter\": record => { return (record['año'] == 2007) }}, \"config\": {\"channels\": {\"x\": {\"set\": [\"total_pasajeros\"]}, \"y\": {\"set\": [\"Nombre_Empresa_clean\"]}, \"color\": {\"set\": [\"Nombre_Empresa_clean\"]}, \"label\": {\"set\": [\"total_pasajeros\"]}}, \"sort\": \"byValue\", \"legend\": null, \"title\": \"N\\u00famero de pasajeros por aerol\\u00ednea en 2007\"}, \"style\": {\"plot\": {\"marker\": {\"colorPalette\": \"#d9ed92ff #b5e48cff #99D986 #76c893ff #52b69aff #34a0a4ff #168aadff #1a759fff #1e6091ff #184e77ff\", \"label\": {\"maxFractionDigits\": \"0\"}}, \"paddingLeft\": \"19em\", \"xAxis\": {\"title\": {\"color\": \"#00000000\"}}}}} }, {\"duration\": 0.8, \"x\": {\"easing\": \"linear\", \"delay\": 0}, \"y\": {\"delay\": 0}, \"show\": {\"delay\": 0}, \"hide\": {\"delay\": 0}, \"title\": {\"duration\": 0, \"delay\": 0}});"
     },
     "metadata": {},
     "output_type": "display_data"
    },
    {
     "data": {
      "application/javascript": "window.ipyvizzu.animate(element, '229c9b3', 'bc1811d', 'begin', false, lib => { return {\"data\": {\"filter\": record => { return (record['año'] == 2008) }}, \"config\": {\"channels\": {\"x\": {\"set\": [\"total_pasajeros\"]}, \"y\": {\"set\": [\"Nombre_Empresa_clean\"]}, \"color\": {\"set\": [\"Nombre_Empresa_clean\"]}, \"label\": {\"set\": [\"total_pasajeros\"]}}, \"sort\": \"byValue\", \"legend\": null, \"title\": \"N\\u00famero de pasajeros por aerol\\u00ednea en 2008\"}, \"style\": {\"plot\": {\"marker\": {\"colorPalette\": \"#d9ed92ff #b5e48cff #99D986 #76c893ff #52b69aff #34a0a4ff #168aadff #1a759fff #1e6091ff #184e77ff\", \"label\": {\"maxFractionDigits\": \"0\"}}, \"paddingLeft\": \"19em\", \"xAxis\": {\"title\": {\"color\": \"#00000000\"}}}}} }, {\"duration\": 0.8, \"x\": {\"easing\": \"linear\", \"delay\": 0}, \"y\": {\"delay\": 0}, \"show\": {\"delay\": 0}, \"hide\": {\"delay\": 0}, \"title\": {\"duration\": 0, \"delay\": 0}});"
     },
     "metadata": {},
     "output_type": "display_data"
    },
    {
     "data": {
      "application/javascript": "window.ipyvizzu.animate(element, '229c9b3', '6bbfad8', 'begin', false, lib => { return {\"data\": {\"filter\": record => { return (record['año'] == 2009) }}, \"config\": {\"channels\": {\"x\": {\"set\": [\"total_pasajeros\"]}, \"y\": {\"set\": [\"Nombre_Empresa_clean\"]}, \"color\": {\"set\": [\"Nombre_Empresa_clean\"]}, \"label\": {\"set\": [\"total_pasajeros\"]}}, \"sort\": \"byValue\", \"legend\": null, \"title\": \"N\\u00famero de pasajeros por aerol\\u00ednea en 2009\"}, \"style\": {\"plot\": {\"marker\": {\"colorPalette\": \"#d9ed92ff #b5e48cff #99D986 #76c893ff #52b69aff #34a0a4ff #168aadff #1a759fff #1e6091ff #184e77ff\", \"label\": {\"maxFractionDigits\": \"0\"}}, \"paddingLeft\": \"19em\", \"xAxis\": {\"title\": {\"color\": \"#00000000\"}}}}} }, {\"duration\": 0.8, \"x\": {\"easing\": \"linear\", \"delay\": 0}, \"y\": {\"delay\": 0}, \"show\": {\"delay\": 0}, \"hide\": {\"delay\": 0}, \"title\": {\"duration\": 0, \"delay\": 0}});"
     },
     "metadata": {},
     "output_type": "display_data"
    },
    {
     "data": {
      "application/javascript": "window.ipyvizzu.animate(element, '229c9b3', '304d98c', 'begin', false, lib => { return {\"data\": {\"filter\": record => { return (record['año'] == 2010) }}, \"config\": {\"channels\": {\"x\": {\"set\": [\"total_pasajeros\"]}, \"y\": {\"set\": [\"Nombre_Empresa_clean\"]}, \"color\": {\"set\": [\"Nombre_Empresa_clean\"]}, \"label\": {\"set\": [\"total_pasajeros\"]}}, \"sort\": \"byValue\", \"legend\": null, \"title\": \"N\\u00famero de pasajeros por aerol\\u00ednea en 2010\"}, \"style\": {\"plot\": {\"marker\": {\"colorPalette\": \"#d9ed92ff #b5e48cff #99D986 #76c893ff #52b69aff #34a0a4ff #168aadff #1a759fff #1e6091ff #184e77ff\", \"label\": {\"maxFractionDigits\": \"0\"}}, \"paddingLeft\": \"19em\", \"xAxis\": {\"title\": {\"color\": \"#00000000\"}}}}} }, {\"duration\": 0.8, \"x\": {\"easing\": \"linear\", \"delay\": 0}, \"y\": {\"delay\": 0}, \"show\": {\"delay\": 0}, \"hide\": {\"delay\": 0}, \"title\": {\"duration\": 0, \"delay\": 0}});"
     },
     "metadata": {},
     "output_type": "display_data"
    },
    {
     "data": {
      "application/javascript": "window.ipyvizzu.animate(element, '229c9b3', '7644691', 'begin', false, lib => { return {\"data\": {\"filter\": record => { return (record['año'] == 2011) }}, \"config\": {\"channels\": {\"x\": {\"set\": [\"total_pasajeros\"]}, \"y\": {\"set\": [\"Nombre_Empresa_clean\"]}, \"color\": {\"set\": [\"Nombre_Empresa_clean\"]}, \"label\": {\"set\": [\"total_pasajeros\"]}}, \"sort\": \"byValue\", \"legend\": null, \"title\": \"N\\u00famero de pasajeros por aerol\\u00ednea en 2011\"}, \"style\": {\"plot\": {\"marker\": {\"colorPalette\": \"#d9ed92ff #b5e48cff #99D986 #76c893ff #52b69aff #34a0a4ff #168aadff #1a759fff #1e6091ff #184e77ff\", \"label\": {\"maxFractionDigits\": \"0\"}}, \"paddingLeft\": \"19em\", \"xAxis\": {\"title\": {\"color\": \"#00000000\"}}}}} }, {\"duration\": 0.8, \"x\": {\"easing\": \"linear\", \"delay\": 0}, \"y\": {\"delay\": 0}, \"show\": {\"delay\": 0}, \"hide\": {\"delay\": 0}, \"title\": {\"duration\": 0, \"delay\": 0}});"
     },
     "metadata": {},
     "output_type": "display_data"
    },
    {
     "data": {
      "application/javascript": "window.ipyvizzu.animate(element, '229c9b3', 'a6205e2', 'begin', false, lib => { return {\"data\": {\"filter\": record => { return (record['año'] == 2012) }}, \"config\": {\"channels\": {\"x\": {\"set\": [\"total_pasajeros\"]}, \"y\": {\"set\": [\"Nombre_Empresa_clean\"]}, \"color\": {\"set\": [\"Nombre_Empresa_clean\"]}, \"label\": {\"set\": [\"total_pasajeros\"]}}, \"sort\": \"byValue\", \"legend\": null, \"title\": \"N\\u00famero de pasajeros por aerol\\u00ednea en 2012\"}, \"style\": {\"plot\": {\"marker\": {\"colorPalette\": \"#d9ed92ff #b5e48cff #99D986 #76c893ff #52b69aff #34a0a4ff #168aadff #1a759fff #1e6091ff #184e77ff\", \"label\": {\"maxFractionDigits\": \"0\"}}, \"paddingLeft\": \"19em\", \"xAxis\": {\"title\": {\"color\": \"#00000000\"}}}}} }, {\"duration\": 0.8, \"x\": {\"easing\": \"linear\", \"delay\": 0}, \"y\": {\"delay\": 0}, \"show\": {\"delay\": 0}, \"hide\": {\"delay\": 0}, \"title\": {\"duration\": 0, \"delay\": 0}});"
     },
     "metadata": {},
     "output_type": "display_data"
    },
    {
     "data": {
      "application/javascript": "window.ipyvizzu.animate(element, '229c9b3', 'abaca50', 'begin', false, lib => { return {\"data\": {\"filter\": record => { return (record['año'] == 2013) }}, \"config\": {\"channels\": {\"x\": {\"set\": [\"total_pasajeros\"]}, \"y\": {\"set\": [\"Nombre_Empresa_clean\"]}, \"color\": {\"set\": [\"Nombre_Empresa_clean\"]}, \"label\": {\"set\": [\"total_pasajeros\"]}}, \"sort\": \"byValue\", \"legend\": null, \"title\": \"N\\u00famero de pasajeros por aerol\\u00ednea en 2013\"}, \"style\": {\"plot\": {\"marker\": {\"colorPalette\": \"#d9ed92ff #b5e48cff #99D986 #76c893ff #52b69aff #34a0a4ff #168aadff #1a759fff #1e6091ff #184e77ff\", \"label\": {\"maxFractionDigits\": \"0\"}}, \"paddingLeft\": \"19em\", \"xAxis\": {\"title\": {\"color\": \"#00000000\"}}}}} }, {\"duration\": 0.8, \"x\": {\"easing\": \"linear\", \"delay\": 0}, \"y\": {\"delay\": 0}, \"show\": {\"delay\": 0}, \"hide\": {\"delay\": 0}, \"title\": {\"duration\": 0, \"delay\": 0}});"
     },
     "metadata": {},
     "output_type": "display_data"
    },
    {
     "data": {
      "application/javascript": "window.ipyvizzu.animate(element, '229c9b3', '8954d52', 'begin', false, lib => { return {\"data\": {\"filter\": record => { return (record['año'] == 2014) }}, \"config\": {\"channels\": {\"x\": {\"set\": [\"total_pasajeros\"]}, \"y\": {\"set\": [\"Nombre_Empresa_clean\"]}, \"color\": {\"set\": [\"Nombre_Empresa_clean\"]}, \"label\": {\"set\": [\"total_pasajeros\"]}}, \"sort\": \"byValue\", \"legend\": null, \"title\": \"N\\u00famero de pasajeros por aerol\\u00ednea en 2014\"}, \"style\": {\"plot\": {\"marker\": {\"colorPalette\": \"#d9ed92ff #b5e48cff #99D986 #76c893ff #52b69aff #34a0a4ff #168aadff #1a759fff #1e6091ff #184e77ff\", \"label\": {\"maxFractionDigits\": \"0\"}}, \"paddingLeft\": \"19em\", \"xAxis\": {\"title\": {\"color\": \"#00000000\"}}}}} }, {\"duration\": 0.8, \"x\": {\"easing\": \"linear\", \"delay\": 0}, \"y\": {\"delay\": 0}, \"show\": {\"delay\": 0}, \"hide\": {\"delay\": 0}, \"title\": {\"duration\": 0, \"delay\": 0}});"
     },
     "metadata": {},
     "output_type": "display_data"
    },
    {
     "data": {
      "application/javascript": "window.ipyvizzu.animate(element, '229c9b3', '2b9293e', 'begin', false, lib => { return {\"data\": {\"filter\": record => { return (record['año'] == 2015) }}, \"config\": {\"channels\": {\"x\": {\"set\": [\"total_pasajeros\"]}, \"y\": {\"set\": [\"Nombre_Empresa_clean\"]}, \"color\": {\"set\": [\"Nombre_Empresa_clean\"]}, \"label\": {\"set\": [\"total_pasajeros\"]}}, \"sort\": \"byValue\", \"legend\": null, \"title\": \"N\\u00famero de pasajeros por aerol\\u00ednea en 2015\"}, \"style\": {\"plot\": {\"marker\": {\"colorPalette\": \"#d9ed92ff #b5e48cff #99D986 #76c893ff #52b69aff #34a0a4ff #168aadff #1a759fff #1e6091ff #184e77ff\", \"label\": {\"maxFractionDigits\": \"0\"}}, \"paddingLeft\": \"19em\", \"xAxis\": {\"title\": {\"color\": \"#00000000\"}}}}} }, {\"duration\": 0.8, \"x\": {\"easing\": \"linear\", \"delay\": 0}, \"y\": {\"delay\": 0}, \"show\": {\"delay\": 0}, \"hide\": {\"delay\": 0}, \"title\": {\"duration\": 0, \"delay\": 0}});"
     },
     "metadata": {},
     "output_type": "display_data"
    },
    {
     "data": {
      "application/javascript": "window.ipyvizzu.animate(element, '229c9b3', '43de4f1', 'begin', false, lib => { return {\"data\": {\"filter\": record => { return (record['año'] == 2016) }}, \"config\": {\"channels\": {\"x\": {\"set\": [\"total_pasajeros\"]}, \"y\": {\"set\": [\"Nombre_Empresa_clean\"]}, \"color\": {\"set\": [\"Nombre_Empresa_clean\"]}, \"label\": {\"set\": [\"total_pasajeros\"]}}, \"sort\": \"byValue\", \"legend\": null, \"title\": \"N\\u00famero de pasajeros por aerol\\u00ednea en 2016\"}, \"style\": {\"plot\": {\"marker\": {\"colorPalette\": \"#d9ed92ff #b5e48cff #99D986 #76c893ff #52b69aff #34a0a4ff #168aadff #1a759fff #1e6091ff #184e77ff\", \"label\": {\"maxFractionDigits\": \"0\"}}, \"paddingLeft\": \"19em\", \"xAxis\": {\"title\": {\"color\": \"#00000000\"}}}}} }, {\"duration\": 0.8, \"x\": {\"easing\": \"linear\", \"delay\": 0}, \"y\": {\"delay\": 0}, \"show\": {\"delay\": 0}, \"hide\": {\"delay\": 0}, \"title\": {\"duration\": 0, \"delay\": 0}});"
     },
     "metadata": {},
     "output_type": "display_data"
    },
    {
     "data": {
      "application/javascript": "window.ipyvizzu.animate(element, '229c9b3', '67b07da', 'begin', false, lib => { return {\"data\": {\"filter\": record => { return (record['año'] == 2017) }}, \"config\": {\"channels\": {\"x\": {\"set\": [\"total_pasajeros\"]}, \"y\": {\"set\": [\"Nombre_Empresa_clean\"]}, \"color\": {\"set\": [\"Nombre_Empresa_clean\"]}, \"label\": {\"set\": [\"total_pasajeros\"]}}, \"sort\": \"byValue\", \"legend\": null, \"title\": \"N\\u00famero de pasajeros por aerol\\u00ednea en 2017\"}, \"style\": {\"plot\": {\"marker\": {\"colorPalette\": \"#d9ed92ff #b5e48cff #99D986 #76c893ff #52b69aff #34a0a4ff #168aadff #1a759fff #1e6091ff #184e77ff\", \"label\": {\"maxFractionDigits\": \"0\"}}, \"paddingLeft\": \"19em\", \"xAxis\": {\"title\": {\"color\": \"#00000000\"}}}}} }, {\"duration\": 0.8, \"x\": {\"easing\": \"linear\", \"delay\": 0}, \"y\": {\"delay\": 0}, \"show\": {\"delay\": 0}, \"hide\": {\"delay\": 0}, \"title\": {\"duration\": 0, \"delay\": 0}});"
     },
     "metadata": {},
     "output_type": "display_data"
    },
    {
     "data": {
      "application/javascript": "window.ipyvizzu.animate(element, '229c9b3', '9a04a78', 'begin', false, lib => { return {\"data\": {\"filter\": record => { return (record['año'] == 2018) }}, \"config\": {\"channels\": {\"x\": {\"set\": [\"total_pasajeros\"]}, \"y\": {\"set\": [\"Nombre_Empresa_clean\"]}, \"color\": {\"set\": [\"Nombre_Empresa_clean\"]}, \"label\": {\"set\": [\"total_pasajeros\"]}}, \"sort\": \"byValue\", \"legend\": null, \"title\": \"N\\u00famero de pasajeros por aerol\\u00ednea en 2018\"}, \"style\": {\"plot\": {\"marker\": {\"colorPalette\": \"#d9ed92ff #b5e48cff #99D986 #76c893ff #52b69aff #34a0a4ff #168aadff #1a759fff #1e6091ff #184e77ff\", \"label\": {\"maxFractionDigits\": \"0\"}}, \"paddingLeft\": \"19em\", \"xAxis\": {\"title\": {\"color\": \"#00000000\"}}}}} }, {\"duration\": 0.8, \"x\": {\"easing\": \"linear\", \"delay\": 0}, \"y\": {\"delay\": 0}, \"show\": {\"delay\": 0}, \"hide\": {\"delay\": 0}, \"title\": {\"duration\": 0, \"delay\": 0}});"
     },
     "metadata": {},
     "output_type": "display_data"
    },
    {
     "data": {
      "application/javascript": "window.ipyvizzu.animate(element, '229c9b3', 'ea0c00b', 'begin', false, lib => { return {\"data\": {\"filter\": record => { return (record['año'] == 2019) }}, \"config\": {\"channels\": {\"x\": {\"set\": [\"total_pasajeros\"]}, \"y\": {\"set\": [\"Nombre_Empresa_clean\"]}, \"color\": {\"set\": [\"Nombre_Empresa_clean\"]}, \"label\": {\"set\": [\"total_pasajeros\"]}}, \"sort\": \"byValue\", \"legend\": null, \"title\": \"N\\u00famero de pasajeros por aerol\\u00ednea en 2019\"}, \"style\": {\"plot\": {\"marker\": {\"colorPalette\": \"#d9ed92ff #b5e48cff #99D986 #76c893ff #52b69aff #34a0a4ff #168aadff #1a759fff #1e6091ff #184e77ff\", \"label\": {\"maxFractionDigits\": \"0\"}}, \"paddingLeft\": \"19em\", \"xAxis\": {\"title\": {\"color\": \"#00000000\"}}}}} }, {\"duration\": 0.8, \"x\": {\"easing\": \"linear\", \"delay\": 0}, \"y\": {\"delay\": 0}, \"show\": {\"delay\": 0}, \"hide\": {\"delay\": 0}, \"title\": {\"duration\": 0, \"delay\": 0}});"
     },
     "metadata": {},
     "output_type": "display_data"
    },
    {
     "data": {
      "application/javascript": "window.ipyvizzu.animate(element, '229c9b3', 'b18f8cf', 'begin', false, lib => { return {\"data\": {\"filter\": record => { return (record['año'] == 2020) }}, \"config\": {\"channels\": {\"x\": {\"set\": [\"total_pasajeros\"]}, \"y\": {\"set\": [\"Nombre_Empresa_clean\"]}, \"color\": {\"set\": [\"Nombre_Empresa_clean\"]}, \"label\": {\"set\": [\"total_pasajeros\"]}}, \"sort\": \"byValue\", \"legend\": null, \"title\": \"N\\u00famero de pasajeros por aerol\\u00ednea en 2020\"}, \"style\": {\"plot\": {\"marker\": {\"colorPalette\": \"#d9ed92ff #b5e48cff #99D986 #76c893ff #52b69aff #34a0a4ff #168aadff #1a759fff #1e6091ff #184e77ff\", \"label\": {\"maxFractionDigits\": \"0\"}}, \"paddingLeft\": \"19em\", \"xAxis\": {\"title\": {\"color\": \"#00000000\"}}}}} }, {\"duration\": 0.8, \"x\": {\"easing\": \"linear\", \"delay\": 0}, \"y\": {\"delay\": 0}, \"show\": {\"delay\": 0}, \"hide\": {\"delay\": 0}, \"title\": {\"duration\": 0, \"delay\": 0}});"
     },
     "metadata": {},
     "output_type": "display_data"
    },
    {
     "data": {
      "application/javascript": "window.ipyvizzu.animate(element, '229c9b3', 'c06596d', 'begin', false, lib => { return {\"data\": {\"filter\": record => { return (record['año'] == 2021) }}, \"config\": {\"channels\": {\"x\": {\"set\": [\"total_pasajeros\"]}, \"y\": {\"set\": [\"Nombre_Empresa_clean\"]}, \"color\": {\"set\": [\"Nombre_Empresa_clean\"]}, \"label\": {\"set\": [\"total_pasajeros\"]}}, \"sort\": \"byValue\", \"legend\": null, \"title\": \"N\\u00famero de pasajeros por aerol\\u00ednea en 2021\"}, \"style\": {\"plot\": {\"marker\": {\"colorPalette\": \"#d9ed92ff #b5e48cff #99D986 #76c893ff #52b69aff #34a0a4ff #168aadff #1a759fff #1e6091ff #184e77ff\", \"label\": {\"maxFractionDigits\": \"0\"}}, \"paddingLeft\": \"19em\", \"xAxis\": {\"title\": {\"color\": \"#00000000\"}}}}} }, {\"duration\": 0.8, \"x\": {\"easing\": \"linear\", \"delay\": 0}, \"y\": {\"delay\": 0}, \"show\": {\"delay\": 0}, \"hide\": {\"delay\": 0}, \"title\": {\"duration\": 0, \"delay\": 0}});"
     },
     "metadata": {},
     "output_type": "display_data"
    },
    {
     "data": {
      "application/javascript": "window.ipyvizzu.animate(element, '229c9b3', '1e92279', 'begin', false, lib => { return {\"data\": {\"filter\": record => { return (record['año'] == 2022) }}, \"config\": {\"channels\": {\"x\": {\"set\": [\"total_pasajeros\"]}, \"y\": {\"set\": [\"Nombre_Empresa_clean\"]}, \"color\": {\"set\": [\"Nombre_Empresa_clean\"]}, \"label\": {\"set\": [\"total_pasajeros\"]}}, \"sort\": \"byValue\", \"legend\": null, \"title\": \"N\\u00famero de pasajeros por aerol\\u00ednea en 2022\"}, \"style\": {\"plot\": {\"marker\": {\"colorPalette\": \"#d9ed92ff #b5e48cff #99D986 #76c893ff #52b69aff #34a0a4ff #168aadff #1a759fff #1e6091ff #184e77ff\", \"label\": {\"maxFractionDigits\": \"0\"}}, \"paddingLeft\": \"19em\", \"xAxis\": {\"title\": {\"color\": \"#00000000\"}}}}} }, {\"duration\": 0.8, \"x\": {\"easing\": \"linear\", \"delay\": 0}, \"y\": {\"delay\": 0}, \"show\": {\"delay\": 0}, \"hide\": {\"delay\": 0}, \"title\": {\"duration\": 0, \"delay\": 0}});"
     },
     "metadata": {},
     "output_type": "display_data"
    }
   ],
   "source": [
    "char_data = Data()\n",
    "char_data.add_data_frame(top_empresas_nacional) \n",
    "chart = Chart(display = \"begin\")\n",
    "chart.scroll_into_view = False\n",
    "\n",
    "\n",
    "chart.animate(char_data)\n",
    "config = {\n",
    "    \"channels\": {\n",
    "        \"x\": {\"set\": [\"total_pasajeros\"]},\n",
    "        \"y\": {\"set\": [\"Nombre_Empresa_clean\"]},\n",
    "        \"color\": {\"set\": [\"Nombre_Empresa_clean\"]},\n",
    "        \"label\": { \"set\": [\"total_pasajeros\"] }\n",
    "    },\n",
    "    \"sort\": 'byValue',\n",
    "    \"legend\": None,\n",
    "}\n",
    "\n",
    "style= Style({\"plot\": \n",
    "    {\"marker\": {\"colorPalette\": \"#d9ed92ff #b5e48cff #99D986 #76c893ff #52b69aff\"\n",
    "                + \" #34a0a4ff #168aadff #1a759fff #1e6091ff #184e77ff\",\n",
    "                \"label\": {\"maxFractionDigits\": \"0\"}}, #cutting off unnecessary digits when animating the labels\n",
    "      \"paddingLeft\":\"19em\", #add padding on the left side of the plot so that long country names are visible\n",
    "      \"xAxis\": { \"title\": { \"color\" : \"#00000000\" }} #hiding the axis title on the x-axis\n",
    "    }})\n",
    "\n",
    "\n",
    "for anho in range(1992, 2023):\n",
    "    config[\"title\"] = f\"Número de pasajeros por aerolínea en {anho}\"\n",
    "    chart.animate(\n",
    "        Data.filter(\"record['año'] == {}\".format(anho)), \n",
    "        Config(config),\n",
    "        style,\n",
    "        # Animation options:\n",
    "        duration = .8,        \n",
    "        x = { \"easing\": \"linear\", \"delay\": 0 },\n",
    "        y = { \"delay\": 0 },\n",
    "        show = { \"delay\": 0 },\n",
    "        hide = { \"delay\": 0 },\n",
    "        title = { \"duration\": 0, \"delay\": 0 })\n",
    " \n",
    " \n",
    "\n",
    "\n"
   ]
  },
  {
   "cell_type": "code",
   "execution_count": null,
   "metadata": {},
   "outputs": [],
   "source": []
  },
  {
   "cell_type": "code",
   "execution_count": null,
   "metadata": {},
   "outputs": [],
   "source": []
  },
  {
   "cell_type": "code",
   "execution_count": null,
   "metadata": {},
   "outputs": [],
   "source": []
  }
 ],
 "metadata": {
  "kernelspec": {
   "display_name": "Python 3 (ipykernel)",
   "language": "python",
   "name": "python3"
  },
  "language_info": {
   "codemirror_mode": {
    "name": "ipython",
    "version": 3
   },
   "file_extension": ".py",
   "mimetype": "text/x-python",
   "name": "python",
   "nbconvert_exporter": "python",
   "pygments_lexer": "ipython3",
   "version": "3.9.16"
  }
 },
 "nbformat": 4,
 "nbformat_minor": 2
}
