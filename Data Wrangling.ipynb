{
 "cells": [
  {
   "attachments": {},
   "cell_type": "markdown",
   "metadata": {},
   "source": [
    "### Data Wrangling"
   ]
  },
  {
   "cell_type": "code",
   "execution_count": 1,
   "metadata": {},
   "outputs": [],
   "source": [
    "#Se importan las librerias correspondientes\n",
    "import os\n",
    "import pyspark\n",
    "from pyspark.ml.feature import BucketedRandomProjectionLSH\n",
    "from pyspark.sql import *\n",
    "from pyspark.sql.functions import *\n",
    "from pyspark import SparkContext, SparkConf\n",
    "from pyspark.sql.functions import year\n",
    "from pyspark.sql.types import StructType, StructField\n",
    "from pyspark.sql.types import  IntegerType, StringType, DateType\n",
    "import matplotlib\n",
    "import matplotlib.pyplot as plt\n",
    "matplotlib.style.use('ggplot')\n",
    "import pandas as pd\n"
   ]
  },
  {
   "cell_type": "code",
   "execution_count": 2,
   "metadata": {},
   "outputs": [],
   "source": [
    "#Se confirma que los datos se encuentren en el espacio de trabajo, si no se ecnuentran se descargan y preprocesan los datos\n",
    "if  not (os.path.isdir(\"raw\") and os.path.isfile(os.path.join(\"trusted\", 'trafico_aereo_1992_2022.csv'))):\n",
    "    import preprocess\n",
    "    preprocess"
   ]
  },
  {
   "cell_type": "code",
   "execution_count": 3,
   "metadata": {},
   "outputs": [
    {
     "data": {
      "text/html": [
       "\n",
       "            <div>\n",
       "                <p><b>SparkSession - in-memory</b></p>\n",
       "                \n",
       "        <div>\n",
       "            <p><b>SparkContext</b></p>\n",
       "\n",
       "            <p><a href=\"http://host.docker.internal:4040\">Spark UI</a></p>\n",
       "\n",
       "            <dl>\n",
       "              <dt>Version</dt>\n",
       "                <dd><code>v3.3.2</code></dd>\n",
       "              <dt>Master</dt>\n",
       "                <dd><code>local[*]</code></dd>\n",
       "              <dt>AppName</dt>\n",
       "                <dd><code>pyspark-shell</code></dd>\n",
       "            </dl>\n",
       "        </div>\n",
       "        \n",
       "            </div>\n",
       "        "
      ],
      "text/plain": [
       "<pyspark.sql.session.SparkSession at 0x1a607030fd0>"
      ]
     },
     "execution_count": 3,
     "metadata": {},
     "output_type": "execute_result"
    }
   ],
   "source": [
    "# creamos el contexto y la sesión\n",
    "sc = pyspark.SparkContext()\n",
    "spark = SparkSession.builder.getOrCreate()\n",
    "spark"
   ]
  },
  {
   "cell_type": "code",
   "execution_count": 4,
   "metadata": {},
   "outputs": [],
   "source": [
    "\n",
    "#Se define el esquema de la tabla\n",
    "schema = StructType([\n",
    "    StructField('Fecha', DateType()),\n",
    "    StructField('Sigla Empresa', StringType()),\n",
    "    StructField('Origen', StringType()),\n",
    "    StructField('Destino', StringType()),\n",
    "    StructField('Pasajeros', IntegerType()),\n",
    "    StructField('Trafico', StringType()),\n",
    "    StructField('TipoVuelo', StringType()),\n",
    "    StructField('Ciudad Origen', StringType()),\n",
    "    StructField('Ciudad Destino', StringType()),\n",
    "    StructField('Pais Origen', StringType()),\n",
    "    StructField('Pais Destino', StringType()),\n",
    "    StructField('Nombre Empresa', StringType()),\n",
    "    StructField('Apto_Origen', StringType()),\n",
    "    StructField('Apto_Destino', StringType()),\n",
    "])"
   ]
  },
  {
   "cell_type": "code",
   "execution_count": 5,
   "metadata": {},
   "outputs": [
    {
     "name": "stdout",
     "output_type": "stream",
     "text": [
      "+----------+-------------+------+-------+---------+-------+---------+-------------+--------------+--------------+------------+--------------+--------------------+--------------------+\n",
      "|     Fecha|Sigla Empresa|Origen|Destino|Pasajeros|Trafico|TipoVuelo|Ciudad Origen|Ciudad Destino|   Pais Origen|Pais Destino|Nombre Empresa|         Apto_Origen|        Apto_Destino|\n",
      "+----------+-------------+------+-------+---------+-------+---------+-------------+--------------+--------------+------------+--------------+--------------------+--------------------+\n",
      "|2019-04-01|          AAL|   ABQ|    BOG|       37|      I|        R| NUEVO MEXICO|        BOGOTA|ESTADOS UNIDOS|    COLOMBIA|      AMERICAN|ALBUQUERQUE INTL ...|   BOGOTA - ELDORADO|\n",
      "|2019-04-01|          AAL|   ABZ|    CLO|        1|      I|        R|     ABENDEEN|          CALI|    INGLATERRA|    COLOMBIA|      AMERICAN|                CYDE|CALI - ALFONSO BO...|\n",
      "|2019-04-01|          AAL|   AMS|    CTG|        2|      I|        R|    AMSTERDAM|     CARTAGENA|       HOLANDA|    COLOMBIA|      AMERICAN|            SCHIPHOL|CARTAGENA - RAFAE...|\n",
      "+----------+-------------+------+-------+---------+-------+---------+-------------+--------------+--------------+------------+--------------+--------------------+--------------------+\n",
      "only showing top 3 rows\n",
      "\n"
     ]
    }
   ],
   "source": [
    "#Se lee el archivo de trusted\n",
    "filepath = os.path.join(\"trusted\", 'trafico_aereo_1992_2022.csv')\n",
    "df = spark.read.csv(filepath, header=True, schema=schema)\n",
    "df.show(n=3)"
   ]
  },
  {
   "cell_type": "code",
   "execution_count": 6,
   "metadata": {},
   "outputs": [
    {
     "name": "stdout",
     "output_type": "stream",
     "text": [
      "(1820258, 14)\n"
     ]
    }
   ],
   "source": [
    "#Tamaño de los datos\n",
    "print((df.count(), len(df.columns)))"
   ]
  },
  {
   "cell_type": "code",
   "execution_count": 7,
   "metadata": {},
   "outputs": [
    {
     "name": "stdout",
     "output_type": "stream",
     "text": [
      "Fecha - 15\n",
      "Sigla Empresa - 12\n",
      "Origen - 24\n",
      "Destino - 15\n",
      "Pasajeros - 201\n",
      "Trafico - 24\n",
      "TipoVuelo - 24\n",
      "Ciudad Origen - 8351\n",
      "Ciudad Destino - 10998\n",
      "Pais Origen - 8351\n",
      "Pais Destino - 10992\n",
      "Nombre Empresa - 15\n",
      "Apto_Origen - 18\n",
      "Apto_Destino - 30\n"
     ]
    }
   ],
   "source": [
    "#Cantidad de valores nulos\n",
    "for c in df.columns:\n",
    "    nuls = df.filter(col(c).isNull()).count()\n",
    "    print(f'{c} - {nuls}')"
   ]
  },
  {
   "cell_type": "code",
   "execution_count": 8,
   "metadata": {},
   "outputs": [],
   "source": [
    "#Se eliminan los valores nulos en \n",
    "df = df.na.drop(subset=[\"Pasajeros\", \"Nombre Empresa\"])\n"
   ]
  },
  {
   "cell_type": "code",
   "execution_count": 9,
   "metadata": {},
   "outputs": [],
   "source": [
    "#Se toma la decision de unificar los nombres de las aerolineas a aquellas que han cambiado de nombre\n",
    "# debido a unificaciones o compras, las transformaciones se pueden observar en el diccionario:\n",
    "dict_aerolineas={ \"LATAM\":[\"AIRES\" \"LAN\", \"TAM\", ],\n",
    "                 \"FAST COLOMBIA\":\"VIVA AIR\"\n",
    "    \n",
    "}"
   ]
  },
  {
   "cell_type": "code",
   "execution_count": 10,
   "metadata": {},
   "outputs": [],
   "source": [
    "#Se crea una nueva columna a partir de la limpieza de la columna 'Nombre empresa'\n",
    "df = df.select(\"*\",\n",
    "            when(df[\"Nombre Empresa\"].contains(\"21 AIR LLC.\"), \"21 AIR\").\n",
    "            when(df[\"Nombre Empresa\"].contains(\"REGAIR\"), \"REGAIR\").\n",
    "            when(df[\"Nombre Empresa\"].contains(\"ABX AIR INC\"), \"ABX AIR INC\").\n",
    "            when(df[\"Nombre Empresa\"].contains(\"AER CARIBE\"), \"AER CARIBE\").\n",
    "            when(df[\"Nombre Empresa\"].contains(\"DAMOJH\"), \"DAMOJH\").\n",
    "            when(df[\"Nombre Empresa\"].contains(\"AEROUNIËN\"), \"AEROUNIÓN\").\n",
    "            when(df[\"Nombre Empresa\"].contains(\"ALBATROS\"), \"ALBATROS AIRLINES\").\n",
    "            when(df[\"Nombre Empresa\"].contains(\"AMERICA┤S AIR SAS\"), \"AMERICA´S AIR SAS\").\n",
    "            when(df[\"Nombre Empresa\"].contains(\"AVIANLINE CHARTE┤S S.A.S.\"), \"AVIANLINE CHARTE´S S.A.S.\").\n",
    "            when(df[\"Nombre Empresa\"].contains(\"CARGO THREE INC.\"), \"CARGO THREE\").\n",
    "            when(df[\"Nombre Empresa\"].contains(\"FLEXAIR S A S\"), \"FLEXAIR S.A.S\").\n",
    "            when(df[\"Nombre Empresa\"].contains(\"HORIZONTAL DE AVIACION S.A.S\"), \"HORIZONTAL S A S\").\n",
    "            when(df[\"Nombre Empresa\"].contains(\"ICARO S.A.\"), \"ICARO\").\n",
    "            when(df[\"Nombre Empresa\"].contains(\"LATAM AIRLINES GROUP S.A SUCURSAL COLOMBIA\"), \"LATAM\").\n",
    "            when(df[\"Nombre Empresa\"].contains(\"CARGUERA DE COLOMBIA S.A\"), \"LÍNEA AÉREA CARGUERA DE COLOMBIA S.A.\").\n",
    "            when(df[\"Nombre Empresa\"].contains(\"NO FIGURA\"), \"NO REGISTRA\").\n",
    "            when(df[\"Nombre Empresa\"].contains(\"NO REGISTRA SIGLA\"), \"NO REGISTRA\").\n",
    "            when(df[\"Nombre Empresa\"].contains(\"SERVICIO AEREO A TERRITORIOS NACIONALES SATENA\"), \"SATENA\").\n",
    "            when(df[\"Nombre Empresa\"].contains(\"SKY LEASE I. INC  (GREENSBORO.NC)\"), \"SKY LEASE\").\n",
    "            when(df[\"Nombre Empresa\"].contains(\"SKY LEASE I. INC (GREENSBORO.NC)\"), \"SKY LEASE\").\n",
    "            when(df[\"Nombre Empresa\"].contains(\"SOUTHERN AIR TRANSPORT INC.\"), \"SOUTHERN AIR INC.\").\n",
    "            when(df[\"Nombre Empresa\"].contains(\"TAG\"), \"TAG AVIATION\").\n",
    "            when(df[\"Nombre Empresa\"].contains(\"TAMPA CARGO\"), \"TAMPA CARGO\").\n",
    "            when(df[\"Nombre Empresa\"].contains(\"VIANA S.A.S\"), \"VIANA S.A.S\").\n",
    "            when(df[\"Nombre Empresa\"].contains(\"TAXCO S.A.S\"), \"TAXCO\").\n",
    "            when(df[\"Nombre Empresa\"].contains(\"VUELA COMPAÑÍA DE AVIACION S.A.P.I DE\"), \"VUELA COMPAÑÍA DE AVIACION\").\n",
    "            when(df[\"Nombre Empresa\"].contains(\"AERO LLANOS DEL ORIENTE\"), \"AERO LLANOS DEL ORIENTE\").\n",
    "            when(df[\"Nombre Empresa\"].contains(\"ASES LTDA.\"), \"ASES LTDA.\").\n",
    "            when(df[\"Nombre Empresa\"].contains(\"AERO TAXI GUAYMARAL ATG S.A.S\"), \"AERO TAXI GUAYMARAL\").\n",
    "            when(df[\"Nombre Empresa\"].contains(\"MITCHELL AAERO, INC.\"), \"MITCHELL AAERO, INC.\").\n",
    "            when(df[\"Nombre Empresa\"].contains(\"ROYAL AIR MAROC-COMPAGNIE\"), \"ROYAL AIR MAROC-COMPAGNIE\").\n",
    "            when(df[\"Nombre Empresa\"].contains(\"AIR TRANSPORT ASSOCIATION OF AMERCA\"), \"AIR TRANSPORT ASSOCIATION OF AMERCA\").\n",
    "            when(df[\"Nombre Empresa\"].contains(\"OMEGA AIR HOLDING\"), \"OMEGA AIR HOLDING\").\n",
    "            when(df[\"Nombre Empresa\"].contains(\"KALITTA FLYING SERVICE\"), \"KALITTA FLYING SERVICE\").\n",
    "            when(df[\"Nombre Empresa\"].contains(\"LINEA AEREA BOLIVARIANA\"), \"LINEA AEREA BOLIVARIANA\").\n",
    "            when(df[\"Nombre Empresa\"].contains(\"TRANS AMERICAN AIR LINES\"), \"TRANS AMERICAN AIR LINES\").\n",
    "            when(df[\"Nombre Empresa\"].contains(\"UNITED PARCEL SERVICE\"), \"UNITED PARCEL SERVICE\").\n",
    "            when(df[\"Nombre Empresa\"].contains(\"AMERIJET INTERNATIOANL\"), \"AMERIJET INTERNATIONAL\").\n",
    "            when(df[\"Nombre Empresa\"].contains(\"AEROTRANSPORTE DE CARGA UNION\"), \"AEROTRANSPORTE DE CARGA UNION\").\n",
    "            when(df[\"Nombre Empresa\"].contains(\"DUTCH ANTILLES EXPRESS\"), \"DUTCH ANTILLES EXPRESS\").\n",
    "            when(df[\"Nombre Empresa\"].contains(\"AEROGALAN\"), \"STARBLUE AIRLINES\"). #Aerogalan cambia nombre a starblue\n",
    "            when(df[\"Nombre Empresa\"].contains(\"VRG LINHAS AEREAS\"), \"VRG LINHAS AEREAS\").\n",
    "            when(df[\"Nombre Empresa\"].contains(\"DYNAMIC AIRWAYS\"), \"DYNAMIC AIRWAYS\").\n",
    "            when(df[\"Nombre Empresa\"].contains(\"AVIANCA\"), \"AVIANCA\").\n",
    "            when(df[\"Nombre Empresa\"].contains(\"JETBLUE AIRWAYS CORPORATION\"), \"JETBLUE AIRWAYS\").\n",
    "            when(df[\"Nombre Empresa\"].contains(\"AIR CLASS\"), \"AIR CLASS\").\n",
    "            when(df[\"Nombre Empresa\"].contains(\"VERTICAL DE AVIACION\"), \"VERTICAL DE AVIACION\").\n",
    "            when(df[\"Nombre Empresa\"].contains(\"REGIONAL EXPRESS AMERICAS\"), \"REGIONAL EXPRESS AMERICAS\").\n",
    "            when(df[\"Nombre Empresa\"].contains(\"AEROMEXICO\"), \"AEROMEXICO\").\n",
    "            when(df[\"Nombre Empresa\"].contains(\"AEROLINEA DE ANTIOQUIA\"), \"ADA\").\n",
    "            when(df[\"Nombre Empresa\"].contains(\"LATAM\"), \"LATAM\").\n",
    "            when(df[\"Nombre Empresa\"].contains(\"FAST COLOMBIA\"), \"VIVA AIR\").\n",
    "            when(df[\"Nombre Empresa\"].contains(\"AIRES\"), \"LATAM\").\n",
    "            when(df[\"Nombre Empresa\"].contains(\"LAN\"), \"LATAM\").\n",
    "            when(df[\"Nombre Empresa\"].contains(\"TAM\"), \"LATAM\").\n",
    "            when(df[\"Nombre Empresa\"].contains(\"AEROEXPRESO DEL PACIFICO S.A.\"), \"AEXPA\").\n",
    "            \t\n",
    "            otherwise(df[\"Nombre Empresa\"]).alias(\"Nombre_Empresa_clean\")\n",
    "           )\n",
    "\n",
    "\n"
   ]
  },
  {
   "cell_type": "code",
   "execution_count": 13,
   "metadata": {},
   "outputs": [],
   "source": [
    "# Convertimos PySpark DataFrame a Pandas DataFrame\n",
    "pandas_df = df.toPandas()\n",
    "\n",
    "# Exportamos Pandas DataFrame a CSV \n",
    "pandas_df.to_csv(os.path.join(\"trusted\",\"trafico_aereo_process.csv\"), index=False)\n"
   ]
  }
 ],
 "metadata": {
  "kernelspec": {
   "display_name": "ta",
   "language": "python",
   "name": "python3"
  },
  "language_info": {
   "codemirror_mode": {
    "name": "ipython",
    "version": 3
   },
   "file_extension": ".py",
   "mimetype": "text/x-python",
   "name": "python",
   "nbconvert_exporter": "python",
   "pygments_lexer": "ipython3",
   "version": "3.9.16"
  },
  "orig_nbformat": 4
 },
 "nbformat": 4,
 "nbformat_minor": 2
}
